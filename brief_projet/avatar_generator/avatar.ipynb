{
  "nbformat": 4,
  "nbformat_minor": 5,
  "metadata": {
    "colab": {
      "name": "avatar.ipynb",
      "provenance": [],
      "toc_visible": true
    },
    "language_info": {
      "name": "python"
    },
    "kernelspec": {
      "name": "python3",
      "display_name": "Python 3"
    },
    "accelerator": "GPU"
  },
  "cells": [
    {
      "cell_type": "markdown",
      "metadata": {
        "id": "zrR9uxHtjir1"
      },
      "source": [
        "### Downlowd dataset"
      ],
      "id": "zrR9uxHtjir1"
    },
    {
      "cell_type": "code",
      "metadata": {
        "colab": {
          "base_uri": "https://localhost:8080/"
        },
        "id": "_SYh6_oheGRg",
        "outputId": "36f91e42-d767-47ee-fb20-ce80915bd188"
      },
      "source": [
        "import os\n",
        "if 'data' not in os.listdir():\n",
        "    os.makedirs(\"data\")\n",
        "\n",
        "## downlod data from web site\n",
        "!gsutil cp gs://cartoonset_public_files/cartoonset10k.tgz /content/data/cartoonset10k.tgz"
      ],
      "id": "_SYh6_oheGRg",
      "execution_count": 1,
      "outputs": [
        {
          "output_type": "stream",
          "text": [
            "Copying gs://cartoonset_public_files/cartoonset10k.tgz...\n",
            "| [1 files][454.6 MiB/454.6 MiB]                                                \n",
            "Operation completed over 1 objects/454.6 MiB.                                    \n"
          ],
          "name": "stdout"
        }
      ]
    },
    {
      "cell_type": "code",
      "metadata": {
        "id": "57cEJVfjeYry"
      },
      "source": [
        "## dezip on the tmp dir\n",
        "!tar -xzvf \"/content/data/cartoonset10k.tgz\" -C \"/content/data/\""
      ],
      "id": "57cEJVfjeYry",
      "execution_count": null,
      "outputs": []
    },
    {
      "cell_type": "code",
      "metadata": {
        "id": "om6kg4RqzuZn"
      },
      "source": [
        "import tensorflow as tf\n",
        "from tensorflow import keras\n",
        "from tensorflow.keras import layers\n",
        "import numpy as np\n",
        "import matplotlib.pyplot as plt\n",
        "import os\n",
        "import gdown\n",
        "from zipfile import ZipFile"
      ],
      "id": "om6kg4RqzuZn",
      "execution_count": 4,
      "outputs": []
    },
    {
      "cell_type": "code",
      "metadata": {
        "colab": {
          "base_uri": "https://localhost:8080/"
        },
        "id": "ped0VRZSj6if",
        "outputId": "e34c0471-b528-4f9d-cddc-6cbd8054931a"
      },
      "source": [
        "dataset = keras.preprocessing.image_dataset_from_directory(\n",
        "    \"/content/data\", label_mode=None, image_size=(128, 128), batch_size=32\n",
        ")\n",
        "\n",
        "dataset = dataset.map(lambda x: x / 255.0)"
      ],
      "id": "ped0VRZSj6if",
      "execution_count": 5,
      "outputs": [
        {
          "output_type": "stream",
          "text": [
            "Found 10000 files belonging to 3 classes.\n"
          ],
          "name": "stdout"
        }
      ]
    },
    {
      "cell_type": "code",
      "metadata": {
        "id": "suWrzqHolEIb",
        "colab": {
          "base_uri": "https://localhost:8080/",
          "height": 248
        },
        "outputId": "4dab8e0b-0f23-4b85-8135-15eff20a20da"
      },
      "source": [
        "for x in dataset:\n",
        "    plt.axis(\"off\")\n",
        "    plt.imshow((x.numpy() * 255).astype(\"int32\")[0])\n",
        "    break"
      ],
      "id": "suWrzqHolEIb",
      "execution_count": 6,
      "outputs": [
        {
          "output_type": "display_data",
          "data": {
            "image/png": "[encoded data removed]",
            "text/plain": [
              "<Figure size 432x288 with 1 Axes>"
            ]
          },
          "metadata": {
            "tags": [],
            "needs_background": "light"
          }
        }
      ]
    },
    {
      "cell_type": "markdown",
      "metadata": {
        "id": "C-pT-22dttjN"
      },
      "source": [
        "### Create the discriminator"
      ],
      "id": "C-pT-22dttjN"
    },
    {
      "cell_type": "code",
      "metadata": {
        "colab": {
          "base_uri": "https://localhost:8080/"
        },
        "id": "Z3OXokbjsbmb",
        "outputId": "bdea6c3b-3a57-427e-baf5-1cd708d55e86"
      },
      "source": [
        "discriminator = keras.Sequential(\n",
        "    [\n",
        "        keras.Input(shape=(128, 128, 3)),\n",
        "        layers.Conv2D(64, kernel_size=4, strides=2, padding=\"same\"),\n",
        "        layers.LeakyReLU(alpha=0.2),\n",
        "        layers.Conv2D(128, kernel_size=4, strides=2, padding=\"same\"),\n",
        "        layers.LeakyReLU(alpha=0.2),\n",
        "        layers.Conv2D(128, kernel_size=4, strides=2, padding=\"same\"),\n",
        "        layers.LeakyReLU(alpha=0.2),\n",
        "        layers.Flatten(),\n",
        "        layers.Dropout(0.2),\n",
        "        layers.Dense(1, activation=\"sigmoid\"),\n",
        "    ],\n",
        "    name=\"discriminator\",\n",
        ")\n",
        "discriminator.summary()"
      ],
      "id": "Z3OXokbjsbmb",
      "execution_count": 7,
      "outputs": [
        {
          "output_type": "stream",
          "text": [
            "Model: \"discriminator\"\n",
            "_________________________________________________________________\n",
            "Layer (type)                 Output Shape              Param #   \n",
            "=================================================================\n",
            "conv2d (Conv2D)              (None, 64, 64, 64)        3136      \n",
            "_________________________________________________________________\n",
            "leaky_re_lu (LeakyReLU)      (None, 64, 64, 64)        0         \n",
            "_________________________________________________________________\n",
            "conv2d_1 (Conv2D)            (None, 32, 32, 128)       131200    \n",
            "_________________________________________________________________\n",
            "leaky_re_lu_1 (LeakyReLU)    (None, 32, 32, 128)       0         \n",
            "_________________________________________________________________\n",
            "conv2d_2 (Conv2D)            (None, 16, 16, 128)       262272    \n",
            "_________________________________________________________________\n",
            "leaky_re_lu_2 (LeakyReLU)    (None, 16, 16, 128)       0         \n",
            "_________________________________________________________________\n",
            "flatten (Flatten)            (None, 32768)             0         \n",
            "_________________________________________________________________\n",
            "dropout (Dropout)            (None, 32768)             0         \n",
            "_________________________________________________________________\n",
            "dense (Dense)                (None, 1)                 32769     \n",
            "=================================================================\n",
            "Total params: 429,377\n",
            "Trainable params: 429,377\n",
            "Non-trainable params: 0\n",
            "_________________________________________________________________\n"
          ],
          "name": "stdout"
        }
      ]
    },
    {
      "cell_type": "markdown",
      "metadata": {
        "id": "zaAGGMpst5_w"
      },
      "source": [
        "### Create the generator"
      ],
      "id": "zaAGGMpst5_w"
    },
    {
      "cell_type": "code",
      "metadata": {
        "colab": {
          "base_uri": "https://localhost:8080/"
        },
        "id": "uFJFyh4-squE",
        "outputId": "732d6d10-93c0-4d45-f616-5561d9433338"
      },
      "source": [
        "latent_dim = 128\n",
        "\n",
        "generator = keras.Sequential(\n",
        "    [\n",
        "        keras.Input(shape=(latent_dim,)),\n",
        "        layers.Dense(16 * 16 * 128),\n",
        "        layers.Reshape((16, 16, 128)),\n",
        "        layers.Conv2DTranspose(128, kernel_size=4, strides=2, padding=\"same\"),\n",
        "        layers.LeakyReLU(alpha=0.2),\n",
        "        layers.Conv2DTranspose(256, kernel_size=4, strides=2, padding=\"same\"),\n",
        "        layers.LeakyReLU(alpha=0.2),\n",
        "        layers.Conv2DTranspose(512, kernel_size=4, strides=2, padding=\"same\"),\n",
        "        layers.LeakyReLU(alpha=0.2),\n",
        "        layers.Conv2D(3, kernel_size=5, padding=\"same\", activation=\"sigmoid\"),\n",
        "    ],\n",
        "    name=\"generator\",\n",
        ")\n",
        "generator.summary()"
      ],
      "id": "uFJFyh4-squE",
      "execution_count": 8,
      "outputs": [
        {
          "output_type": "stream",
          "text": [
            "Model: \"generator\"\n",
            "_________________________________________________________________\n",
            "Layer (type)                 Output Shape              Param #   \n",
            "=================================================================\n",
            "dense_1 (Dense)              (None, 32768)             4227072   \n",
            "_________________________________________________________________\n",
            "reshape (Reshape)            (None, 16, 16, 128)       0         \n",
            "_________________________________________________________________\n",
            "conv2d_transpose (Conv2DTran (None, 32, 32, 128)       262272    \n",
            "_________________________________________________________________\n",
            "leaky_re_lu_3 (LeakyReLU)    (None, 32, 32, 128)       0         \n",
            "_________________________________________________________________\n",
            "conv2d_transpose_1 (Conv2DTr (None, 64, 64, 256)       524544    \n",
            "_________________________________________________________________\n",
            "leaky_re_lu_4 (LeakyReLU)    (None, 64, 64, 256)       0         \n",
            "_________________________________________________________________\n",
            "conv2d_transpose_2 (Conv2DTr (None, 128, 128, 512)     2097664   \n",
            "_________________________________________________________________\n",
            "leaky_re_lu_5 (LeakyReLU)    (None, 128, 128, 512)     0         \n",
            "_________________________________________________________________\n",
            "conv2d_3 (Conv2D)            (None, 128, 128, 3)       38403     \n",
            "=================================================================\n",
            "Total params: 7,149,955\n",
            "Trainable params: 7,149,955\n",
            "Non-trainable params: 0\n",
            "_________________________________________________________________\n"
          ],
          "name": "stdout"
        }
      ]
    },
    {
      "cell_type": "markdown",
      "metadata": {
        "id": "zkpNdU3Xt_eO"
      },
      "source": [
        "### Override train_step"
      ],
      "id": "zkpNdU3Xt_eO"
    },
    {
      "cell_type": "code",
      "metadata": {
        "id": "O9J3-MH-s0Lu"
      },
      "source": [
        "class GAN(keras.Model):\n",
        "    def __init__(self, discriminator, generator, latent_dim):\n",
        "        super(GAN, self).__init__()\n",
        "        self.discriminator = discriminator\n",
        "        self.generator = generator\n",
        "        self.latent_dim = latent_dim\n",
        "\n",
        "    def compile(self, d_optimizer, g_optimizer, loss_fn):\n",
        "        super(GAN, self).compile()\n",
        "        self.d_optimizer = d_optimizer\n",
        "        self.g_optimizer = g_optimizer\n",
        "        self.loss_fn = loss_fn\n",
        "        self.d_loss_metric = keras.metrics.Mean(name=\"d_loss\")\n",
        "        self.g_loss_metric = keras.metrics.Mean(name=\"g_loss\")\n",
        "\n",
        "    @property\n",
        "    def metrics(self):\n",
        "        return [self.d_loss_metric, self.g_loss_metric]\n",
        "\n",
        "    def train_step(self, real_images):\n",
        "        # Sample random points in the latent space\n",
        "        batch_size = tf.shape(real_images)[0]\n",
        "        random_latent_vectors = tf.random.normal(shape=(batch_size, self.latent_dim))\n",
        "\n",
        "        # Decode them to fake images\n",
        "        generated_images = self.generator(random_latent_vectors)\n",
        "\n",
        "        # Combine them with real images\n",
        "        combined_images = tf.concat([generated_images, real_images], axis=0)\n",
        "\n",
        "        # Assemble labels discriminating real from fake images\n",
        "        labels = tf.concat(\n",
        "            [tf.ones((batch_size, 1)), tf.zeros((batch_size, 1))], axis=0\n",
        "        )\n",
        "        # Add random noise to the labels - important trick!\n",
        "        labels += 0.05 * tf.random.uniform(tf.shape(labels))\n",
        "\n",
        "        # Train the discriminator\n",
        "        with tf.GradientTape() as tape:\n",
        "            predictions = self.discriminator(combined_images)\n",
        "            d_loss = self.loss_fn(labels, predictions)\n",
        "        grads = tape.gradient(d_loss, self.discriminator.trainable_weights)\n",
        "        self.d_optimizer.apply_gradients(\n",
        "            zip(grads, self.discriminator.trainable_weights)\n",
        "        )\n",
        "\n",
        "        # Sample random points in the latent space\n",
        "        random_latent_vectors = tf.random.normal(shape=(batch_size, self.latent_dim))\n",
        "\n",
        "        # Assemble labels that say \"all real images\"\n",
        "        misleading_labels = tf.zeros((batch_size, 1))\n",
        "\n",
        "        # Train the generator (note that we should *not* update the weights\n",
        "        # of the discriminator)!\n",
        "        with tf.GradientTape() as tape:\n",
        "            predictions = self.discriminator(self.generator(random_latent_vectors))\n",
        "            g_loss = self.loss_fn(misleading_labels, predictions)\n",
        "        grads = tape.gradient(g_loss, self.generator.trainable_weights)\n",
        "        self.g_optimizer.apply_gradients(zip(grads, self.generator.trainable_weights))\n",
        "\n",
        "        # Update metrics\n",
        "        self.d_loss_metric.update_state(d_loss)\n",
        "        self.g_loss_metric.update_state(g_loss)\n",
        "        return {\n",
        "            \"d_loss\": self.d_loss_metric.result(),\n",
        "            \"g_loss\": self.g_loss_metric.result(),\n",
        "        }"
      ],
      "id": "O9J3-MH-s0Lu",
      "execution_count": 9,
      "outputs": []
    },
    {
      "cell_type": "markdown",
      "metadata": {
        "id": "89mBsQkHuJwt"
      },
      "source": [
        "### Create a callback that periodically saves generated images"
      ],
      "id": "89mBsQkHuJwt"
    },
    {
      "cell_type": "code",
      "metadata": {
        "id": "k6IB63WVuGEu"
      },
      "source": [
        "class GANMonitor(keras.callbacks.Callback):\n",
        "    def __init__(self, num_img=3, latent_dim=128):\n",
        "        self.num_img = num_img\n",
        "        self.latent_dim = latent_dim\n",
        "         \n",
        "    def on_epoch_end(self, epoch, logs=None):\n",
        "        random_latent_vectors = tf.random.normal(shape=(self.num_img, self.latent_dim))\n",
        "        generated_images = self.model.generator(random_latent_vectors)\n",
        "        generated_images *= 255\n",
        "        generated_images.numpy()\n",
        "        for i in range(self.num_img):\n",
        "            img = keras.preprocessing.image.array_to_img(generated_images[i])\n",
        "            img.save(\"/content/data/generate_img/generated_img_%03d_%d.png\" % (epoch, i))\n",
        "        if epoch %2 == 0:\n",
        "            gan.save_weights('/content/data/gan.h5')"
      ],
      "id": "k6IB63WVuGEu",
      "execution_count": 38,
      "outputs": []
    },
    {
      "cell_type": "markdown",
      "metadata": {
        "id": "gkORbX4suhEX"
      },
      "source": [
        "### Train the end-to-end model"
      ],
      "id": "gkORbX4suhEX"
    },
    {
      "cell_type": "code",
      "metadata": {
        "colab": {
          "base_uri": "https://localhost:8080/"
        },
        "id": "-qWSuabluZME",
        "outputId": "1fb44c9f-8d15-4b1d-d6ea-17b4595fd56d"
      },
      "source": [
        "epochs = 50  # In practice, use ~100 epochs\n",
        "\n",
        "gan = GAN(discriminator=discriminator, generator=generator, latent_dim=latent_dim)\n",
        "gan.compile(\n",
        "    d_optimizer=keras.optimizers.Adam(learning_rate=0.0001),\n",
        "    g_optimizer=keras.optimizers.Adam(learning_rate=0.0001),\n",
        "    loss_fn=keras.losses.BinaryCrossentropy(),\n",
        ")\n",
        "\n",
        "history = gan.fit(\n",
        "    dataset, epochs=epochs, callbacks=[GANMonitor(num_img=10, latent_dim=latent_dim)]\n",
        ")"
      ],
      "id": "-qWSuabluZME",
      "execution_count": 39,
      "outputs": [
        {
          "output_type": "stream",
          "text": [
            "Epoch 1/50\n",
            "313/313 [==============================] - 176s 557ms/step - d_loss: 0.2822 - g_loss: 2.1882\n",
            "Epoch 2/50\n",
            "313/313 [==============================] - 176s 558ms/step - d_loss: 0.2177 - g_loss: 2.2260\n",
            "Epoch 3/50\n",
            "313/313 [==============================] - 176s 560ms/step - d_loss: 0.2213 - g_loss: 2.2518\n",
            "Epoch 4/50\n",
            "313/313 [==============================] - 176s 559ms/step - d_loss: 0.2075 - g_loss: 2.3115\n",
            "Epoch 5/50\n",
            "313/313 [==============================] - 176s 559ms/step - d_loss: 0.2135 - g_loss: 2.3629\n",
            "Epoch 6/50\n",
            "313/313 [==============================] - 176s 559ms/step - d_loss: 0.1985 - g_loss: 2.3973\n",
            "Epoch 7/50\n",
            "313/313 [==============================] - 176s 559ms/step - d_loss: 0.1961 - g_loss: 2.4551\n",
            "Epoch 8/50\n",
            "313/313 [==============================] - 176s 559ms/step - d_loss: 0.1987 - g_loss: 2.4824\n",
            "Epoch 9/50\n",
            "313/313 [==============================] - 176s 559ms/step - d_loss: 0.2063 - g_loss: 2.5105\n",
            "Epoch 10/50\n",
            "313/313 [==============================] - 176s 558ms/step - d_loss: 0.1851 - g_loss: 2.5809\n",
            "Epoch 11/50\n",
            "313/313 [==============================] - 176s 558ms/step - d_loss: 0.1954 - g_loss: 2.5729\n",
            "Epoch 12/50\n",
            "313/313 [==============================] - 176s 557ms/step - d_loss: 0.1910 - g_loss: 2.6329\n",
            "Epoch 13/50\n",
            "313/313 [==============================] - 176s 558ms/step - d_loss: 0.1806 - g_loss: 2.6519\n",
            "Epoch 14/50\n",
            "313/313 [==============================] - 176s 558ms/step - d_loss: 0.1751 - g_loss: 2.6977\n",
            "Epoch 15/50\n",
            "313/313 [==============================] - 176s 559ms/step - d_loss: 0.1646 - g_loss: 2.7459\n",
            "Epoch 16/50\n",
            "313/313 [==============================] - 176s 558ms/step - d_loss: 0.1798 - g_loss: 2.7754\n",
            "Epoch 17/50\n",
            "313/313 [==============================] - 176s 558ms/step - d_loss: 0.1782 - g_loss: 2.7956\n",
            "Epoch 18/50\n",
            "313/313 [==============================] - 176s 558ms/step - d_loss: 0.1625 - g_loss: 2.8533\n",
            "Epoch 19/50\n",
            "313/313 [==============================] - 176s 559ms/step - d_loss: 0.1615 - g_loss: 2.8797\n",
            "Epoch 20/50\n",
            "313/313 [==============================] - 176s 558ms/step - d_loss: 0.1693 - g_loss: 2.9048\n",
            "Epoch 21/50\n",
            "313/313 [==============================] - 176s 558ms/step - d_loss: 0.1723 - g_loss: 2.9074\n",
            "Epoch 22/50\n",
            "313/313 [==============================] - 176s 560ms/step - d_loss: 0.1609 - g_loss: 2.9508\n",
            "Epoch 23/50\n",
            "313/313 [==============================] - 176s 559ms/step - d_loss: 0.1740 - g_loss: 2.9328\n",
            "Epoch 24/50\n",
            "313/313 [==============================] - 176s 559ms/step - d_loss: 0.1638 - g_loss: 2.9481\n",
            "Epoch 25/50\n",
            "313/313 [==============================] - 176s 559ms/step - d_loss: 0.1577 - g_loss: 3.0194\n",
            "Epoch 26/50\n",
            "313/313 [==============================] - 176s 559ms/step - d_loss: 0.1615 - g_loss: 3.0478\n",
            "Epoch 27/50\n",
            "313/313 [==============================] - 176s 559ms/step - d_loss: 0.1586 - g_loss: 3.0663\n",
            "Epoch 28/50\n",
            "313/313 [==============================] - 176s 559ms/step - d_loss: 0.1407 - g_loss: 3.1245\n",
            "Epoch 29/50\n",
            "313/313 [==============================] - 176s 560ms/step - d_loss: 0.1517 - g_loss: 3.0969\n",
            "Epoch 30/50\n",
            "313/313 [==============================] - 176s 560ms/step - d_loss: 0.1652 - g_loss: 3.1285\n",
            "Epoch 31/50\n",
            "313/313 [==============================] - 176s 560ms/step - d_loss: 0.1490 - g_loss: 3.1721\n",
            "Epoch 32/50\n",
            "313/313 [==============================] - 176s 560ms/step - d_loss: 0.1662 - g_loss: 3.1440\n",
            "Epoch 33/50\n",
            "313/313 [==============================] - 176s 560ms/step - d_loss: 0.1446 - g_loss: 3.2041\n",
            "Epoch 34/50\n",
            "313/313 [==============================] - 176s 560ms/step - d_loss: 0.1564 - g_loss: 3.2545\n",
            "Epoch 35/50\n",
            "313/313 [==============================] - 176s 560ms/step - d_loss: 0.1550 - g_loss: 3.2216\n",
            "Epoch 36/50\n",
            "313/313 [==============================] - 177s 561ms/step - d_loss: 0.1401 - g_loss: 3.2468\n",
            "Epoch 37/50\n",
            "313/313 [==============================] - 176s 559ms/step - d_loss: 0.1667 - g_loss: 3.1983\n",
            "Epoch 38/50\n",
            "313/313 [==============================] - 176s 560ms/step - d_loss: 0.1412 - g_loss: 3.2917\n",
            "Epoch 39/50\n",
            "313/313 [==============================] - 176s 559ms/step - d_loss: 0.1490 - g_loss: 3.2937\n",
            "Epoch 40/50\n",
            "313/313 [==============================] - 176s 560ms/step - d_loss: 0.1365 - g_loss: 3.3891\n",
            "Epoch 41/50\n",
            "313/313 [==============================] - 176s 560ms/step - d_loss: 0.1583 - g_loss: 3.3221\n",
            "Epoch 42/50\n",
            "313/313 [==============================] - 176s 560ms/step - d_loss: 0.1450 - g_loss: 3.3296\n",
            "Epoch 43/50\n",
            "313/313 [==============================] - 176s 560ms/step - d_loss: 0.1538 - g_loss: 3.3626\n",
            "Epoch 44/50\n",
            "313/313 [==============================] - 176s 559ms/step - d_loss: 0.1412 - g_loss: 3.4225\n",
            "Epoch 45/50\n",
            "313/313 [==============================] - 176s 560ms/step - d_loss: 0.1403 - g_loss: 3.4601\n",
            "Epoch 46/50\n",
            "313/313 [==============================] - 177s 561ms/step - d_loss: 0.1390 - g_loss: 3.3896\n",
            "Epoch 47/50\n",
            "313/313 [==============================] - 177s 561ms/step - d_loss: 0.1451 - g_loss: 3.4378\n",
            "Epoch 48/50\n",
            "313/313 [==============================] - 176s 560ms/step - d_loss: 0.1465 - g_loss: 3.4830\n",
            "Epoch 49/50\n",
            "313/313 [==============================] - 176s 560ms/step - d_loss: 0.1259 - g_loss: 3.5097\n",
            "Epoch 50/50\n",
            "313/313 [==============================] - 176s 560ms/step - d_loss: 0.1599 - g_loss: 3.4330\n"
          ],
          "name": "stdout"
        }
      ]
    },
    {
      "cell_type": "code",
      "metadata": {
        "colab": {
          "base_uri": "https://localhost:8080/"
        },
        "id": "sFCMHH8gSYPA",
        "outputId": "676b6f86-ecd2-4b6a-a448-fd51e9ff4833"
      },
      "source": [
        "history.history.keys()"
      ],
      "id": "sFCMHH8gSYPA",
      "execution_count": 40,
      "outputs": [
        {
          "output_type": "execute_result",
          "data": {
            "text/plain": [
              "dict_keys(['d_loss', 'g_loss'])"
            ]
          },
          "metadata": {
            "tags": []
          },
          "execution_count": 40
        }
      ]
    },
    {
      "cell_type": "code",
      "metadata": {
        "id": "d1UxY2Me64FT"
      },
      "source": [
        "plt.style.use('ggplot')\n",
        "\n",
        "def plot_history(history):\n",
        "    d_loss = history.history['d_loss']\n",
        "    g_loss = history.history['g_loss']\n",
        "    x = range(1, len(d_loss) + 1)\n",
        "\n",
        "    plt.figure(figsize=(12, 5))\n",
        "    plt.subplot(1, 2, 1)\n",
        "    plt.plot(x, d_loss, 'b', label='d_loss')\n",
        "    plt.plot(x, g_loss, 'r', label='g_loss')\n",
        "    plt.title('g_loss and d_loss')\n",
        "    plt.legend()\n",
        "    "
      ],
      "id": "d1UxY2Me64FT",
      "execution_count": 45,
      "outputs": []
    },
    {
      "cell_type": "code",
      "metadata": {
        "colab": {
          "base_uri": "https://localhost:8080/",
          "height": 337
        },
        "id": "evIvrGJR9w4p",
        "outputId": "4cc25602-d566-4920-e790-8944b3c37914"
      },
      "source": [
        "plot_history(history)"
      ],
      "id": "evIvrGJR9w4p",
      "execution_count": 46,
      "outputs": [
        {
          "output_type": "display_data",
          "data": {
            "image/png": "[encoded data removed]",
            "text/plain": [
              "<Figure size 864x360 with 1 Axes>"
            ]
          },
          "metadata": {
            "tags": []
          }
        }
      ]
    },
    {
      "cell_type": "code",
      "metadata": {
        "id": "tEjb0KNs9z45"
      },
      "source": [
        ""
      ],
      "id": "tEjb0KNs9z45",
      "execution_count": null,
      "outputs": []
    }
  ]
}