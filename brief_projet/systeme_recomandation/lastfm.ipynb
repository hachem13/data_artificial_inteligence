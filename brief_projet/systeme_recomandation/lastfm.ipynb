{
 "cells": [
  {
   "cell_type": "code",
   "execution_count": 1,
   "id": "described-license",
   "metadata": {},
   "outputs": [],
   "source": [
    "import pandas as pd\n",
    "import numpy as np\n",
    "import matplotlib.pyplot as plt"
   ]
  },
  {
   "cell_type": "code",
   "execution_count": 2,
   "id": "reasonable-maine",
   "metadata": {},
   "outputs": [
    {
     "name": "stdout",
     "output_type": "stream",
     "text": [
      "                    totalUsers  totalPlays     avgPlays\n",
      "name                                                   \n",
      "Britney Spears             522     2393140  4584.559387\n",
      "Depeche Mode               282     1301308  4614.567376\n",
      "Lady Gaga                  611     1291387  2113.563011\n",
      "Christina Aguilera         407     1058405  2600.503686\n",
      "Paramore                   399      963449  2414.659148\n",
      "...                        ...         ...          ...\n",
      "Morris                       1           1     1.000000\n",
      "Eddie Kendricks              1           1     1.000000\n",
      "Excess Pressure              1           1     1.000000\n",
      "My Mine                      1           1     1.000000\n",
      "A.M. Architect               1           1     1.000000\n",
      "\n",
      "[17632 rows x 3 columns]\n"
     ]
    }
   ],
   "source": [
    "plays = pd.read_csv('data/lastfm/user_artists.dat', sep='\\t')\n",
    "artists = pd.read_csv('data/lastfm/artists.dat', sep='\\t', \n",
    "usecols=['id','name'])\n",
    "\n",
    "\n",
    "# Merge artist and user pref data\n",
    "ap = pd.merge(artists, plays, how=\"inner\", left_on=\"id\", right_on=\"artistID\")\n",
    "ap = ap.rename(columns={\"weight\": \"playCount\"})\n",
    "\n",
    "# Group artist by name\n",
    "artist_rank = ap.groupby(['name']) \\\n",
    "    .agg({'userID' : 'count', 'playCount' : 'sum'}) \\\n",
    "    .rename(columns={\"userID\" : 'totalUsers', \"playCount\" : \"totalPlays\"}) \\\n",
    "    .sort_values(['totalPlays'], ascending=False)\n",
    "artist_rank['avgPlays'] = artist_rank['totalPlays'] / artist_rank['totalUsers']\n",
    "print(artist_rank)"
   ]
  },
  {
   "cell_type": "code",
   "execution_count": 3,
   "id": "unable-sucking",
   "metadata": {},
   "outputs": [
    {
     "name": "stdout",
     "output_type": "stream",
     "text": [
      "sparsity: 0.28\n"
     ]
    }
   ],
   "source": [
    "# Merge into ap matrix\n",
    "ap = ap.join(artist_rank, on=\"name\", how=\"inner\") \\\n",
    "    .sort_values(['playCount'], ascending=False)\n",
    "\n",
    "# Preprocessing\n",
    "pc = ap.playCount\n",
    "play_count_scaled = (pc - pc.min()) / (pc.max() - pc.min())\n",
    "ap = ap.assign(playCountScaled=play_count_scaled)\n",
    "\n",
    "\n",
    "# Build a user-artist rating matrix \n",
    "ratings_df = ap.pivot(index='userID', columns='artistID', values='playCountScaled')\n",
    "ratings = ratings_df.fillna(0).values\n",
    "\n",
    "# Show sparsity\n",
    "sparsity = float(len(ratings.nonzero()[0])) / (ratings.shape[0] * ratings.shape[1]) * 100\n",
    "print(\"sparsity: %.2f\" % sparsity)"
   ]
  },
  {
   "cell_type": "code",
   "execution_count": 6,
   "id": "effective-service",
   "metadata": {},
   "outputs": [
    {
     "name": "stdout",
     "output_type": "stream",
     "text": [
      "rating matrix shape (1892, 17632)\n"
     ]
    }
   ],
   "source": [
    "from scipy.sparse import csr_matrix\n",
    "\n",
    "# Build a sparse matrix\n",
    "X = csr_matrix(ratings)\n",
    "\n",
    "n_users, n_items = ratings_df.shape\n",
    "print(\"rating matrix shape\", ratings_df.shape)\n",
    "\n",
    "user_ids = ratings_df.index.values\n",
    "artist_names = ap.sort_values(\"artistID\")[\"name\"].unique()"
   ]
  },
  {
   "cell_type": "code",
   "execution_count": 7,
   "id": "experienced-display",
   "metadata": {},
   "outputs": [
    {
     "name": "stderr",
     "output_type": "stream",
     "text": [
      "/opt/anaconda3/envs/machinelearning/lib/python3.8/site-packages/lightfm/_lightfm_fast.py:9: UserWarning: LightFM was compiled without OpenMP support. Only a single thread will be used.\n",
      "  warnings.warn(\n"
     ]
    }
   ],
   "source": [
    "from lightfm import LightFM\n",
    "from lightfm.evaluation import auc_score, precision_at_k, recall_at_k\n",
    "from lightfm.cross_validation import random_train_test_split\n",
    "from lightfm.data import Dataset\n",
    "\n",
    "# Build data references + train test\n",
    "Xcoo = X.tocoo()\n",
    "data = Dataset()\n",
    "data.fit(np.arange(n_users), np.arange(n_items))\n",
    "interactions, weights = data.build_interactions(zip(Xcoo.row, Xcoo.col, Xcoo.data)) \n",
    "train, test = random_train_test_split(interactions)\n",
    "\n",
    "# Ignore that (weight seems to be ignored...)\n",
    "# train = train_.tocsr()\n",
    "# test = test_.tocsr()\n",
    "# train[train==1] = X[train==1]\n",
    "# test[test==1] = X[test==1]\n",
    "\n",
    "# To be completed..."
   ]
  },
  {
   "cell_type": "code",
   "execution_count": 6,
   "id": "informative-sherman",
   "metadata": {},
   "outputs": [],
   "source": [
    "# Train\n",
    "def model():\n",
    "    param_loss= [\"warp\", \"bpr\", \"warp-kos\", \"logistic\"]\n",
    "    score= []\n",
    "    for i in param_loss:\n",
    "    \n",
    "        model = LightFM(learning_rate=0.05, loss=i)\n",
    "        model.fit(train, epochs=10, num_threads=2)\n",
    "        train_precision = precision_at_k(model, train, k=10).mean()\n",
    "        test_precision = precision_at_k(model, test, k=10, train_interactions=train).mean()\n",
    "    \n",
    "        train_auc = auc_score(model, train).mean()\n",
    "        test_auc = auc_score(model, test, train_interactions=train).mean()\n",
    "        \n",
    "        train_recall = recall_at_k(model, train).mean()\n",
    "        test_recall = recall_at_k(model, test).mean()\n",
    "        \n",
    "        score_ = [train_precision, test_precision, train_auc, test_auc, train_recall, test_recall]\n",
    "        score.append(score_)\n",
    "        scores = np.array(score)\n",
    "    score_final = pd.DataFrame(scores,\n",
    "                        columns = [\"train_precision\", \"test_precision\", \"train_auc\",\n",
    "                                   \"test_auc\", \"train_recall\", \"test_recall\"],\n",
    "                        index  = [\"warp\", \"bpr\", \"warp-kos\", \"logistic\"])\n",
    "    scores = model.predict(0, np.arange(n_items))\n",
    "    top_items = artist_names[np.argsort(-scores)]\n",
    "    print('top_items :',top_items)\n",
    "    return score_final"
   ]
  },
  {
   "cell_type": "code",
   "execution_count": 7,
   "id": "precise-sauce",
   "metadata": {},
   "outputs": [
    {
     "name": "stdout",
     "output_type": "stream",
     "text": [
      "top_items : ['Lady Gaga' 'Britney Spears' 'Katy Perry' ... 'Yppah'\n",
      " 'Luigi Dallapiccola' 'Nexilva']\n"
     ]
    },
    {
     "data": {
      "text/html": [
       "<div>\n",
       "<style scoped>\n",
       "    .dataframe tbody tr th:only-of-type {\n",
       "        vertical-align: middle;\n",
       "    }\n",
       "\n",
       "    .dataframe tbody tr th {\n",
       "        vertical-align: top;\n",
       "    }\n",
       "\n",
       "    .dataframe thead th {\n",
       "        text-align: right;\n",
       "    }\n",
       "</style>\n",
       "<table border=\"1\" class=\"dataframe\">\n",
       "  <thead>\n",
       "    <tr style=\"text-align: right;\">\n",
       "      <th></th>\n",
       "      <th>train_precision</th>\n",
       "      <th>test_precision</th>\n",
       "      <th>train_auc</th>\n",
       "      <th>test_auc</th>\n",
       "      <th>train_recall</th>\n",
       "      <th>test_recall</th>\n",
       "    </tr>\n",
       "  </thead>\n",
       "  <tbody>\n",
       "    <tr>\n",
       "      <th>warp</th>\n",
       "      <td>0.376312</td>\n",
       "      <td>0.126467</td>\n",
       "      <td>0.965942</td>\n",
       "      <td>0.855147</td>\n",
       "      <td>0.096608</td>\n",
       "      <td>0.083378</td>\n",
       "    </tr>\n",
       "    <tr>\n",
       "      <th>bpr</th>\n",
       "      <td>0.373503</td>\n",
       "      <td>0.121451</td>\n",
       "      <td>0.848417</td>\n",
       "      <td>0.780363</td>\n",
       "      <td>0.096241</td>\n",
       "      <td>0.077773</td>\n",
       "    </tr>\n",
       "    <tr>\n",
       "      <th>warp-kos</th>\n",
       "      <td>0.352994</td>\n",
       "      <td>0.124280</td>\n",
       "      <td>0.889002</td>\n",
       "      <td>0.818090</td>\n",
       "      <td>0.091035</td>\n",
       "      <td>0.080981</td>\n",
       "    </tr>\n",
       "    <tr>\n",
       "      <th>logistic</th>\n",
       "      <td>0.200530</td>\n",
       "      <td>0.066756</td>\n",
       "      <td>0.887550</td>\n",
       "      <td>0.804180</td>\n",
       "      <td>0.051943</td>\n",
       "      <td>0.049098</td>\n",
       "    </tr>\n",
       "  </tbody>\n",
       "</table>\n",
       "</div>"
      ],
      "text/plain": [
       "          train_precision  test_precision  train_auc  test_auc  train_recall  \\\n",
       "warp             0.376312        0.126467   0.965942  0.855147      0.096608   \n",
       "bpr              0.373503        0.121451   0.848417  0.780363      0.096241   \n",
       "warp-kos         0.352994        0.124280   0.889002  0.818090      0.091035   \n",
       "logistic         0.200530        0.066756   0.887550  0.804180      0.051943   \n",
       "\n",
       "          test_recall  \n",
       "warp         0.083378  \n",
       "bpr          0.077773  \n",
       "warp-kos     0.080981  \n",
       "logistic     0.049098  "
      ]
     },
     "execution_count": 7,
     "metadata": {},
     "output_type": "execute_result"
    }
   ],
   "source": [
    "model()"
   ]
  },
  {
   "cell_type": "markdown",
   "id": "green-colombia",
   "metadata": {},
   "source": [
    "### fonction get_recommendations"
   ]
  },
  {
   "cell_type": "code",
   "execution_count": 8,
   "id": "weighted-tanzania",
   "metadata": {},
   "outputs": [],
   "source": [
    "indices = pd.Series(artist_rank['avgPlays'], index=artist_rank.index).drop_duplicates()"
   ]
  },
  {
   "cell_type": "code",
   "execution_count": 9,
   "id": "healthy-making",
   "metadata": {},
   "outputs": [
    {
     "name": "stdout",
     "output_type": "stream",
     "text": [
      "(1892, 1892)\n"
     ]
    }
   ],
   "source": [
    "# Import linear_kernel\n",
    "from sklearn.metrics.pairwise import linear_kernel, cosine_similarity\n",
    "\n",
    "# Compute the cosine similarity matrix\n",
    "\n",
    "cosine_sim = cosine_similarity(train, train)\n",
    "#on le fait pour avoir une dimension de(45466,45466) au lieu de(45466,75827)qui(nbfilm,nbmots)\n",
    "print(cosine_sim.shape)"
   ]
  },
  {
   "cell_type": "code",
   "execution_count": 10,
   "id": "coated-puppy",
   "metadata": {},
   "outputs": [],
   "source": [
    "from time import time\n",
    "def get_recommendations(userID):\n",
    "    start = time()\n",
    "    Artists = []\n",
    "    dic = {}\n",
    "    ind = []\n",
    "    liste_ = []\n",
    "    # Get the index of the movie that matches the title\n",
    "    idx = list(plays.artistID[plays['userID']==userID])#indices[title]\n",
    "    #print(\"idx=\",[idx.head(5)])\n",
    "    for item in idx:\n",
    "        #calculer cosine_similarity (vecteur * matrice)\n",
    "        #cosine_sim = cosine_similarity(train, tfidf_matrix[idx])\n",
    "\n",
    "        # Get the pairwsie similarity scores of all movies with that movie\n",
    "        sim_scores = list(enumerate(cosine_sim[item]))\n",
    "\n",
    "        # Sort the movies based on the similarity scores\n",
    "        sim_scores = sorted(sim_scores, key=lambda x: x[1], reverse=True)\n",
    "\n",
    "        # Get the scores of the 10 most similar movies\n",
    "        sim_scores = sim_scores[1:11]\n",
    "\n",
    "        # Get the movie indices\n",
    "        user_indices = [i[0] for i in sim_scores]\n",
    "        ind.append(user_indices[0])\n",
    "        #print(movie_indices[0])\n",
    "    #print(ind)\n",
    "    for each in ind:\n",
    "        p = (artists[artists.id == each]).values\n",
    "#        print(\"p\",p[0][1])\n",
    "        Artists.append(p[0][1])\n",
    "#     print(\"Artists\",Artists)\n",
    "    for k,v in indices.items():\n",
    "        for j in Artists:\n",
    "            if j in str(k):\n",
    "                dic[j]=v\n",
    "    liste=sorted(dic.items(), key=lambda t: t[1], reverse=True)\n",
    "#     print(LISTE)\n",
    "    for arg, num in liste:\n",
    "        liste_.append(arg)\n",
    "#     print(\"sorted\", liste_)\n",
    "    times = time()-start\n",
    "    times = round(times,3)\n",
    "    print(\"Time = {} secondes\".format(times))\n",
    "    # Return the top 10 most similar movies\n",
    "    #return  \"liste des indexs des artistes = {}\".format(ind), \"liste = {}\".format(L[0:11])\n",
    "    return  liste_[1:11]"
   ]
  },
  {
   "cell_type": "code",
   "execution_count": 11,
   "id": "lovely-wallet",
   "metadata": {},
   "outputs": [
    {
     "name": "stdout",
     "output_type": "stream",
     "text": [
      "Time = 0.198 secondes\n"
     ]
    },
    {
     "data": {
      "text/plain": [
       "['Led Zeppelin',\n",
       " 'nevershoutnever!',\n",
       " 'Atreyu',\n",
       " 'Skinny Puppy',\n",
       " 'The Strollers',\n",
       " 'Đorđe Balašević',\n",
       " 'Jonathan Larson',\n",
       " '雅-MIYAVI-',\n",
       " 'Skillet',\n",
       " 'Röyksopp']"
      ]
     },
     "execution_count": 11,
     "metadata": {},
     "output_type": "execute_result"
    }
   ],
   "source": [
    "get_recommendations(9)"
   ]
  },
  {
   "cell_type": "markdown",
   "id": "lyric-clark",
   "metadata": {},
   "source": [
    "### Comparatif des résultat de l'AUC avec TruncatedSvd"
   ]
  },
  {
   "cell_type": "code",
   "execution_count": 12,
   "id": "subsequent-wrong",
   "metadata": {},
   "outputs": [
    {
     "data": {
      "text/plain": [
       "(1892, 100)"
      ]
     },
     "execution_count": 12,
     "metadata": {},
     "output_type": "execute_result"
    }
   ],
   "source": [
    "from sklearn.decomposition import TruncatedSVD\n",
    "svd = TruncatedSVD(n_components=100, n_iter=7, random_state=0)\n",
    "\n",
    "svd_matrix = svd.fit_transform(X)\n",
    "svd_matrix.shape\n",
    "\n"
   ]
  },
  {
   "cell_type": "code",
   "execution_count": 13,
   "id": "private-spencer",
   "metadata": {},
   "outputs": [
    {
     "name": "stdout",
     "output_type": "stream",
     "text": [
      "5.639471188270382e-06\n"
     ]
    }
   ],
   "source": [
    "pred = svd_matrix[0].dot(svd.components_[:, 0])\n",
    "print(pred)"
   ]
  },
  {
   "cell_type": "markdown",
   "id": "sweet-russia",
   "metadata": {},
   "source": [
    "### Nombre d'itération pour la convergence du model"
   ]
  },
  {
   "cell_type": "code",
   "execution_count": 14,
   "id": "annual-water",
   "metadata": {},
   "outputs": [],
   "source": [
    "model = LightFM(learning_rate= 0.05, loss='warp', random_state=0)\n",
    "log_model = []\n",
    "for i in range(1, 50):\n",
    "    model.fit_partial(train, epochs = 1)\n",
    "    log_model.append(auc_score(model, train).mean())"
   ]
  },
  {
   "cell_type": "code",
   "execution_count": 15,
   "id": "frank-deputy",
   "metadata": {},
   "outputs": [
    {
     "data": {
      "text/plain": [
       "<matplotlib.legend.Legend at 0x7f9cb24b0700>"
      ]
     },
     "execution_count": 15,
     "metadata": {},
     "output_type": "execute_result"
    },
    {
     "data": {
      "image/png": "[encoded data removed]",
      "text/plain": [
       "<Figure size 432x288 with 1 Axes>"
      ]
     },
     "metadata": {
      "needs_background": "light"
     },
     "output_type": "display_data"
    }
   ],
   "source": [
    "plt.plot(np.array(log_model))\n",
    "plt.legend(['wrap'], loc = 'lower right')"
   ]
  },
  {
   "cell_type": "markdown",
   "id": "square-pepper",
   "metadata": {},
   "source": [
    "On remarque que pour 95% on est as 7 itérations"
   ]
  },
  {
   "cell_type": "markdown",
   "id": "exposed-finish",
   "metadata": {},
   "source": [
    "### optimization des hyper-paramètres "
   ]
  },
  {
   "cell_type": "code",
   "execution_count": 16,
   "id": "brief-fever",
   "metadata": {},
   "outputs": [
    {
     "data": {
      "text/plain": [
       "dict_items([('n', 1), ('loss', 'warp'), ('learning_schedule', 'adadelta'), ('learning_rate', 0.05), ('k', 1)])"
      ]
     },
     "execution_count": 16,
     "metadata": {},
     "output_type": "execute_result"
    }
   ],
   "source": [
    "from sklearn.model_selection import ParameterGrid\n",
    "param_grid = {\n",
    "    'learning_rate': [0.05 , 0.08],\n",
    "    'learning_schedule':['adagrad','adadelta'],\n",
    "    'loss': ['warp','bpr','logistic','warp-kos'],\n",
    "    'k':[1, 5, 6, 10], \n",
    "    'n' : [1, 5, 6, 10]\n",
    "    \n",
    "       \n",
    "} # Create a based model\n",
    "\n",
    "list(ParameterGrid(param_grid))\n",
    "auc_score_values = []\n",
    "\n",
    "for grid in ParameterGrid(param_grid):\n",
    "    model = LightFM(**grid) # ** pour récuperer les parm_grid\n",
    "    pred = model.fit(train)\n",
    "    auc_score_values.append(round(auc_score(model, test, train_interactions=train).mean(),3))\n",
    "\n",
    "max_value = max(auc_score_values) \n",
    "max_index = np.argmax(auc_score_values)\n",
    "ParameterGrid(param_grid)[max_index ].items()"
   ]
  },
  {
   "cell_type": "code",
   "execution_count": null,
   "id": "median-museum",
   "metadata": {},
   "outputs": [],
   "source": []
  }
 ],
 "metadata": {
  "kernelspec": {
   "display_name": "Python 3",
   "language": "python",
   "name": "python3"
  },
  "language_info": {
   "codemirror_mode": {
    "name": "ipython",
    "version": 3
   },
   "file_extension": ".py",
   "mimetype": "text/x-python",
   "name": "python",
   "nbconvert_exporter": "python",
   "pygments_lexer": "ipython3",
   "version": "3.8.5"
  }
 },
 "nbformat": 4,
 "nbformat_minor": 5
}
