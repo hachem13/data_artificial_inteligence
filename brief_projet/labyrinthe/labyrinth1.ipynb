{
 "cells": [
  {
   "cell_type": "markdown",
   "metadata": {},
   "source": [
    "### Génerer Aléatoirement un labyrinthe "
   ]
  },
  {
   "cell_type": "code",
   "execution_count": 58,
   "metadata": {},
   "outputs": [],
   "source": [
    "# importation des bibliothéques\n",
    "import random\n",
    "import matplotlib.pyplot as plt\n",
    "import numpy as np"
   ]
  },
  {
   "cell_type": "code",
   "execution_count": 114,
   "metadata": {},
   "outputs": [],
   "source": [
    "# Dimensions de la grille:\n",
    "LARGEUR = 3\n",
    "HAUTEUR = 3\n",
    "TAILLE_LARG= 2 * LARGEUR + 1\n",
    "TAILLE_HAUT= 2 * HAUTEUR + 1\n",
    "\n",
    "# Graphe de référence\n",
    "\n",
    "class Maillon:\n",
    "\n",
    "    def __init__(self, valeur, suivant=None):\n",
    "        self.valeur = valeur\n",
    "        self.suivant = suivant\n",
    "\n",
    "\n",
    "\n",
    "class Pile:\n",
    "\n",
    "    def __init__(self):\n",
    "        self.taille = 0 # nombre d'assiettes dans la pile\n",
    "        self.sommet = None\n",
    "\n",
    "\n",
    "    def empiler(self, valeur):\n",
    "        self.sommet = Maillon(valeur, self.sommet)\n",
    "        self.taille += 1\n",
    "\n",
    "    def depiler(self):\n",
    "        if self.taille > 0:\n",
    "            valeur = self.sommet.valeur\n",
    "            self.sommet = self.sommet.suivant\n",
    "            self.taille -= 1\n",
    "            return valeur\n",
    "\n",
    "    def estVide(self):\n",
    "        return self.taille == 0\n",
    "\n",
    "\n",
    "    def lireSommet(self):\n",
    "        return self.sommet.valeur"
   ]
  },
  {
   "cell_type": "code",
   "execution_count": 115,
   "metadata": {},
   "outputs": [],
   "source": [
    "def voisinage(couple):\n",
    "    \"\"\"\n",
    "    Renvoie la liste des cellules voisines\n",
    "    de la cellule (ligne, colonne) = couple dans la grille.\n",
    "    \"\"\"\n",
    "    listeVoisins = []\n",
    "    i, j = couple[0], couple[1]\n",
    "\n",
    "    for d in (-1, 1):\n",
    "        if -1 < i+d < HAUTEUR: listeVoisins.append( (i+d, j) )\n",
    "        if   -1 < j+d < LARGEUR: listeVoisins.append( (i, j+d) )\n",
    "    \n",
    "    return listeVoisins"
   ]
  },
  {
   "cell_type": "code",
   "execution_count": 116,
   "metadata": {},
   "outputs": [],
   "source": [
    "# parcour en profondeur\n",
    "\n",
    "def dfs(s) :\n",
    "    P = {s: None}\n",
    "    Q = Pile()\n",
    "    Q.empiler(s)\n",
    "    while not(Q.estVide()) :\n",
    "        u = Q.lireSommet()\n",
    "        R=[y for y in voisinage(u) if y not in P]\n",
    "        if R :\n",
    "            v=random.choice(R)\n",
    "            P[v]=u\n",
    "            Q.empiler(v)\n",
    "        else :\n",
    "            Q.depiler()\n",
    "    return P"
   ]
  },
  {
   "cell_type": "code",
   "execution_count": 117,
   "metadata": {},
   "outputs": [],
   "source": [
    "# On crée une fonction pour le chemin le plus cour vers la sortie\n",
    "def find_path(graph, start, end, path=[]): \n",
    "    path = path + [start] \n",
    "    if start == end: \n",
    "        return path \n",
    "    for node in graph[start]: \n",
    "        if node not in path: \n",
    "            newpath = find_path(graph, node, end, path) \n",
    "            if newpath: \n",
    "                return newpath "
   ]
  },
  {
   "cell_type": "code",
   "execution_count": 118,
   "metadata": {},
   "outputs": [],
   "source": [
    "# On crée une fonction pour convertir le parcour en dictionnaire\n",
    "def convDic (d):\n",
    "    dic_new = {}\n",
    "    for i in d.keys():\n",
    "        dic_new[i] = [d[i]]\n",
    "        if d[i] in dic_new.keys():\n",
    "            dic_new[d.get(i)].append(i)\n",
    "    for i in d.keys():\n",
    "        dic_new[i] = {node : 1 for node in dic_new[i] if node != None }\n",
    "    return dic_new"
   ]
  },
  {
   "cell_type": "code",
   "execution_count": 143,
   "metadata": {},
   "outputs": [],
   "source": [
    "\n",
    "def dedale():\n",
    "    \"\"\"\n",
    "    Fonction dessinant le résultat \n",
    "    \"\"\"\n",
    "    \n",
    "    labyrinthe = [ [0 for j in range(TAILLE_LARG)] for i in range(TAILLE_HAUT)]\n",
    "    \n",
    "    \n",
    "    \n",
    "    for i,j in parcours:\n",
    "        labyrinthe[2*i+1][2*j+1] = 3\n",
    "        if (i,j) !=  (0,0):\n",
    "            k,l = parcours[(i,j)]\n",
    "            labyrinthe[2*k+1][2*l+1] = 3\n",
    "            labyrinthe[i+k+1][j+l+1] = 3\n",
    "     \n",
    "    for (i,j) in path:\n",
    "        labyrinthe[2*i+1][2*j+1] = 20\n",
    "        if (i,j) !=  (0,0):\n",
    "            k,l = parcours[(i,j)]\n",
    "            labyrinthe[2*k+1][2*l+1] = 20\n",
    "            labyrinthe[i+k+1][j+l+1] = 20\n",
    "    labyrinthe[1][0] = 10\n",
    "    labyrinthe[2*HAUTEUR-1][2*LARGEUR] = 20\n",
    "    return labyrinthe"
   ]
  },
  {
   "cell_type": "code",
   "execution_count": 144,
   "metadata": {},
   "outputs": [],
   "source": [
    "# On crée une fonction pour dessinée le labyrinthe\n",
    "def dessine(lab):\n",
    "    # le graphique:\n",
    "    plt.figure(figsize= (6,6))\n",
    "    plt.imshow(lab)\n",
    "\n",
    "    # on cache les graduations:\n",
    "    plt.xticks([])\n",
    "    plt.yticks([])\n",
    "\n",
    "    noeud= []\n",
    "    for index, x in np.ndenumerate(lab):\n",
    "        #print(\"index: \",index[0], index[1], x)   \n",
    "        if x== 1: #labyrinthe[index[0], index[1]]\n",
    "            noeud.append((index[0], index[1]))   \n",
    "            #print(\"\\tnoeud !\",index[0], index[1])   \n",
    "\n",
    "    return noeud"
   ]
  },
  {
   "cell_type": "code",
   "execution_count": 145,
   "metadata": {},
   "outputs": [],
   "source": [
    " # On crée une fonction pour heirarchiser le Graph de solution \n",
    "import numpy as  np\n",
    "import networkx as nx\n",
    "def hierarchy_pos(G, root, width=1., vert_gap = 0.2, vert_loc = 0, xcenter = 0.5, \n",
    "                  pos = None, parent = None):\n",
    "    '''If there is a cycle that is reachable from root, then this will see infinite recursion.\n",
    "       G: the graph\n",
    "       root: the root node of current branch\n",
    "       width: horizontal space allocated for this branch - avoids overlap with other branches\n",
    "       vert_gap: gap between levels of hierarchy\n",
    "       vert_loc: vertical location of root\n",
    "       xcenter: horizontal location of root\n",
    "       pos: a dict saying where all nodes go if they have been assigned\n",
    "       parent: parent of this branch.'''\n",
    "    if pos == None:\n",
    "        pos = {root:(xcenter,vert_loc)}\n",
    "    else:\n",
    "        pos[root] = (xcenter, vert_loc)\n",
    "    neighbors = list(G.neighbors(root)) \n",
    "    if parent != None:   #this should be removed for directed graphs.\n",
    "        neighbors.remove(parent)  #if directed, then parent not in neighbors.\n",
    "    if len(neighbors)!=0:\n",
    "        dx = width/len(neighbors) \n",
    "        nextx = xcenter - width/2 - dx/2\n",
    "        for neighbor in neighbors:\n",
    "            nextx += dx\n",
    "            pos = hierarchy_pos(G,neighbor, width = dx, vert_gap = vert_gap, \n",
    "                                vert_loc = vert_loc-vert_gap, xcenter=nextx, pos=pos, \n",
    "                                parent = root)\n",
    "    return pos"
   ]
  },
  {
   "cell_type": "code",
   "execution_count": 146,
   "metadata": {},
   "outputs": [
    {
     "data": {
      "image/png": "[encoded data removed]",
      "text/plain": [
       "<Figure size 504x504 with 1 Axes>"
      ]
     },
     "metadata": {},
     "output_type": "display_data"
    }
   ],
   "source": [
    "# dessiner le Graph\n",
    "G = nx.Graph()\n",
    "\n",
    "for i, v in dic.items():\n",
    "    for k in v:\n",
    "        G.add_edge(i, k)\n",
    "\n",
    "f, ax= plt.subplots(figsize=(7,7))\n",
    "pos = hierarchy_pos(G, (1,0))    \n",
    "nx.draw(G, pos=pos, with_labels=True)"
   ]
  },
  {
   "cell_type": "code",
   "execution_count": 147,
   "metadata": {
    "scrolled": true
   },
   "outputs": [
    {
     "data": {
      "text/plain": [
       "[(0, 0), (0, 1), (0, 2), (1, 2), (2, 2)]"
      ]
     },
     "execution_count": 147,
     "metadata": {},
     "output_type": "execute_result"
    },
    {
     "data": {
      "image/png": "[encoded data removed]",
      "text/plain": [
       "<Figure size 432x432 with 1 Axes>"
      ]
     },
     "metadata": {},
     "output_type": "display_data"
    }
   ],
   "source": [
    "parcours = dfs((0,0))\n",
    "dic = convDic(parcours)\n",
    "path = find_path(dic, (0, 0), (HAUTEUR-1,LARGEUR-1))\n",
    "labyrinthe= dedale()\n",
    "noeud = dessine(labyrinthe)\n",
    "path"
   ]
  },
  {
   "cell_type": "code",
   "execution_count": null,
   "metadata": {},
   "outputs": [],
   "source": []
  },
  {
   "cell_type": "code",
   "execution_count": null,
   "metadata": {},
   "outputs": [],
   "source": []
  }
 ],
 "metadata": {
  "kernelspec": {
   "display_name": "Python 3",
   "language": "python",
   "name": "python3"
  },
  "language_info": {
   "codemirror_mode": {
    "name": "ipython",
    "version": 3
   },
   "file_extension": ".py",
   "mimetype": "text/x-python",
   "name": "python",
   "nbconvert_exporter": "python",
   "pygments_lexer": "ipython3",
   "version": "3.8.5"
  }
 },
 "nbformat": 4,
 "nbformat_minor": 4
}
