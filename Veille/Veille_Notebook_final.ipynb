{
 "cells": [
  {
   "cell_type": "markdown",
   "metadata": {},
   "source": [
    "## Les Fonctions\n",
    "Une fonction est une suite d'instructions que l'on peut appeler avec un nom  préalablement défini. Mais avant de rentrer dans le détail, qu'est ce qu'une instruction ? \n",
    "\n",
    "Une instruction désigne une étape dans un programme informatique. En autre, l'instruction dicte à l'ordinateur l'action nécessaire qu'il doit effectuer avant de passer à l'instruction suivante. Un programme informatique est donc constitué d'une suite d'instructions.\n",
    "\n",
    "Créons notre première fonction :\n",
    "\n",
    " Pour cela, nous devons indiquer à l'interpreteur que nous voulons créer une fonction. Pour cela, nous allons utiliser le mot clé def suivi d'un nom puis de parenthèses et ensuite d'un double point. \n",
    "\n",
    "\n",
    "     \n",
    "\n"
   ]
  },
  {
   "cell_type": "code",
   "execution_count": 1,
   "metadata": {},
   "outputs": [
    {
     "data": {
      "text/plain": [
       "30"
      ]
     },
     "execution_count": 1,
     "metadata": {},
     "output_type": "execute_result"
    }
   ],
   "source": [
    "# Exemple : Nous allons dans un premier construire notre première\n",
    "# fonction qui devra retourner un âge\n",
    "\n",
    "\n",
    "def indique_mon_age():\n",
    "    return 30;\n",
    "\n",
    "indique_mon_age()\n"
   ]
  },
  {
   "cell_type": "markdown",
   "metadata": {},
   "source": [
    "### Les Arguments \n",
    "\n",
    "\n",
    "Maintenant que nous avons expliqué rapidement ce qu'était une fonction, nous devons expliquer maintenant ce qu'est un argument. \n",
    "\n",
    "\n",
    "Un argument est ce que l'on va mettre à l'intérieur des parenthèses de la fonction. C'est une valeur donné à une fonction ou à une méthode lors de son appel. Il existe deux type d'arguments :\n",
    ". Les arguments nommé: \n",
    "    Est un argument précédé d'un identifiant (comme name=) ou un dictionnaire précédé de **, lors d'un appel de fonction. Par exemple, 3 et 5 sont tous les deux des arguments nommés dans l'appel à complex() ici :\n",
    "\n",
    "    >>> complex(real=3, imag=5)\n",
    "    complex(**{'real': 3, 'imag': 5})\n",
    "\n",
    "Les arguments positionnels : \n",
    "    Est un argument qui n'est pas nommé. Les arguments positionnels apparaissent au début de la liste des arguments, ou donnés sous forme d'un itérable précédé par *. Par exemple, 3 et 5 sont tous les deux des arguments positionnels dans les appels suivants :\n",
    "\n",
    "    >>> complex(3, 5)\n",
    "    complex(*(3, 5))\n",
    "\n",
    "### Les paramètres \n",
    "\n",
    "Entité nommée dans la définition d'une fonction (ou méthode), décrivant un argument (ou dans certains cas des arguments) que la fonction accepte. Il existe cinq sortes de paramètres :\n",
    "\n",
    "    positional-or-keyword : l'argument peut être passé soit par sa position, soit en tant que argument nommé. C'est le type de paramètre par défaut. Par exemple, foo et bar dans l'exemple suivant :\n",
    "\n",
    "    def func(foo, bar=None): ...\n",
    "\n",
    "    positional-only : définit un argument qui ne peut être fourni que par position. Les paramètres positional-only peuvent être définis en insérant un caractère \"/\" dans la liste de paramètres de la définition de fonction après eux. Par exemple : posonly1 et posonly2 dans le code suivant :\n",
    "\n",
    "    def func(posonly1, posonly2, /, positional_or_keyword): ...\n",
    "\n",
    "    keyword-only : l'argument ne peut être fourni que nommé. Les paramètres keyword-only peuvent être définis en utilisant un seul paramètre var-positional, ou en ajoutant une étoile (*) seule dans la liste des paramètres avant eux. Par exemple, kw_only1 et kw_only2 dans le code suivant :\n",
    "\n",
    "    def func(arg, *, kw_only1, kw_only2): ...\n",
    "\n",
    "    var-positional : une séquence d'arguments positionnels peut être fournie (en plus de tous les arguments positionnels déjà acceptés par d'autres paramètres). Un tel paramètre peut être défini en préfixant son nom par une *. Par exemple args ci-après :\n",
    "\n",
    "    def func(*args, **kwargs): ...\n",
    "\n",
    "    var-keyword : une quantité arbitraire d'arguments peut être passée, chacun étant nommé (en plus de tous les arguments nommés déjà acceptés par d'autres paramètres). Un tel paramètre est défini en préfixant le nom du paramètre par **. Par exemple, kwargs ci-dessus.\n",
    "\n",
    "Les paramètres peuvent spécifier des arguments obligatoires ou optionnels, ainsi que des valeurs par défaut pour les arguments optionnels.\n",
    "\n",
    "### La différence entre paramètres et arguments\n",
    "\n",
    "Les paramètres sont les noms qui apparaissent dans une définition de fonction, alors que les arguments sont les valeurs qui sont réellement passées à une fonction lors de l'appel de celle-ci. Les paramètres définissent les types des arguments qu'une fonction accepte. Ainsi, avec la définition de fonction suivante :\n",
    "\n",
    "def func(foo, bar=None, **kwargs):\n",
    "    pass\n",
    "\n",
    "foo, bar et kwargs sont des paramètres de func. Mais à l'appel de func avec, par exemple :\n",
    "\n",
    "func(42, bar=314, extra=somevar)\n",
    "\n",
    "les valeurs 42, 314, et somevar sont des arguments.\n"
   ]
  },
  {
   "cell_type": "raw",
   "metadata": {},
   "source": [
    "La  boucle while en français correspond à “tant que”.C’est à dire tant que une condition est valable, la ou les fonctions seront excécuté(e)s. Elle est constituée d’un bloc de code source et d’une condition. À l’exécution, la condition est d’abord évaluée, et si elle est vraie, le bloc de code source est évalué. L'exécution du code est ensuite répétée jusqu’à ce que la condition soit fausse. "
   ]
  },
  {
   "cell_type": "code",
   "execution_count": 1,
   "metadata": {},
   "outputs": [
    {
     "name": "stdout",
     "output_type": "stream",
     "text": [
      "le chiffre 1 est inférieur à 5\n",
      "le chiffre 2 est inférieur à 5\n",
      "le chiffre 3 est inférieur à 5\n",
      "le chiffre 4 est inférieur à 5\n"
     ]
    }
   ],
   "source": [
    "i = 1\n",
    "while i < 5: \n",
    "    print(\"le chiffre\", i ,\"est inférieur à 5\")\n",
    "    i +=1"
   ]
  },
  {
   "cell_type": "code",
   "execution_count": null,
   "metadata": {},
   "outputs": [],
   "source": []
  },
  {
   "cell_type": "markdown",
   "metadata": {},
   "source": [
    "# Les variables locales et les variables globales\n",
    "\n"
   ]
  },
  {
   "cell_type": "markdown",
   "metadata": {},
   "source": [
    "## Problématique: \n",
    "\n",
    "Lorsque on référence une variable (on assigne à une variable un objet), où on va chercher cette variable (dans quel endroit ou partie du programme python)?\n"
   ]
  },
  {
   "cell_type": "markdown",
   "metadata": {},
   "source": [
    "## Les variables locales\n"
   ]
  },
  {
   "cell_type": "markdown",
   "metadata": {},
   "source": [
    "Les variables locales sont définies dans le code d'une fonction (à l'intérieur de la fonction).\n",
    "Lorsque la fonction est retournée, toutes les variables de cette fonction (locales à cette fonction) sont détruites.\n"
   ]
  },
  {
   "cell_type": "markdown",
   "metadata": {},
   "source": [
    "## Les variables globales\n"
   ]
  },
  {
   "cell_type": "markdown",
   "metadata": {},
   "source": [
    "Les variables globales sont définies en dehors de toute fonction\n"
   ]
  },
  {
   "cell_type": "markdown",
   "metadata": {},
   "source": [
    "## Portée des variables: Règle LEGB\n"
   ]
  },
  {
   "cell_type": "markdown",
   "metadata": {},
   "source": [
    "Lorsque on réference une variable on va d'abords la chercher dans l'ordre suivant:\n",
    "1. **L**: (Localement) je regarde si la variable est définie localement à la fonction dans lequellle je suis\n",
    "2. **E**: Sinon je le recherche dans la fonction englobante la plus proche de ma fonction\n",
    "3. **G**: Sinon je la recherche dans les variables en dehors de toutes mes fonctions\n",
    "4. **B**: Sinon je la recherche dans le module Builtins (déjà défini en python)"
   ]
  },
  {
   "cell_type": "markdown",
   "metadata": {},
   "source": [
    "## Exemple\n"
   ]
  },
  {
   "cell_type": "code",
   "execution_count": null,
   "metadata": {},
   "outputs": [],
   "source": [
    "a,b,c=1,1,1\n",
    "def g():\n",
    "    b,c=2,4\n",
    "    b=b+5\n",
    "    def h():\n",
    "        c=5\n",
    "        print(a,b,c)\n",
    "    h()\n",
    "g()\n",
    "print(a,b,c)\n",
    "    "
   ]
  },
  {
   "cell_type": "raw",
   "metadata": {},
   "source": [
    "Lorsqu’une tâche doit être réalisée plusieurs fois par un programme, on peut l’isoler au sein d’une fonction"
   ]
  },
  {
   "cell_type": "code",
   "execution_count": 3,
   "metadata": {},
   "outputs": [],
   "source": [
    "x = \"hello\"\n",
    "\n",
    "def test():\n",
    "        print (x)"
   ]
  },
  {
   "cell_type": "code",
   "execution_count": 5,
   "metadata": {},
   "outputs": [
    {
     "name": "stdout",
     "output_type": "stream",
     "text": [
      "hello\n"
     ]
    }
   ],
   "source": [
    "test()"
   ]
  },
  {
   "cell_type": "raw",
   "metadata": {},
   "source": [
    "Avec des paramètres différents:"
   ]
  },
  {
   "cell_type": "code",
   "execution_count": 8,
   "metadata": {},
   "outputs": [
    {
     "name": "stdout",
     "output_type": "stream",
     "text": [
      "5\n"
     ]
    }
   ],
   "source": [
    "def calcul(a,b,c):\n",
    "    return a*b+3\n",
    "\n",
    "a= calcul(1,2,3)\n",
    "\n",
    "print(a)\n",
    "    "
   ]
  },
  {
   "cell_type": "code",
   "execution_count": 3,
   "metadata": {},
   "outputs": [
    {
     "name": "stdout",
     "output_type": "stream",
     "text": [
      "10\n",
      "10\n",
      "109\n"
     ]
    }
   ],
   "source": [
    "#Modification de la portee des variables globales et non locales\n",
    "\n",
    "#Les variables définies localement dans les fonctions sont uniquement visibles dans ces fonctions\n",
    "\t\n",
    "#Les variables définies (dans la mémoire globale) en dehors de la fonction ne sont pas accessibles dans la fonction\n",
    "\n",
    "#fonction\n",
    "def modif_1(v):\n",
    "\tx = v\n",
    "\n",
    "#appel\n",
    "x = 10\n",
    "modif_1(99)\n",
    "print(x) \n",
    "\n",
    "#=> 10\n",
    "#x est une variable locale dans la fonction , pas de répercussion a l’exterieure de la fonction\n",
    "\n",
    "#fonction\n",
    "def modif_2(v):\n",
    "    x = x + v\n",
    "    \n",
    "#appel\n",
    "x = 10\n",
    "modif_2(99)\n",
    "print(x)\n",
    "\n",
    "#x n’est pas assignée ici, l’instruction provoque une ERREUR\n",
    "\n",
    "#fonction\n",
    "def modif_3(v):\n",
    "    global x\n",
    "    x = x + v\n",
    "    \n",
    "#appel\n",
    "x = 10\n",
    "modif_3(99)\n",
    "print(x)\n",
    "\n",
    "#On va utiliser la variable globale x.\n",
    "\n",
    "\n",
    "#Que se passe-t-il avec les conflits de noms? \n",
    "foo = 1\n",
    "\n",
    "def func():\n",
    "    foo = 2  # creates a new variable foo in local scope, global foo is not affected\n",
    "\n",
    "    print(foo)  # prints 2\n",
    "\n",
    "    # global variable foo still exists, unchanged:\n",
    "    print(globals()['foo'])  # prints 1\n",
    "    print(locals()['foo'])  # prints 2\n",
    "#Pour modifier une variable globale, utilisez le mot-clé global : \n",
    "foo = 1\n",
    "\n",
    "def func():\n",
    "    global foo\n",
    "    foo = 2  # this modifies the global foo, rather than creating a local"
   ]
  },
  {
   "cell_type": "markdown",
   "metadata": {},
   "source": [
    "La  boucle while en français correspond à “tant que”.C’est à dire tant que une condition est valable, la ou les fonctions seront excécuté(e)s. Elle est constituée d’un bloc de code source et d’une condition. À l’exécution, la condition est d’abord évaluée, et si elle est vraie, le bloc de code source est évalué. L'exécution du code est ensuite répétée jusqu’à ce que la condition soit fausse. "
   ]
  },
  {
   "cell_type": "code",
   "execution_count": 1,
   "metadata": {},
   "outputs": [
    {
     "name": "stdout",
     "output_type": "stream",
     "text": [
      "le chiffre 1 est inférieur à 5\n",
      "le chiffre 2 est inférieur à 5\n",
      "le chiffre 3 est inférieur à 5\n",
      "le chiffre 4 est inférieur à 5\n"
     ]
    }
   ],
   "source": [
    "i = 1\n",
    "while i < 5: \n",
    "    print(\"le chiffre\", i ,\"est inférieur à 5\")\n",
    "    i +=1"
   ]
  },
  {
   "cell_type": "code",
   "execution_count": null,
   "metadata": {},
   "outputs": [],
   "source": [
    "La  boucle while en français correspond à “tant que”.C’est à dire tant que une condition est valable, la ou les fonctions seront excécuté(e)s. Elle est constituée d’un bloc de code source et d’une condition. À l’exécution, la condition est d’abord évaluée, et si elle est vraie, le bloc de code source est évalué. L'exécution du code est ensuite répétée jusqu’à ce que la condition soit fausse. \n",
    "\n",
    "i = 1\n",
    "while i < 5: \n",
    "    print(\"le chiffre\", i ,\"est inférieur à 5\")\n",
    "    i +=1"
   ]
  },
  {
   "cell_type": "code",
   "execution_count": 2,
   "metadata": {},
   "outputs": [
    {
     "name": "stdout",
     "output_type": "stream",
     "text": [
      "-6\n",
      "-6 je suis un nombre négatif\n"
     ]
    }
   ],
   "source": [
    "\n",
    "x=int(input())\n",
    "\n",
    "\n",
    "if x > 0 :\n",
    "    print(x, \"je suis positif\")\n",
    "elif x == 0 : \n",
    "    print(x, \"je suis le O\")\n",
    "else :\n",
    "    print(x, \"je suis un nombre négatif\")"
   ]
  },
  {
   "cell_type": "code",
   "execution_count": 3,
   "metadata": {},
   "outputs": [
    {
     "name": "stdout",
     "output_type": "stream",
     "text": [
      "-4\n",
      "-4 : je suis un nombre négatif\n"
     ]
    }
   ],
   "source": [
    "x=int(input())\n",
    "y=0\n",
    "\n",
    "if (x > 0) & (x > y) :\n",
    "    print(x,y, \"je suis positif\")\n",
    "elif x == 0 : \n",
    "    print(x,y, \"nous deux les deux nuls\")\n",
    "else :\n",
    "    print(x,\": je suis un nombre négatif\")\n"
   ]
  },
  {
   "cell_type": "code",
   "execution_count": 20,
   "metadata": {},
   "outputs": [
    {
     "name": "stdout",
     "output_type": "stream",
     "text": [
      "12  le resultat est positif\n"
     ]
    }
   ],
   "source": [
    "A = 6\n",
    "B = 2\n",
    "if ((A > 0) and (B > 0)) or ((A < 0) and (B <0)):\n",
    "    print(A * B, \" le resultat est positif\")\n",
    "else :\n",
    "    print (A * B,\" le résultat négatif\")\n",
    "\n"
   ]
  },
  {
   "cell_type": "code",
   "execution_count": null,
   "metadata": {},
   "outputs": [],
   "source": []
  },
  {
   "cell_type": "markdown",
   "metadata": {},
   "source": []
  },
  {
   "cell_type": "code",
   "execution_count": null,
   "metadata": {},
   "outputs": [],
   "source": [
    "#"
   ]
  },
  {
   "cell_type": "code",
   "execution_count": null,
   "metadata": {},
   "outputs": [],
   "source": []
  }
 ],
 "metadata": {
  "kernelspec": {
   "display_name": "Python 3",
   "language": "python",
   "name": "python3"
  },
  "language_info": {
   "codemirror_mode": {
    "name": "ipython",
    "version": 3
   },
   "file_extension": ".py",
   "mimetype": "text/x-python",
   "name": "python",
   "nbconvert_exporter": "python",
   "pygments_lexer": "ipython3",
   "version": "3.8.3"
  }
 },
 "nbformat": 4,
 "nbformat_minor": 4
}
