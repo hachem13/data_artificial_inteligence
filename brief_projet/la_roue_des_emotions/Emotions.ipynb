{
 "cells": [
  {
   "cell_type": "markdown",
   "metadata": {
    "id": "JpPM1n-5E1qu"
   },
   "source": [
    "###  Load Data"
   ]
  },
  {
   "cell_type": "code",
   "execution_count": 4,
   "metadata": {
    "id": "uxnaxg--E1tK"
   },
   "outputs": [],
   "source": [
    "# import libreries\n",
    "\n",
    "import pandas as pd\n",
    "import numpy as np\n",
    "import nltk\n",
    "from nltk import ngrams\n",
    "from nltk.stem import WordNetLemmatizer\n",
    "from sklearn import svm\n",
    "from nltk.corpus import stopwords\n",
    "from sklearn.feature_extraction.text import CountVectorizer\n",
    "from sklearn.model_selection import train_test_split\n",
    "from sklearn.linear_model import LogisticRegression\n",
    "from sklearn.metrics import classification_report\n",
    "import matplotlib.pyplot as plt\n",
    "from sklearn.multiclass import OneVsOneClassifier\n",
    "from sklearn.svm import LinearSVC\n",
    "from  sklearn.metrics import precision_score, recall_score, confusion_matrix, f1_score\n",
    "import seaborn as sns"
   ]
  },
  {
   "cell_type": "code",
   "execution_count": 2,
   "metadata": {
    "colab": {
     "base_uri": "https://localhost:8080/"
    },
    "id": "2CY2TSMQE1tg",
    "outputId": "b3b1e4ba-3488-405f-957d-6d37d44e8407"
   },
   "outputs": [
    {
     "name": "stdout",
     "output_type": "stream",
     "text": [
      "<class 'pandas.core.frame.DataFrame'>\n",
      "RangeIndex: 21459 entries, 0 to 21458\n",
      "Data columns (total 2 columns):\n",
      " #   Column   Non-Null Count  Dtype \n",
      "---  ------   --------------  ----- \n",
      " 0   Text     21459 non-null  object\n",
      " 1   Emotion  21459 non-null  object\n",
      "dtypes: object(2)\n",
      "memory usage: 335.4+ KB\n"
     ]
    }
   ],
   "source": [
    "df =  pd.read_csv(\"./data/Emotion_final.csv\")\n",
    "df.info()"
   ]
  },
  {
   "cell_type": "code",
   "execution_count": 35,
   "metadata": {
    "colab": {
     "base_uri": "https://localhost:8080/",
     "height": 359
    },
    "id": "B-rO7M4EE1tw",
    "outputId": "0ce89d81-d722-43fa-e2b5-9b3078a4ca1d"
   },
   "outputs": [
    {
     "data": {
      "text/html": [
       "<div>\n",
       "<style scoped>\n",
       "    .dataframe tbody tr th:only-of-type {\n",
       "        vertical-align: middle;\n",
       "    }\n",
       "\n",
       "    .dataframe tbody tr th {\n",
       "        vertical-align: top;\n",
       "    }\n",
       "\n",
       "    .dataframe thead th {\n",
       "        text-align: right;\n",
       "    }\n",
       "</style>\n",
       "<table border=\"1\" class=\"dataframe\">\n",
       "  <thead>\n",
       "    <tr style=\"text-align: right;\">\n",
       "      <th></th>\n",
       "      <th>Text</th>\n",
       "      <th>Emotion</th>\n",
       "    </tr>\n",
       "  </thead>\n",
       "  <tbody>\n",
       "    <tr>\n",
       "      <th>0</th>\n",
       "      <td>i didnt feel humiliated</td>\n",
       "      <td>sadness</td>\n",
       "    </tr>\n",
       "    <tr>\n",
       "      <th>1</th>\n",
       "      <td>i can go from feeling so hopeless to so damned...</td>\n",
       "      <td>sadness</td>\n",
       "    </tr>\n",
       "    <tr>\n",
       "      <th>2</th>\n",
       "      <td>im grabbing a minute to post i feel greedy wrong</td>\n",
       "      <td>anger</td>\n",
       "    </tr>\n",
       "    <tr>\n",
       "      <th>3</th>\n",
       "      <td>i am ever feeling nostalgic about the fireplac...</td>\n",
       "      <td>love</td>\n",
       "    </tr>\n",
       "    <tr>\n",
       "      <th>4</th>\n",
       "      <td>i am feeling grouchy</td>\n",
       "      <td>anger</td>\n",
       "    </tr>\n",
       "    <tr>\n",
       "      <th>5</th>\n",
       "      <td>ive been feeling a little burdened lately wasn...</td>\n",
       "      <td>sadness</td>\n",
       "    </tr>\n",
       "    <tr>\n",
       "      <th>6</th>\n",
       "      <td>ive been taking or milligrams or times recomme...</td>\n",
       "      <td>surprise</td>\n",
       "    </tr>\n",
       "    <tr>\n",
       "      <th>7</th>\n",
       "      <td>i feel as confused about life as a teenager or...</td>\n",
       "      <td>fear</td>\n",
       "    </tr>\n",
       "    <tr>\n",
       "      <th>8</th>\n",
       "      <td>i have been with petronas for years i feel tha...</td>\n",
       "      <td>happy</td>\n",
       "    </tr>\n",
       "    <tr>\n",
       "      <th>9</th>\n",
       "      <td>i feel romantic too</td>\n",
       "      <td>love</td>\n",
       "    </tr>\n",
       "  </tbody>\n",
       "</table>\n",
       "</div>"
      ],
      "text/plain": [
       "                                                Text   Emotion\n",
       "0                            i didnt feel humiliated   sadness\n",
       "1  i can go from feeling so hopeless to so damned...   sadness\n",
       "2   im grabbing a minute to post i feel greedy wrong     anger\n",
       "3  i am ever feeling nostalgic about the fireplac...      love\n",
       "4                               i am feeling grouchy     anger\n",
       "5  ive been feeling a little burdened lately wasn...   sadness\n",
       "6  ive been taking or milligrams or times recomme...  surprise\n",
       "7  i feel as confused about life as a teenager or...      fear\n",
       "8  i have been with petronas for years i feel tha...     happy\n",
       "9                                i feel romantic too      love"
      ]
     },
     "execution_count": 35,
     "metadata": {},
     "output_type": "execute_result"
    }
   ],
   "source": [
    "df.head(10)"
   ]
  },
  {
   "cell_type": "code",
   "execution_count": 36,
   "metadata": {
    "colab": {
     "base_uri": "https://localhost:8080/"
    },
    "id": "vvP93tRtE1uC",
    "outputId": "054b2733-2743-4da8-9b58-a2202086320b",
    "scrolled": true
   },
   "outputs": [
    {
     "data": {
      "text/plain": [
       "(21459, 2)"
      ]
     },
     "execution_count": 36,
     "metadata": {},
     "output_type": "execute_result"
    }
   ],
   "source": [
    "df.shape"
   ]
  },
  {
   "cell_type": "code",
   "execution_count": 37,
   "metadata": {
    "id": "xUSdkVwbqug4"
   },
   "outputs": [],
   "source": [
    "corpus = df.Text\n",
    "targets = df.Emotion"
   ]
  },
  {
   "cell_type": "code",
   "execution_count": 39,
   "metadata": {
    "id": "SOqF4AuIE1um"
   },
   "outputs": [],
   "source": [
    "stop_words = nltk.corpus.stopwords.words(\"english\")\n",
    "def tokenize(text):\n",
    "    text = ''.join([ch for ch in text if ch not in df.Text])\n",
    "    tokens = nltk.word_tokenize(text)\n",
    "    lemmatizer = WordNetLemmatizer()\n",
    "    return [lemmatizer.lemmatize(token) for token in tokens]"
   ]
  },
  {
   "cell_type": "code",
   "execution_count": 40,
   "metadata": {
    "id": "Vz6M2-4ME1up"
   },
   "outputs": [],
   "source": [
    "vectorizer = CountVectorizer(stop_words = stop_words,tokenizer=tokenize, ngram_range = (1, 2))"
   ]
  },
  {
   "cell_type": "code",
   "execution_count": 41,
   "metadata": {
    "id": "758llcMOE1ux"
   },
   "outputs": [
    {
     "name": "stderr",
     "output_type": "stream",
     "text": [
      "/home/hachem/anaconda3/envs/machinelearning/lib/python3.8/site-packages/sklearn/feature_extraction/text.py:383: UserWarning: Your stop_words may be inconsistent with your preprocessing. Tokenizing the stop words generated tokens [\"'d\", \"'ll\", \"'re\", \"'s\", \"'ve\", 'could', 'doe', 'ha', 'might', 'must', \"n't\", 'need', 'sha', 'wa', 'wo', 'would'] not in stop_words.\n",
      "  warnings.warn('Your stop_words may be inconsistent with '\n"
     ]
    }
   ],
   "source": [
    "X = vectorizer.fit_transform(corpus)"
   ]
  },
  {
   "cell_type": "code",
   "execution_count": 19,
   "metadata": {
    "colab": {
     "base_uri": "https://localhost:8080/"
    },
    "id": "BLXb-bw5E1u0",
    "outputId": "eef9dd4e-62d5-440f-ee9b-6a6349c99848"
   },
   "outputs": [
    {
     "name": "stdout",
     "output_type": "stream",
     "text": [
      "(21459, 143013)\n",
      "21459\n",
      "143013\n"
     ]
    }
   ],
   "source": [
    "print(X.shape)\n",
    "print(len(corpus))\n",
    "print(len(vectorizer.get_feature_names()))"
   ]
  },
  {
   "cell_type": "markdown",
   "metadata": {
    "id": "Wj7TgYAyE1vD"
   },
   "source": [
    "### Plot for word frequency"
   ]
  },
  {
   "cell_type": "code",
   "execution_count": 20,
   "metadata": {
    "colab": {
     "base_uri": "https://localhost:8080/",
     "height": 414
    },
    "id": "i1jEjMMiE1vE",
    "outputId": "1efa31df-c9e6-4e19-cbd8-2251428c6dff",
    "scrolled": true
   },
   "outputs": [
    {
     "data": {
      "image/png": "[encoded data removed]",
      "text/plain": [
       "<Figure size 1440x576 with 1 Axes>"
      ]
     },
     "metadata": {
      "needs_background": "light",
      "tags": []
     },
     "output_type": "display_data"
    }
   ],
   "source": [
    "# Compute rank\n",
    "words = vectorizer.get_feature_names()\n",
    "wsum = np.array(X.sum(0))[0]\n",
    "ix = wsum.argsort()[::-1]\n",
    "wrank = wsum[ix] \n",
    "labels = [words[i] for i in ix]\n",
    "\n",
    "# Sub-sample the data to plot.\n",
    "# take the 20 first + the rest sample with the given step \n",
    "def subsample(x):\n",
    "    return np.hstack((x[:30]))\n",
    "\n",
    "\n",
    "plt.figure(figsize=(20,8))\n",
    "freq = subsample(wrank)\n",
    "r = np.arange(len(freq))\n",
    "plt.bar(r, freq, width=0.7)\n",
    "plt.xticks(r, subsample(labels), rotation=55)\n",
    "plt.xlabel('word rank')\n",
    "plt.ylabel('word frequncy')\n",
    "plt.title(\"Words ordered by rank. The first rank is the most frequent words and the last one is the less present\");"
   ]
  },
  {
   "cell_type": "markdown",
   "metadata": {
    "id": "0gVRpKiEE1vN"
   },
   "source": [
    "### Split set"
   ]
  },
  {
   "cell_type": "code",
   "execution_count": 22,
   "metadata": {
    "colab": {
     "base_uri": "https://localhost:8080/"
    },
    "id": "7GvNA3jlE1vQ",
    "outputId": "1de5c188-d420-4103-f13b-233988a9e051",
    "scrolled": true
   },
   "outputs": [
    {
     "name": "stdout",
     "output_type": "stream",
     "text": [
      "x_train : 304893\n",
      "x_test : 76635\n",
      "ratio : 20\n"
     ]
    }
   ],
   "source": [
    "x_train, x_test, y_train, y_test = train_test_split(X, targets, test_size=0.2, random_state=0)\n",
    "\n",
    "print(\"x_train :\", np.size(x_train))\n",
    "print(\"x_test :\", np.size(x_test))\n",
    "print(\"ratio :\", round(np.size(x_test)/(np.size(x_train)+np.size(x_test))*100))"
   ]
  },
  {
   "cell_type": "markdown",
   "metadata": {
    "id": "xTyjuoFlE1vS"
   },
   "source": [
    "### Logistic regression"
   ]
  },
  {
   "cell_type": "code",
   "execution_count": 30,
   "metadata": {
    "colab": {
     "base_uri": "https://localhost:8080/"
    },
    "id": "h7ctnUpZE1vm",
    "outputId": "bd749ac5-1fef-4514-d819-af117244f421"
   },
   "outputs": [
    {
     "name": "stdout",
     "output_type": "stream",
     "text": [
      "0.901\n"
     ]
    }
   ],
   "source": [
    "logistic_regression = LogisticRegression(max_iter =1000)\n",
    "logistic_regression.fit(x_train, y_train)\n",
    "\n",
    "# Prediction\n",
    "pred = logistic_regression.predict(x_test)\n",
    "\n",
    "# percent score\n",
    "score = logistic_regression.score(x_test, y_test)\n",
    "print(round(score, 3))"
   ]
  },
  {
   "cell_type": "code",
   "execution_count": 31,
   "metadata": {
    "colab": {
     "base_uri": "https://localhost:8080/"
    },
    "id": "US1-DCt9E1vu",
    "outputId": "6891057c-5803-43f6-f256-0b95e0199f50",
    "scrolled": true
   },
   "outputs": [
    {
     "name": "stdout",
     "output_type": "stream",
     "text": [
      "              precision    recall  f1-score   support\n",
      "\n",
      "       anger       0.90      0.89      0.90       600\n",
      "        fear       0.89      0.84      0.87       526\n",
      "       happy       0.90      0.94      0.92      1399\n",
      "        love       0.85      0.78      0.81       325\n",
      "     sadness       0.92      0.95      0.93      1258\n",
      "    surprise       0.83      0.67      0.74       184\n",
      "\n",
      "    accuracy                           0.90      4292\n",
      "   macro avg       0.88      0.85      0.86      4292\n",
      "weighted avg       0.90      0.90      0.90      4292\n",
      "\n"
     ]
    }
   ],
   "source": [
    "print(classification_report(y_test, pred))"
   ]
  },
  {
   "cell_type": "code",
   "execution_count": 32,
   "metadata": {
    "colab": {
     "base_uri": "https://localhost:8080/"
    },
    "id": "J9qL2zr6E1vy",
    "outputId": "7791a9b9-a684-4c06-ac4a-ac0bccde7625"
   },
   "outputs": [
    {
     "name": "stdout",
     "output_type": "stream",
     "text": [
      "['anger']\n",
      "['happy']\n"
     ]
    }
   ],
   "source": [
    "#test\n",
    "print(logistic_regression.predict(X[2]))\n",
    "print(logistic_regression.predict(X[30]))"
   ]
  },
  {
   "cell_type": "markdown",
   "metadata": {
    "id": "B3N95_ZjE1v_"
   },
   "source": [
    "### SVM"
   ]
  },
  {
   "cell_type": "code",
   "execution_count": 23,
   "metadata": {
    "colab": {
     "base_uri": "https://localhost:8080/"
    },
    "id": "wK3YDQm7E1wB",
    "outputId": "bfd94791-1240-4d72-94ee-fc2362207968"
   },
   "outputs": [
    {
     "data": {
      "text/plain": [
       "SVC(C=1.0, break_ties=False, cache_size=200, class_weight=None, coef0=0.0,\n",
       "    decision_function_shape='ovr', degree=3, gamma='scale', kernel='rbf',\n",
       "    max_iter=-1, probability=False, random_state=None, shrinking=True,\n",
       "    tol=0.001, verbose=False)"
      ]
     },
     "execution_count": 23,
     "metadata": {
      "tags": []
     },
     "output_type": "execute_result"
    }
   ],
   "source": [
    "clf = svm.SVC()\n",
    "clf.fit(x_train, y_train)"
   ]
  },
  {
   "cell_type": "code",
   "execution_count": 24,
   "metadata": {
    "id": "RH6ghlV9E1wD"
   },
   "outputs": [],
   "source": [
    "pred = clf.predict(x_test)"
   ]
  },
  {
   "cell_type": "code",
   "execution_count": 25,
   "metadata": {
    "colab": {
     "base_uri": "https://localhost:8080/"
    },
    "id": "eG9VAwLqE1wE",
    "outputId": "ec06e759-5d98-48ff-d21d-36f12f48bd7e"
   },
   "outputs": [
    {
     "name": "stdout",
     "output_type": "stream",
     "text": [
      "0.792\n"
     ]
    }
   ],
   "source": [
    "score = clf.score(x_test, y_test)\n",
    "print(round(score, 3))"
   ]
  },
  {
   "cell_type": "code",
   "execution_count": 26,
   "metadata": {
    "colab": {
     "base_uri": "https://localhost:8080/"
    },
    "id": "yhxprr-VE1wG",
    "outputId": "16f89c78-9aa8-4585-cc9a-b819a41c08fe"
   },
   "outputs": [
    {
     "name": "stdout",
     "output_type": "stream",
     "text": [
      "              precision    recall  f1-score   support\n",
      "\n",
      "       anger       0.92      0.63      0.75       600\n",
      "        fear       0.86      0.61      0.72       526\n",
      "       happy       0.72      0.96      0.82      1399\n",
      "        love       0.91      0.41      0.56       325\n",
      "     sadness       0.81      0.92      0.86      1258\n",
      "    surprise       0.95      0.32      0.48       184\n",
      "\n",
      "    accuracy                           0.79      4292\n",
      "   macro avg       0.86      0.64      0.70      4292\n",
      "weighted avg       0.82      0.79      0.78      4292\n",
      "\n"
     ]
    }
   ],
   "source": [
    "print(classification_report(y_test, pred))"
   ]
  },
  {
   "cell_type": "markdown",
   "metadata": {
    "id": "Ov2tBQnmE1wf"
   },
   "source": [
    "### SVM One Vs One Classifier Linear SVC"
   ]
  },
  {
   "cell_type": "code",
   "execution_count": 44,
   "metadata": {
    "colab": {
     "base_uri": "https://localhost:8080/"
    },
    "id": "26iazLifE1wh",
    "outputId": "d29ddbbc-2597-4832-cc7e-f15beb6dec6f"
   },
   "outputs": [
    {
     "name": "stdout",
     "output_type": "stream",
     "text": [
      "Socre :  0.895\n"
     ]
    }
   ],
   "source": [
    "oneVsOne = OneVsOneClassifier(LinearSVC())\n",
    "oneVsOne.fit(x_train, y_train)\n",
    "pred = oneVsOne.predict(x_test)\n",
    "\n",
    "score = oneVsOne.score(x_test, y_test)\n",
    "print('Socre : ',round(score, 3))"
   ]
  },
  {
   "cell_type": "code",
   "execution_count": 28,
   "metadata": {
    "colab": {
     "base_uri": "https://localhost:8080/"
    },
    "id": "7zohBM02E1wj",
    "outputId": "c75dd0cd-a5ad-42c5-f9f7-3b9222163531"
   },
   "outputs": [
    {
     "name": "stdout",
     "output_type": "stream",
     "text": [
      "              precision    recall  f1-score   support\n",
      "\n",
      "       anger       0.92      0.63      0.75       600\n",
      "        fear       0.86      0.61      0.72       526\n",
      "       happy       0.72      0.96      0.82      1399\n",
      "        love       0.91      0.41      0.56       325\n",
      "     sadness       0.81      0.92      0.86      1258\n",
      "    surprise       0.95      0.32      0.48       184\n",
      "\n",
      "    accuracy                           0.79      4292\n",
      "   macro avg       0.86      0.64      0.70      4292\n",
      "weighted avg       0.82      0.79      0.78      4292\n",
      "\n"
     ]
    }
   ],
   "source": [
    "print(classification_report(y_test, pred))"
   ]
  },
  {
   "cell_type": "code",
   "execution_count": 34,
   "metadata": {
    "colab": {
     "base_uri": "https://localhost:8080/"
    },
    "id": "Y5MGNwBHE1w3",
    "outputId": "1df5a0a7-d264-4a1f-8472-77e6f9d50a15"
   },
   "outputs": [
    {
     "name": "stdout",
     "output_type": "stream",
     "text": [
      "['anger']\n",
      "['happy']\n"
     ]
    }
   ],
   "source": [
    "#test\n",
    "print(oneVsOne.predict(X[2]))\n",
    "print(oneVsOne.predict(X[30]))"
   ]
  },
  {
   "cell_type": "markdown",
   "metadata": {
    "id": "Zh3b92d2GiBC"
   },
   "source": [
    "### Confusion matrix"
   ]
  },
  {
   "cell_type": "code",
   "execution_count": 46,
   "metadata": {
    "colab": {
     "base_uri": "https://localhost:8080/",
     "height": 279
    },
    "id": "O7-4Kusnujjh",
    "outputId": "763af452-cbff-4e89-a1e5-51ffef4acbb6"
   },
   "outputs": [
    {
     "data": {
      "image/png": "[encoded data removed]",
      "text/plain": [
       "<Figure size 432x288 with 2 Axes>"
      ]
     },
     "metadata": {
      "needs_background": "light",
      "tags": []
     },
     "output_type": "display_data"
    }
   ],
   "source": [
    "sns.heatmap(confusion_matrix(y_test, pred), annot=True)\n",
    "plt.ylabel('True Classes')\n",
    "plt.xlabel('Predict Classes')\n",
    "plt.show()"
   ]
  },
  {
   "cell_type": "markdown",
   "metadata": {
    "id": "6mugM0wdE1xD"
   },
   "source": [
    "### Compare other multiclasses regression with pipline"
   ]
  },
  {
   "cell_type": "code",
   "execution_count": 3,
   "metadata": {
    "id": "7HRvsQlIE1xF"
   },
   "outputs": [],
   "source": [
    "\n",
    "from time import time\n",
    "from collections import defaultdict\n",
    "\n",
    "import numpy as np\n",
    "import pandas as pd\n",
    "import matplotlib.pyplot as plt\n",
    "%matplotlib inline\n",
    "\n",
    "from sklearn.feature_extraction.text import CountVectorizer, TfidfVectorizer, TfidfTransformer\n",
    "from sklearn.metrics import f1_score\n",
    "from sklearn.model_selection import ShuffleSplit\n",
    "from sklearn.pipeline import Pipeline, FeatureUnion\n",
    "from sklearn.linear_model import SGDClassifier, LogisticRegression, LogisticRegressionCV\n",
    "from sklearn.svm import SVC, LinearSVC\n",
    "from sklearn.naive_bayes import MultinomialNB, CategoricalNB, ComplementNB, BernoulliNB\n",
    "from sklearn.decomposition import FastICA, KernelPCA, TruncatedSVD, SparsePCA, NMF, FactorAnalysis, LatentDirichletAllocation\n",
    "\n",
    "import nltk\n"
   ]
  },
  {
   "cell_type": "code",
   "execution_count": 50,
   "metadata": {
    "id": "5p902i8FE1xP"
   },
   "outputs": [],
   "source": [
    "# GLOBAL VARIBLES\n",
    "df =  pd.read_csv(\"./data/Emotion_final.csv\")\n",
    "stopwords = nltk.corpus.stopwords.words(\"english\")\n",
    "corpus = np.array(df['Text'])\n",
    "targets = np.array(df['Emotion'])"
   ]
  },
  {
   "cell_type": "code",
   "execution_count": 5,
   "metadata": {
    "id": "iB6Oi4v3E1xR"
   },
   "outputs": [],
   "source": [
    "def tokenize(text):\n",
    "    text = ''.join([ch for ch in text if ch not in df.Text])\n",
    "    tokens = nltk.word_tokenize(text)\n",
    "    lemmatizer = WordNetLemmatizer()\n",
    "    return [lemmatizer.lemmatize(token) for token in tokens]"
   ]
  },
  {
   "cell_type": "code",
   "execution_count": 62,
   "metadata": {
    "id": "vYL1B6C_E1xT"
   },
   "outputs": [],
   "source": [
    "pipe0 = Pipeline([\n",
    "    ('vect', CountVectorizer(stop_words = stop_words,tokenizer=tokenize, ngram_range = (1, 2))),\n",
    "    ('sgd', SGDClassifier()),\n",
    "])\n",
    "pipe1 = Pipeline([\n",
    "    ('vect', CountVectorizer(stop_words = stop_words,tokenizer=tokenize, ngram_range = (1, 2))),\n",
    "    ('svml', LinearSVC()),\n",
    "])\n",
    "pipe2 = Pipeline([\n",
    "    ('vect', CountVectorizer(stop_words = stop_words,tokenizer=tokenize, ngram_range = (1, 2))),\n",
    "    ('mult_nb', MultinomialNB()),\n",
    "])\n",
    "pipe3 = Pipeline([\n",
    "    ('vect', CountVectorizer(stop_words = stop_words,tokenizer=tokenize, ngram_range = (1, 2))),\n",
    "    ('bern_nb', BernoulliNB()),\n",
    "])\n",
    "pipe4 = Pipeline([\n",
    "    ('vect', CountVectorizer(stop_words = stop_words,tokenizer=tokenize, ngram_range = (1, 2))),\n",
    "    ('logit', LogisticRegression(max_iter = 1000)),\n",
    "])\n",
    "pipe5 = Pipeline([\n",
    "    ('vect', CountVectorizer(stop_words = stop_words,tokenizer=tokenize, ngram_range = (1, 2))),\n",
    "    ('sgd', SGDClassifier()),\n",
    "])\n",
    "pipe6 = Pipeline([\n",
    "    ('vect', CountVectorizer(stop_words = stop_words,tokenizer=tokenize, ngram_range = (1, 2))),\n",
    "    ('tfidf', TfidfTransformer()),\n",
    "    ('svml', LinearSVC()),\n",
    "])\n",
    "pipe7 = Pipeline([\n",
    "    ('vect', CountVectorizer(stop_words = stop_words,tokenizer=tokenize, ngram_range = (1, 2))),\n",
    "    ('tfidf', TfidfTransformer()),\n",
    "    ('bern_nb', BernoulliNB()),\n",
    "])\n",
    "pipe8 = Pipeline([\n",
    "    ('vect', CountVectorizer(stop_words = stop_words,tokenizer=tokenize, ngram_range = (1, 2))),\n",
    "    ('tfidf', TfidfTransformer()),\n",
    "    ('mult_nb', MultinomialNB()),\n",
    "])\n",
    "pipe9 = Pipeline([\n",
    "    ('vect', CountVectorizer(stop_words = stop_words,tokenizer=tokenize, ngram_range = (1, 2))),\n",
    "    ('tfidf', TfidfTransformer()),\n",
    "    ('logit', LogisticRegression(max_iter = 1000)),\n",
    "])\n",
    "def run_pipes(pipes, splits=10, test_size=0.2, seed=0):  \n",
    "    res = defaultdict(list)\n",
    "    spliter = ShuffleSplit(n_splits=splits, test_size=test_size, random_state=seed)\n",
    "    for idx_train, idx_test in spliter.split(corpus):\n",
    "        for pipe in pipes:\n",
    "            # name of the model\n",
    "            name = \"-\".join([x[0] for x in pipe.steps])\n",
    "            \n",
    "            # extract datasets\n",
    "            X_train = corpus[idx_train]\n",
    "            X_test = corpus[idx_test]\n",
    "            y_train = targets[idx_train]\n",
    "            y_test = targets[idx_test]\n",
    "            \n",
    "            # Learn\n",
    "            start = time()\n",
    "            pipe.fit(X_train, y_train)\n",
    "            fit_time = time() - start\n",
    "            \n",
    "            # predict and save results\n",
    "            y = pipe.predict(X_test)\n",
    "            res[name].append([\n",
    "                fit_time,\n",
    "                f1_score(y_test, y, average = 'micro'),\n",
    "                precision_score(y_test, y,average='micro'),\n",
    "                recall_score(y_test, y, average='micro')\n",
    "                \n",
    "            ])\n",
    "    return res\n",
    "\n",
    "def print_table(res):\n",
    "    # Compute mean and std\n",
    "    final = {}\n",
    "    for model in res:\n",
    "        arr = np.array(res[model])\n",
    "        final[model] = {\n",
    "            \"time\" : arr[:, 0].mean().round(2),\n",
    "            \"f1_score\": arr[:,1].mean().round(3),\n",
    "            \"Precision\" : arr[:,2].mean().round(3),\n",
    "            \"Recall\" : arr[:,3].mean().round(3)\n",
    "        }\n",
    "\n",
    "    df = pd.DataFrame.from_dict(final, orient=\"index\").round(3)\n",
    "    return df"
   ]
  },
  {
   "cell_type": "code",
   "execution_count": 65,
   "metadata": {
    "id": "t6YWe_z8E1yz"
   },
   "outputs": [],
   "source": [
    "# run base pipes withtout tfid\n",
    "res = run_pipes([pipe0, pipe1, pipe2, pipe3, pipe4, pipe5], splits=1)"
   ]
  },
  {
   "cell_type": "code",
   "execution_count": 66,
   "metadata": {
    "colab": {
     "base_uri": "https://localhost:8080/",
     "height": 204
    },
    "id": "oAK52ufAE1z6",
    "outputId": "de9c0e39-948c-4637-ce19-d75754097fe0"
   },
   "outputs": [
    {
     "data": {
      "text/html": [
       "<div>\n",
       "<style scoped>\n",
       "    .dataframe tbody tr th:only-of-type {\n",
       "        vertical-align: middle;\n",
       "    }\n",
       "\n",
       "    .dataframe tbody tr th {\n",
       "        vertical-align: top;\n",
       "    }\n",
       "\n",
       "    .dataframe thead th {\n",
       "        text-align: right;\n",
       "    }\n",
       "</style>\n",
       "<table border=\"1\" class=\"dataframe\">\n",
       "  <thead>\n",
       "    <tr style=\"text-align: right;\">\n",
       "      <th></th>\n",
       "      <th>time</th>\n",
       "      <th>f1_score</th>\n",
       "      <th>Precision</th>\n",
       "      <th>Recall</th>\n",
       "    </tr>\n",
       "  </thead>\n",
       "  <tbody>\n",
       "    <tr>\n",
       "      <th>vect-sgd</th>\n",
       "      <td>20.04</td>\n",
       "      <td>0.904</td>\n",
       "      <td>0.904</td>\n",
       "      <td>0.904</td>\n",
       "    </tr>\n",
       "    <tr>\n",
       "      <th>vect-svml</th>\n",
       "      <td>24.89</td>\n",
       "      <td>0.906</td>\n",
       "      <td>0.906</td>\n",
       "      <td>0.906</td>\n",
       "    </tr>\n",
       "    <tr>\n",
       "      <th>vect-mult_nb</th>\n",
       "      <td>19.50</td>\n",
       "      <td>0.739</td>\n",
       "      <td>0.739</td>\n",
       "      <td>0.739</td>\n",
       "    </tr>\n",
       "    <tr>\n",
       "      <th>vect-bern_nb</th>\n",
       "      <td>19.55</td>\n",
       "      <td>0.582</td>\n",
       "      <td>0.582</td>\n",
       "      <td>0.582</td>\n",
       "    </tr>\n",
       "    <tr>\n",
       "      <th>vect-logit</th>\n",
       "      <td>43.07</td>\n",
       "      <td>0.901</td>\n",
       "      <td>0.901</td>\n",
       "      <td>0.901</td>\n",
       "    </tr>\n",
       "  </tbody>\n",
       "</table>\n",
       "</div>"
      ],
      "text/plain": [
       "               time  f1_score  Precision  Recall\n",
       "vect-sgd      20.04     0.904      0.904   0.904\n",
       "vect-svml     24.89     0.906      0.906   0.906\n",
       "vect-mult_nb  19.50     0.739      0.739   0.739\n",
       "vect-bern_nb  19.55     0.582      0.582   0.582\n",
       "vect-logit    43.07     0.901      0.901   0.901"
      ]
     },
     "execution_count": 66,
     "metadata": {
      "tags": []
     },
     "output_type": "execute_result"
    }
   ],
   "source": [
    "print_table(res)"
   ]
  },
  {
   "cell_type": "code",
   "execution_count": 67,
   "metadata": {
    "colab": {
     "base_uri": "https://localhost:8080/"
    },
    "id": "PFO6JvkgE10C",
    "outputId": "746ae412-c1b8-4fa5-fc0d-dbdd49b9db20"
   },
   "outputs": [
    {
     "name": "stderr",
     "output_type": "stream",
     "text": [
      "/usr/local/lib/python3.6/dist-packages/sklearn/feature_extraction/text.py:385: UserWarning: Your stop_words may be inconsistent with your preprocessing. Tokenizing the stop words generated tokens [\"'d\", \"'ll\", \"'re\", \"'s\", \"'ve\", 'could', 'doe', 'ha', 'might', 'must', \"n't\", 'need', 'sha', 'wa', 'wo', 'would'] not in stop_words.\n",
      "  'stop_words.' % sorted(inconsistent))\n",
      "/usr/local/lib/python3.6/dist-packages/sklearn/feature_extraction/text.py:385: UserWarning: Your stop_words may be inconsistent with your preprocessing. Tokenizing the stop words generated tokens [\"'d\", \"'ll\", \"'re\", \"'s\", \"'ve\", 'could', 'doe', 'ha', 'might', 'must', \"n't\", 'need', 'sha', 'wa', 'wo', 'would'] not in stop_words.\n",
      "  'stop_words.' % sorted(inconsistent))\n",
      "/usr/local/lib/python3.6/dist-packages/sklearn/feature_extraction/text.py:385: UserWarning: Your stop_words may be inconsistent with your preprocessing. Tokenizing the stop words generated tokens [\"'d\", \"'ll\", \"'re\", \"'s\", \"'ve\", 'could', 'doe', 'ha', 'might', 'must', \"n't\", 'need', 'sha', 'wa', 'wo', 'would'] not in stop_words.\n",
      "  'stop_words.' % sorted(inconsistent))\n",
      "/usr/local/lib/python3.6/dist-packages/sklearn/feature_extraction/text.py:385: UserWarning: Your stop_words may be inconsistent with your preprocessing. Tokenizing the stop words generated tokens [\"'d\", \"'ll\", \"'re\", \"'s\", \"'ve\", 'could', 'doe', 'ha', 'might', 'must', \"n't\", 'need', 'sha', 'wa', 'wo', 'would'] not in stop_words.\n",
      "  'stop_words.' % sorted(inconsistent))\n"
     ]
    }
   ],
   "source": [
    "# run bas pipes with tfid\n",
    "res1 = run_pipes([pipe6, pipe7, pipe8, pipe9], splits=1)"
   ]
  },
  {
   "cell_type": "code",
   "execution_count": 68,
   "metadata": {
    "colab": {
     "base_uri": "https://localhost:8080/",
     "height": 173
    },
    "id": "oqhHDWC_E10H",
    "outputId": "fce764a2-4a06-4719-b36f-46d536aeb9c4"
   },
   "outputs": [
    {
     "data": {
      "text/html": [
       "<div>\n",
       "<style scoped>\n",
       "    .dataframe tbody tr th:only-of-type {\n",
       "        vertical-align: middle;\n",
       "    }\n",
       "\n",
       "    .dataframe tbody tr th {\n",
       "        vertical-align: top;\n",
       "    }\n",
       "\n",
       "    .dataframe thead th {\n",
       "        text-align: right;\n",
       "    }\n",
       "</style>\n",
       "<table border=\"1\" class=\"dataframe\">\n",
       "  <thead>\n",
       "    <tr style=\"text-align: right;\">\n",
       "      <th></th>\n",
       "      <th>time</th>\n",
       "      <th>f1_score</th>\n",
       "      <th>Precision</th>\n",
       "      <th>Recall</th>\n",
       "    </tr>\n",
       "  </thead>\n",
       "  <tbody>\n",
       "    <tr>\n",
       "      <th>vect-tfidf-svml</th>\n",
       "      <td>20.61</td>\n",
       "      <td>0.899</td>\n",
       "      <td>0.899</td>\n",
       "      <td>0.899</td>\n",
       "    </tr>\n",
       "    <tr>\n",
       "      <th>vect-tfidf-bern_nb</th>\n",
       "      <td>19.97</td>\n",
       "      <td>0.586</td>\n",
       "      <td>0.586</td>\n",
       "      <td>0.586</td>\n",
       "    </tr>\n",
       "    <tr>\n",
       "      <th>vect-tfidf-mult_nb</th>\n",
       "      <td>19.87</td>\n",
       "      <td>0.649</td>\n",
       "      <td>0.649</td>\n",
       "      <td>0.649</td>\n",
       "    </tr>\n",
       "    <tr>\n",
       "      <th>vect-tfidf-logit</th>\n",
       "      <td>45.39</td>\n",
       "      <td>0.849</td>\n",
       "      <td>0.849</td>\n",
       "      <td>0.849</td>\n",
       "    </tr>\n",
       "  </tbody>\n",
       "</table>\n",
       "</div>"
      ],
      "text/plain": [
       "                     time  f1_score  Precision  Recall\n",
       "vect-tfidf-svml     20.61     0.899      0.899   0.899\n",
       "vect-tfidf-bern_nb  19.97     0.586      0.586   0.586\n",
       "vect-tfidf-mult_nb  19.87     0.649      0.649   0.649\n",
       "vect-tfidf-logit    45.39     0.849      0.849   0.849"
      ]
     },
     "execution_count": 68,
     "metadata": {
      "tags": []
     },
     "output_type": "execute_result"
    }
   ],
   "source": [
    "print_table(res1)"
   ]
  },
  {
   "cell_type": "code",
   "execution_count": null,
   "metadata": {
    "id": "7XoIOsrPtnJ0"
   },
   "outputs": [],
   "source": []
  },
  {
   "cell_type": "markdown",
   "metadata": {
    "id": "BdpUGMrkE10J"
   },
   "source": [
    "###  Load data set "
   ]
  },
  {
   "cell_type": "code",
   "execution_count": 43,
   "metadata": {
    "colab": {
     "base_uri": "https://localhost:8080/",
     "height": 493
    },
    "id": "-z5TGbv1E10K",
    "outputId": "beb226b2-21c0-4781-81d4-97527e96d7ec"
   },
   "outputs": [
    {
     "name": "stdout",
     "output_type": "stream",
     "text": [
      "<class 'pandas.core.frame.DataFrame'>\n",
      "RangeIndex: 40000 entries, 0 to 39999\n",
      "Data columns (total 4 columns):\n",
      " #   Column     Non-Null Count  Dtype \n",
      "---  ------     --------------  ----- \n",
      " 0   tweet_id   40000 non-null  int64 \n",
      " 1   sentiment  40000 non-null  object\n",
      " 2   author     40000 non-null  object\n",
      " 3   content    40000 non-null  object\n",
      "dtypes: int64(1), object(3)\n",
      "memory usage: 1.2+ MB\n"
     ]
    }
   ],
   "source": [
    "df1 =  pd.read_csv(\"./data/text_emotion.csv\")\n",
    "df1.info()"
   ]
  },
  {
   "cell_type": "code",
   "execution_count": 71,
   "metadata": {
    "colab": {
     "base_uri": "https://localhost:8080/",
     "height": 359
    },
    "id": "fHubQ4rlE10M",
    "outputId": "b6effbf0-2ba2-4aa3-eb83-6708f7e929b1"
   },
   "outputs": [
    {
     "data": {
      "text/html": [
       "<div>\n",
       "<style scoped>\n",
       "    .dataframe tbody tr th:only-of-type {\n",
       "        vertical-align: middle;\n",
       "    }\n",
       "\n",
       "    .dataframe tbody tr th {\n",
       "        vertical-align: top;\n",
       "    }\n",
       "\n",
       "    .dataframe thead th {\n",
       "        text-align: right;\n",
       "    }\n",
       "</style>\n",
       "<table border=\"1\" class=\"dataframe\">\n",
       "  <thead>\n",
       "    <tr style=\"text-align: right;\">\n",
       "      <th></th>\n",
       "      <th>tweet_id</th>\n",
       "      <th>sentiment</th>\n",
       "      <th>author</th>\n",
       "      <th>content</th>\n",
       "    </tr>\n",
       "  </thead>\n",
       "  <tbody>\n",
       "    <tr>\n",
       "      <th>0</th>\n",
       "      <td>1956967341</td>\n",
       "      <td>empty</td>\n",
       "      <td>xoshayzers</td>\n",
       "      <td>@tiffanylue i know  i was listenin to bad habi...</td>\n",
       "    </tr>\n",
       "    <tr>\n",
       "      <th>1</th>\n",
       "      <td>1956967666</td>\n",
       "      <td>sadness</td>\n",
       "      <td>wannamama</td>\n",
       "      <td>Layin n bed with a headache  ughhhh...waitin o...</td>\n",
       "    </tr>\n",
       "    <tr>\n",
       "      <th>2</th>\n",
       "      <td>1956967696</td>\n",
       "      <td>sadness</td>\n",
       "      <td>coolfunky</td>\n",
       "      <td>Funeral ceremony...gloomy friday...</td>\n",
       "    </tr>\n",
       "    <tr>\n",
       "      <th>3</th>\n",
       "      <td>1956967789</td>\n",
       "      <td>enthusiasm</td>\n",
       "      <td>czareaquino</td>\n",
       "      <td>wants to hang out with friends SOON!</td>\n",
       "    </tr>\n",
       "    <tr>\n",
       "      <th>4</th>\n",
       "      <td>1956968416</td>\n",
       "      <td>neutral</td>\n",
       "      <td>xkilljoyx</td>\n",
       "      <td>@dannycastillo We want to trade with someone w...</td>\n",
       "    </tr>\n",
       "    <tr>\n",
       "      <th>5</th>\n",
       "      <td>1956968477</td>\n",
       "      <td>worry</td>\n",
       "      <td>xxxPEACHESxxx</td>\n",
       "      <td>Re-pinging @ghostridah14: why didn't you go to...</td>\n",
       "    </tr>\n",
       "    <tr>\n",
       "      <th>6</th>\n",
       "      <td>1956968487</td>\n",
       "      <td>sadness</td>\n",
       "      <td>ShansBee</td>\n",
       "      <td>I should be sleep, but im not! thinking about ...</td>\n",
       "    </tr>\n",
       "    <tr>\n",
       "      <th>7</th>\n",
       "      <td>1956968636</td>\n",
       "      <td>worry</td>\n",
       "      <td>mcsleazy</td>\n",
       "      <td>Hmmm. http://www.djhero.com/ is down</td>\n",
       "    </tr>\n",
       "    <tr>\n",
       "      <th>8</th>\n",
       "      <td>1956969035</td>\n",
       "      <td>sadness</td>\n",
       "      <td>nic0lepaula</td>\n",
       "      <td>@charviray Charlene my love. I miss you</td>\n",
       "    </tr>\n",
       "    <tr>\n",
       "      <th>9</th>\n",
       "      <td>1956969172</td>\n",
       "      <td>sadness</td>\n",
       "      <td>Ingenue_Em</td>\n",
       "      <td>@kelcouch I'm sorry  at least it's Friday?</td>\n",
       "    </tr>\n",
       "  </tbody>\n",
       "</table>\n",
       "</div>"
      ],
      "text/plain": [
       "     tweet_id  ...                                            content\n",
       "0  1956967341  ...  @tiffanylue i know  i was listenin to bad habi...\n",
       "1  1956967666  ...  Layin n bed with a headache  ughhhh...waitin o...\n",
       "2  1956967696  ...                Funeral ceremony...gloomy friday...\n",
       "3  1956967789  ...               wants to hang out with friends SOON!\n",
       "4  1956968416  ...  @dannycastillo We want to trade with someone w...\n",
       "5  1956968477  ...  Re-pinging @ghostridah14: why didn't you go to...\n",
       "6  1956968487  ...  I should be sleep, but im not! thinking about ...\n",
       "7  1956968636  ...               Hmmm. http://www.djhero.com/ is down\n",
       "8  1956969035  ...            @charviray Charlene my love. I miss you\n",
       "9  1956969172  ...         @kelcouch I'm sorry  at least it's Friday?\n",
       "\n",
       "[10 rows x 4 columns]"
      ]
     },
     "execution_count": 71,
     "metadata": {
      "tags": []
     },
     "output_type": "execute_result"
    }
   ],
   "source": [
    "df1.head(10)"
   ]
  },
  {
   "cell_type": "code",
   "execution_count": 72,
   "metadata": {
    "colab": {
     "base_uri": "https://localhost:8080/",
     "height": 483
    },
    "id": "ihcPK2v_E10O",
    "outputId": "b1e0b32f-5f07-48bd-964d-271592a29ed6"
   },
   "outputs": [
    {
     "data": {
      "text/html": [
       "<div>\n",
       "<style scoped>\n",
       "    .dataframe tbody tr th:only-of-type {\n",
       "        vertical-align: middle;\n",
       "    }\n",
       "\n",
       "    .dataframe tbody tr th {\n",
       "        vertical-align: top;\n",
       "    }\n",
       "\n",
       "    .dataframe thead th {\n",
       "        text-align: right;\n",
       "    }\n",
       "</style>\n",
       "<table border=\"1\" class=\"dataframe\">\n",
       "  <thead>\n",
       "    <tr style=\"text-align: right;\">\n",
       "      <th></th>\n",
       "      <th>tweet_id</th>\n",
       "      <th>author</th>\n",
       "      <th>content</th>\n",
       "    </tr>\n",
       "    <tr>\n",
       "      <th>sentiment</th>\n",
       "      <th></th>\n",
       "      <th></th>\n",
       "      <th></th>\n",
       "    </tr>\n",
       "  </thead>\n",
       "  <tbody>\n",
       "    <tr>\n",
       "      <th>anger</th>\n",
       "      <td>110</td>\n",
       "      <td>110</td>\n",
       "      <td>110</td>\n",
       "    </tr>\n",
       "    <tr>\n",
       "      <th>boredom</th>\n",
       "      <td>179</td>\n",
       "      <td>179</td>\n",
       "      <td>179</td>\n",
       "    </tr>\n",
       "    <tr>\n",
       "      <th>empty</th>\n",
       "      <td>827</td>\n",
       "      <td>827</td>\n",
       "      <td>827</td>\n",
       "    </tr>\n",
       "    <tr>\n",
       "      <th>enthusiasm</th>\n",
       "      <td>759</td>\n",
       "      <td>759</td>\n",
       "      <td>759</td>\n",
       "    </tr>\n",
       "    <tr>\n",
       "      <th>fun</th>\n",
       "      <td>1776</td>\n",
       "      <td>1776</td>\n",
       "      <td>1776</td>\n",
       "    </tr>\n",
       "    <tr>\n",
       "      <th>happiness</th>\n",
       "      <td>5209</td>\n",
       "      <td>5209</td>\n",
       "      <td>5209</td>\n",
       "    </tr>\n",
       "    <tr>\n",
       "      <th>hate</th>\n",
       "      <td>1323</td>\n",
       "      <td>1323</td>\n",
       "      <td>1323</td>\n",
       "    </tr>\n",
       "    <tr>\n",
       "      <th>love</th>\n",
       "      <td>3842</td>\n",
       "      <td>3842</td>\n",
       "      <td>3842</td>\n",
       "    </tr>\n",
       "    <tr>\n",
       "      <th>neutral</th>\n",
       "      <td>8638</td>\n",
       "      <td>8638</td>\n",
       "      <td>8638</td>\n",
       "    </tr>\n",
       "    <tr>\n",
       "      <th>relief</th>\n",
       "      <td>1526</td>\n",
       "      <td>1526</td>\n",
       "      <td>1526</td>\n",
       "    </tr>\n",
       "    <tr>\n",
       "      <th>sadness</th>\n",
       "      <td>5165</td>\n",
       "      <td>5165</td>\n",
       "      <td>5165</td>\n",
       "    </tr>\n",
       "    <tr>\n",
       "      <th>surprise</th>\n",
       "      <td>2187</td>\n",
       "      <td>2187</td>\n",
       "      <td>2187</td>\n",
       "    </tr>\n",
       "    <tr>\n",
       "      <th>worry</th>\n",
       "      <td>8459</td>\n",
       "      <td>8459</td>\n",
       "      <td>8459</td>\n",
       "    </tr>\n",
       "  </tbody>\n",
       "</table>\n",
       "</div>"
      ],
      "text/plain": [
       "            tweet_id  author  content\n",
       "sentiment                            \n",
       "anger            110     110      110\n",
       "boredom          179     179      179\n",
       "empty            827     827      827\n",
       "enthusiasm       759     759      759\n",
       "fun             1776    1776     1776\n",
       "happiness       5209    5209     5209\n",
       "hate            1323    1323     1323\n",
       "love            3842    3842     3842\n",
       "neutral         8638    8638     8638\n",
       "relief          1526    1526     1526\n",
       "sadness         5165    5165     5165\n",
       "surprise        2187    2187     2187\n",
       "worry           8459    8459     8459"
      ]
     },
     "execution_count": 72,
     "metadata": {
      "tags": []
     },
     "output_type": "execute_result"
    }
   ],
   "source": [
    "number_emotion1 = df1.groupby(\"sentiment\").count()\n",
    "number_emotion1"
   ]
  },
  {
   "cell_type": "markdown",
   "metadata": {
    "id": "OjU701-u1Z1i"
   },
   "source": [
    "### Vectorizing \n"
   ]
  },
  {
   "cell_type": "code",
   "execution_count": 44,
   "metadata": {
    "id": "hEzhtWgjE10Q"
   },
   "outputs": [],
   "source": [
    "corpus1 = df1.content\n",
    "targets1 = df1.sentiment"
   ]
  },
  {
   "cell_type": "code",
   "execution_count": 45,
   "metadata": {
    "id": "po-PaySF1H7G"
   },
   "outputs": [],
   "source": [
    "stop_words = nltk.corpus.stopwords.words(\"english\")"
   ]
  },
  {
   "cell_type": "code",
   "execution_count": 46,
   "metadata": {
    "id": "Cw-sKSXF18ow"
   },
   "outputs": [],
   "source": [
    "vectorizer1 = CountVectorizer(stop_words = stop_words, ngram_range= (1, 2))"
   ]
  },
  {
   "cell_type": "code",
   "execution_count": 47,
   "metadata": {
    "id": "S74Ryd472CYf"
   },
   "outputs": [],
   "source": [
    "X1 = vectorizer1.fit_transform(corpus1)"
   ]
  },
  {
   "cell_type": "code",
   "execution_count": 53,
   "metadata": {},
   "outputs": [
    {
     "data": {
      "text/plain": [
       "(40000, 253407)"
      ]
     },
     "execution_count": 53,
     "metadata": {},
     "output_type": "execute_result"
    }
   ],
   "source": [
    "X1.shape"
   ]
  },
  {
   "cell_type": "code",
   "execution_count": 107,
   "metadata": {
    "colab": {
     "base_uri": "https://localhost:8080/",
     "height": 441
    },
    "id": "xHHcGitD2D0p",
    "outputId": "fb818a1f-f36a-459c-96b0-907553adfe21"
   },
   "outputs": [
    {
     "data": {
      "text/plain": [
       "Text(0.5, 1.0, 'Words ordered by rank. The first rank is the most frequent words and the last one is the less present')"
      ]
     },
     "execution_count": 107,
     "metadata": {
      "tags": []
     },
     "output_type": "execute_result"
    },
    {
     "data": {
      "image/png": "[encoded data removed]",
      "text/plain": [
       "<Figure size 1440x576 with 1 Axes>"
      ]
     },
     "metadata": {
      "needs_background": "light",
      "tags": []
     },
     "output_type": "display_data"
    }
   ],
   "source": [
    "words = vectorizer1.get_feature_names()\n",
    "wsum = np.array(X1.sum(0))[0]\n",
    "ix = wsum.argsort()[::-1]\n",
    "wrank = wsum[ix] \n",
    "labels = [words[i] for i in ix]\n",
    "\n",
    "# Sub-sample the data to plot.\n",
    "# take the 20 first + the rest sample with the given step \n",
    "def subsample(x):\n",
    "    return np.hstack((x[:30]))\n",
    "\n",
    "\n",
    "plt.figure(figsize=(20,8))\n",
    "freq = subsample(wrank)\n",
    "r = np.arange(len(freq))\n",
    "plt.bar(r, freq, width=0.7)\n",
    "plt.xticks(r, subsample(labels), rotation=55)\n",
    "plt.xlabel('word rank')\n",
    "plt.ylabel('word frequncy')\n",
    "plt.title(\"Words ordered by rank. The first rank is the most frequent words and the last one is the less present\")"
   ]
  },
  {
   "cell_type": "markdown",
   "metadata": {
    "id": "7jhRKGmQC_1m"
   },
   "source": [
    "### Split set"
   ]
  },
  {
   "cell_type": "code",
   "execution_count": 48,
   "metadata": {
    "colab": {
     "base_uri": "https://localhost:8080/"
    },
    "id": "Jr-ktQMDDCi9",
    "outputId": "07d2bac7-19e8-4e44-f5bc-55d86e7ba765"
   },
   "outputs": [
    {
     "name": "stdout",
     "output_type": "stream",
     "text": [
      "x_train : 304892\n",
      "x_test : 76635\n",
      "ratio : 20\n"
     ]
    }
   ],
   "source": [
    "x_train1, x_test1, y_train1, y_test1 = train_test_split(X1, targets1, test_size=0.2, random_state=0)\n",
    "\n",
    "print(\"x_train :\", np.size(x_train))\n",
    "print(\"x_test :\", np.size(x_test))\n",
    "print(\"ratio :\", round(np.size(x_test)/(np.size(x_train)+np.size(x_test))*100))"
   ]
  },
  {
   "cell_type": "markdown",
   "metadata": {
    "id": "diQi793RDUiv"
   },
   "source": [
    "### Logistic regression"
   ]
  },
  {
   "cell_type": "code",
   "execution_count": 49,
   "metadata": {
    "colab": {
     "base_uri": "https://localhost:8080/"
    },
    "id": "WqX77gkNDXaa",
    "outputId": "98a4a2c3-07a6-499d-9f80-48a1f41a0a3f"
   },
   "outputs": [
    {
     "name": "stdout",
     "output_type": "stream",
     "text": [
      "0.34\n"
     ]
    }
   ],
   "source": [
    "logistic_regression1 = LogisticRegression(max_iter =1000)\n",
    "logistic_regression1.fit(x_train1, y_train1)\n",
    "\n",
    "# Prediction\n",
    "pred1 = logistic_regression1.predict(x_test1)\n",
    "\n",
    "# percent score\n",
    "score = logistic_regression1.score(x_test1, y_test1)\n",
    "print(round(score, 3))"
   ]
  },
  {
   "cell_type": "code",
   "execution_count": 50,
   "metadata": {
    "id": "hbNU5TTlERph"
   },
   "outputs": [
    {
     "name": "stdout",
     "output_type": "stream",
     "text": [
      "              precision    recall  f1-score   support\n",
      "\n",
      "       anger       0.00      0.00      0.00        19\n",
      "     boredom       0.00      0.00      0.00        37\n",
      "       empty       0.10      0.01      0.01       147\n",
      "  enthusiasm       0.00      0.00      0.00       147\n",
      "         fun       0.21      0.06      0.09       354\n",
      "   happiness       0.32      0.32      0.32      1052\n",
      "        hate       0.33      0.13      0.18       251\n",
      "        love       0.51      0.40      0.45       780\n",
      "     neutral       0.34      0.59      0.43      1743\n",
      "      relief       0.19      0.05      0.08       292\n",
      "     sadness       0.34      0.27      0.30      1062\n",
      "    surprise       0.16      0.04      0.06       422\n",
      "       worry       0.33      0.40      0.36      1694\n",
      "\n",
      "    accuracy                           0.34      8000\n",
      "   macro avg       0.22      0.17      0.18      8000\n",
      "weighted avg       0.32      0.34      0.31      8000\n",
      "\n"
     ]
    },
    {
     "name": "stderr",
     "output_type": "stream",
     "text": [
      "/home/hachem/anaconda3/envs/machinelearning/lib/python3.8/site-packages/sklearn/metrics/_classification.py:1221: UndefinedMetricWarning: Precision and F-score are ill-defined and being set to 0.0 in labels with no predicted samples. Use `zero_division` parameter to control this behavior.\n",
      "  _warn_prf(average, modifier, msg_start, len(result))\n"
     ]
    }
   ],
   "source": [
    "print(classification_report(y_test1, pred1))"
   ]
  },
  {
   "cell_type": "markdown",
   "metadata": {
    "id": "rWekW1a0Dp7r"
   },
   "source": [
    "### SVM"
   ]
  },
  {
   "cell_type": "code",
   "execution_count": 84,
   "metadata": {
    "colab": {
     "base_uri": "https://localhost:8080/"
    },
    "id": "STvKl9RSDsX2",
    "outputId": "bead03ea-9177-427d-cfd4-61bd2c3271f3"
   },
   "outputs": [
    {
     "name": "stdout",
     "output_type": "stream",
     "text": [
      "0.338\n"
     ]
    }
   ],
   "source": [
    "clf1 = svm.SVC()\n",
    "clf1.fit(x_train1, y_train1)\n",
    "pred1 = clf1.predict(x_test1)\n",
    "score = clf1.score(x_test1, y_test1)\n",
    "print(round(score, 3))"
   ]
  },
  {
   "cell_type": "code",
   "execution_count": 85,
   "metadata": {
    "colab": {
     "base_uri": "https://localhost:8080/"
    },
    "id": "th9D7bNFEXQx",
    "outputId": "d040def7-27e6-4d14-c3f5-06594e4debd9"
   },
   "outputs": [
    {
     "name": "stdout",
     "output_type": "stream",
     "text": [
      "              precision    recall  f1-score   support\n",
      "\n",
      "       anger       0.00      0.00      0.00        19\n",
      "     boredom       0.00      0.00      0.00        37\n",
      "       empty       0.00      0.00      0.00       147\n",
      "  enthusiasm       0.00      0.00      0.00       147\n",
      "         fun       0.00      0.00      0.00       354\n",
      "   happiness       0.34      0.34      0.34      1052\n",
      "        hate       0.40      0.08      0.13       251\n",
      "        love       0.57      0.35      0.43       780\n",
      "     neutral       0.33      0.61      0.43      1743\n",
      "      relief       0.25      0.01      0.01       292\n",
      "     sadness       0.42      0.13      0.20      1062\n",
      "    surprise       0.27      0.01      0.02       422\n",
      "       worry       0.30      0.50      0.37      1694\n",
      "\n",
      "    accuracy                           0.34      8000\n",
      "   macro avg       0.22      0.16      0.15      8000\n",
      "weighted avg       0.33      0.34      0.29      8000\n",
      "\n"
     ]
    },
    {
     "name": "stderr",
     "output_type": "stream",
     "text": [
      "/usr/local/lib/python3.6/dist-packages/sklearn/metrics/_classification.py:1272: UndefinedMetricWarning: Precision and F-score are ill-defined and being set to 0.0 in labels with no predicted samples. Use `zero_division` parameter to control this behavior.\n",
      "  _warn_prf(average, modifier, msg_start, len(result))\n"
     ]
    }
   ],
   "source": [
    "print(classification_report(y_test1, pred1))"
   ]
  },
  {
   "cell_type": "markdown",
   "metadata": {
    "id": "VYjjH6vfEjAT"
   },
   "source": [
    "### SVM OneVsOne Classifier"
   ]
  },
  {
   "cell_type": "code",
   "execution_count": 81,
   "metadata": {
    "colab": {
     "base_uri": "https://localhost:8080/"
    },
    "id": "7WIzxWnUEifL",
    "outputId": "2f048369-13df-4e31-af5a-b8c2b7407e17"
   },
   "outputs": [
    {
     "name": "stderr",
     "output_type": "stream",
     "text": [
      "/usr/local/lib/python3.6/dist-packages/sklearn/svm/_base.py:947: ConvergenceWarning: Liblinear failed to converge, increase the number of iterations.\n",
      "  \"the number of iterations.\", ConvergenceWarning)\n"
     ]
    },
    {
     "name": "stdout",
     "output_type": "stream",
     "text": [
      "Socre :  0.327\n"
     ]
    }
   ],
   "source": [
    "oneVsOne1 = OneVsOneClassifier(LinearSVC())\n",
    "oneVsOne1.fit(x_train1, y_train1)\n",
    "pred1 = oneVsOne1.predict(x_test1)\n",
    "\n",
    "score = oneVsOne1.score(x_test1, y_test1)\n",
    "print('Socre : ',round(score, 3))"
   ]
  },
  {
   "cell_type": "code",
   "execution_count": 82,
   "metadata": {
    "colab": {
     "base_uri": "https://localhost:8080/"
    },
    "id": "xGH--9hnErcm",
    "outputId": "1ba0fd1e-4dd6-4ad3-a84a-d52bfc7ee1a4"
   },
   "outputs": [
    {
     "name": "stdout",
     "output_type": "stream",
     "text": [
      "              precision    recall  f1-score   support\n",
      "\n",
      "       anger       0.00      0.00      0.00        19\n",
      "     boredom       0.00      0.00      0.00        37\n",
      "       empty       0.03      0.01      0.01       147\n",
      "  enthusiasm       0.04      0.01      0.01       147\n",
      "         fun       0.17      0.07      0.10       354\n",
      "   happiness       0.33      0.32      0.32      1052\n",
      "        hate       0.32      0.16      0.22       251\n",
      "        love       0.47      0.40      0.43       780\n",
      "     neutral       0.34      0.56      0.42      1743\n",
      "      relief       0.15      0.08      0.10       292\n",
      "     sadness       0.31      0.25      0.28      1062\n",
      "    surprise       0.15      0.06      0.09       422\n",
      "       worry       0.32      0.36      0.34      1694\n",
      "\n",
      "    accuracy                           0.33      8000\n",
      "   macro avg       0.20      0.17      0.18      8000\n",
      "weighted avg       0.30      0.33      0.31      8000\n",
      "\n"
     ]
    }
   ],
   "source": [
    "print(classification_report(y_test1, pred1))"
   ]
  },
  {
   "cell_type": "markdown",
   "metadata": {
    "id": "9uq_tpl9GqT3"
   },
   "source": [
    "### Confusion matrix"
   ]
  },
  {
   "cell_type": "code",
   "execution_count": 86,
   "metadata": {
    "colab": {
     "base_uri": "https://localhost:8080/",
     "height": 279
    },
    "id": "G2KcDYLHGt6j",
    "outputId": "0985369b-df96-48e1-d07d-f289df7c2063"
   },
   "outputs": [
    {
     "data": {
      "image/png": "[encoded data removed]",
      "text/plain": [
       "<Figure size 432x288 with 2 Axes>"
      ]
     },
     "metadata": {
      "needs_background": "light",
      "tags": []
     },
     "output_type": "display_data"
    }
   ],
   "source": [
    "sns.heatmap(confusion_matrix(y_test1, pred1), annot=True)\n",
    "plt.ylabel('True Classes')\n",
    "plt.xlabel('Predict Classes')\n",
    "plt.show()"
   ]
  },
  {
   "cell_type": "markdown",
   "metadata": {
    "id": "fmOnJhdN2XP2"
   },
   "source": [
    "### Use pipline"
   ]
  },
  {
   "cell_type": "code",
   "execution_count": 54,
   "metadata": {
    "id": "c8HNivuM2RkJ"
   },
   "outputs": [],
   "source": [
    "pipe0 = Pipeline([\n",
    "    ('vect', CountVectorizer(stop_words = stop_words, ngram_range = (1, 2))),\n",
    "    ('sgd', SGDClassifier()),\n",
    "])\n",
    "pipe1 = Pipeline([\n",
    "    ('vect', CountVectorizer(stop_words = stop_words, ngram_range = (1, 2))),\n",
    "    ('svml', LinearSVC()),\n",
    "])\n",
    "pipe2 = Pipeline([\n",
    "    ('vect', CountVectorizer(stop_words = stop_words, ngram_range = (1, 2))),\n",
    "    ('mult_nb', MultinomialNB()),\n",
    "])\n",
    "pipe3 = Pipeline([\n",
    "    ('vect', CountVectorizer(stop_words = stop_words, ngram_range = (1, 2))),\n",
    "    ('bern_nb', BernoulliNB()),\n",
    "])\n",
    "pipe4 = Pipeline([\n",
    "    ('vect', CountVectorizer(stop_words = stop_words, ngram_range = (1, 2))),\n",
    "    ('logit', LogisticRegression(max_iter = 1000)),\n",
    "])\n",
    "pipe5 = Pipeline([\n",
    "    ('vect', CountVectorizer(stop_words = stop_words, ngram_range = (1, 2))),\n",
    "    ('sgd', SGDClassifier()),\n",
    "])\n",
    "pipe6 = Pipeline([\n",
    "    ('vect', CountVectorizer(stop_words = stop_words, ngram_range = (1, 2))),\n",
    "    ('tfidf', TfidfTransformer()),\n",
    "    ('svml', LinearSVC()),\n",
    "])\n",
    "pipe7 = Pipeline([\n",
    "    ('vect', CountVectorizer(stop_words = stop_words, ngram_range = (1, 2))),\n",
    "    ('tfidf', TfidfTransformer()),\n",
    "    ('bern_nb', BernoulliNB()),\n",
    "])\n",
    "pipe8 = Pipeline([\n",
    "    ('vect', CountVectorizer(stop_words = stop_words, ngram_range = (1, 2))),\n",
    "    ('tfidf', TfidfTransformer()),\n",
    "    ('mult_nb', MultinomialNB()),\n",
    "])\n",
    "pipe9 = Pipeline([\n",
    "    ('vect', CountVectorizer(stop_words = stop_words, ngram_range = (1, 2))),\n",
    "    ('tfidf', TfidfTransformer()),\n",
    "    ('logit', LogisticRegression(max_iter = 1000)),\n",
    "])\n",
    "def run_pipes1(pipes, splits=10, test_size=0.2, seed=0):  \n",
    "    res2 = defaultdict(list)\n",
    "    spliter = ShuffleSplit(n_splits=splits, test_size=test_size, random_state=seed)\n",
    "    for idx_train, idx_test in spliter.split(corpus1):\n",
    "        for pipe in pipes:\n",
    "            # name of the model\n",
    "            name = \"-\".join([x[0] for x in pipe.steps])\n",
    "            \n",
    "            # extract datasets\n",
    "            X_train1 = corpus1[idx_train]\n",
    "            X_test1 = corpus1[idx_test]\n",
    "            y_train1 = targets1[idx_train]\n",
    "            y_test1 = targets1[idx_test]\n",
    "            \n",
    "            # Learn\n",
    "            start = time()\n",
    "            pipe.fit(X_train1, y_train1)\n",
    "            fit_time = time() - start\n",
    "            \n",
    "            # predict and save results\n",
    "            y = pipe.predict(X_test1)\n",
    "            res2[name].append([\n",
    "                fit_time,\n",
    "                f1_score(y_test1, y, average = 'micro'),\n",
    "                precision_score(y_test1, y,average='micro'),\n",
    "                recall_score(y_test1, y, average='micro')\n",
    "            ])\n",
    "    return res2\n",
    "\n",
    "def print_table1(res2):\n",
    "    # Compute mean and std\n",
    "    final = {}\n",
    "    for model in res2:\n",
    "        arr = np.array(res2[model])\n",
    "        final[model] = {\n",
    "            \"time\" : arr[:, 0].mean().round(2),\n",
    "            \"f1_score\": arr[:,1].mean().round(3),\n",
    "            \"Precision\" : arr[:,2].mean().round(3),\n",
    "            \"Recall\" : arr[:,3].mean().round(3)\n",
    "        }\n",
    "\n",
    "    df1 = pd.DataFrame.from_dict(final, orient=\"index\").round(3)\n",
    "    return df1"
   ]
  },
  {
   "cell_type": "code",
   "execution_count": 55,
   "metadata": {
    "colab": {
     "base_uri": "https://localhost:8080/",
     "height": 323
    },
    "id": "PNqCE1RX2i3n",
    "outputId": "9d509e53-ad82-4b4d-e80f-13e70e5b1dec"
   },
   "outputs": [
    {
     "name": "stderr",
     "output_type": "stream",
     "text": [
      "/home/hachem/anaconda3/envs/machinelearning/lib/python3.8/site-packages/sklearn/svm/_base.py:976: ConvergenceWarning: Liblinear failed to converge, increase the number of iterations.\n",
      "  warnings.warn(\"Liblinear failed to converge, increase \"\n"
     ]
    }
   ],
   "source": [
    "# run base pipes withtout tfid\n",
    "res3 = run_pipes1([pipe0, pipe1, pipe2, pipe3, pipe4, pipe5], splits=1)"
   ]
  },
  {
   "cell_type": "code",
   "execution_count": 56,
   "metadata": {
    "colab": {
     "base_uri": "https://localhost:8080/",
     "height": 163
    },
    "id": "Ed6SZ9aH3fKJ",
    "outputId": "d9291b3d-dfbb-474a-c1d0-7820a1b1060c"
   },
   "outputs": [
    {
     "data": {
      "text/html": [
       "<div>\n",
       "<style scoped>\n",
       "    .dataframe tbody tr th:only-of-type {\n",
       "        vertical-align: middle;\n",
       "    }\n",
       "\n",
       "    .dataframe tbody tr th {\n",
       "        vertical-align: top;\n",
       "    }\n",
       "\n",
       "    .dataframe thead th {\n",
       "        text-align: right;\n",
       "    }\n",
       "</style>\n",
       "<table border=\"1\" class=\"dataframe\">\n",
       "  <thead>\n",
       "    <tr style=\"text-align: right;\">\n",
       "      <th></th>\n",
       "      <th>time</th>\n",
       "      <th>f1_score</th>\n",
       "      <th>Precision</th>\n",
       "      <th>Recall</th>\n",
       "    </tr>\n",
       "  </thead>\n",
       "  <tbody>\n",
       "    <tr>\n",
       "      <th>vect-sgd</th>\n",
       "      <td>3.10</td>\n",
       "      <td>0.328</td>\n",
       "      <td>0.328</td>\n",
       "      <td>0.328</td>\n",
       "    </tr>\n",
       "    <tr>\n",
       "      <th>vect-svml</th>\n",
       "      <td>46.03</td>\n",
       "      <td>0.316</td>\n",
       "      <td>0.316</td>\n",
       "      <td>0.316</td>\n",
       "    </tr>\n",
       "    <tr>\n",
       "      <th>vect-mult_nb</th>\n",
       "      <td>1.48</td>\n",
       "      <td>0.309</td>\n",
       "      <td>0.309</td>\n",
       "      <td>0.309</td>\n",
       "    </tr>\n",
       "    <tr>\n",
       "      <th>vect-bern_nb</th>\n",
       "      <td>1.47</td>\n",
       "      <td>0.269</td>\n",
       "      <td>0.269</td>\n",
       "      <td>0.269</td>\n",
       "    </tr>\n",
       "    <tr>\n",
       "      <th>vect-logit</th>\n",
       "      <td>120.43</td>\n",
       "      <td>0.340</td>\n",
       "      <td>0.340</td>\n",
       "      <td>0.340</td>\n",
       "    </tr>\n",
       "  </tbody>\n",
       "</table>\n",
       "</div>"
      ],
      "text/plain": [
       "                time  f1_score  Precision  Recall\n",
       "vect-sgd        3.10     0.328      0.328   0.328\n",
       "vect-svml      46.03     0.316      0.316   0.316\n",
       "vect-mult_nb    1.48     0.309      0.309   0.309\n",
       "vect-bern_nb    1.47     0.269      0.269   0.269\n",
       "vect-logit    120.43     0.340      0.340   0.340"
      ]
     },
     "execution_count": 56,
     "metadata": {},
     "output_type": "execute_result"
    }
   ],
   "source": [
    "print_table1(res3)"
   ]
  },
  {
   "cell_type": "code",
   "execution_count": 57,
   "metadata": {
    "colab": {
     "base_uri": "https://localhost:8080/",
     "height": 306
    },
    "id": "CHLGyzPB3mas",
    "outputId": "6e0813b3-3c52-4674-c715-bb028164fc09"
   },
   "outputs": [],
   "source": [
    "res4 = run_pipes1([pipe6, pipe7, pipe8, pipe9], splits=1)"
   ]
  },
  {
   "cell_type": "code",
   "execution_count": 58,
   "metadata": {
    "id": "57y16BAL31ZE"
   },
   "outputs": [
    {
     "data": {
      "text/html": [
       "<div>\n",
       "<style scoped>\n",
       "    .dataframe tbody tr th:only-of-type {\n",
       "        vertical-align: middle;\n",
       "    }\n",
       "\n",
       "    .dataframe tbody tr th {\n",
       "        vertical-align: top;\n",
       "    }\n",
       "\n",
       "    .dataframe thead th {\n",
       "        text-align: right;\n",
       "    }\n",
       "</style>\n",
       "<table border=\"1\" class=\"dataframe\">\n",
       "  <thead>\n",
       "    <tr style=\"text-align: right;\">\n",
       "      <th></th>\n",
       "      <th>time</th>\n",
       "      <th>f1_score</th>\n",
       "      <th>Precision</th>\n",
       "      <th>Recall</th>\n",
       "    </tr>\n",
       "  </thead>\n",
       "  <tbody>\n",
       "    <tr>\n",
       "      <th>vect-tfidf-svml</th>\n",
       "      <td>5.92</td>\n",
       "      <td>0.323</td>\n",
       "      <td>0.323</td>\n",
       "      <td>0.323</td>\n",
       "    </tr>\n",
       "    <tr>\n",
       "      <th>vect-tfidf-bern_nb</th>\n",
       "      <td>1.73</td>\n",
       "      <td>0.269</td>\n",
       "      <td>0.269</td>\n",
       "      <td>0.269</td>\n",
       "    </tr>\n",
       "    <tr>\n",
       "      <th>vect-tfidf-mult_nb</th>\n",
       "      <td>1.49</td>\n",
       "      <td>0.290</td>\n",
       "      <td>0.290</td>\n",
       "      <td>0.290</td>\n",
       "    </tr>\n",
       "    <tr>\n",
       "      <th>vect-tfidf-logit</th>\n",
       "      <td>133.65</td>\n",
       "      <td>0.350</td>\n",
       "      <td>0.350</td>\n",
       "      <td>0.350</td>\n",
       "    </tr>\n",
       "  </tbody>\n",
       "</table>\n",
       "</div>"
      ],
      "text/plain": [
       "                      time  f1_score  Precision  Recall\n",
       "vect-tfidf-svml       5.92     0.323      0.323   0.323\n",
       "vect-tfidf-bern_nb    1.73     0.269      0.269   0.269\n",
       "vect-tfidf-mult_nb    1.49     0.290      0.290   0.290\n",
       "vect-tfidf-logit    133.65     0.350      0.350   0.350"
      ]
     },
     "execution_count": 58,
     "metadata": {},
     "output_type": "execute_result"
    }
   ],
   "source": [
    "print_table1(res4)"
   ]
  },
  {
   "cell_type": "markdown",
   "metadata": {
    "id": "ZmIxOdFPfItd"
   },
   "source": [
    "### Concate two data sets"
   ]
  },
  {
   "cell_type": "code",
   "execution_count": 72,
   "metadata": {
    "id": "xf2ZS9idJ3yA"
   },
   "outputs": [],
   "source": [
    "df2 = df.append(df1[['content','sentiment']].rename(columns={\"content\": \"Text\", \"sentiment\": \"Emotion\"}),ignore_index=True)"
   ]
  },
  {
   "cell_type": "code",
   "execution_count": 73,
   "metadata": {},
   "outputs": [],
   "source": [
    "df2.Emotion = df2.Emotion.replace(['happiness', 'worry'], ['happy', 'fear'])"
   ]
  },
  {
   "cell_type": "code",
   "execution_count": 74,
   "metadata": {
    "colab": {
     "base_uri": "https://localhost:8080/",
     "height": 419
    },
    "id": "DOEy4XgEfWX9",
    "outputId": "0e36ba3e-a15b-4378-8144-d44a88a27431"
   },
   "outputs": [
    {
     "data": {
      "text/html": [
       "<div>\n",
       "<style scoped>\n",
       "    .dataframe tbody tr th:only-of-type {\n",
       "        vertical-align: middle;\n",
       "    }\n",
       "\n",
       "    .dataframe tbody tr th {\n",
       "        vertical-align: top;\n",
       "    }\n",
       "\n",
       "    .dataframe thead th {\n",
       "        text-align: right;\n",
       "    }\n",
       "</style>\n",
       "<table border=\"1\" class=\"dataframe\">\n",
       "  <thead>\n",
       "    <tr style=\"text-align: right;\">\n",
       "      <th></th>\n",
       "      <th>Text</th>\n",
       "      <th>Emotion</th>\n",
       "    </tr>\n",
       "  </thead>\n",
       "  <tbody>\n",
       "    <tr>\n",
       "      <th>0</th>\n",
       "      <td>i didnt feel humiliated</td>\n",
       "      <td>sadness</td>\n",
       "    </tr>\n",
       "    <tr>\n",
       "      <th>1</th>\n",
       "      <td>i can go from feeling so hopeless to so damned...</td>\n",
       "      <td>sadness</td>\n",
       "    </tr>\n",
       "    <tr>\n",
       "      <th>2</th>\n",
       "      <td>im grabbing a minute to post i feel greedy wrong</td>\n",
       "      <td>anger</td>\n",
       "    </tr>\n",
       "    <tr>\n",
       "      <th>3</th>\n",
       "      <td>i am ever feeling nostalgic about the fireplac...</td>\n",
       "      <td>love</td>\n",
       "    </tr>\n",
       "    <tr>\n",
       "      <th>4</th>\n",
       "      <td>i am feeling grouchy</td>\n",
       "      <td>anger</td>\n",
       "    </tr>\n",
       "    <tr>\n",
       "      <th>...</th>\n",
       "      <td>...</td>\n",
       "      <td>...</td>\n",
       "    </tr>\n",
       "    <tr>\n",
       "      <th>61454</th>\n",
       "      <td>@JohnLloydTaylor</td>\n",
       "      <td>neutral</td>\n",
       "    </tr>\n",
       "    <tr>\n",
       "      <th>61455</th>\n",
       "      <td>Happy Mothers Day  All my love</td>\n",
       "      <td>love</td>\n",
       "    </tr>\n",
       "    <tr>\n",
       "      <th>61456</th>\n",
       "      <td>Happy Mother's Day to all the mommies out ther...</td>\n",
       "      <td>love</td>\n",
       "    </tr>\n",
       "    <tr>\n",
       "      <th>61457</th>\n",
       "      <td>@niariley WASSUP BEAUTIFUL!!! FOLLOW ME!!  PEE...</td>\n",
       "      <td>happy</td>\n",
       "    </tr>\n",
       "    <tr>\n",
       "      <th>61458</th>\n",
       "      <td>@mopedronin bullet train from tokyo    the gf ...</td>\n",
       "      <td>love</td>\n",
       "    </tr>\n",
       "  </tbody>\n",
       "</table>\n",
       "<p>61459 rows × 2 columns</p>\n",
       "</div>"
      ],
      "text/plain": [
       "                                                    Text  Emotion\n",
       "0                                i didnt feel humiliated  sadness\n",
       "1      i can go from feeling so hopeless to so damned...  sadness\n",
       "2       im grabbing a minute to post i feel greedy wrong    anger\n",
       "3      i am ever feeling nostalgic about the fireplac...     love\n",
       "4                                   i am feeling grouchy    anger\n",
       "...                                                  ...      ...\n",
       "61454                                   @JohnLloydTaylor  neutral\n",
       "61455                     Happy Mothers Day  All my love     love\n",
       "61456  Happy Mother's Day to all the mommies out ther...     love\n",
       "61457  @niariley WASSUP BEAUTIFUL!!! FOLLOW ME!!  PEE...    happy\n",
       "61458  @mopedronin bullet train from tokyo    the gf ...     love\n",
       "\n",
       "[61459 rows x 2 columns]"
      ]
     },
     "execution_count": 74,
     "metadata": {},
     "output_type": "execute_result"
    }
   ],
   "source": [
    "df2"
   ]
  },
  {
   "cell_type": "code",
   "execution_count": 75,
   "metadata": {
    "id": "b8hnjj5QfhHC"
   },
   "outputs": [],
   "source": [
    "corpus2 = df2.Text\n",
    "targets2 = df2.Emotion"
   ]
  },
  {
   "cell_type": "code",
   "execution_count": 76,
   "metadata": {
    "id": "5-QtjjTqgfS0"
   },
   "outputs": [],
   "source": [
    "stop_words = nltk.corpus.stopwords.words(\"english\")"
   ]
  },
  {
   "cell_type": "code",
   "execution_count": 77,
   "metadata": {
    "id": "Y14KD-z6gAWE"
   },
   "outputs": [],
   "source": [
    "vectorizer2 = CountVectorizer(stop_words = stop_words, ngram_range= (1, 2))"
   ]
  },
  {
   "cell_type": "code",
   "execution_count": 78,
   "metadata": {
    "id": "Askhn_CKgK_b"
   },
   "outputs": [],
   "source": [
    "X2 = vectorizer2.fit_transform(corpus2)"
   ]
  },
  {
   "cell_type": "code",
   "execution_count": 79,
   "metadata": {
    "colab": {
     "base_uri": "https://localhost:8080/",
     "height": 556
    },
    "id": "FjhwbAGUgSDJ",
    "outputId": "ffc2bf18-b0d5-4724-a685-2db7f2b1d702"
   },
   "outputs": [
    {
     "data": {
      "text/plain": [
       "Text(0.5, 1.0, 'Words ordered by rank. The first rank is the most frequent words and the last one is the less present')"
      ]
     },
     "execution_count": 79,
     "metadata": {},
     "output_type": "execute_result"
    },
    {
     "data": {
      "image/png": "[encoded data removed]",
      "text/plain": [
       "<Figure size 1440x576 with 1 Axes>"
      ]
     },
     "metadata": {
      "needs_background": "light"
     },
     "output_type": "display_data"
    }
   ],
   "source": [
    "words = vectorizer2.get_feature_names()\n",
    "wsum = np.array(X2.sum(0))[0]\n",
    "ix = wsum.argsort()[::-1]\n",
    "wrank = wsum[ix] \n",
    "labels = [words[i] for i in ix]\n",
    "\n",
    "# Sub-sample the data to plot.\n",
    "# take the 20 first + the rest sample with the given step \n",
    "def subsample(x):\n",
    "    return np.hstack((x[:30]))\n",
    "\n",
    "\n",
    "plt.figure(figsize=(20,8))\n",
    "freq = subsample(wrank)\n",
    "r = np.arange(len(freq))\n",
    "plt.bar(r, freq, width=0.7)\n",
    "plt.xticks(r, subsample(labels), rotation=55)\n",
    "plt.xlabel('word rank')\n",
    "plt.ylabel('word frequncy')\n",
    "plt.title(\"Words ordered by rank. The first rank is the most frequent words and the last one is the less present\")"
   ]
  },
  {
   "cell_type": "markdown",
   "metadata": {
    "id": "AH0PNozdHlSz"
   },
   "source": [
    "### Split set"
   ]
  },
  {
   "cell_type": "code",
   "execution_count": 80,
   "metadata": {
    "colab": {
     "base_uri": "https://localhost:8080/",
     "height": 129
    },
    "id": "XblLW0EWHl5X",
    "outputId": "3d725e5b-695d-4dbe-9e4c-34cf2f0a1350"
   },
   "outputs": [
    {
     "name": "stdout",
     "output_type": "stream",
     "text": [
      "x_train : 747701\n",
      "x_test : 188857\n",
      "ratio : 20\n"
     ]
    }
   ],
   "source": [
    "x_train2, x_test2, y_train2, y_test2 = train_test_split(X2, targets2, test_size=0.2, random_state=0)\n",
    "\n",
    "print(\"x_train :\", np.size(x_train2))\n",
    "print(\"x_test :\", np.size(x_test2))\n",
    "print(\"ratio :\", round(np.size(x_test2)/(np.size(x_train2)+np.size(x_test2))*100))"
   ]
  },
  {
   "cell_type": "markdown",
   "metadata": {
    "id": "LNSUAHnEH2-I"
   },
   "source": [
    "### Logistic regression"
   ]
  },
  {
   "cell_type": "code",
   "execution_count": 81,
   "metadata": {
    "id": "zs5yvorhHqK2"
   },
   "outputs": [
    {
     "name": "stdout",
     "output_type": "stream",
     "text": [
      "0.524\n"
     ]
    }
   ],
   "source": [
    "logistic_regression2 = LogisticRegression(max_iter =1000)\n",
    "logistic_regression2.fit(x_train2, y_train2)\n",
    "\n",
    "# Prediction\n",
    "pred2 = logistic_regression2.predict(x_test2)\n",
    "\n",
    "# percent score\n",
    "score = logistic_regression2.score(x_test2, y_test2)\n",
    "print(round(score, 3))"
   ]
  },
  {
   "cell_type": "code",
   "execution_count": 82,
   "metadata": {
    "colab": {
     "base_uri": "https://localhost:8080/",
     "height": 163
    },
    "id": "e6LyUIutISKc",
    "outputId": "0d00fc70-7e74-48ff-fbaa-2da75afe14b3"
   },
   "outputs": [
    {
     "name": "stdout",
     "output_type": "stream",
     "text": [
      "              precision    recall  f1-score   support\n",
      "\n",
      "       anger       0.88      0.77      0.82       616\n",
      "     boredom       0.00      0.00      0.00        37\n",
      "       empty       0.10      0.01      0.01       158\n",
      "  enthusiasm       0.11      0.01      0.01       166\n",
      "        fear       0.44      0.49      0.46      2235\n",
      "         fun       0.18      0.05      0.08       352\n",
      "       happy       0.64      0.68      0.66      2459\n",
      "        hate       0.43      0.19      0.26       258\n",
      "        love       0.57      0.46      0.51      1109\n",
      "     neutral       0.34      0.60      0.44      1689\n",
      "      relief       0.31      0.07      0.12       317\n",
      "     sadness       0.66      0.65      0.65      2272\n",
      "    surprise       0.46      0.20      0.28       624\n",
      "\n",
      "    accuracy                           0.52     12292\n",
      "   macro avg       0.39      0.32      0.33     12292\n",
      "weighted avg       0.52      0.52      0.51     12292\n",
      "\n"
     ]
    }
   ],
   "source": [
    "print(classification_report(y_test2, pred2))"
   ]
  },
  {
   "cell_type": "markdown",
   "metadata": {
    "id": "uEZOx8NKImjD"
   },
   "source": [
    "### SVM"
   ]
  },
  {
   "cell_type": "code",
   "execution_count": 85,
   "metadata": {
    "colab": {
     "base_uri": "https://localhost:8080/",
     "height": 231
    },
    "id": "uqK93GMfIom5",
    "outputId": "bdb93494-a534-4ada-c733-0e9fd4fd8ddd"
   },
   "outputs": [
    {
     "name": "stdout",
     "output_type": "stream",
     "text": [
      "0.483\n"
     ]
    }
   ],
   "source": [
    "clf2 = svm.SVC()\n",
    "clf2.fit(x_train2, y_train2)\n",
    "pred2 = clf2.predict(x_test2)\n",
    "score = clf2.score(x_test2, y_test2)\n",
    "print(round(score, 3))"
   ]
  },
  {
   "cell_type": "code",
   "execution_count": 86,
   "metadata": {
    "id": "KfJHtbNJIygF"
   },
   "outputs": [
    {
     "name": "stderr",
     "output_type": "stream",
     "text": [
      "/home/hachem/anaconda3/envs/machinelearning/lib/python3.8/site-packages/sklearn/metrics/_classification.py:1221: UndefinedMetricWarning: Precision and F-score are ill-defined and being set to 0.0 in labels with no predicted samples. Use `zero_division` parameter to control this behavior.\n",
      "  _warn_prf(average, modifier, msg_start, len(result))\n"
     ]
    },
    {
     "name": "stdout",
     "output_type": "stream",
     "text": [
      "              precision    recall  f1-score   support\n",
      "\n",
      "       anger       0.92      0.47      0.63       616\n",
      "     boredom       0.00      0.00      0.00        37\n",
      "       empty       0.00      0.00      0.00       158\n",
      "  enthusiasm       0.00      0.00      0.00       166\n",
      "        fear       0.39      0.51      0.44      2235\n",
      "         fun       0.00      0.00      0.00       352\n",
      "       happy       0.52      0.72      0.60      2459\n",
      "        hate       0.52      0.09      0.15       258\n",
      "        love       0.60      0.31      0.41      1109\n",
      "     neutral       0.33      0.59      0.42      1689\n",
      "      relief       0.60      0.01      0.02       317\n",
      "     sadness       0.68      0.58      0.63      2272\n",
      "    surprise       0.69      0.07      0.13       624\n",
      "\n",
      "    accuracy                           0.48     12292\n",
      "   macro avg       0.41      0.26      0.26     12292\n",
      "weighted avg       0.51      0.48      0.45     12292\n",
      "\n"
     ]
    }
   ],
   "source": [
    "print(classification_report(y_test2, pred2))"
   ]
  },
  {
   "cell_type": "markdown",
   "metadata": {
    "id": "AT3E6rmBIz8v"
   },
   "source": [
    "### SVM OneVsOne classifier"
   ]
  },
  {
   "cell_type": "code",
   "execution_count": 87,
   "metadata": {
    "id": "h6EZHWVNI0Zo"
   },
   "outputs": [
    {
     "name": "stderr",
     "output_type": "stream",
     "text": [
      "/home/hachem/anaconda3/envs/machinelearning/lib/python3.8/site-packages/sklearn/svm/_base.py:976: ConvergenceWarning: Liblinear failed to converge, increase the number of iterations.\n",
      "  warnings.warn(\"Liblinear failed to converge, increase \"\n"
     ]
    },
    {
     "name": "stdout",
     "output_type": "stream",
     "text": [
      "Socre :  0.507\n"
     ]
    }
   ],
   "source": [
    "oneVsOne2 = OneVsOneClassifier(LinearSVC())\n",
    "oneVsOne2.fit(x_train2, y_train2)\n",
    "pred2 = oneVsOne2.predict(x_test2)\n",
    "\n",
    "score = oneVsOne2.score(x_test2, y_test2)\n",
    "print('Socre : ',round(score, 3))"
   ]
  },
  {
   "cell_type": "code",
   "execution_count": 88,
   "metadata": {
    "id": "JXV4kfi0JLxk"
   },
   "outputs": [
    {
     "name": "stdout",
     "output_type": "stream",
     "text": [
      "              precision    recall  f1-score   support\n",
      "\n",
      "       anger       0.85      0.80      0.82       616\n",
      "     boredom       0.00      0.00      0.00        37\n",
      "       empty       0.14      0.03      0.05       158\n",
      "  enthusiasm       0.07      0.01      0.01       166\n",
      "        fear       0.43      0.46      0.45      2235\n",
      "         fun       0.19      0.09      0.12       352\n",
      "       happy       0.63      0.65      0.64      2459\n",
      "        hate       0.37      0.20      0.26       258\n",
      "        love       0.54      0.46      0.50      1109\n",
      "     neutral       0.34      0.57      0.42      1689\n",
      "      relief       0.17      0.07      0.10       317\n",
      "     sadness       0.64      0.62      0.63      2272\n",
      "    surprise       0.39      0.20      0.26       624\n",
      "\n",
      "    accuracy                           0.51     12292\n",
      "   macro avg       0.37      0.32      0.33     12292\n",
      "weighted avg       0.50      0.51      0.50     12292\n",
      "\n"
     ]
    }
   ],
   "source": [
    "print(classification_report(y_test2, pred2))"
   ]
  },
  {
   "cell_type": "markdown",
   "metadata": {
    "id": "90Hd5w72JNX7"
   },
   "source": [
    "### Confusion matrix"
   ]
  },
  {
   "cell_type": "code",
   "execution_count": 89,
   "metadata": {
    "id": "oC5pOr62JXpA"
   },
   "outputs": [
    {
     "data": {
      "image/png": "[encoded data removed]",
      "text/plain": [
       "<Figure size 432x288 with 2 Axes>"
      ]
     },
     "metadata": {
      "needs_background": "light"
     },
     "output_type": "display_data"
    }
   ],
   "source": [
    "sns.heatmap(confusion_matrix(y_test2, pred2), annot=True)\n",
    "plt.ylabel('True Classes')\n",
    "plt.xlabel('Predict Classes')\n",
    "plt.show()"
   ]
  },
  {
   "cell_type": "markdown",
   "metadata": {
    "id": "1deieavuhWv2"
   },
   "source": [
    "### Use pipline"
   ]
  },
  {
   "cell_type": "code",
   "execution_count": 90,
   "metadata": {
    "id": "13L_2b0yhD8V"
   },
   "outputs": [],
   "source": [
    "pipe0 = Pipeline([\n",
    "    ('vect', CountVectorizer(stop_words = stop_words, ngram_range = (1, 2))),\n",
    "    ('sgd', SGDClassifier()),\n",
    "])\n",
    "\n",
    "pipe1 = Pipeline([\n",
    "    ('vect', CountVectorizer(stop_words = stop_words, ngram_range = (1, 2))),\n",
    "    ('svml', LinearSVC()),\n",
    "])\n",
    "pipe2 = Pipeline([\n",
    "    ('vect', CountVectorizer(stop_words = stop_words, ngram_range = (1, 2))),\n",
    "    ('mult_nb', MultinomialNB()),\n",
    "])\n",
    "pipe3 = Pipeline([\n",
    "    ('vect', CountVectorizer(stop_words = stop_words, ngram_range = (1, 2))),\n",
    "    ('bern_nb', BernoulliNB()),\n",
    "])\n",
    "pipe4 = Pipeline([\n",
    "    ('vect', CountVectorizer(stop_words = stop_words, ngram_range = (1, 2))),\n",
    "    ('logit', LogisticRegression(max_iter = 1000)),\n",
    "])\n",
    "pipe5 = Pipeline([\n",
    "    ('vect', CountVectorizer(stop_words = stop_words, ngram_range = (1, 2))),\n",
    "    ('sgd', SGDClassifier()),\n",
    "])\n",
    "\n",
    "pipe6 = Pipeline([\n",
    "    ('vect', CountVectorizer(stop_words = stop_words, ngram_range = (1, 2))),\n",
    "    ('tfidf', TfidfTransformer()),\n",
    "    ('svml', LinearSVC()),\n",
    "])\n",
    "pipe7 = Pipeline([\n",
    "    ('vect', CountVectorizer(stop_words = stop_words, ngram_range = (1, 2))),\n",
    "    ('tfidf', TfidfTransformer()),\n",
    "    ('bern_nb', BernoulliNB()),\n",
    "])\n",
    "pipe8 = Pipeline([\n",
    "    ('vect', CountVectorizer(stop_words = stop_words, ngram_range = (1, 2))),\n",
    "    ('tfidf', TfidfTransformer()),\n",
    "    ('mult_nb', MultinomialNB()),\n",
    "])\n",
    "pipe9 = Pipeline([\n",
    "    ('vect', CountVectorizer(stop_words = stop_words, ngram_range = (1, 2))),\n",
    "    ('tfidf', TfidfTransformer()),\n",
    "    ('logit', LogisticRegression(max_iter = 1000)),\n",
    "])\n",
    "def run_pipes2(pipes, splits=10, test_size=0.2, seed=0):  \n",
    "    res3 = defaultdict(list)\n",
    "    spliter = ShuffleSplit(n_splits=splits, test_size=test_size, random_state=seed)\n",
    "    for idx_train, idx_test in spliter.split(corpus2):\n",
    "        for pipe in pipes:\n",
    "            # name of the model\n",
    "            name = \"-\".join([x[0] for x in pipe.steps])\n",
    "            \n",
    "            # extract datasets\n",
    "            X_train2 = corpus2[idx_train]\n",
    "            X_test2 = corpus2[idx_test]\n",
    "            y_train2 = targets2[idx_train]\n",
    "            y_test2 = targets2[idx_test]\n",
    "            \n",
    "            # Learn\n",
    "            start = time()\n",
    "            pipe.fit(X_train2, y_train2)\n",
    "            fit_time = time() - start\n",
    "            \n",
    "            # predict and save results\n",
    "            y = pipe.predict(X_test2)\n",
    "            res3[name].append([\n",
    "                fit_time,\n",
    "                f1_score(y_test2, y, average = 'micro'),\n",
    "                precision_score(y_test2, y,average='micro'),\n",
    "                recall_score(y_test2, y, average='micro')\n",
    "            ])\n",
    "    return res3\n",
    "\n",
    "def print_table2(res3):\n",
    "    # Compute mean and std\n",
    "    final = {}\n",
    "    for model in res3:\n",
    "        arr = np.array(res3[model])\n",
    "        final[model] = {\n",
    "            \"time\" : arr[:, 0].mean().round(2),\n",
    "            \"f1_score\": arr[:,1].mean().round(3),\n",
    "            \"Precision\" : arr[:,2].mean().round(3),\n",
    "            \"Recall\" : arr[:,3].mean().round(3)\n",
    "        }\n",
    "\n",
    "    df2 = pd.DataFrame.from_dict(final, orient=\"index\").round(3)\n",
    "    return df2"
   ]
  },
  {
   "cell_type": "code",
   "execution_count": 91,
   "metadata": {
    "id": "rGhPZMDuir7g"
   },
   "outputs": [],
   "source": [
    "# run base pipes withtout tfid\n",
    "res5 = run_pipes2([pipe0, pipe1, pipe2, pipe3, pipe4, pipe5], splits=1)"
   ]
  },
  {
   "cell_type": "code",
   "execution_count": 92,
   "metadata": {
    "id": "o2v1oGhQk5HV"
   },
   "outputs": [
    {
     "data": {
      "text/html": [
       "<div>\n",
       "<style scoped>\n",
       "    .dataframe tbody tr th:only-of-type {\n",
       "        vertical-align: middle;\n",
       "    }\n",
       "\n",
       "    .dataframe tbody tr th {\n",
       "        vertical-align: top;\n",
       "    }\n",
       "\n",
       "    .dataframe thead th {\n",
       "        text-align: right;\n",
       "    }\n",
       "</style>\n",
       "<table border=\"1\" class=\"dataframe\">\n",
       "  <thead>\n",
       "    <tr style=\"text-align: right;\">\n",
       "      <th></th>\n",
       "      <th>time</th>\n",
       "      <th>f1_score</th>\n",
       "      <th>Precision</th>\n",
       "      <th>Recall</th>\n",
       "    </tr>\n",
       "  </thead>\n",
       "  <tbody>\n",
       "    <tr>\n",
       "      <th>vect-sgd</th>\n",
       "      <td>4.98</td>\n",
       "      <td>0.522</td>\n",
       "      <td>0.522</td>\n",
       "      <td>0.522</td>\n",
       "    </tr>\n",
       "    <tr>\n",
       "      <th>vect-svml</th>\n",
       "      <td>69.48</td>\n",
       "      <td>0.505</td>\n",
       "      <td>0.505</td>\n",
       "      <td>0.505</td>\n",
       "    </tr>\n",
       "    <tr>\n",
       "      <th>vect-mult_nb</th>\n",
       "      <td>2.63</td>\n",
       "      <td>0.435</td>\n",
       "      <td>0.435</td>\n",
       "      <td>0.435</td>\n",
       "    </tr>\n",
       "    <tr>\n",
       "      <th>vect-bern_nb</th>\n",
       "      <td>2.70</td>\n",
       "      <td>0.382</td>\n",
       "      <td>0.382</td>\n",
       "      <td>0.382</td>\n",
       "    </tr>\n",
       "    <tr>\n",
       "      <th>vect-logit</th>\n",
       "      <td>203.83</td>\n",
       "      <td>0.524</td>\n",
       "      <td>0.524</td>\n",
       "      <td>0.524</td>\n",
       "    </tr>\n",
       "  </tbody>\n",
       "</table>\n",
       "</div>"
      ],
      "text/plain": [
       "                time  f1_score  Precision  Recall\n",
       "vect-sgd        4.98     0.522      0.522   0.522\n",
       "vect-svml      69.48     0.505      0.505   0.505\n",
       "vect-mult_nb    2.63     0.435      0.435   0.435\n",
       "vect-bern_nb    2.70     0.382      0.382   0.382\n",
       "vect-logit    203.83     0.524      0.524   0.524"
      ]
     },
     "execution_count": 92,
     "metadata": {},
     "output_type": "execute_result"
    }
   ],
   "source": [
    "print_table2(res5)"
   ]
  },
  {
   "cell_type": "code",
   "execution_count": 93,
   "metadata": {
    "id": "cqlQj8e1jK49"
   },
   "outputs": [],
   "source": [
    "# run base pipes witht tfid\n",
    "res6 = run_pipes2([pipe6, pipe7, pipe8, pipe9], splits=1)"
   ]
  },
  {
   "cell_type": "code",
   "execution_count": 94,
   "metadata": {
    "id": "PlDUJT-fjTtS"
   },
   "outputs": [
    {
     "data": {
      "text/html": [
       "<div>\n",
       "<style scoped>\n",
       "    .dataframe tbody tr th:only-of-type {\n",
       "        vertical-align: middle;\n",
       "    }\n",
       "\n",
       "    .dataframe tbody tr th {\n",
       "        vertical-align: top;\n",
       "    }\n",
       "\n",
       "    .dataframe thead th {\n",
       "        text-align: right;\n",
       "    }\n",
       "</style>\n",
       "<table border=\"1\" class=\"dataframe\">\n",
       "  <thead>\n",
       "    <tr style=\"text-align: right;\">\n",
       "      <th></th>\n",
       "      <th>time</th>\n",
       "      <th>f1_score</th>\n",
       "      <th>Precision</th>\n",
       "      <th>Recall</th>\n",
       "    </tr>\n",
       "  </thead>\n",
       "  <tbody>\n",
       "    <tr>\n",
       "      <th>vect-tfidf-svml</th>\n",
       "      <td>7.93</td>\n",
       "      <td>0.513</td>\n",
       "      <td>0.513</td>\n",
       "      <td>0.513</td>\n",
       "    </tr>\n",
       "    <tr>\n",
       "      <th>vect-tfidf-bern_nb</th>\n",
       "      <td>2.35</td>\n",
       "      <td>0.382</td>\n",
       "      <td>0.382</td>\n",
       "      <td>0.382</td>\n",
       "    </tr>\n",
       "    <tr>\n",
       "      <th>vect-tfidf-mult_nb</th>\n",
       "      <td>2.34</td>\n",
       "      <td>0.421</td>\n",
       "      <td>0.421</td>\n",
       "      <td>0.421</td>\n",
       "    </tr>\n",
       "    <tr>\n",
       "      <th>vect-tfidf-logit</th>\n",
       "      <td>218.13</td>\n",
       "      <td>0.510</td>\n",
       "      <td>0.510</td>\n",
       "      <td>0.510</td>\n",
       "    </tr>\n",
       "  </tbody>\n",
       "</table>\n",
       "</div>"
      ],
      "text/plain": [
       "                      time  f1_score  Precision  Recall\n",
       "vect-tfidf-svml       7.93     0.513      0.513   0.513\n",
       "vect-tfidf-bern_nb    2.35     0.382      0.382   0.382\n",
       "vect-tfidf-mult_nb    2.34     0.421      0.421   0.421\n",
       "vect-tfidf-logit    218.13     0.510      0.510   0.510"
      ]
     },
     "execution_count": 94,
     "metadata": {},
     "output_type": "execute_result"
    }
   ],
   "source": [
    "print_table2(res6)"
   ]
  },
  {
   "cell_type": "code",
   "execution_count": null,
   "metadata": {},
   "outputs": [],
   "source": []
  }
 ],
 "metadata": {
  "colab": {
   "collapsed_sections": [],
   "name": "Emotions.ipynb",
   "provenance": []
  },
  "kernelspec": {
   "display_name": "Python 3",
   "language": "python",
   "name": "python3"
  },
  "language_info": {
   "codemirror_mode": {
    "name": "ipython",
    "version": 3
   },
   "file_extension": ".py",
   "mimetype": "text/x-python",
   "name": "python",
   "nbconvert_exporter": "python",
   "pygments_lexer": "ipython3",
   "version": "3.8.5"
  }
 },
 "nbformat": 4,
 "nbformat_minor": 1
}
