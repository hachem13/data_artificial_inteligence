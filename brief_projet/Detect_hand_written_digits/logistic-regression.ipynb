{
 "cells": [
  {
   "cell_type": "code",
   "execution_count": 87,
   "metadata": {},
   "outputs": [
    {
     "name": "stdout",
     "output_type": "stream",
     "text": [
      "(1797, 64)\n"
     ]
    }
   ],
   "source": [
    "# Import some libraries\n",
    "\n",
    "import numpy as np\n",
    "from sklearn.datasets import load_digits\n",
    "import matplotlib.pyplot as plt \n",
    "\n",
    "# Import some data\n",
    "digits = load_digits()\n",
    "# Show dimensionality\n",
    "\n",
    "print(digits.data.shape)"
   ]
  },
  {
   "cell_type": "markdown",
   "metadata": {},
   "source": [
    "# 1. Get and understand your data"
   ]
  },
  {
   "cell_type": "markdown",
   "metadata": {},
   "source": [
    "##  Type of the data "
   ]
  },
  {
   "cell_type": "code",
   "execution_count": 2,
   "metadata": {},
   "outputs": [
    {
     "name": "stdout",
     "output_type": "stream",
     "text": [
      "<class 'numpy.ndarray'>\n"
     ]
    }
   ],
   "source": [
    "print(type(digits.data))"
   ]
  },
  {
   "cell_type": "code",
   "execution_count": 3,
   "metadata": {},
   "outputs": [
    {
     "name": "stdout",
     "output_type": "stream",
     "text": [
      ".. _digits_dataset:\n",
      "\n",
      "Optical recognition of handwritten digits dataset\n",
      "--------------------------------------------------\n",
      "\n",
      "**Data Set Characteristics:**\n",
      "\n",
      "    :Number of Instances: 5620\n",
      "    :Number of Attributes: 64\n",
      "    :Attribute Information: 8x8 image of integer pixels in the range 0..16.\n",
      "    :Missing Attribute Values: None\n",
      "    :Creator: E. Alpaydin (alpaydin '@' boun.edu.tr)\n",
      "    :Date: July; 1998\n",
      "\n",
      "This is a copy of the test set of the UCI ML hand-written digits datasets\n",
      "https://archive.ics.uci.edu/ml/datasets/Optical+Recognition+of+Handwritten+Digits\n",
      "\n",
      "The data set contains images of hand-written digits: 10 classes where\n",
      "each class refers to a digit.\n",
      "\n",
      "Preprocessing programs made available by NIST were used to extract\n",
      "normalized bitmaps of handwritten digits from a preprinted form. From a\n",
      "total of 43 people, 30 contributed to the training set and different 13\n",
      "to the test set. 32x32 bitmaps are divided into nonoverlapping blocks of\n",
      "4x4 and the number of on pixels are counted in each block. This generates\n",
      "an input matrix of 8x8 where each element is an integer in the range\n",
      "0..16. This reduces dimensionality and gives invariance to small\n",
      "distortions.\n",
      "\n",
      "For info on NIST preprocessing routines, see M. D. Garris, J. L. Blue, G.\n",
      "T. Candela, D. L. Dimmick, J. Geist, P. J. Grother, S. A. Janet, and C.\n",
      "L. Wilson, NIST Form-Based Handprint Recognition System, NISTIR 5469,\n",
      "1994.\n",
      "\n",
      ".. topic:: References\n",
      "\n",
      "  - C. Kaynak (1995) Methods of Combining Multiple Classifiers and Their\n",
      "    Applications to Handwritten Digit Recognition, MSc Thesis, Institute of\n",
      "    Graduate Studies in Science and Engineering, Bogazici University.\n",
      "  - E. Alpaydin, C. Kaynak (1998) Cascading Classifiers, Kybernetika.\n",
      "  - Ken Tang and Ponnuthurai N. Suganthan and Xi Yao and A. Kai Qin.\n",
      "    Linear dimensionalityreduction using relevance weighted LDA. School of\n",
      "    Electrical and Electronic Engineering Nanyang Technological University.\n",
      "    2005.\n",
      "  - Claudio Gentile. A New Approximate Maximal Margin Classification\n",
      "    Algorithm. NIPS. 2000.\n"
     ]
    }
   ],
   "source": [
    "print(digits.DESCR)"
   ]
  },
  {
   "cell_type": "markdown",
   "metadata": {},
   "source": [
    "le type de data est une matrice  "
   ]
  },
  {
   "cell_type": "code",
   "execution_count": 4,
   "metadata": {},
   "outputs": [
    {
     "data": {
      "text/plain": [
       "array([0, 1, 2, 3, 4, 5, 6, 7, 8, 9])"
      ]
     },
     "execution_count": 4,
     "metadata": {},
     "output_type": "execute_result"
    }
   ],
   "source": [
    "digits.target_names"
   ]
  },
  {
   "cell_type": "code",
   "execution_count": 5,
   "metadata": {},
   "outputs": [
    {
     "data": {
      "text/plain": [
       "array([0, 1, 2, ..., 8, 9, 8])"
      ]
     },
     "execution_count": 5,
     "metadata": {},
     "output_type": "execute_result"
    }
   ],
   "source": [
    "digits.target"
   ]
  },
  {
   "cell_type": "code",
   "execution_count": 6,
   "metadata": {},
   "outputs": [
    {
     "data": {
      "text/plain": [
       "<Figure size 432x288 with 0 Axes>"
      ]
     },
     "metadata": {},
     "output_type": "display_data"
    },
    {
     "data": {
      "image/png": "[encoded data removed]",
      "text/plain": [
       "<Figure size 288x288 with 1 Axes>"
      ]
     },
     "metadata": {
      "needs_background": "light"
     },
     "output_type": "display_data"
    }
   ],
   "source": [
    "# Show one data\n",
    "\n",
    "plt.gray() \n",
    "plt.matshow(digits.images[0]) \n",
    "plt.show()"
   ]
  },
  {
   "cell_type": "markdown",
   "metadata": {},
   "source": [
    "##  Pixel of one data instance"
   ]
  },
  {
   "cell_type": "code",
   "execution_count": 7,
   "metadata": {},
   "outputs": [
    {
     "name": "stdout",
     "output_type": "stream",
     "text": [
      "(8, 8)\n"
     ]
    }
   ],
   "source": [
    "print(digits.images[0].shape)"
   ]
  },
  {
   "cell_type": "markdown",
   "metadata": {},
   "source": [
    "On as 64 pixel pour une instance sur le shape (8 * 8) = 64"
   ]
  },
  {
   "cell_type": "markdown",
   "metadata": {},
   "source": [
    "##  Type of data of one pixel"
   ]
  },
  {
   "cell_type": "code",
   "execution_count": 8,
   "metadata": {},
   "outputs": [
    {
     "name": "stdout",
     "output_type": "stream",
     "text": [
      "<class 'numpy.float64'>\n"
     ]
    }
   ],
   "source": [
    "print(type(digits.images[0][0][0]))"
   ]
  },
  {
   "cell_type": "markdown",
   "metadata": {},
   "source": [
    "le type d'une pixel est int car la valeur après la virgule est 0 elle represente le niveau du gris du pixel"
   ]
  },
  {
   "cell_type": "code",
   "execution_count": 89,
   "metadata": {},
   "outputs": [
    {
     "data": {
      "image/png": "[encoded data removed]",
      "text/plain": [
       "<Figure size 864x864 with 100 Axes>"
      ]
     },
     "metadata": {
      "needs_background": "light"
     },
     "output_type": "display_data"
    }
   ],
   "source": [
    "# Show several data for each label (== category) \n",
    "\n",
    "X = digits.images\n",
    "Y = digits.target\n",
    "n_digits = np.unique(Y)\n",
    "#print(X)\n",
    "#print(\"______________\")\n",
    "#print(Y)\n",
    "#print(\"______________\")\n",
    "#print(n_digits)\n",
    "dim = int(np.sqrt(X.shape[1]))\n",
    "M = 10\n",
    "fig, axs = plt.subplots(len(n_digits), M, figsize=(12, 12))\n",
    "#print(n_digits)\n",
    "for i, d in enumerate(n_digits):\n",
    "    #print(i, d)\n",
    "    for j in range(M):\n",
    "        axs[i,j].imshow(X[Y == d][j])\n",
    "        axs[i,j].axis('off')"
   ]
  },
  {
   "cell_type": "markdown",
   "metadata": {},
   "source": [
    "## 2.Prepare ML algorithm"
   ]
  },
  {
   "cell_type": "markdown",
   "metadata": {},
   "source": [
    "### Veille"
   ]
  },
  {
   "cell_type": "markdown",
   "metadata": {},
   "source": [
    "Exemple de métrique Precision-Recall pour évaluer la qualité de sortie du classificateur.\n",
    "\n",
    "Precision-Recall est une mesure utile du succès de la prédiction lorsque les classes sont très déséquilibrées. Dans la recherche d'informations, la précision est une mesure de la pertinence des résultats, tandis que le rappel est une mesure du nombre de résultats vraiment pertinents renvoyés.\n",
    "\n",
    "La courbe précision-rappel montre le compromis entre précision et rappel pour différents seuils. Une zone élevée sous la courbe représente à la fois un rappel élevé et une haute précision, où une précision élevée est liée à un faible taux de faux positifs et un rappel élevé correspond à un faible taux de faux négatifs. Des scores élevés pour les deux montrent que le classificateur renvoie des résultats précis (haute précision), ainsi que la majorité de tous les résultats positifs (rappel élevé).\n",
    "\n",
    "Un système avec un rappel élevé mais une faible précision renvoie de nombreux résultats, mais la plupart de ses étiquettes prédites sont incorrectes par rapport aux étiquettes d'apprentissage. Un système avec une précision élevée mais un rappel faible est exactement le contraire, renvoyant très peu de résultats, mais la plupart de ses étiquettes prédites sont correctes par rapport aux étiquettes d'apprentissage. Un système idéal avec une précision élevée et un rappel élevé renverra de nombreux résultats, tous les résultats étant correctement étiquetés.\n",
    "\n",
    "\n",
    "\n",
    "* **Precison**  (P) est défini comme le nombre de vrais positifs (Tp) sur le nombre de vrais positifs plus le nombre de faux positifs (Fp)\n",
    "\n",
    "$P = T_p/(T_p+F_p)$\n",
    "\n",
    "* **Recall** (R) est défini comme le nombre de vrais positifs (Tp) sur le nombre de vrais positifs plus le nombre de faux négatifs (Fn)\n",
    "\n",
    "$R = T_p/(T_p+F_n)$\n",
    "\n",
    "    * $T_p$ : True positif\n",
    "    * $T_n$ : True negatif\n",
    "    * $F_p$ : False positif\n",
    "    * $F_p$ : False negatif\n",
    "    \n",
    "* **train_test_split** Un ensemble de données d'apprentissage est un ensemble de données d'exemples utilisés pendant le processus d'apprentissage et est utilisé pour ajuster les paramètres.\n",
    "La plupart des approches qui recherchent dans les données de formation des relations empiriques ont tendance à sur-adapter les données, ce qui signifie qu'elles peuvent identifier et exploiter des relations apparentes dans les données de formation qui ne tiennent pas en général."
   ]
  },
  {
   "cell_type": "markdown",
   "metadata": {},
   "source": [
    "### Use the train_test_splilt funcion of sklearn"
   ]
  },
  {
   "cell_type": "code",
   "execution_count": 13,
   "metadata": {},
   "outputs": [
    {
     "name": "stdout",
     "output_type": "stream",
     "text": [
      "x_train : 91968\n",
      "x_test : 23040\n",
      "ratio : 20\n"
     ]
    }
   ],
   "source": [
    "from sklearn.model_selection import train_test_split\n",
    "\n",
    "X = digits.data\n",
    "Y = digits.target\n",
    "\n",
    "x_train, x_test, y_train, y_test = train_test_split(X, Y, test_size=0.2, random_state=0)\n",
    "\n",
    "print(\"x_train :\", np.size(x_train))\n",
    "print(\"x_test :\", np.size(x_test))\n",
    "print(\"ratio :\", round(np.size(x_test)/(np.size(x_train)+np.size(x_test))*100))\n"
   ]
  },
  {
   "cell_type": "markdown",
   "metadata": {},
   "source": [
    "## 3. Predict Digits"
   ]
  },
  {
   "cell_type": "markdown",
   "metadata": {},
   "source": [
    "###  Fit the model and show the performance results whithin a table for each models in terms of:\n",
    "\n",
    "#### the precision score on the testing set"
   ]
  },
  {
   "cell_type": "code",
   "execution_count": 128,
   "metadata": {},
   "outputs": [],
   "source": [
    "# Total set\n",
    "digits = load_digits()\n",
    "X = digits.data\n",
    "Y = digits.target\n",
    "x_train, x_test, y_train, y_test = train_test_split(X, Y, test_size=0.2, random_state=0)"
   ]
  },
  {
   "cell_type": "code",
   "execution_count": 131,
   "metadata": {},
   "outputs": [
    {
     "name": "stdout",
     "output_type": "stream",
     "text": [
      "0.958\n"
     ]
    }
   ],
   "source": [
    "# Model construction \n",
    "logistic_regression1 = LogisticRegression(max_iter =4000)\n",
    "logistic_regression1.fit(x_train, y_train)\n",
    "\n",
    "# Prediction\n",
    "pred = logistic_regression1.predict(x_test)\n",
    "\n",
    "# percent score\n",
    "score = logistic_regression1.score(x_test, y_test)\n",
    "print(round(score, 3))"
   ]
  },
  {
   "cell_type": "code",
   "execution_count": 132,
   "metadata": {},
   "outputs": [
    {
     "name": "stdout",
     "output_type": "stream",
     "text": [
      "Precision :  0.958\n",
      "Recall :  0.958\n"
     ]
    }
   ],
   "source": [
    "# Presision score and recall \n",
    "from  sklearn.metrics import precision_score, recall_score\n",
    "\n",
    "print('Precision : ', round(precision_score(y_test, pred,average='micro'), 3))\n",
    "print('Recall : ', round(recall_score(y_test, pred, average='micro'), 3))"
   ]
  },
  {
   "cell_type": "code",
   "execution_count": 123,
   "metadata": {},
   "outputs": [],
   "source": [
    "# set for 7\n",
    "from sklearn.linear_model import LogisticRegression\n",
    "X = digits.data\n",
    "Y7 = digits.target\n"
   ]
  },
  {
   "cell_type": "code",
   "execution_count": 68,
   "metadata": {},
   "outputs": [],
   "source": [
    "Y7[Y7 != 7] = 0\n",
    "Y7[Y7 == 7] = 1"
   ]
  },
  {
   "cell_type": "code",
   "execution_count": 44,
   "metadata": {},
   "outputs": [
    {
     "name": "stdout",
     "output_type": "stream",
     "text": [
      "0.992\n"
     ]
    }
   ],
   "source": [
    "x_train, x_test, y_train, y_test = train_test_split(X, Y7, test_size=0.2, random_state=0)\n",
    "\n",
    "# Model construction \n",
    "logistic_regression = LogisticRegression(max_iter =4000)\n",
    "logistic_regression.fit(x_train, y_train)\n",
    "\n",
    "# Prediction\n",
    "pred = logistic_regression.predict(x_test)\n",
    "\n",
    "# percent score\n",
    "score = logistic_regression.score(x_test, y_test)\n",
    "print(round(score, 3))"
   ]
  },
  {
   "cell_type": "code",
   "execution_count": 47,
   "metadata": {},
   "outputs": [
    {
     "name": "stdout",
     "output_type": "stream",
     "text": [
      "Precision :  0.992\n",
      "Recall :  0.992\n"
     ]
    }
   ],
   "source": [
    "# Presision score and recall \n",
    "from  sklearn.metrics import precision_score, recall_score\n",
    "\n",
    "print('Precision : ', round(precision_score(y_test, pred,average='micro'), 3))\n",
    "print('Recall : ', round(recall_score(y_test, pred, average='micro'), 3))"
   ]
  },
  {
   "cell_type": "code",
   "execution_count": 116,
   "metadata": {
    "scrolled": true
   },
   "outputs": [
    {
     "name": "stdout",
     "output_type": "stream",
     "text": [
      "Score :  0.992\n"
     ]
    }
   ],
   "source": [
    "# logistic regression SVM\n",
    "from sklearn import svm\n",
    "\n",
    "X = digits.images.reshape((len(digits.images), -1))\n",
    "\n",
    "x_train, x_test, y_train, y_test = train_test_split(X, Y7, test_size=0.2, random_state=0)\n",
    "\n",
    "\n",
    "clf = svm.SVC()\n",
    "clf.fit(x_train, y_train)\n",
    "pred = clf.predict(x_test)\n",
    "#print(a[:50])\n",
    "#print(y_test[:50])\n",
    "\n",
    "score = clf.score(x_test, y_test)\n",
    "print(\"Score : \", round(score, 3))"
   ]
  },
  {
   "cell_type": "code",
   "execution_count": 117,
   "metadata": {},
   "outputs": [
    {
     "name": "stdout",
     "output_type": "stream",
     "text": [
      "Precision :  0.992\n",
      "Recall :  0.992\n"
     ]
    }
   ],
   "source": [
    "# Presision score and recall \n",
    "from  sklearn.metrics import precision_score, recall_score\n",
    "\n",
    "print('Precision : ', round(precision_score(y_test, pred,average='micro'), 3))\n",
    "print('Recall : ', round(recall_score(y_test, pred, average='micro'), 3))"
   ]
  },
  {
   "cell_type": "code",
   "execution_count": 118,
   "metadata": {},
   "outputs": [
    {
     "name": "stdout",
     "output_type": "stream",
     "text": [
      "Score :  0.983\n"
     ]
    }
   ],
   "source": [
    "# logistic regression neighbors\n",
    "\n",
    "from sklearn.neighbors import KNeighborsClassifier\n",
    "neigh = KNeighborsClassifier(n_neighbors=3)\n",
    "neigh.fit(x_train, y_train)\n",
    "pred = neigh.predict(x_test)\n",
    "\n",
    "score = neigh.score(x_test, y_test)\n",
    "print(\"Score : \", round(score, 3))"
   ]
  },
  {
   "cell_type": "code",
   "execution_count": 119,
   "metadata": {
    "scrolled": true
   },
   "outputs": [
    {
     "name": "stdout",
     "output_type": "stream",
     "text": [
      "Precision :  0.983\n",
      "Recall :  0.983\n"
     ]
    }
   ],
   "source": [
    "from  sklearn.metrics import precision_score, recall_score\n",
    "\n",
    "print('Precision : ', round(precision_score(y_test, pred,average='micro'), 3))\n",
    "print('Recall : ', round(recall_score(y_test, pred, average='micro'), 3))"
   ]
  },
  {
   "cell_type": "markdown",
   "metadata": {},
   "source": [
    "### change the test_size"
   ]
  },
  {
   "cell_type": "code",
   "execution_count": 133,
   "metadata": {},
   "outputs": [],
   "source": [
    "# Test size 30%\n",
    "digits = load_digits()\n",
    "X = digits.data\n",
    "Y = digits.target\n",
    "x_train, x_test, y_train, y_test = train_test_split(X, Y, test_size=0.3, random_state=0)"
   ]
  },
  {
   "cell_type": "code",
   "execution_count": 135,
   "metadata": {},
   "outputs": [
    {
     "name": "stdout",
     "output_type": "stream",
     "text": [
      "0.956\n"
     ]
    }
   ],
   "source": [
    "# Model construction \n",
    "logistic_regression = LogisticRegression(max_iter =4000)\n",
    "logistic_regression.fit(x_train, y_train)\n",
    "\n",
    "# Prediction\n",
    "pred = logistic_regression.predict(x_test)\n",
    "\n",
    "# percent score\n",
    "score = logistic_regression.score(x_test, y_test)\n",
    "print(round(score, 3))"
   ]
  },
  {
   "cell_type": "code",
   "execution_count": 136,
   "metadata": {},
   "outputs": [],
   "source": [
    "# Test size 50%\n",
    "digits = load_digits()\n",
    "X = digits.data\n",
    "Y = digits.target\n",
    "x_train, x_test, y_train, y_test = train_test_split(X, Y, test_size=0.5, random_state=0)"
   ]
  },
  {
   "cell_type": "code",
   "execution_count": 137,
   "metadata": {},
   "outputs": [
    {
     "name": "stdout",
     "output_type": "stream",
     "text": [
      "0.954\n"
     ]
    }
   ],
   "source": [
    "# Model construction \n",
    "logistic_regression = LogisticRegression(max_iter =4000)\n",
    "logistic_regression.fit(x_train, y_train)\n",
    "\n",
    "# Prediction\n",
    "pred = logistic_regression.predict(x_test)\n",
    "\n",
    "# percent score\n",
    "score = logistic_regression.score(x_test, y_test)\n",
    "print(round(score, 3))"
   ]
  },
  {
   "cell_type": "code",
   "execution_count": 141,
   "metadata": {},
   "outputs": [],
   "source": [
    "# test size 60%\n",
    "digits = load_digits()\n",
    "X = digits.data\n",
    "Y = digits.target\n",
    "x_train, x_test, y_train, y_test = train_test_split(X, Y, test_size=0.6, random_state=0)"
   ]
  },
  {
   "cell_type": "code",
   "execution_count": 142,
   "metadata": {},
   "outputs": [
    {
     "name": "stdout",
     "output_type": "stream",
     "text": [
      "0.963\n"
     ]
    }
   ],
   "source": [
    "# Model construction \n",
    "logistic_regression = LogisticRegression(max_iter =4000)\n",
    "logistic_regression.fit(x_train, y_train)\n",
    "\n",
    "# Prediction\n",
    "pred = logistic_regression.predict(x_test)\n",
    "\n",
    "# percent score\n",
    "score = logistic_regression.score(x_test, y_test)\n",
    "print(round(score, 3))"
   ]
  },
  {
   "cell_type": "code",
   "execution_count": 144,
   "metadata": {},
   "outputs": [],
   "source": [
    "# test size 70%\n",
    "digits = load_digits()\n",
    "X = digits.data\n",
    "Y = digits.target\n",
    "x_train, x_test, y_train, y_test = train_test_split(X, Y, test_size=0.7, random_state=0)"
   ]
  },
  {
   "cell_type": "code",
   "execution_count": 145,
   "metadata": {},
   "outputs": [
    {
     "name": "stdout",
     "output_type": "stream",
     "text": [
      "0.962\n"
     ]
    }
   ],
   "source": [
    "# Model construction \n",
    "logistic_regression = LogisticRegression(max_iter =4000)\n",
    "logistic_regression.fit(x_train, y_train)\n",
    "\n",
    "# Prediction\n",
    "pred = logistic_regression.predict(x_test)\n",
    "\n",
    "# percent score\n",
    "score = logistic_regression.score(x_test, y_test)\n",
    "print(round(score, 3))"
   ]
  },
  {
   "cell_type": "code",
   "execution_count": 148,
   "metadata": {},
   "outputs": [],
   "source": [
    "# test size 75%\n",
    "digits = load_digits()\n",
    "X = digits.data\n",
    "Y = digits.target\n",
    "x_train, x_test, y_train, y_test = train_test_split(X, Y, test_size=0.75, random_state=0)"
   ]
  },
  {
   "cell_type": "code",
   "execution_count": 149,
   "metadata": {},
   "outputs": [
    {
     "name": "stdout",
     "output_type": "stream",
     "text": [
      "0.953\n"
     ]
    }
   ],
   "source": [
    "# Model construction \n",
    "logistic_regression = LogisticRegression(max_iter =4000)\n",
    "logistic_regression.fit(x_train, y_train)\n",
    "\n",
    "# Prediction\n",
    "pred = logistic_regression.predict(x_test)\n",
    "\n",
    "# percent score\n",
    "score = logistic_regression.score(x_test, y_test)\n",
    "print(round(score, 3))"
   ]
  },
  {
   "cell_type": "code",
   "execution_count": 150,
   "metadata": {},
   "outputs": [],
   "source": [
    "# test size 80%\n",
    "digits = load_digits()\n",
    "X = digits.data\n",
    "Y = digits.target\n",
    "x_train, x_test, y_train, y_test = train_test_split(X, Y, test_size=0.8, random_state=0)"
   ]
  },
  {
   "cell_type": "code",
   "execution_count": 151,
   "metadata": {
    "scrolled": true
   },
   "outputs": [
    {
     "name": "stdout",
     "output_type": "stream",
     "text": [
      "0.949\n"
     ]
    }
   ],
   "source": [
    "# Model construction \n",
    "logistic_regression = LogisticRegression(max_iter =4000)\n",
    "logistic_regression.fit(x_train, y_train)\n",
    "\n",
    "# Prediction\n",
    "pred = logistic_regression.predict(x_test)\n",
    "\n",
    "# percent score\n",
    "score = logistic_regression.score(x_test, y_test)\n",
    "print(round(score, 3))"
   ]
  },
  {
   "cell_type": "code",
   "execution_count": 152,
   "metadata": {},
   "outputs": [],
   "source": [
    "# test size 90%\n",
    "digits = load_digits()\n",
    "X = digits.data\n",
    "Y = digits.target\n",
    "x_train, x_test, y_train, y_test = train_test_split(X, Y, test_size=0.9, random_state=0)"
   ]
  },
  {
   "cell_type": "code",
   "execution_count": 168,
   "metadata": {},
   "outputs": [
    {
     "name": "stdout",
     "output_type": "stream",
     "text": [
      "0.958\n"
     ]
    }
   ],
   "source": [
    "# Model construction \n",
    "logistic_regression = LogisticRegression(max_iter =4000)\n",
    "logistic_regression.fit(x_train, y_train)\n",
    "\n",
    "# Prediction\n",
    "pred = logistic_regression.predict(x_test)\n",
    "\n",
    "# percent score\n",
    "score = logistic_regression.score(x_test, y_test)\n",
    "print(round(score, 3))"
   ]
  },
  {
   "cell_type": "markdown",
   "metadata": {},
   "source": [
    "On remarque que même qu'on change les valeur du test_size on as un bon score mais reste que quand on arrive a plus de 50% set n'as pas assez de données pour qu'il test mais malgré cela il donne un bon score."
   ]
  },
  {
   "cell_type": "markdown",
   "metadata": {},
   "source": [
    "## 4. Multi-class classification"
   ]
  },
  {
   "cell_type": "code",
   "execution_count": 179,
   "metadata": {
    "scrolled": false
   },
   "outputs": [
    {
     "name": "stdout",
     "output_type": "stream",
     "text": [
      "Socre :  0.978\n",
      "Precision :  0.958\n",
      "Recall :  0.958\n"
     ]
    }
   ],
   "source": [
    "# Multiclass learning\n",
    "\n",
    "from sklearn import datasets\n",
    "from sklearn.multiclass import OneVsOneClassifier\n",
    "from sklearn.svm import LinearSVC\n",
    "from sklearn.metrics import plot_confusion_matrix\n",
    "import warnings\n",
    "\n",
    "warnings.simplefilter('ignore')\n",
    "\n",
    "digits = load_digits()\n",
    "X = digits.data\n",
    "Y = digits.target\n",
    "x_train, x_test, y_train, y_test = train_test_split(X, Y, test_size=0.2, random_state=0)\n",
    "\n",
    "logistic_reg = OneVsOneClassifier(LinearSVC(random_state=0))\n",
    "logistic_reg.fit(x_train, y_train)\n",
    "logistic_reg.predict(x_test)\n",
    "\n",
    "score = logistic_reg.score(x_test, y_test)\n",
    "print('Socre : ',round(score, 3))\n",
    "\n",
    "from  sklearn.metrics import precision_score, recall_score\n",
    "\n",
    "print('Precision : ', round(precision_score(y_test, pred,average='micro'), 3))\n",
    "print('Recall : ', round(recall_score(y_test, pred, average='micro'), 3))"
   ]
  },
  {
   "cell_type": "code",
   "execution_count": null,
   "metadata": {},
   "outputs": [],
   "source": []
  }
 ],
 "metadata": {
  "kernelspec": {
   "display_name": "Python 3",
   "language": "python",
   "name": "python3"
  },
  "language_info": {
   "codemirror_mode": {
    "name": "ipython",
    "version": 3
   },
   "file_extension": ".py",
   "mimetype": "text/x-python",
   "name": "python",
   "nbconvert_exporter": "python",
   "pygments_lexer": "ipython3",
   "version": "3.8.5"
  }
 },
 "nbformat": 4,
 "nbformat_minor": 4
}
