{
 "cells": [
  {
   "cell_type": "markdown",
   "metadata": {},
   "source": [
    "# <u> Veille Python (Groupe 1)"
   ]
  },
  {
   "cell_type": "markdown",
   "metadata": {},
   "source": [
    "\n",
    "## <u> Sommaire\n",
    "```\n",
    "Les chaînes de caractères\n",
    "Les séquences\n",
    "Les listes\n",
    "tests if et syntaxe\n",
    "boucles for et fonctions\n",
    "Compréhensions de listes\n",
    "Les modules\n",
    "```"
   ]
  },
  {
   "cell_type": "markdown",
   "metadata": {},
   "source": [
    "## <u> Les chaines de caractères"
   ]
  },
  {
   "cell_type": "markdown",
   "metadata": {},
   "source": [
    "\n",
    "- sont non mutables (on ne peut pas changer de caracteres dans une chaine)\n",
    "- sont entre **'** ou **\"** et les **\\n**, **\\t** sont toujours évalués dedans !\n",
    "- On peut aussi faire commencer et finir une chaîne par un triple double quotes **\"\"\"** ou simple quote **'''** (permet d'inclure des retours chariots)\n",
    "\n",
    "#### Concaténation de chaînes :</u> \n",
    "```x = 'John' + ' Lennon' donne **John Lennon**```\n",
    "\n",
    "#### Répétition d'une chaîne :</u>\n",
    "```x = 'ab' * 5 donne **ababababab**```\n",
    "\n",
    "#### Eclater une chaîne en liste de caractères : \n",
    "```l = list(myString)```\n",
    "\n",
    "#### Extraction de sous-chaînes :\n",
    "```x = 'abcdef' :``` définition de la chaîne.<br/>\n",
    "```print(x[2]) :``` 3ème caractère (indice commence à 0), ici c.<br/>\n",
    "```print(x[0:3]) :``` caractères d'indices 0 à 3 - 1, ici abc.<br/>\n",
    "```print(x[1:]) :``` caractères à partir de l'indice 1, ici bcdef.<br/>\n",
    "```print(x[:3]) :``` caractères jusqu'à l'indice 3 - 1, ici abc.<br/>\n",
    "```print(x[-2:]) :``` les 2 derniers caractères, ici ef.<br/>\n",
    "```print(x[0:-2]) :``` toute la chaîne sauf les 2 derniers caractères.<br/>\n",
    "<br/>si l'index de fin est > à la longueur, c'est la longueur qui est utilisée.<br/><br/>\n",
    "```print(len(x)) :``` longueur, ici 6.<br/>\n",
    "```x[::2] :``` chaîne avec un caractère sur deux (en commençant par le premier), ici ace.<br/>\n",
    "```x[1::2] :``` chaîne avec un caractère sur deux en commençant par le deuxième, ici bdf.<br/>\n",
    "```x[::-1] :``` la chaîne renversée, ici fedcba.<br/>\n",
    "\n",
    "#### Formatage :\n",
    "```'Dan %s' % 'Carbone' :``` donne la chaîne Dan Carbone<br/>\n",
    "```'%s a comme age %d ans' % ('Lulu', 25) :``` donne la chaîne Lulu a comme age 25 ans\n",
    "utiliser %% si on veut avoir le signe %.<br/>\n",
    "\n",
    "#### Fonctions sur les chaînes :\n",
    "```'Z' in mystring :``` renvoie False si *Z* n'est pas un caractère de *mystring*.<br/>\n",
    "```mystring.lower() :``` renvoie la chaîne convertie en minuscules (idem avec mystring.upper() pour les majuscules), sans affecter mystring\n",
    "```mystring.capitalize() :``` met en majuscule la première lettre et en minuscules toutes les autres quelque soit la casse de départ.\n",
    "```mystring.title() :``` renvoie une chaîne où toutes les premières lettres de chaque mot sont en majuscule et le reste en minuscules.\n",
    "```str.split(mystring) :``` retourne une liste de chaînes en coupant sur les caractères blancs (espace, tabulation, retours chariot). Si *mystring* est vide, la liste est vide."
   ]
  },
  {
   "cell_type": "code",
   "execution_count": 33,
   "metadata": {},
   "outputs": [
    {
     "data": {
      "text/plain": [
       "['Dan', 'CARBONE']"
      ]
     },
     "execution_count": 33,
     "metadata": {},
     "output_type": "execute_result"
    }
   ],
   "source": [
    "x = 'Dan CARBONE'\n",
    "x.title()\n",
    "str.split(x)"
   ]
  },
  {
   "cell_type": "code",
   "execution_count": 34,
   "metadata": {},
   "outputs": [
    {
     "data": {
      "text/plain": [
       "['D', 'a', 'n', ' ', 'C', 'A', 'R', 'B', 'O', 'N', 'E']"
      ]
     },
     "execution_count": 34,
     "metadata": {},
     "output_type": "execute_result"
    }
   ],
   "source": [
    "list(x)"
   ]
  },
  {
   "cell_type": "code",
   "execution_count": 37,
   "metadata": {},
   "outputs": [
    {
     "name": "stdout",
     "output_type": "stream",
     "text": [
      "Dan Carbone\n"
     ]
    }
   ],
   "source": [
    "x = x.title()\n",
    "print(x)"
   ]
  },
  {
   "cell_type": "markdown",
   "metadata": {},
   "source": [
    "## <u> Les séquences"
   ]
  },
  {
   "cell_type": "markdown",
   "metadata": {},
   "source": [
    "\n",
    "Il est possible de \"stocker\" plusieurs grandeurs dans une même structure, ce type de structure est appelé une séquence ou TUPLE. De façon plus précise, nous définirons une séquence comme un ensemble fini et ordonné d'éléments indicés de 0 à n-1 (si cette séquence comporte n éléments).\n"
   ]
  },
  {
   "cell_type": "markdown",
   "metadata": {},
   "source": [
    "\n",
    "* Un tuple, c'est comme une liste, sauf que les éléments ne peuvent pas être changés, on ne peut plus y ajouter d'objet ou en retirer. (non mutable)\n",
    "\n",
    "* Intérêt des tuples : ils peuvent être utilisés comme clefs dans les dictionnaires, alors que les listes ne le peuvent pas.\n",
    "\n",
    "* Un tuple n'est pas forcément un nompbre entier mais peut contenir des nombres décimaux, des chaines de caractères, des booléens...\n",
    "    \n"
   ]
  },
  {
   "cell_type": "code",
   "execution_count": 39,
   "metadata": {},
   "outputs": [
    {
     "name": "stdout",
     "output_type": "stream",
     "text": [
      "('chien', 'chat', 'lapin')\n"
     ]
    }
   ],
   "source": [
    "mes_animaux = (\"chien\", \"chat\", \"lapin\")\n",
    "b = mes_animaux[0]      # (la valeur de b est chien)\n",
    "print(mes_animaux)"
   ]
  },
  {
   "cell_type": "markdown",
   "metadata": {},
   "source": [
    "\n",
    "* La séquence est un ensemble fini ordonné d'elements indicés de 0 à n-1."
   ]
  },
  {
   "cell_type": "code",
   "execution_count": 3,
   "metadata": {},
   "outputs": [
    {
     "name": "stdout",
     "output_type": "stream",
     "text": [
      "(4, 9, 6, 5)\n"
     ]
    }
   ],
   "source": [
    "mon_tuple = (4, 9, 6, 5)\n",
    "print(mon_tuple)\n",
    "# (l'association entre un nom est un tuple est aussi \n",
    "# une variable)\n"
   ]
  },
  {
   "cell_type": "markdown",
   "metadata": {},
   "source": [
    "* le premier element(4)du tuple est indice 0\n",
    "* le deuxieme element(9)du tuple est indice 1\n",
    "* le troisiene element(6) du tuple est indice 2\n",
    "etc.."
   ]
  },
  {
   "cell_type": "markdown",
   "metadata": {},
   "source": [
    "Pour appeler la valeur associer à l'indice référent on utilise les []\n"
   ]
  },
  {
   "cell_type": "code",
   "execution_count": 12,
   "metadata": {},
   "outputs": [
    {
     "name": "stdout",
     "output_type": "stream",
     "text": [
      "6\n"
     ]
    }
   ],
   "source": [
    "mon_tuple = (4, 9, 6, 5) \n",
    "a = mon_tuple[2]  #  (la valeur de a est 6)\n",
    "print(a)\n"
   ]
  },
  {
   "cell_type": "markdown",
   "metadata": {},
   "source": [
    "Parfois, les tuples ne sont pas entourés de parenthèses, même s’il s’agit quand même de tuples.\n",
    "Ainsi, on peut utiliser la notation suivante :\n"
   ]
  },
  {
   "cell_type": "code",
   "execution_count": 14,
   "metadata": {},
   "outputs": [
    {
     "name": "stdout",
     "output_type": "stream",
     "text": [
      "b =  5 c =  6\n"
     ]
    }
   ],
   "source": [
    "b, c = 5, 6  \n",
    "# (la valeur de b est 5 et celle de c est 6)\n",
    "print('b = ', b, 'c = ',c)"
   ]
  },
  {
   "cell_type": "markdown",
   "metadata": {},
   "source": [
    "Il est possible de créer une fonction qui renvoie un tuple. Il suffit d’indiquer ce tuple après return.\n"
   ]
  },
  {
   "cell_type": "code",
   "execution_count": 44,
   "metadata": {},
   "outputs": [
    {
     "data": {
      "text/plain": [
       "'olivier'"
      ]
     },
     "execution_count": 44,
     "metadata": {},
     "output_type": "execute_result"
    }
   ],
   "source": [
    "def donne_moi_ton_nom():\n",
    "    return \"olivier\"\n",
    "\n",
    "donne_moi_ton_nom()\n",
    "#    ('olivier', 'engel')\n"
   ]
  },
  {
   "cell_type": "markdown",
   "metadata": {},
   "source": [
    "* Comme une liste, il est possible de parcourir un tuple avec une boucle for.\n",
    "\n",
    "* Une petite subtilité ici : si on veut créer un tuple contenant un unique élément, on doit quand même mettre une virgule après celui-ci. Sinon, Python va automatiquement supprimer les parenthèses et on se retrouvera avec une variable lambda et non une variable contenant un tuple.\n",
    "  \n"
   ]
  },
  {
   "cell_type": "markdown",
   "metadata": {},
   "source": [
    "## <u> Les listes"
   ]
  },
  {
   "cell_type": "markdown",
   "metadata": {},
   "source": [
    "Une liste est une structure qui s'écrit entre crochets et contient une série de valeurs séparées par des virgules. Ces valeurs peuvent être de types différents comme un nombre entier ou une chaîne de caractères."
   ]
  },
  {
   "cell_type": "markdown",
   "metadata": {},
   "source": [
    "Une liste se présente ainsi"
   ]
  },
  {
   "cell_type": "code",
   "execution_count": 49,
   "metadata": {},
   "outputs": [],
   "source": [
    "fruits =['orange','banane','fraise','kiwi']"
   ]
  },
  {
   "cell_type": "markdown",
   "metadata": {},
   "source": [
    "La position d'un élément dans une liste est appelé indice(ou index).\n",
    "Attention une liste de n éléments commence par 0 et se termine par n-1."
   ]
  },
  {
   "cell_type": "code",
   "execution_count": 10,
   "metadata": {},
   "outputs": [
    {
     "data": {
      "text/plain": [
       "'orange'"
      ]
     },
     "execution_count": 10,
     "metadata": {},
     "output_type": "execute_result"
    }
   ],
   "source": [
    "fruits[0]"
   ]
  },
  {
   "cell_type": "code",
   "execution_count": 11,
   "metadata": {},
   "outputs": [
    {
     "data": {
      "text/plain": [
       "'banane'"
      ]
     },
     "execution_count": 11,
     "metadata": {},
     "output_type": "execute_result"
    }
   ],
   "source": [
    "fruits[1]"
   ]
  },
  {
   "cell_type": "code",
   "execution_count": 12,
   "metadata": {},
   "outputs": [
    {
     "data": {
      "text/plain": [
       "'fraise'"
      ]
     },
     "execution_count": 12,
     "metadata": {},
     "output_type": "execute_result"
    }
   ],
   "source": [
    "fruits[2]"
   ]
  },
  {
   "cell_type": "code",
   "execution_count": 51,
   "metadata": {},
   "outputs": [
    {
     "data": {
      "text/plain": [
       "'kiwi'"
      ]
     },
     "execution_count": 51,
     "metadata": {},
     "output_type": "execute_result"
    }
   ],
   "source": [
    "fruits[3]  "
   ]
  },
  {
   "cell_type": "markdown",
   "metadata": {},
   "source": [
    "Dans notre exemple précédent, il y a 4 éléments dans notre liste mais commence à 0 et se termine à 3."
   ]
  },
  {
   "cell_type": "code",
   "execution_count": 14,
   "metadata": {},
   "outputs": [
    {
     "ename": "IndexError",
     "evalue": "list index out of range",
     "output_type": "error",
     "traceback": [
      "\u001b[0;31m---------------------------------------------------------------------------\u001b[0m",
      "\u001b[0;31mIndexError\u001b[0m                                Traceback (most recent call last)",
      "\u001b[0;32m<ipython-input-14-b8c91da6ba3a>\u001b[0m in \u001b[0;36m<module>\u001b[0;34m\u001b[0m\n\u001b[0;32m----> 1\u001b[0;31m \u001b[0mfruits\u001b[0m\u001b[0;34m[\u001b[0m\u001b[0;36m4\u001b[0m\u001b[0;34m]\u001b[0m\u001b[0;34m\u001b[0m\u001b[0;34m\u001b[0m\u001b[0m\n\u001b[0m",
      "\u001b[0;31mIndexError\u001b[0m: list index out of range"
     ]
    }
   ],
   "source": [
    "fruits[4]"
   ]
  },
  {
   "cell_type": "markdown",
   "metadata": {},
   "source": [
    "On obtient une erreur car fruits[4] correspond à un 5ème élément qui n'existe pas."
   ]
  },
  {
   "cell_type": "markdown",
   "metadata": {},
   "source": [
    "#### Opération sur les listes"
   ]
  },
  {
   "cell_type": "markdown",
   "metadata": {},
   "source": [
    "L'opérateur + sert à concaténer 2 listes.\n",
    "L'opérateur * sert à dupliquer une liste."
   ]
  },
  {
   "cell_type": "code",
   "execution_count": 52,
   "metadata": {},
   "outputs": [],
   "source": [
    "fruits1=['framboise','cerise']"
   ]
  },
  {
   "cell_type": "code",
   "execution_count": 16,
   "metadata": {},
   "outputs": [
    {
     "data": {
      "text/plain": [
       "['orange', 'banane', 'fraise', 'kiwi', 'framboise', 'cerise']"
      ]
     },
     "execution_count": 16,
     "metadata": {},
     "output_type": "execute_result"
    }
   ],
   "source": [
    "fruits + fruits1"
   ]
  },
  {
   "cell_type": "code",
   "execution_count": 18,
   "metadata": {},
   "outputs": [
    {
     "data": {
      "text/plain": [
       "['orange', 'banane', 'fraise', 'kiwi', 'orange', 'banane', 'fraise', 'kiwi']"
      ]
     },
     "execution_count": 18,
     "metadata": {},
     "output_type": "execute_result"
    }
   ],
   "source": [
    "fruits * 2"
   ]
  },
  {
   "cell_type": "markdown",
   "metadata": {},
   "source": [
    "La méthode .append() permet de rajouter un nouvel élément dans une liste."
   ]
  },
  {
   "cell_type": "code",
   "execution_count": 19,
   "metadata": {},
   "outputs": [],
   "source": [
    "fruits.append('myrtille')"
   ]
  },
  {
   "cell_type": "code",
   "execution_count": 20,
   "metadata": {},
   "outputs": [
    {
     "data": {
      "text/plain": [
       "['orange', 'banane', 'fraise', 'kiwi', 'myrtille']"
      ]
     },
     "execution_count": 20,
     "metadata": {},
     "output_type": "execute_result"
    }
   ],
   "source": [
    "fruits"
   ]
  },
  {
   "cell_type": "markdown",
   "metadata": {},
   "source": [
    "Si on veut compter les indices à partir de la fin, on compte à partir de -1 le dernier indice, -2 le dernier indice et ainsi de suite."
   ]
  },
  {
   "cell_type": "code",
   "execution_count": 22,
   "metadata": {},
   "outputs": [
    {
     "data": {
      "text/plain": [
       "'myrtille'"
      ]
     },
     "execution_count": 22,
     "metadata": {},
     "output_type": "execute_result"
    }
   ],
   "source": [
    "fruits[-1]"
   ]
  },
  {
   "cell_type": "markdown",
   "metadata": {},
   "source": [
    "#### Tranches"
   ]
  },
  {
   "cell_type": "markdown",
   "metadata": {},
   "source": [
    "On peut sélectionner une partie d'une liste en utilisant le modèle [m:n+1] pour récupérer les éléments de m à n (car n+1 est exclu)"
   ]
  },
  {
   "cell_type": "code",
   "execution_count": 23,
   "metadata": {},
   "outputs": [
    {
     "data": {
      "text/plain": [
       "['orange', 'banane']"
      ]
     },
     "execution_count": 23,
     "metadata": {},
     "output_type": "execute_result"
    }
   ],
   "source": [
    "fruits[0:2]"
   ]
  },
  {
   "cell_type": "markdown",
   "metadata": {},
   "source": [
    "Dans l'exemple ci-dessus, le code n'a donc pris que les éléments 0 et 1.\n",
    "\n",
    "Le modèle [m:n+1:p] permet de sélectionner le nombre de pas "
   ]
  },
  {
   "cell_type": "code",
   "execution_count": 25,
   "metadata": {},
   "outputs": [
    {
     "data": {
      "text/plain": [
       "['orange', 'fraise']"
      ]
     },
     "execution_count": 25,
     "metadata": {},
     "output_type": "execute_result"
    }
   ],
   "source": [
    "fruits[0:3:2]"
   ]
  },
  {
   "cell_type": "markdown",
   "metadata": {},
   "source": [
    "Dans le cas ci-dessus, les éléments 0 et 2 ont été pris car on sélectionne un élément sur 2 en partant de 0."
   ]
  },
  {
   "cell_type": "markdown",
   "metadata": {},
   "source": [
    "#### Fonctions len(), range() et list()"
   ]
  },
  {
   "cell_type": "markdown",
   "metadata": {},
   "source": [
    "La fonction len sert à compter le nombre d'éléments dans une liste."
   ]
  },
  {
   "cell_type": "code",
   "execution_count": 26,
   "metadata": {},
   "outputs": [
    {
     "data": {
      "text/plain": [
       "['orange', 'banane', 'fraise', 'kiwi', 'myrtille']"
      ]
     },
     "execution_count": 26,
     "metadata": {},
     "output_type": "execute_result"
    }
   ],
   "source": [
    "fruits"
   ]
  },
  {
   "cell_type": "code",
   "execution_count": 27,
   "metadata": {},
   "outputs": [
    {
     "data": {
      "text/plain": [
       "5"
      ]
     },
     "execution_count": 27,
     "metadata": {},
     "output_type": "execute_result"
    }
   ],
   "source": [
    "len(fruits)"
   ]
  },
  {
   "cell_type": "markdown",
   "metadata": {},
   "source": [
    "La commande *list(range(10))* génère une liste contenant les nombres de 0 à 10 exclu. Et *list(range(0,10,2))* génère la même liste en sautant un élément sur 2."
   ]
  },
  {
   "cell_type": "code",
   "execution_count": 28,
   "metadata": {},
   "outputs": [
    {
     "data": {
      "text/plain": [
       "[0, 1, 2, 3, 4, 5, 6, 7, 8, 9]"
      ]
     },
     "execution_count": 28,
     "metadata": {},
     "output_type": "execute_result"
    }
   ],
   "source": [
    "list(range(10))"
   ]
  },
  {
   "cell_type": "code",
   "execution_count": 29,
   "metadata": {},
   "outputs": [
    {
     "data": {
      "text/plain": [
       "[0, 2, 4, 6, 8]"
      ]
     },
     "execution_count": 29,
     "metadata": {},
     "output_type": "execute_result"
    }
   ],
   "source": [
    "list(range(0,10,2))"
   ]
  },
  {
   "cell_type": "markdown",
   "metadata": {},
   "source": [
    "#### Listes de listes "
   ]
  },
  {
   "cell_type": "markdown",
   "metadata": {},
   "source": [
    "Une liste peut également contenir une autre liste."
   ]
  },
  {
   "cell_type": "code",
   "execution_count": 30,
   "metadata": {},
   "outputs": [],
   "source": [
    "fruits2 = [['orange',2],['raisin',3]]"
   ]
  },
  {
   "cell_type": "markdown",
   "metadata": {},
   "source": [
    "On utilise un deuxième indiçage pour accéder à un élément de la sous-liste."
   ]
  },
  {
   "cell_type": "code",
   "execution_count": 33,
   "metadata": {},
   "outputs": [
    {
     "data": {
      "text/plain": [
       "2"
      ]
     },
     "execution_count": 33,
     "metadata": {},
     "output_type": "execute_result"
    }
   ],
   "source": [
    "fruits2[0][1]"
   ]
  },
  {
   "cell_type": "markdown",
   "metadata": {},
   "source": [
    "## <u> tests if et syntaxe"
   ]
  },
  {
   "cell_type": "markdown",
   "metadata": {},
   "source": [
    "Le test if est une structure conditionnelle, il permet donc d'exécuter une ou plusieurs instructions dans un cas (si une condition est respectée) et d'autres instructions dans un autre cas."
   ]
  },
  {
   "cell_type": "markdown",
   "metadata": {},
   "source": [
    "#### Forme minimale en *if*"
   ]
  },
  {
   "cell_type": "markdown",
   "metadata": {},
   "source": [
    "Permet juste d'executer une opération si une condition est respectée"
   ]
  },
  {
   "cell_type": "code",
   "execution_count": 54,
   "metadata": {},
   "outputs": [
    {
     "name": "stdout",
     "output_type": "stream",
     "text": [
      "a est supérieur à 0.\n"
     ]
    }
   ],
   "source": [
    "# Premier exemple de condition\n",
    "a = 3\n",
    "if a > 0: # Si a est supérieur à 0\n",
    "   print(\"a est supérieur à 0.\")\n"
   ]
  },
  {
   "cell_type": "markdown",
   "metadata": {},
   "source": [
    "Ici se trouve notre test conditionnel. Il se compose, dans l'ordre :\n",
    "\n",
    "    * du mot clé if;\n",
    "\n",
    "    * de la condition proprement dite,a > 0\n",
    "\n",
    "    * du signe deux points, « : », qui termine la condition et est indispensable : Python affichera une erreur de syntaxe si vous l'omettez."
   ]
  },
  {
   "cell_type": "markdown",
   "metadata": {},
   "source": [
    "Ce qui fait ensuite partie de l'instruction conditionnelle est indenté (décalage horizontal)"
   ]
  },
  {
   "cell_type": "markdown",
   "metadata": {},
   "source": [
    "Pour revenir à la suite du code (sortir de l'instruction if) il faudra désindenter"
   ]
  },
  {
   "cell_type": "markdown",
   "metadata": {},
   "source": [
    "#### Forme complète (*if*, *else*, *elif*)"
   ]
  },
  {
   "cell_type": "markdown",
   "metadata": {},
   "source": [
    "Si on veux tester plusieurs condition on peux mettre à la suite plusieur bloc if"
   ]
  },
  {
   "cell_type": "code",
   "execution_count": 5,
   "metadata": {},
   "outputs": [
    {
     "name": "stdout",
     "output_type": "stream",
     "text": [
      "a est négatif.\n"
     ]
    }
   ],
   "source": [
    "a = -5\n",
    "if a > 0: # Si a est positif\n",
    "    print(\"a est positif.\")\n",
    "if a < 0: # a est négatif\n",
    "    print(\"a est négatif.\")"
   ]
  },
  {
   "cell_type": "markdown",
   "metadata": {},
   "source": [
    "Ca peux etre assez répetitif s'il y a plein de conditions"
   ]
  },
  {
   "cell_type": "markdown",
   "metadata": {},
   "source": [
    "##### Le mot clé else"
   ]
  },
  {
   "cell_type": "markdown",
   "metadata": {},
   "source": [
    "_else_ permet de completer l'instruction if en effectuant une instruction si la condition n 'est pas respectée"
   ]
  },
  {
   "cell_type": "code",
   "execution_count": 57,
   "metadata": {},
   "outputs": [
    {
     "name": "stdout",
     "output_type": "stream",
     "text": [
      "Le nombre est pair.\n"
     ]
    }
   ],
   "source": [
    "nombre = 0\n",
    "if nombre%2 == 0: # Si le reste de la division \n",
    "    # euclidienne est nul\n",
    "    print(\"Le nombre est pair.\")\n",
    "else: # Sinon (reste division !=0)\n",
    "    print(\"Le nombre est impair.\")"
   ]
  },
  {
   "cell_type": "markdown",
   "metadata": {},
   "source": [
    "##### l'instruction elif"
   ]
  },
  {
   "cell_type": "markdown",
   "metadata": {},
   "source": [
    "Le mot cléelifest une contraction de « else if », que l'on peut traduire très littéralement par « sinon si ». Il permet de prendre en compte plusieurs condition (>2)"
   ]
  },
  {
   "cell_type": "code",
   "execution_count": 59,
   "metadata": {},
   "outputs": [
    {
     "name": "stdout",
     "output_type": "stream",
     "text": [
      "a est négatif.\n"
     ]
    }
   ],
   "source": [
    "a = -5\n",
    "if a > 0: # Positif\n",
    "    print(\"a est positif.\")\n",
    "elif a < 0: # Négatif\n",
    "    print(\"a est négatif.\")\n",
    "else: # Nul\n",
    "    print(\"a est nul.\")"
   ]
  },
  {
   "cell_type": "markdown",
   "metadata": {},
   "source": [
    "De même que le else, le elif est sur le même niveau d'indentation que leifinitial. Il se termine aussi par deux points. Cependant, entre le elif et les deux points se trouve une nouvelle condition. Les actions à réalisés sont indentés."
   ]
  },
  {
   "cell_type": "markdown",
   "metadata": {},
   "source": [
    "Rq : L'avantage de l'instruction elif est que l'on peux la répeter autant de fois que nécessaire alors que else ne peux etre utilisé qu'une fois par instruction if"
   ]
  },
  {
   "cell_type": "markdown",
   "metadata": {},
   "source": [
    "Rq : Il est heureusement possible d'imbriquer des conditions et, dans ce cas, l'indentation permet de comprendre clairement le schéma d'exécution du programme. "
   ]
  },
  {
   "cell_type": "markdown",
   "metadata": {},
   "source": [
    "## <u> boucles for et fonctions"
   ]
  },
  {
   "cell_type": "markdown",
   "metadata": {},
   "source": [
    "Il existe deux type de boucle, Des boucle bornée et des non Bornée.\n",
    "Les boucles bornées sont utilisée quand le nombre des répétition est connu et les boucle non bornée sont utilisée quand le nombre est inconnu"
   ]
  },
  {
   "cell_type": "code",
   "execution_count": 60,
   "metadata": {},
   "outputs": [
    {
     "name": "stdout",
     "output_type": "stream",
     "text": [
      "i a pour valeur a\n",
      "i a pour valeur 1\n",
      "i a pour valeur 2\n",
      "i a pour valeur 3\n"
     ]
    }
   ],
   "source": [
    "#Utilisation du tableau avec les nombres détaillé \n",
    "for i in [\"a\", 1, 2, 3]:\n",
    "    print(\"i a pour valeur\", i)"
   ]
  },
  {
   "cell_type": "code",
   "execution_count": 2,
   "metadata": {},
   "outputs": [
    {
     "name": "stdout",
     "output_type": "stream",
     "text": [
      "valeur de I est 0\n",
      "valeur de I est 1\n",
      "valeur de I est 2\n",
      "valeur de I est 3\n",
      "valeur de I est 4\n"
     ]
    }
   ],
   "source": [
    "#avec une limite en utilisant range\n",
    "for i in range(5):\n",
    "    print('valeur de I est', i)"
   ]
  },
  {
   "cell_type": "markdown",
   "metadata": {},
   "source": [
    "Une boucle non bornée est effectuée avec while\n"
   ]
  },
  {
   "cell_type": "code",
   "execution_count": 3,
   "metadata": {},
   "outputs": [
    {
     "name": "stdout",
     "output_type": "stream",
     "text": [
      "x a pour valeur 1\n",
      "x a pour valeur 2\n",
      "x a pour valeur 4\n",
      "x a pour valeur 8\n",
      "Fin\n"
     ]
    }
   ],
   "source": [
    "#avec while\n",
    "x = 1\n",
    "while x < 10:\n",
    "    print(\"x a pour valeur\", x)\n",
    "    x = x * 2\n",
    "print(\"Fin\")"
   ]
  },
  {
   "cell_type": "code",
   "execution_count": 4,
   "metadata": {},
   "outputs": [
    {
     "name": "stdout",
     "output_type": "stream",
     "text": [
      "i a pour valeur 0\n",
      "i a pour valeur 1\n",
      "i a pour valeur 2\n",
      "i a pour valeur 3\n"
     ]
    }
   ],
   "source": [
    "#meme code avec for\n",
    "for i in range(4):\n",
    "    print(\"i a pour valeur\", i)\n"
   ]
  },
  {
   "cell_type": "code",
   "execution_count": 5,
   "metadata": {},
   "outputs": [
    {
     "name": "stdout",
     "output_type": "stream",
     "text": [
      "i a pour valeur 0\n",
      "i a pour valeur 1\n",
      "i a pour valeur 2\n",
      "i a pour valeur 3\n"
     ]
    }
   ],
   "source": [
    "#et la version while\n",
    "\n",
    "i = 0\n",
    "while i < 4:\n",
    "    print(\"i a pour valeur\", i)\n",
    "    i = i + 1"
   ]
  },
  {
   "cell_type": "markdown",
   "metadata": {},
   "source": [
    "Les fonctions en Python"
   ]
  },
  {
   "cell_type": "code",
   "execution_count": null,
   "metadata": {},
   "outputs": [],
   "source": [
    "#une fonction en python\n",
    "def nom_fonction(liste de paramètres):\n",
    "      bloc d'instructions"
   ]
  },
  {
   "cell_type": "code",
   "execution_count": null,
   "metadata": {},
   "outputs": [],
   "source": [
    "def compteur3():\n",
    "    i = 0\n",
    "    while i < 3:\n",
    "        print(i)\n",
    "        i = i + 1\n",
    "\n",
    "print(\"bonjour\")\n",
    "compteur3()"
   ]
  },
  {
   "cell_type": "markdown",
   "metadata": {},
   "source": [
    "## <u> Compréhensions de listes"
   ]
  },
  {
   "cell_type": "markdown",
   "metadata": {},
   "source": [
    "Une compréhension de listes nous permet d'écrire par exemple des instructions comme une condition en une seule ligne. Il permet aussi d'éviter des boucles imbriquées. La sortie sera toujours une liste. On cherche ou transforme les éléments d'une liste selon la condition donnée. Le 'for' cherche chaque élément de la liste et le transforme en conséquence. "
   ]
  },
  {
   "cell_type": "code",
   "execution_count": 5,
   "metadata": {},
   "outputs": [],
   "source": [
    "L = [6,9,8,10,11,13]"
   ]
  },
  {
   "cell_type": "code",
   "execution_count": 6,
   "metadata": {},
   "outputs": [
    {
     "data": {
      "text/plain": [
       "[6, 8, 10]"
      ]
     },
     "execution_count": 6,
     "metadata": {},
     "output_type": "execute_result"
    }
   ],
   "source": [
    "# Nous ne sélectionnerons que les nombres pairs de la liste\n",
    "[x for x in L if x%2==0]"
   ]
  },
  {
   "cell_type": "code",
   "execution_count": 8,
   "metadata": {},
   "outputs": [
    {
     "data": {
      "text/plain": [
       "[3, 6, 9, 12, 15, 18, 21, 24, 27]"
      ]
     },
     "execution_count": 8,
     "metadata": {},
     "output_type": "execute_result"
    }
   ],
   "source": [
    "# Multiplions les nombres compris entre 1 et 9 par 3\n",
    "[x*3 for x in range(1,10)]"
   ]
  },
  {
   "cell_type": "markdown",
   "metadata": {},
   "source": [
    "#### Fonctions Lambda avec map(),filter() et reduce()"
   ]
  },
  {
   "cell_type": "markdown",
   "metadata": {},
   "source": [
    "Une fonction lambda est une fonction sans nom utilisée pour certains types de fonctions seulement. Le terme lambda sera déclaré à la place de def"
   ]
  },
  {
   "cell_type": "markdown",
   "metadata": {},
   "source": [
    "Trois fonctions sont utilisées avec lambda"
   ]
  },
  {
   "cell_type": "code",
   "execution_count": 64,
   "metadata": {},
   "outputs": [],
   "source": [
    "liste =[2,3,9]"
   ]
  },
  {
   "cell_type": "code",
   "execution_count": 65,
   "metadata": {},
   "outputs": [],
   "source": [
    "# map permet de transformer tous les éléments de la liste\n",
    "carre = map(lambda x:x**2, liste)"
   ]
  },
  {
   "cell_type": "code",
   "execution_count": 66,
   "metadata": {},
   "outputs": [
    {
     "name": "stdout",
     "output_type": "stream",
     "text": [
      "<map object at 0x7fcd4cd90be0>\n"
     ]
    },
    {
     "data": {
      "text/plain": [
       "[4, 9, 81]"
      ]
     },
     "execution_count": 66,
     "metadata": {},
     "output_type": "execute_result"
    }
   ],
   "source": [
    "print(carre)\n",
    "list(carre)"
   ]
  },
  {
   "cell_type": "code",
   "execution_count": 68,
   "metadata": {},
   "outputs": [],
   "source": [
    "# filter liste les éléments de la liste selon une condition particulière ici les nombres impairs\n",
    "non_pair = filter(lambda x : x%2!=0,liste)"
   ]
  },
  {
   "cell_type": "code",
   "execution_count": 69,
   "metadata": {},
   "outputs": [
    {
     "data": {
      "text/plain": [
       "[3, 9]"
      ]
     },
     "execution_count": 69,
     "metadata": {},
     "output_type": "execute_result"
    }
   ],
   "source": [
    "list(non_pair)"
   ]
  },
  {
   "cell_type": "code",
   "execution_count": 70,
   "metadata": {},
   "outputs": [],
   "source": [
    "# On peut créer un code encore plus compact avec reduce()\n",
    "from functools import reduce\n",
    "\n",
    "# Additionnons tous les éléments de la liste\n",
    "somme_liste=reduce(lambda x,y:x+y, liste)"
   ]
  },
  {
   "cell_type": "code",
   "execution_count": 71,
   "metadata": {},
   "outputs": [
    {
     "data": {
      "text/plain": [
       "14"
      ]
     },
     "execution_count": 71,
     "metadata": {},
     "output_type": "execute_result"
    }
   ],
   "source": [
    "somme_liste"
   ]
  },
  {
   "cell_type": "markdown",
   "metadata": {},
   "source": [
    "## <u> Les modules"
   ]
  },
  {
   "cell_type": "markdown",
   "metadata": {},
   "source": [
    "on appelle “module” tout fichier constitué de code Python (.py) contenant des définitions et des instructions , importé dans un autre fichier ou script.\n",
    "\n",
    "Les modules permettent la séparation et donc une meilleure organisation du code.\n",
    "\n",
    "Par exemple, nous allons créer un fichier nommé puissance.py qui va définir 2 fonctions : carre() et cube(). Un tel fichier est appelé un module et il va pouvoir être importé dans un autre fichier, et en particulier dans le fichier qui contient le programme principal.\n"
   ]
  },
  {
   "cell_type": "code",
   "execution_count": 72,
   "metadata": {},
   "outputs": [],
   "source": [
    "def carre(valeur):\n",
    "    resultat = valeur**2\n",
    "    return resultat\n",
    "\n",
    "def cube(valeur):\n",
    "    resultat = valeur**3\n",
    "    return resultat"
   ]
  },
  {
   "cell_type": "markdown",
   "metadata": {},
   "source": [
    "Il est maintenant possible d’utiliser dans un programme principal les fonctions qui ont été définies dans le module puissance.py. Pour cela, il faut importer les fonctions à partir du module.\n",
    "\n",
    "Exemple : on importe une seule fonction"
   ]
  },
  {
   "cell_type": "code",
   "execution_count": 16,
   "metadata": {},
   "outputs": [
    {
     "name": "stdout",
     "output_type": "stream",
     "text": [
      "le carre vaut 25\n"
     ]
    }
   ],
   "source": [
    "from puissance import carre\n",
    "a = 5\n",
    "u = carre(a)\n",
    "print(\"le carre vaut\", u)\n"
   ]
  },
  {
   "cell_type": "markdown",
   "metadata": {},
   "source": [
    "\n",
    "**Avertissement\n",
    "Le fichier puissance.py doit être dans le même répertoire que le programme principal (ou bien se trouver dans le « path » de Python).**\n",
    "\n",
    "Exemple : on importe explicitement les deux fonctions\n"
   ]
  },
  {
   "cell_type": "code",
   "execution_count": 17,
   "metadata": {},
   "outputs": [
    {
     "name": "stdout",
     "output_type": "stream",
     "text": [
      "le carre vaut 25\n",
      "le cube vaut 125\n"
     ]
    }
   ],
   "source": [
    "from puissance import carre, cube\n",
    "a = 5\n",
    "u = carre(a)\n",
    "print(\"le carre vaut\", u)\n",
    "v = cube(a)\n",
    "print(\"le cube vaut\", v)\n"
   ]
  },
  {
   "cell_type": "markdown",
   "metadata": {},
   "source": [
    "\n",
    "Exemple : on importe toutes les fonctions"
   ]
  },
  {
   "cell_type": "code",
   "execution_count": 18,
   "metadata": {},
   "outputs": [
    {
     "name": "stdout",
     "output_type": "stream",
     "text": [
      "le carre vaut 25\n",
      "le cube vaut 125\n"
     ]
    }
   ],
   "source": [
    "from puissance import *\n",
    "a = 5\n",
    "u = carre(a)\n",
    "print(\"le carre vaut\", u)\n",
    "v = cube(a)\n",
    "print(\"le cube vaut\", v)\n"
   ]
  },
  {
   "cell_type": "markdown",
   "metadata": {},
   "source": [
    "\n",
    "Avertissement\n",
    "L’importation de toutes les fonctions avec * est fortement déconseillée. En effet, elle ne permet pas d’avoir une vision claire des fonctions qui ont été importées. Ceci est donc une source potentielle d’erreurs.\n",
    "<br/>\n",
    "Exemple : on importe le module \n"
   ]
  },
  {
   "cell_type": "code",
   "execution_count": 2,
   "metadata": {},
   "outputs": [
    {
     "name": "stdout",
     "output_type": "stream",
     "text": [
      "le carre vaut 25\n",
      "le cube vaut 125\n"
     ]
    }
   ],
   "source": [
    "\n",
    "import puissance\n",
    "a = 5\n",
    "u = puissance.carre(a)\n",
    "print(\"le carre vaut\", u)\n",
    "v = puissance.cube(a)\n",
    "print(\"le cube vaut\", v)\n"
   ]
  },
  {
   "cell_type": "markdown",
   "metadata": {},
   "source": [
    "\n",
    "Note\n",
    "Dans ce cas, il faut préciser le nom du module devant la fonction."
   ]
  },
  {
   "cell_type": "code",
   "execution_count": null,
   "metadata": {},
   "outputs": [],
   "source": []
  }
 ],
 "metadata": {
  "kernelspec": {
   "display_name": "Python 3",
   "language": "python",
   "name": "python3"
  },
  "language_info": {
   "codemirror_mode": {
    "name": "ipython",
    "version": 3
   },
   "file_extension": ".py",
   "mimetype": "text/x-python",
   "name": "python",
   "nbconvert_exporter": "python",
   "pygments_lexer": "ipython3",
   "version": "3.8.3"
  }
 },
 "nbformat": 4,
 "nbformat_minor": 4
}
