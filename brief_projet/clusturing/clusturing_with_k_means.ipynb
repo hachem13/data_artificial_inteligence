{
  "nbformat": 4,
  "nbformat_minor": 0,
  "metadata": {
    "kernelspec": {
      "display_name": "Python 3",
      "language": "python",
      "name": "python3"
    },
    "language_info": {
      "codemirror_mode": {
        "name": "ipython",
        "version": 3
      },
      "file_extension": ".py",
      "mimetype": "text/x-python",
      "name": "python",
      "nbconvert_exporter": "python",
      "pygments_lexer": "ipython3",
      "version": "3.8.5"
    },
    "colab": {
      "name": "clusturing_with_k_means.ipynb",
      "provenance": [],
      "toc_visible": true
    }
  },
  "cells": [
    {
      "cell_type": "markdown",
      "metadata": {
        "id": "-aIZT7-BWVP4"
      },
      "source": [
        "### Qu'est ce que le clustering ?\n",
        "\n",
        "Le clustering est une méthode d’apprentissage non supervisé (unsupervised learning). Ainsi, on n’essaie pas d’apprendre une relation de corrélation entre un ensemble de features X d’une observation et une valeur à prédire Y, comme c’est le cas pour l’apprentissage supervisé. L’apprentissage non supervisé va plutôt trouver des patterns dans les données. Notamment, en regroupant les choses qui se ressemblent.\n",
        "\n",
        "La mise en cluster consiste à séparer ou à diviser un ensemble de données en un certain nombre de groupes, de sorte que les ensembles de données appartenant aux mêmes groupes se ressemblent davantage que ceux d’autres groupes. En termes simples, l’objectif est de séparer les groupes ayant des traits similaires et de les assigner en grappes.\n",
        "\n",
        "Il existe deux types de clustering :\n",
        "\n",
        "* Algorithmes de Partitionnement: Construire plusieurs partitions puis les évaluer selon certains critères\n",
        "* Algorithmes hiérarchiques: Créer une décomposition hiérarchique des objets selon certains critères\n",
        "* Algorithmes basés sur la densité: basés sur des notions de connectivité et de densité\n",
        "* Algorithmes de grille: basés sur un structure à multiniveaux de granularité\n",
        "* Algorithmes à modèles: Un modèle est supposé pour chaque cluster. Puis vérifier chaque modèle sur chaque groupe pour choisir le meilleur\n",
        "\n",
        "\n",
        "### Est ce un problème difficile ?\n",
        "\n",
        "* Ils sont coûteux en calcul par rapport à la complexité des algorithmes\n",
        "* Ils sont sensibles au bruit et aux valeurs aberrantes \n",
        "\n",
        "### Quelle sont les métrique utilisé pour le clustering ?\n",
        "\n",
        "* Normalized Mutual Information (NMI)\n",
        "* Adjusted Mutual Information (AMI)\n",
        "* Index de Davies-Bouldin \n",
        "* silouhette\n",
        "* scores de Fowlkes-Mallows\n",
        "* Index Calinski-Harabasz\n",
        "* Homogénéité, exhaustivité et mesure en V\n",
        "*\n",
        "\n",
        "### séparer les métrique avec \"ground truth\" et \"sans \"ground truth\" ?\n",
        "#### ground truth\n",
        "\n",
        "* AMI\n",
        "* NMI \n",
        "* Homogénéité\n",
        "\n",
        "#### whithout ground truth\n",
        "\n",
        "* Silouhette\n",
        "* Index Calinski-Harabasz\n",
        "* Index de Davies-Bouldin \n"
      ]
    },
    {
      "cell_type": "markdown",
      "metadata": {
        "id": "2_TYTT2tWVQG"
      },
      "source": [
        "### Data set digits"
      ]
    },
    {
      "cell_type": "code",
      "metadata": {
        "id": "9lE6aIioWVQJ"
      },
      "source": [
        "#import library\n",
        "import matplotlib.pyplot as plt\n",
        "from sklearn.datasets import load_digits\n",
        "from sklearn.cluster import KMeans\n",
        "from sklearn.metrics import silhouette_score\n",
        "from sklearn.preprocessing import StandardScaler"
      ],
      "execution_count": null,
      "outputs": []
    },
    {
      "cell_type": "code",
      "metadata": {
        "id": "kXnfjdekWVQM",
        "outputId": "24b6d450-5eac-4eb5-98d6-4fe3478e89f7"
      },
      "source": [
        "# Import some data\n",
        "digits = load_digits()\n",
        "\n",
        "# Show dimensionality\n",
        "print(digits.data.shape)"
      ],
      "execution_count": null,
      "outputs": [
        {
          "output_type": "stream",
          "text": [
            "(1797, 64)\n"
          ],
          "name": "stdout"
        }
      ]
    },
    {
      "cell_type": "markdown",
      "metadata": {
        "id": "ohQkkrObWVQP"
      },
      "source": [
        "### Use kmeans whitout standardScaler"
      ]
    },
    {
      "cell_type": "code",
      "metadata": {
        "id": "T0AsxQHAWVQQ"
      },
      "source": [
        "kmeans = KMeans(\n",
        "   init=\"random\",\n",
        "   n_clusters=10,\n",
        "   n_init=10,\n",
        "   max_iter=300,\n",
        "   random_state=42\n",
        ")"
      ],
      "execution_count": null,
      "outputs": []
    },
    {
      "cell_type": "code",
      "metadata": {
        "id": "EviG1hHVWVQS",
        "outputId": "f6ac9c99-c9ef-4c56-dbf4-a1e7cdefac83"
      },
      "source": [
        "kmeans.fit(digits.data)"
      ],
      "execution_count": null,
      "outputs": [
        {
          "output_type": "execute_result",
          "data": {
            "text/plain": [
              "KMeans(init='random', n_clusters=10, random_state=42)"
            ]
          },
          "metadata": {
            "tags": []
          },
          "execution_count": 4
        }
      ]
    },
    {
      "cell_type": "code",
      "metadata": {
        "id": "sEK8espKWVQT",
        "outputId": "0e76acae-479e-4d01-ecd3-ede0d134b9a1"
      },
      "source": [
        "kmeans.cluster_centers_[:1]"
      ],
      "execution_count": null,
      "outputs": [
        {
          "output_type": "execute_result",
          "data": {
            "text/plain": [
              "array([[ 0.00000000e+00,  1.12612613e-01,  4.00900901e+00,\n",
              "         1.18963964e+01,  1.22882883e+01,  5.30630631e+00,\n",
              "         4.23423423e-01,  1.38777878e-16,  9.00900901e-03,\n",
              "         8.64864865e-01,  8.21171171e+00,  1.35765766e+01,\n",
              "         1.26126126e+01,  9.86036036e+00,  1.50900901e+00,\n",
              "        -8.32667268e-17,  8.67361738e-19,  1.18468468e+00,\n",
              "         8.31981982e+00,  1.19684685e+01,  1.24099099e+01,\n",
              "         9.45045045e+00,  1.01351351e+00,  4.85722573e-17,\n",
              "         6.50521303e-19,  9.23423423e-01,  7.19369369e+00,\n",
              "         1.41171171e+01,  1.42117117e+01,  4.91441441e+00,\n",
              "         2.02702703e-01,  1.30104261e-18,  0.00000000e+00,\n",
              "         7.74774775e-01,  8.03603604e+00,  1.48108108e+01,\n",
              "         1.29144144e+01,  2.18468468e+00,  1.80180180e-02,\n",
              "         0.00000000e+00,  5.20417043e-18,  1.23423423e+00,\n",
              "         1.05000000e+01,  1.20675676e+01,  1.21351351e+01,\n",
              "         4.04054054e+00,  2.02702703e-01,  1.73472348e-17,\n",
              "         1.35135135e-02,  8.46846847e-01,  9.53603604e+00,\n",
              "         1.16036036e+01,  1.20540541e+01,  5.60360360e+00,\n",
              "         6.21621622e-01,  4.50450450e-03,  4.50450450e-03,\n",
              "         1.12612613e-01,  4.20720721e+00,  1.20135135e+01,\n",
              "         1.25675676e+01,  4.87387387e+00,  8.15315315e-01,\n",
              "         9.00900901e-03]])"
            ]
          },
          "metadata": {
            "tags": []
          },
          "execution_count": 5
        }
      ]
    },
    {
      "cell_type": "code",
      "metadata": {
        "scrolled": true,
        "id": "upQwk82SWVQV",
        "outputId": "29d4071e-7aa3-4ced-a6f8-4e9158a36a50"
      },
      "source": [
        "kmeans.n_iter_"
      ],
      "execution_count": null,
      "outputs": [
        {
          "output_type": "execute_result",
          "data": {
            "text/plain": [
              "25"
            ]
          },
          "metadata": {
            "tags": []
          },
          "execution_count": 6
        }
      ]
    },
    {
      "cell_type": "code",
      "metadata": {
        "id": "D0_YIMO7WVQX",
        "outputId": "cd0d3047-2dcd-4e98-874c-17abb93d2593"
      },
      "source": [
        "kmeans.labels_[:5]"
      ],
      "execution_count": null,
      "outputs": [
        {
          "output_type": "execute_result",
          "data": {
            "text/plain": [
              "array([6, 0, 0, 1, 2], dtype=int32)"
            ]
          },
          "metadata": {
            "tags": []
          },
          "execution_count": 7
        }
      ]
    },
    {
      "cell_type": "markdown",
      "metadata": {
        "id": "RTx5xA_XWVQY"
      },
      "source": [
        "### Result score"
      ]
    },
    {
      "cell_type": "code",
      "metadata": {
        "id": "CzMvvDMCWVQZ",
        "outputId": "dd375f18-8de7-480e-c063-fe41f77dbc32"
      },
      "source": [
        "from time import time\n",
        "from sklearn import metrics\n",
        "from sklearn.pipeline import make_pipeline\n",
        "from sklearn.preprocessing import StandardScaler\n",
        "\n",
        "print(110* '_')\n",
        "print('Result\\t\\ttime\\tinertia\\thomo\\tcompl\\tv-meas\\tARI\\tAMI\\taccracy\\tsilhouette\\tprecision')\n",
        "y_pred = kmeans.labels_\n",
        "y_true = digits.target\n",
        "t0 = time()\n",
        "estimator = make_pipeline(kmeans).fit(digits.data)\n",
        "fit_time = time() - t0\n",
        "results = [\"Score\", fit_time, estimator[-1].inertia_]\n",
        "# Define the metrics which require only the true labels and estimator\n",
        "# labels\n",
        "clustering_metrics = [\n",
        "    metrics.homogeneity_score,\n",
        "    metrics.completeness_score,\n",
        "    metrics.v_measure_score,\n",
        "    metrics.adjusted_rand_score,\n",
        "    metrics.adjusted_mutual_info_score,\n",
        "    metrics.accuracy_score,\n",
        "\n",
        "    \n",
        "]\n",
        "results += [m(y_true, estimator[-1].labels_) for m in clustering_metrics]\n",
        "# The silhouette score requires the full dataset\n",
        "results += [\n",
        "    metrics.silhouette_score(digits.data, estimator[-1].labels_,\n",
        "                             metric=\"euclidean\", sample_size=300,),\n",
        "    metrics.precision_score(y_true, y_pred, average = 'micro')\n",
        "]\n",
        "\n",
        "    \n",
        "\n",
        "# Show the results\n",
        "formatter_result = (\"{:9s}\\t{:.3f}s\\t{:.0f}\\t{:.3f}\\t{:.3f}\"\n",
        "                    \"\\t{:.3f}\\t{:.3f}\\t{:.3f}\\t{:.3f}\\t{:.3f}\\t\\t{:.3f}\")\n",
        "\n",
        "\n",
        "print(formatter_result.format(*results))\n",
        "print(110* '_')"
      ],
      "execution_count": null,
      "outputs": [
        {
          "output_type": "stream",
          "text": [
            "______________________________________________________________________________________________________________\n",
            "Result\t\ttime\tinertia\thomo\tcompl\tv-meas\tARI\tAMI\taccracy\tsilhouette\tprecision\n",
            "Score    \t1.057s\t1165201\t0.737\t0.745\t0.741\t0.664\t0.738\t0.088\t0.175\t\t0.088\n",
            "______________________________________________________________________________________________________________\n"
          ],
          "name": "stdout"
        }
      ]
    },
    {
      "cell_type": "markdown",
      "metadata": {
        "id": "GzGL5PUVWVQd"
      },
      "source": [
        "On remarque qu'on as une precision et l'accuracy avec un score très faible une des solutions est d'essayer avec le standardScaler et voir si les résultats sont meilleur ou pas "
      ]
    },
    {
      "cell_type": "markdown",
      "metadata": {
        "id": "LhchQAItWVQe"
      },
      "source": [
        "### User standardScaler"
      ]
    },
    {
      "cell_type": "code",
      "metadata": {
        "id": "b6xTPBOCWVQf"
      },
      "source": [
        "scaler = StandardScaler()\n",
        "scaled_features = scaler.fit_transform(digits.data)"
      ],
      "execution_count": null,
      "outputs": []
    },
    {
      "cell_type": "markdown",
      "metadata": {
        "id": "7fMxXf4MWVQg"
      },
      "source": [
        "### Use Kmeans"
      ]
    },
    {
      "cell_type": "code",
      "metadata": {
        "id": "PER2T1I3WVQh"
      },
      "source": [
        "kmeans = KMeans(\n",
        "   init=\"random\",\n",
        "   n_clusters=10,\n",
        "   n_init=10,\n",
        "   max_iter=300,\n",
        "   random_state=42\n",
        ")"
      ],
      "execution_count": null,
      "outputs": []
    },
    {
      "cell_type": "code",
      "metadata": {
        "scrolled": false,
        "id": "E-ZQLPCSWVQi",
        "outputId": "0fbdf0ab-80e7-4002-86ab-9d35d9bc144e"
      },
      "source": [
        "kmeans.fit(scaled_features)"
      ],
      "execution_count": null,
      "outputs": [
        {
          "output_type": "execute_result",
          "data": {
            "text/plain": [
              "KMeans(init='random', n_clusters=10, random_state=42)"
            ]
          },
          "metadata": {
            "tags": []
          },
          "execution_count": 21
        }
      ]
    },
    {
      "cell_type": "code",
      "metadata": {
        "id": "uM7Q68cSWVQk",
        "outputId": "6abb3de3-e8a4-4bf4-8f7e-ee6217ec05e1"
      },
      "source": [
        "kmeans.cluster_centers_[:1]"
      ],
      "execution_count": null,
      "outputs": [
        {
          "output_type": "execute_result",
          "data": {
            "text/plain": [
              "array([[ 0.        , -0.18635008,  0.00655712,  0.3653313 ,  0.5898762 ,\n",
              "         0.87255063,  0.80685553,  0.10790967, -0.05907756, -0.27588243,\n",
              "         0.10671144, -0.1799011 ,  0.04849708,  0.73315301,  0.72915704,\n",
              "        -0.08292031, -0.04462507, -0.40866675, -0.8796158 , -0.86550853,\n",
              "         0.06057151,  0.66327528,  0.21830983, -0.10140932, -0.03337973,\n",
              "        -0.5118553 , -0.75076038, -0.3345241 ,  0.50145435,  0.7854724 ,\n",
              "         0.68511538, -0.04723238,  0.        , -0.24772249,  0.21433882,\n",
              "         0.73442323,  0.79206232,  0.33269838,  0.34655961,  0.        ,\n",
              "        -0.06134367, -0.16378641, -0.24058259,  0.70699289,  0.51741772,\n",
              "        -0.80422354, -0.65943648, -0.08874162, -0.03543326, -0.35851961,\n",
              "        -0.780771  ,  0.56122513, -0.68690091, -1.39018412, -0.75629349,\n",
              "        -0.20978513, -0.02359646, -0.19081682,  0.20454911, -0.02421214,\n",
              "        -1.96928015, -1.12283835, -0.5056698 , -0.19600752]])"
            ]
          },
          "metadata": {
            "tags": []
          },
          "execution_count": 22
        }
      ]
    },
    {
      "cell_type": "code",
      "metadata": {
        "scrolled": true,
        "id": "jSYCXq_vWVQl",
        "outputId": "55b2e96c-58b6-4103-bb6c-9c0d7993bcfe"
      },
      "source": [
        "kmeans.inertia_"
      ],
      "execution_count": null,
      "outputs": [
        {
          "output_type": "execute_result",
          "data": {
            "text/plain": [
              "69671.80496339034"
            ]
          },
          "metadata": {
            "tags": []
          },
          "execution_count": 23
        }
      ]
    },
    {
      "cell_type": "code",
      "metadata": {
        "scrolled": true,
        "id": "_DHB_AczWVQn",
        "outputId": "3cccc67a-c7ce-4dbd-ae0a-f63f3b229545"
      },
      "source": [
        "kmeans.labels_[:5]"
      ],
      "execution_count": null,
      "outputs": [
        {
          "output_type": "execute_result",
          "data": {
            "text/plain": [
              "array([7, 8, 8, 6, 4], dtype=int32)"
            ]
          },
          "metadata": {
            "tags": []
          },
          "execution_count": 24
        }
      ]
    },
    {
      "cell_type": "code",
      "metadata": {
        "id": "ga_F1ERMWVQo",
        "outputId": "ef0d583d-9eb2-4f3f-e678-d911c3e4c373"
      },
      "source": [
        "kmeans.cluster_centers_[:1]"
      ],
      "execution_count": null,
      "outputs": [
        {
          "output_type": "execute_result",
          "data": {
            "text/plain": [
              "array([[ 0.        , -0.18635008,  0.00655712,  0.3653313 ,  0.5898762 ,\n",
              "         0.87255063,  0.80685553,  0.10790967, -0.05907756, -0.27588243,\n",
              "         0.10671144, -0.1799011 ,  0.04849708,  0.73315301,  0.72915704,\n",
              "        -0.08292031, -0.04462507, -0.40866675, -0.8796158 , -0.86550853,\n",
              "         0.06057151,  0.66327528,  0.21830983, -0.10140932, -0.03337973,\n",
              "        -0.5118553 , -0.75076038, -0.3345241 ,  0.50145435,  0.7854724 ,\n",
              "         0.68511538, -0.04723238,  0.        , -0.24772249,  0.21433882,\n",
              "         0.73442323,  0.79206232,  0.33269838,  0.34655961,  0.        ,\n",
              "        -0.06134367, -0.16378641, -0.24058259,  0.70699289,  0.51741772,\n",
              "        -0.80422354, -0.65943648, -0.08874162, -0.03543326, -0.35851961,\n",
              "        -0.780771  ,  0.56122513, -0.68690091, -1.39018412, -0.75629349,\n",
              "        -0.20978513, -0.02359646, -0.19081682,  0.20454911, -0.02421214,\n",
              "        -1.96928015, -1.12283835, -0.5056698 , -0.19600752]])"
            ]
          },
          "metadata": {
            "tags": []
          },
          "execution_count": 25
        }
      ]
    },
    {
      "cell_type": "code",
      "metadata": {
        "id": "KuR95nE-WVQq",
        "outputId": "33932871-b4dd-4ee8-e18e-733c47584783"
      },
      "source": [
        "kmeans.n_iter_"
      ],
      "execution_count": null,
      "outputs": [
        {
          "output_type": "execute_result",
          "data": {
            "text/plain": [
              "28"
            ]
          },
          "metadata": {
            "tags": []
          },
          "execution_count": 26
        }
      ]
    },
    {
      "cell_type": "code",
      "metadata": {
        "id": "uusiChbpWVQr",
        "outputId": "42059622-e4cc-4cf7-ef2e-adf1e15479dc"
      },
      "source": [
        "kmeans.labels_[:5]"
      ],
      "execution_count": null,
      "outputs": [
        {
          "output_type": "execute_result",
          "data": {
            "text/plain": [
              "array([7, 8, 8, 6, 4], dtype=int32)"
            ]
          },
          "metadata": {
            "tags": []
          },
          "execution_count": 27
        }
      ]
    },
    {
      "cell_type": "code",
      "metadata": {
        "id": "N8TW_08sWVQs",
        "outputId": "375fa83e-4190-4c99-8dc2-09e25f6ccdad"
      },
      "source": [
        "kmeans.labels_.shape"
      ],
      "execution_count": null,
      "outputs": [
        {
          "output_type": "execute_result",
          "data": {
            "text/plain": [
              "(1797,)"
            ]
          },
          "metadata": {
            "tags": []
          },
          "execution_count": 28
        }
      ]
    },
    {
      "cell_type": "code",
      "metadata": {
        "scrolled": true,
        "id": "Med1blTbWVQu",
        "outputId": "6114a5c8-5905-435c-f574-2e7a7b8fb024"
      },
      "source": [
        "\n",
        "print(110* '_')\n",
        "print('Result\\t\\ttime\\tinertia\\thomo\\tcompl\\tv-meas\\tARI\\tAMI\\taccracy\\tsilhouette\\tprecision')\n",
        "y_pred = kmeans.labels_\n",
        "y_true = digits.target\n",
        "t0 = time()\n",
        "estimator = make_pipeline(StandardScaler(), kmeans).fit(digits.data)\n",
        "fit_time = time() - t0\n",
        "results = [\"Score\", fit_time, estimator[-1].inertia_]\n",
        "# Define the metrics which require only the true labels and estimator\n",
        "# labels\n",
        "clustering_metrics = [\n",
        "    metrics.homogeneity_score,\n",
        "    metrics.completeness_score,\n",
        "    metrics.v_measure_score,\n",
        "    metrics.adjusted_rand_score,\n",
        "    metrics.adjusted_mutual_info_score,\n",
        "    metrics.accuracy_score,\n",
        "\n",
        "    \n",
        "]\n",
        "results += [m(y_true, estimator[-1].labels_) for m in clustering_metrics]\n",
        "# The silhouette score requires the full dataset\n",
        "results += [\n",
        "    metrics.silhouette_score(digits.data, estimator[-1].labels_,\n",
        "                             metric=\"euclidean\", sample_size=300,),\n",
        "    metrics.precision_score(y_true, y_pred, average = 'micro')\n",
        "]\n",
        "\n",
        "    \n",
        "\n",
        "# Show the results\n",
        "formatter_result = (\"{:9s}\\t{:.3f}s\\t{:.0f}\\t{:.3f}\\t{:.3f}\"\n",
        "                    \"\\t{:.3f}\\t{:.3f}\\t{:.3f}\\t{:.3f}\\t{:.3f}\\t\\t{:.3f}\")\n",
        "\n",
        "print(formatter_result.format(*results))\n",
        "print(110* '_')"
      ],
      "execution_count": null,
      "outputs": [
        {
          "output_type": "stream",
          "text": [
            "______________________________________________________________________________________________________________\n",
            "Result\t\ttime\tinertia\thomo\tcompl\tv-meas\tARI\tAMI\taccracy\tsilhouette\tprecision\n",
            "Score    \t1.939s\t47651\t0.820\t0.602\t0.694\t0.490\t0.686\t0.009\t0.116\t\t0.009\n",
            "______________________________________________________________________________________________________________\n"
          ],
          "name": "stdout"
        }
      ]
    },
    {
      "cell_type": "code",
      "metadata": {
        "id": "GkYrJibOWVQw"
      },
      "source": [
        "kmeans_kwargs = {\n",
        "    \"init\": \"random\",\n",
        "    \"n_init\": 10,\n",
        "    \"max_iter\": 300,\n",
        "    \"random_state\": 42,\n",
        "}\n",
        "\n",
        "\n",
        "# A list holds the SSE values for each k\n",
        "sse = []\n",
        "for k in range(1, 11 ):\n",
        "    kmeans = KMeans(n_clusters=k, **kmeans_kwargs)\n",
        "    kmeans.fit(scaled_features)\n",
        "    sse.append(kmeans.inertia_)"
      ],
      "execution_count": null,
      "outputs": []
    },
    {
      "cell_type": "code",
      "metadata": {
        "id": "jyhMlJ4jWVQy",
        "outputId": "cac4ca49-d1a6-47fe-e2bc-a2f3d66139ea"
      },
      "source": [
        "plt.style.use(\"fivethirtyeight\")\n",
        "plt.plot(range(1, 11), sse)\n",
        "plt.xticks(range(1, 11))\n",
        "plt.xlabel(\"Number of Clusters\")\n",
        "plt.ylabel(\"SSE\")\n",
        "plt.show()"
      ],
      "execution_count": null,
      "outputs": [
        {
          "output_type": "display_data",
          "data": {
            "image/png": "[encoded data removed]",
            "text/plain": [
              "<Figure size 432x288 with 1 Axes>"
            ]
          },
          "metadata": {
            "tags": []
          }
        }
      ]
    },
    {
      "cell_type": "code",
      "metadata": {
        "id": "pJQBmBVxWVQz"
      },
      "source": [
        "silhouette_coefficients = []\n",
        "\n",
        "# Notice you start at 2 clusters for silhouette coefficient\n",
        "for k in range(2, 11):\n",
        "    kmeans = KMeans(n_clusters=k, **kmeans_kwargs)\n",
        "    kmeans.fit(scaled_features)\n",
        "    score = silhouette_score(scaled_features, kmeans.labels_)\n",
        "    silhouette_coefficients.append(score)"
      ],
      "execution_count": null,
      "outputs": []
    },
    {
      "cell_type": "code",
      "metadata": {
        "id": "UoO_NFT4WVQ0",
        "outputId": "8f00c0be-33d7-425c-abbb-558c70f93f7b"
      },
      "source": [
        "plt.style.use(\"fivethirtyeight\")\n",
        "plt.plot(range(2, 11), silhouette_coefficients)\n",
        "plt.xticks(range(2, 11))\n",
        "plt.xlabel(\"Number of Clusters\")\n",
        "plt.ylabel(\"Silhouette Coefficient\")\n",
        "plt.show()"
      ],
      "execution_count": null,
      "outputs": [
        {
          "output_type": "display_data",
          "data": {
            "image/png": "[encoded data removed]",
            "text/plain": [
              "<Figure size 432x288 with 1 Axes>"
            ]
          },
          "metadata": {
            "tags": []
          }
        }
      ]
    },
    {
      "cell_type": "markdown",
      "metadata": {
        "id": "hDyTY9XpWVQ5"
      },
      "source": [
        "On remarque que quand on augmente le nombre clusters le coefficent silhouette dimnue a partir de 17 ème clusteur"
      ]
    },
    {
      "cell_type": "code",
      "metadata": {
        "id": "htFeccbCWVQ6"
      },
      "source": [
        "a = 30\n",
        "b = 3\n",
        "kmeans_kwargs = {\n",
        "    \"init\": \"random\",\n",
        "    \"n_init\": 10,\n",
        "    \"max_iter\": 300,\n",
        "    \"random_state\": 42,\n",
        "}\n",
        "\n",
        "\n",
        "# A list holds the SSE values for each k\n",
        "sse = []\n",
        "for k in range(1, a, b):\n",
        "    kmeans = KMeans(n_clusters=k, **kmeans_kwargs)\n",
        "    kmeans.fit(scaled_features)\n",
        "    sse.append(kmeans.inertia_)"
      ],
      "execution_count": null,
      "outputs": []
    },
    {
      "cell_type": "code",
      "metadata": {
        "id": "c0n1KTeGWVQ8",
        "outputId": "c29f47e6-821a-4ee2-ec56-2e6255bda112"
      },
      "source": [
        "plt.style.use(\"fivethirtyeight\")\n",
        "plt.plot(range(1, a, b), sse)\n",
        "plt.xticks(range(1, a, b))\n",
        "plt.xlabel(\"Number of Clusters\")\n",
        "plt.ylabel(\"SSE\")\n",
        "plt.show()"
      ],
      "execution_count": null,
      "outputs": [
        {
          "output_type": "display_data",
          "data": {
            "image/png": "[encoded data removed]",
            "text/plain": [
              "<Figure size 432x288 with 1 Axes>"
            ]
          },
          "metadata": {
            "tags": []
          }
        }
      ]
    },
    {
      "cell_type": "code",
      "metadata": {
        "id": "rv0NyJvbWVQ_"
      },
      "source": [
        "silhouette_coefficients = []\n",
        "\n",
        "# Notice you start at 2 clusters for silhouette coefficient\n",
        "for k in range(2, a, b):\n",
        "    kmeans = KMeans(n_clusters=k, **kmeans_kwargs)\n",
        "    kmeans.fit(scaled_features)\n",
        "    score = silhouette_score(scaled_features, kmeans.labels_)\n",
        "    silhouette_coefficients.append(score)"
      ],
      "execution_count": null,
      "outputs": []
    },
    {
      "cell_type": "code",
      "metadata": {
        "scrolled": true,
        "id": "cPslgNWHWVRB",
        "outputId": "08a9a98b-15ca-4afe-b44b-519ea7fae5d3"
      },
      "source": [
        "plt.style.use(\"fivethirtyeight\")\n",
        "plt.plot(range(2, a, b) ,silhouette_coefficients)\n",
        "plt.xticks(range(2, a, b))\n",
        "plt.xlabel(\"Number of Clusters\")\n",
        "plt.ylabel(\"Silhouette Coefficient\")\n",
        "plt.show()"
      ],
      "execution_count": null,
      "outputs": [
        {
          "output_type": "display_data",
          "data": {
            "image/png": "[encoded data removed]",
            "text/plain": [
              "<Figure size 432x288 with 1 Axes>"
            ]
          },
          "metadata": {
            "tags": []
          }
        }
      ]
    },
    {
      "cell_type": "markdown",
      "metadata": {
        "id": "0J9AAK-HWVRD"
      },
      "source": [
        "### Visualize the results on PCA-reduced data"
      ]
    },
    {
      "cell_type": "code",
      "metadata": {
        "id": "WgsfJwVDWVRE",
        "outputId": "fa5b0db2-41ef-4999-808a-90ee9ac2c6ed"
      },
      "source": [
        "import matplotlib.pyplot as plt\n",
        "from sklearn.decomposition import PCA\n",
        "import numpy as np\n",
        "\n",
        "reduced_data = PCA(n_components=2).fit_transform(digits.data)\n",
        "kmeans = KMeans(init=\"k-means++\", n_clusters=10, n_init=4)\n",
        "kmeans.fit(reduced_data)\n",
        "\n",
        "# Step size of the mesh. Decrease to increase the quality of the VQ.\n",
        "h = .02     # point in the mesh [x_min, x_max]x[y_min, y_max].\n",
        "\n",
        "# Plot the decision boundary. For that, we will assign a color to each\n",
        "x_min, x_max = reduced_data[:, 0].min() - 1, reduced_data[:, 0].max() + 1\n",
        "y_min, y_max = reduced_data[:, 1].min() - 1, reduced_data[:, 1].max() + 1\n",
        "xx, yy = np.meshgrid(np.arange(x_min, x_max, h), np.arange(y_min, y_max, h))\n",
        "\n",
        "# Obtain labels for each point in mesh. Use last trained model.\n",
        "Z = kmeans.predict(np.c_[xx.ravel(), yy.ravel()])\n",
        "\n",
        "# Put the result into a color plot\n",
        "Z = Z.reshape(xx.shape)\n",
        "plt.figure(1)\n",
        "plt.clf()\n",
        "plt.imshow(Z, interpolation=\"nearest\",\n",
        "           extent=(xx.min(), xx.max(), yy.min(), yy.max()),\n",
        "           cmap=plt.cm.Paired, aspect=\"auto\", origin=\"lower\")\n",
        "\n",
        "plt.plot(reduced_data[:, 0], reduced_data[:, 1], 'k.', markersize=2)\n",
        "# Plot the centroids as a white X\n",
        "centroids = kmeans.cluster_centers_\n",
        "plt.scatter(centroids[:, 0], centroids[:, 1], marker=\"x\", s=169, linewidths=3,\n",
        "            color=\"w\", zorder=10)\n",
        "plt.title(\"K-means clustering on the digits dataset (PCA-reduced data)\\n\"\n",
        "          \"Centroids are marked with white cross\")\n",
        "plt.xlim(x_min, x_max)\n",
        "plt.ylim(y_min, y_max)\n",
        "plt.xticks(())\n",
        "plt.yticks(())\n",
        "plt.show()\n"
      ],
      "execution_count": null,
      "outputs": [
        {
          "output_type": "display_data",
          "data": {
            "image/png": "[encoded data removed]",
            "text/plain": [
              "<Figure size 432x288 with 1 Axes>"
            ]
          },
          "metadata": {
            "tags": []
          }
        }
      ]
    },
    {
      "cell_type": "markdown",
      "metadata": {
        "id": "arBjgZUwWVRK"
      },
      "source": [
        "### Load data set Emotion_final"
      ]
    },
    {
      "cell_type": "code",
      "metadata": {
        "id": "RIWKXdOaWVRM"
      },
      "source": [
        "import pandas as pd\n",
        "import nltk\n",
        "from sklearn.feature_extraction.text import CountVectorizer\n",
        "from time import time\n",
        "from sklearn.cluster import KMeans\n",
        "from sklearn import metrics\n",
        "from sklearn.pipeline import make_pipeline\n",
        "from sklearn.preprocessing import StandardScaler\n",
        "from sklearn.decomposition import TruncatedSVD\n",
        "from sklearn.decomposition import PCA\n",
        "from sklearn import preprocessing"
      ],
      "execution_count": 18,
      "outputs": []
    },
    {
      "cell_type": "code",
      "metadata": {
        "id": "yxrsBuEjWVRN"
      },
      "source": [
        "df = pd.read_csv(\"data/Emotion_final.csv\")"
      ],
      "execution_count": 19,
      "outputs": []
    },
    {
      "cell_type": "code",
      "metadata": {
        "colab": {
          "base_uri": "https://localhost:8080/",
          "height": 204
        },
        "id": "82yyyGFwWVRO",
        "outputId": "d78b7403-a54a-46ae-a355-a4a7bfa6490e"
      },
      "source": [
        "df.head()"
      ],
      "execution_count": 20,
      "outputs": [
        {
          "output_type": "execute_result",
          "data": {
            "text/html": [
              "<div>\n",
              "<style scoped>\n",
              "    .dataframe tbody tr th:only-of-type {\n",
              "        vertical-align: middle;\n",
              "    }\n",
              "\n",
              "    .dataframe tbody tr th {\n",
              "        vertical-align: top;\n",
              "    }\n",
              "\n",
              "    .dataframe thead th {\n",
              "        text-align: right;\n",
              "    }\n",
              "</style>\n",
              "<table border=\"1\" class=\"dataframe\">\n",
              "  <thead>\n",
              "    <tr style=\"text-align: right;\">\n",
              "      <th></th>\n",
              "      <th>Text</th>\n",
              "      <th>Emotion</th>\n",
              "    </tr>\n",
              "  </thead>\n",
              "  <tbody>\n",
              "    <tr>\n",
              "      <th>0</th>\n",
              "      <td>i didnt feel humiliated</td>\n",
              "      <td>sadness</td>\n",
              "    </tr>\n",
              "    <tr>\n",
              "      <th>1</th>\n",
              "      <td>i can go from feeling so hopeless to so damned...</td>\n",
              "      <td>sadness</td>\n",
              "    </tr>\n",
              "    <tr>\n",
              "      <th>2</th>\n",
              "      <td>im grabbing a minute to post i feel greedy wrong</td>\n",
              "      <td>anger</td>\n",
              "    </tr>\n",
              "    <tr>\n",
              "      <th>3</th>\n",
              "      <td>i am ever feeling nostalgic about the fireplac...</td>\n",
              "      <td>love</td>\n",
              "    </tr>\n",
              "    <tr>\n",
              "      <th>4</th>\n",
              "      <td>i am feeling grouchy</td>\n",
              "      <td>anger</td>\n",
              "    </tr>\n",
              "  </tbody>\n",
              "</table>\n",
              "</div>"
            ],
            "text/plain": [
              "                                                Text  Emotion\n",
              "0                            i didnt feel humiliated  sadness\n",
              "1  i can go from feeling so hopeless to so damned...  sadness\n",
              "2   im grabbing a minute to post i feel greedy wrong    anger\n",
              "3  i am ever feeling nostalgic about the fireplac...     love\n",
              "4                               i am feeling grouchy    anger"
            ]
          },
          "metadata": {
            "tags": []
          },
          "execution_count": 20
        }
      ]
    },
    {
      "cell_type": "markdown",
      "metadata": {
        "id": "qlFNBKzyWVRP"
      },
      "source": [
        "### Processing data"
      ]
    },
    {
      "cell_type": "code",
      "metadata": {
        "id": "7GDY8pruWVRQ"
      },
      "source": [
        "corpus = df.Text\n",
        "targets = df.Emotion\n",
        "\n",
        "#stop_words = nltk.corpus.stopwords.words(\"english\")"
      ],
      "execution_count": 21,
      "outputs": []
    },
    {
      "cell_type": "code",
      "metadata": {
        "id": "BnSWb_1lWVRR"
      },
      "source": [
        "vectorizer = CountVectorizer()"
      ],
      "execution_count": 22,
      "outputs": []
    },
    {
      "cell_type": "code",
      "metadata": {
        "id": "A5_nIJHGWVRS"
      },
      "source": [
        "data = vectorizer.fit_transform(corpus)"
      ],
      "execution_count": 23,
      "outputs": []
    },
    {
      "cell_type": "code",
      "metadata": {
        "id": "PUIeq7KBWVRT"
      },
      "source": [
        "le = preprocessing.LabelEncoder()\n",
        "le.fit(targets)\n",
        "labels = le.transform(targets)"
      ],
      "execution_count": 24,
      "outputs": []
    },
    {
      "cell_type": "code",
      "metadata": {
        "colab": {
          "base_uri": "https://localhost:8080/"
        },
        "id": "UJji7U0eWVRU",
        "outputId": "d49c573c-8b9f-4095-a90a-da0380b37431"
      },
      "source": [
        "data.shape"
      ],
      "execution_count": 25,
      "outputs": [
        {
          "output_type": "execute_result",
          "data": {
            "text/plain": [
              "(21459, 19211)"
            ]
          },
          "metadata": {
            "tags": []
          },
          "execution_count": 25
        }
      ]
    },
    {
      "cell_type": "code",
      "metadata": {
        "colab": {
          "base_uri": "https://localhost:8080/"
        },
        "id": "PNZB2FXHWVRV",
        "outputId": "e4766e15-4f9c-4d02-e49b-dea03f4b80e0"
      },
      "source": [
        "labels.shape"
      ],
      "execution_count": 26,
      "outputs": [
        {
          "output_type": "execute_result",
          "data": {
            "text/plain": [
              "(21459,)"
            ]
          },
          "metadata": {
            "tags": []
          },
          "execution_count": 26
        }
      ]
    },
    {
      "cell_type": "code",
      "metadata": {
        "id": "SUbuXCa8WVRX"
      },
      "source": [
        "def bench_k_means(kmeans, name, data, labels, with_mean=False):\n",
        "    \"\"\"Benchmark to evaluate the KMeans initialization methods.\"\"\"\n",
        "\n",
        "\n",
        "    t0 = time()\n",
        "    estimator = make_pipeline(StandardScaler(with_mean=False), kmeans).fit(data)\n",
        "    fit_time = time() - t0\n",
        "    results = [name, fit_time, estimator[-1].inertia_]\n",
        "\n",
        "    # Define the metrics which require only the true labels and estimator\n",
        "    # labels\n",
        "    clustering_metrics = [\n",
        "        metrics.homogeneity_score,\n",
        "        metrics.completeness_score,\n",
        "        metrics.v_measure_score,\n",
        "        metrics.adjusted_rand_score,\n",
        "        metrics.adjusted_mutual_info_score,\n",
        "        metrics.accuracy_score,\n",
        "    ]\n",
        "    results += [m(labels, estimator[-1].labels_) for m in clustering_metrics]\n",
        "\n",
        "    # The silhouette score requires the full dataset\n",
        "    results += [\n",
        "        metrics.silhouette_score(data, estimator[-1].labels_,\n",
        "                                 metric=\"euclidean\")\n",
        "    ]\n",
        "\n",
        "    # Show the results\n",
        "    formatter_result = (\"{:9s}\\t{:.3f}s\\t{:.0f}\\t{:.3f}\\t{:.3f}\"\n",
        "                        \"\\t{:.3f}\\t{:.3f}\\t{:.3f}\\t{:.3f}\\t{:.3f}\")\n",
        "    print(formatter_result.format(*results))"
      ],
      "execution_count": 27,
      "outputs": []
    },
    {
      "cell_type": "code",
      "metadata": {
        "colab": {
          "base_uri": "https://localhost:8080/"
        },
        "id": "ZBszJaw9WVRY",
        "outputId": "5bc69d0b-f38a-409e-86f5-ccb2c04ba45a"
      },
      "source": [
        "print(82 * '_')\n",
        "print('init\\t\\ttime\\tinertia\\t\\thomo\\tcompl\\tv-meas\\tARI\\tAMI\\taccracy\\tsilhouette')\n",
        "n_digits = 6\n",
        "kmeans = KMeans(init=\"k-means++\", n_clusters=n_digits, n_init=4,\n",
        "                random_state=0)\n",
        "bench_k_means(kmeans=kmeans, name=\"k-means++\", data=data, labels=labels)\n",
        "\n",
        "kmeans = KMeans(init=\"random\", n_clusters=n_digits, n_init=4, random_state=0)\n",
        "bench_k_means(kmeans=kmeans, name=\"random\", data=data, labels=labels)\n",
        "\n",
        "\n",
        "\n",
        "clf = TruncatedSVD(n_components = 6)\n",
        "clf.fit(data)\n",
        "\n",
        "\n",
        "kmeans = KMeans(n_clusters=n_digits, init = clf.components_, n_init =1)\n",
        "bench_k_means(kmeans=kmeans, name=\"PCA-init\", data=data, labels=labels)\n",
        "\n",
        "\n",
        "clf = TruncatedSVD(n_components = 100)\n",
        "Xpca = clf.fit_transform(data)\n",
        "\n",
        "\n",
        "kmeans = KMeans(n_clusters=n_digits)\n",
        "bench_k_means(kmeans=kmeans, name=\"PCA-based\", data=Xpca, labels=labels)\n",
        "\n",
        "print(82 * '_')"
      ],
      "execution_count": 28,
      "outputs": [
        {
          "output_type": "stream",
          "text": [
            "__________________________________________________________________________________\n",
            "init\t\ttime\tinertia\t\thomo\tcompl\tv-meas\tARI\tAMI\taccracy\tsilhouette\n",
            "k-means++\t4.540s\t411698579\t0.000\t0.064\t0.001\t0.000\t0.000\t0.139\t-0.024\n",
            "random   \t9.565s\t411963612\t0.000\t0.073\t0.001\t-0.000\t0.000\t0.124\t-0.080\n",
            "PCA-init \t7.696s\t411909008\t0.002\t0.005\t0.003\t0.005\t0.003\t0.248\t-0.010\n",
            "PCA-based\t2.477s\t2055153\t0.003\t0.007\t0.004\t0.007\t0.004\t0.301\t0.060\n",
            "__________________________________________________________________________________\n"
          ],
          "name": "stdout"
        }
      ]
    },
    {
      "cell_type": "code",
      "metadata": {
        "id": "GgO-900tWVRZ"
      },
      "source": [
        "from sklearn.cluster import SpectralClustering\n",
        "n_digits = 6\n",
        "\n",
        "clf = TruncatedSVD(n_components = 50)\n",
        "Xpca = clf.fit_transform(data)\n",
        "\n",
        "\n",
        "kmeans = SpectralClustering(n_clusters=n_digits)\n",
        "bench_k_means(kmeans=kmeans, name=\"PCA-based\", data=Xpca, labels=labels)"
      ],
      "execution_count": null,
      "outputs": []
    },
    {
      "cell_type": "markdown",
      "metadata": {
        "id": "VBNTYbWBarGw"
      },
      "source": [
        "Pour le spectralClustering il faut beaucoup de mémoire "
      ]
    }
  ]
}