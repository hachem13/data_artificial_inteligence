{
 "cells": [
  {
   "cell_type": "markdown",
   "metadata": {},
   "source": [
    "Les fichiers en Python "
   ]
  },
  {
   "cell_type": "markdown",
   "metadata": {},
   "source": [
    "Définition et utilité : \n",
    "\n",
    "Le fichier permet de stockées les informations contenu dans les variables à la fin de l’exécution d’un programme pour éviter que ces informations soient perdus,\n",
    "Les fichiers permettent  de conserver et d’enregistrer ces données dans le disque dur.\n"
   ]
  },
  {
   "cell_type": "markdown",
   "metadata": {},
   "source": [
    "Ouverture des fichiers :\n",
    "    Pour ouvrir un fichier, on utilise la fonction open :\n",
    "        Elle prend en paramètre:\n",
    "            *le chemin (absolu ou relatif) menant au fichier à ouvrir;\n",
    "            *le mode d'ouverture c'est à dire qu'on va spécificier avec des initiales \n",
    "            ce qu'on veut faire du fichier aprés l'ouverture :\n",
    "                si l'on veut juste lire le fichier, on utilisera l'argument \"r\" (read)\n",
    "                Si l'on veut pouvoir écrire dans le fichier, on utilisera \"w\"(write)\n",
    "                Sinon si on veut modifier le fichier, sans ecraser le contenu initiale \n",
    "                on utilise \"a\" (append)"
   ]
  },
  {
   "cell_type": "markdown",
   "metadata": {},
   "source": [
    "exemple :\n",
    ">>>mon_fichier = open(\"fichier.txt\", \"r\")\n",
    ">>>mon_fichier\n",
    "<_io.TextIOWrapper name='fichier.txt' encoding='cp1252'>\n",
    "type(mon_fichier)\n",
    "<class '_io.TextIOWrapper'>\n",
    " mon_fichier = close()\n",
    "    "
   ]
  },
  {
   "cell_type": "markdown",
   "metadata": {},
   "source": [
    "Fermeture des fichiers :\n",
    "    On utilise la méthode close\n",
    "Il est important de fermer les fichier aprés utilisation pour \n",
    "qu'il reste accessible aux autres utilisateurs de ce fichier"
   ]
  },
  {
   "cell_type": "markdown",
   "metadata": {},
   "source": [
    "exemple :\n",
    "    mon_fichier =close()"
   ]
  },
  {
   "cell_type": "markdown",
   "metadata": {},
   "source": [
    "Lecture des fichiers :\n",
    "        1/Lire l'intégralité du fichier :\n",
    "        On utilise la methode read, elle renvoie l'intégralité du texte "
   ]
  },
  {
   "cell_type": "markdown",
   "metadata": {},
   "source": [
    "exemple :\n",
    ">>>mon_fichier = open(\"fichier.txt\", \"r\")\n",
    ">>> contenu = mon_fichier.read()\n",
    ">>> print(contenu)\n",
    "C'est le contenu du fichier. Spectaculaire non ?\n",
    ">>> mon_fichier.close()\n",
    ">>>"
   ]
  },
  {
   "cell_type": "markdown",
   "metadata": {},
   "source": [
    "2/ la méthode .readline()\n",
    "    elle permet de lire un fichier ligne par ligne\n",
    "    "
   ]
  },
  {
   "cell_type": "markdown",
   "metadata": {},
   "source": [
    "exemple :\n",
    ">>>with open (\"fichier.txt,r\")\n",
    ">>> contenu = mon_fichier.readline()\n",
    ">>> print(contenu)\n",
    ">>>c'est le contenu de mon unique ligne\n",
    ">>> mon_fichier.close()"
   ]
  },
  {
   "cell_type": "markdown",
   "metadata": {},
   "source": [
    "Culture informatique :\n",
    "    1/chemin absolu, on décrit l'intégralité du chemin menant au fichier, \n",
    "    peu importe l'endroit où on se trouve\n",
    "    L'inconvénient de cette méthode, c'est qu'on doit préalablement \n",
    "    savoir où se trouvent, sur le disque, les fichiers dont on a besoin.\n",
    "    2/Chemin relatif :Le chemin relatif décrit la succession de répertoires \n",
    "    à parcourir en prenant comme point d'origine non pas la racine,\n",
    "    ou le périphérique sur lequel est stockée la cible, mais le répertoire\n",
    "    dans lequel on se trouve"
   ]
  },
  {
   "cell_type": "code",
   "execution_count": null,
   "metadata": {},
   "outputs": [],
   "source": [
    "Les fichiers en Python \n",
    "\n",
    "Définition et utilité : \n",
    "\n",
    "Le fichier permet de stockées les informations contenu dans les variables à la fin de l’exécution d’un programme pour éviter que ces informations soient perdus,\n",
    "Les fichiers permettent  de conserver et d’enregistrer ces données dans le disque dur.\n",
    "\n",
    "\n",
    "Ouverture des fichiers :\n",
    "    Pour ouvrir un fichier, on utilise la fonction open :\n",
    "        Elle prend en paramètre:\n",
    "            *le chemin (absolu ou relatif) menant au fichier à ouvrir;\n",
    "            *le mode d'ouverture c'est à dire qu'on va spécificier avec des initiales \n",
    "            ce qu'on veut faire du fichier aprés l'ouverture :\n",
    "                si l'on veut juste lire le fichier, on utilisera l'argument \"r\" (read)\n",
    "                Si l'on veut pouvoir écrire dans le fichier, on utilisera \"w\"(write)\n",
    "                Sinon si on veut modifier le fichier, sans ecraser le contenu initiale \n",
    "                on utilise \"a\" (append)\n",
    "\n",
    "exemple :\n",
    ">>>mon_fichier = open(\"fichier.txt\", \"r\")\n",
    ">>>mon_fichier\n",
    "<_io.TextIOWrapper name='fichier.txt' encoding='cp1252'>\n",
    "type(mon_fichier)\n",
    "<class '_io.TextIOWrapper'>\n",
    " mon_fichier = close()\n",
    "    \n",
    "\n",
    "Fermeture des fichiers :\n",
    "    On utilise la méthode close\n",
    "Il est important de fermer les fichier aprés utilisation pour \n",
    "qu'il reste accessible aux autres utilisateurs de ce fichier\n",
    "\n",
    "exemple :\n",
    "    mon_fichier =close()\n",
    "\n",
    "Lecture des fichiers :\n",
    "        1/Lire l'intégralité du fichier :\n",
    "        On utilise la methode read, elle renvoie l'intégralité du texte \n",
    "\n",
    "exemple :\n",
    ">>>mon_fichier = open(\"fichier.txt\", \"r\")\n",
    ">>> contenu = mon_fichier.read()\n",
    ">>> print(contenu)\n",
    "C'est le contenu du fichier. Spectaculaire non ?\n",
    ">>> mon_fichier.close()\n",
    ">>>\n",
    "\n",
    "2/ la méthode .readline()\n",
    "    elle permet de lire un fichier ligne par ligne\n",
    "    \n",
    "\n",
    "exemple :\n",
    ">>>with open (\"fichier.txt,r\")\n",
    ">>> contenu = mon_fichier.readline()\n",
    ">>> print(contenu)\n",
    ">>>c'est le contenu de mon unique ligne\n",
    ">>> mon_fichier.close()\n",
    "\n",
    "Culture informatique :\n",
    "    1/chemin absolu, on décrit l'intégralité du chemin menant au fichier, \n",
    "    peu importe l'endroit où on se trouve\n",
    "    L'inconvénient de cette méthode, c'est qu'on doit préalablement \n",
    "    savoir où se trouvent, sur le disque, les fichiers dont on a besoin.\n",
    "    2/Chemin relatif :Le chemin relatif décrit la succession de répertoires \n",
    "    à parcourir en prenant comme point d'origine non pas la racine,\n",
    "    ou le périphérique sur lequel est stockée la cible, mais le répertoire\n",
    "    dans lequel on se trouve"
   ]
  },
  {
   "cell_type": "markdown",
   "metadata": {},
   "source": [
    "##  Les Tuples"
   ]
  },
  {
   "cell_type": "raw",
   "metadata": {},
   "source": [
    "A partir des types de base (int, float, etc.), il est possible d’en élaborer de nouveaux. On les appelle des types construits.\n",
    "\n",
    "Un exemple de type construit est le tuple. Il permet de créer une collection ordonnée de plusieurs éléments. En mathématiques, on parle de p-uplet. Par exemple, un quadruplet est constitué de 4 éléments.\n",
    "\n",
    "Les tuples ressemblent aux listes, mais on ne peut pas les modifier une fois qu’ils ont été créés.\n",
    "\n",
    "On dit qu’un tuple n’est pas mutable.\n",
    "\n",
    "On le définit avec des parenthèses."
   ]
  },
  {
   "cell_type": "code",
   "execution_count": 3,
   "metadata": {},
   "outputs": [],
   "source": [
    "a = (3, 4, 7)"
   ]
  },
  {
   "cell_type": "code",
   "execution_count": 4,
   "metadata": {},
   "outputs": [
    {
     "data": {
      "text/plain": [
       "tuple"
      ]
     },
     "execution_count": 4,
     "metadata": {},
     "output_type": "execute_result"
    }
   ],
   "source": [
    "type(a)"
   ]
  },
  {
   "cell_type": "raw",
   "metadata": {},
   "source": [
    "Parfois, les tuples ne sont pas entourés de parenthèses, même s’il s’agit quand même de tuples.\n",
    "\n",
    "Ainsi, on peut utiliser la notation suivante :"
   ]
  },
  {
   "cell_type": "code",
   "execution_count": 5,
   "metadata": {},
   "outputs": [],
   "source": [
    "b, c = 5, 6"
   ]
  },
  {
   "cell_type": "code",
   "execution_count": 6,
   "metadata": {},
   "outputs": [
    {
     "data": {
      "text/plain": [
       "5"
      ]
     },
     "execution_count": 6,
     "metadata": {},
     "output_type": "execute_result"
    }
   ],
   "source": [
    "b"
   ]
  },
  {
   "cell_type": "code",
   "execution_count": 7,
   "metadata": {},
   "outputs": [
    {
     "data": {
      "text/plain": [
       "6"
      ]
     },
     "execution_count": 7,
     "metadata": {},
     "output_type": "execute_result"
    }
   ],
   "source": [
    "c"
   ]
  },
  {
   "cell_type": "raw",
   "metadata": {},
   "source": [
    "En fait, cela revient à :"
   ]
  },
  {
   "cell_type": "code",
   "execution_count": 7,
   "metadata": {},
   "outputs": [],
   "source": [
    "(b, c) = (5, 6)"
   ]
  },
  {
   "cell_type": "code",
   "execution_count": 8,
   "metadata": {},
   "outputs": [
    {
     "data": {
      "text/plain": [
       "5"
      ]
     },
     "execution_count": 8,
     "metadata": {},
     "output_type": "execute_result"
    }
   ],
   "source": [
    "b"
   ]
  },
  {
   "cell_type": "raw",
   "metadata": {},
   "source": [
    "Cette syntaxe avec plusieurs variables à gauche du signe = peut aussi être utilisée avec une variable unique à droite si celle-ci contient un tuple. "
   ]
  },
  {
   "cell_type": "code",
   "execution_count": 9,
   "metadata": {},
   "outputs": [],
   "source": [
    "a = (3, 4)"
   ]
  },
  {
   "cell_type": "code",
   "execution_count": 10,
   "metadata": {},
   "outputs": [],
   "source": [
    "u, v = a"
   ]
  },
  {
   "cell_type": "code",
   "execution_count": 11,
   "metadata": {},
   "outputs": [
    {
     "data": {
      "text/plain": [
       "3"
      ]
     },
     "execution_count": 11,
     "metadata": {},
     "output_type": "execute_result"
    }
   ],
   "source": [
    "u"
   ]
  },
  {
   "cell_type": "code",
   "execution_count": 12,
   "metadata": {},
   "outputs": [
    {
     "data": {
      "text/plain": [
       "4"
      ]
     },
     "execution_count": 12,
     "metadata": {},
     "output_type": "execute_result"
    }
   ],
   "source": [
    "v"
   ]
  },
  {
   "cell_type": "markdown",
   "metadata": {},
   "source": [
    "### fonction qui renvoie un tuple"
   ]
  },
  {
   "cell_type": "raw",
   "metadata": {},
   "source": [
    "il est très facile de créer une fonction qui renvoie un p-uple. Il suffit d’indiquer ce tuple après return."
   ]
  },
  {
   "cell_type": "code",
   "execution_count": 13,
   "metadata": {},
   "outputs": [],
   "source": [
    "def test():\n",
    "    return 3, 4"
   ]
  },
  {
   "cell_type": "code",
   "execution_count": 14,
   "metadata": {},
   "outputs": [],
   "source": [
    "a = test()"
   ]
  },
  {
   "cell_type": "code",
   "execution_count": 15,
   "metadata": {},
   "outputs": [
    {
     "data": {
      "text/plain": [
       "(3, 4)"
      ]
     },
     "execution_count": 15,
     "metadata": {},
     "output_type": "execute_result"
    }
   ],
   "source": [
    "a"
   ]
  },
  {
   "cell_type": "code",
   "execution_count": 16,
   "metadata": {},
   "outputs": [],
   "source": [
    "b, c = test()"
   ]
  },
  {
   "cell_type": "code",
   "execution_count": 8,
   "metadata": {},
   "outputs": [
    {
     "data": {
      "text/plain": [
       "5"
      ]
     },
     "execution_count": 8,
     "metadata": {},
     "output_type": "execute_result"
    }
   ],
   "source": [
    "b"
   ]
  },
  {
   "cell_type": "code",
   "execution_count": 9,
   "metadata": {},
   "outputs": [
    {
     "data": {
      "text/plain": [
       "6"
      ]
     },
     "execution_count": 9,
     "metadata": {},
     "output_type": "execute_result"
    }
   ],
   "source": [
    "c"
   ]
  },
  {
   "cell_type": "markdown",
   "metadata": {},
   "source": [
    "### itérer sur un tuple "
   ]
  },
  {
   "cell_type": "raw",
   "metadata": {},
   "source": [
    "Comme une liste, il est possible de parcourir un tuple avec une boucle for."
   ]
  },
  {
   "cell_type": "code",
   "execution_count": 19,
   "metadata": {},
   "outputs": [
    {
     "name": "stdout",
     "output_type": "stream",
     "text": [
      "3\n",
      "4\n"
     ]
    }
   ],
   "source": [
    "for i in a:\n",
    "    print(i)"
   ]
  },
  {
   "cell_type": "raw",
   "metadata": {},
   "source": [
    "La valeur d’un élément du tuple est obtenue en utilisant la même syntaxe que pour une liste. "
   ]
  },
  {
   "cell_type": "code",
   "execution_count": 20,
   "metadata": {},
   "outputs": [
    {
     "data": {
      "text/plain": [
       "3"
      ]
     },
     "execution_count": 20,
     "metadata": {},
     "output_type": "execute_result"
    }
   ],
   "source": [
    "a[0]"
   ]
  },
  {
   "cell_type": "code",
   "execution_count": 21,
   "metadata": {},
   "outputs": [
    {
     "data": {
      "text/plain": [
       "4"
      ]
     },
     "execution_count": 21,
     "metadata": {},
     "output_type": "execute_result"
    }
   ],
   "source": [
    "a[1]"
   ]
  },
  {
   "cell_type": "markdown",
   "metadata": {},
   "source": [
    "### créer un tuple qui contient un seul élément"
   ]
  },
  {
   "cell_type": "raw",
   "metadata": {},
   "source": [
    "Si on utilise seulement des parenthèses, on n’obtient pas le résultat escompté"
   ]
  },
  {
   "cell_type": "code",
   "execution_count": 22,
   "metadata": {},
   "outputs": [],
   "source": [
    "a =(3)"
   ]
  },
  {
   "cell_type": "code",
   "execution_count": 23,
   "metadata": {},
   "outputs": [
    {
     "data": {
      "text/plain": [
       "3"
      ]
     },
     "execution_count": 23,
     "metadata": {},
     "output_type": "execute_result"
    }
   ],
   "source": [
    "a"
   ]
  },
  {
   "cell_type": "code",
   "execution_count": 24,
   "metadata": {},
   "outputs": [
    {
     "data": {
      "text/plain": [
       "int"
      ]
     },
     "execution_count": 24,
     "metadata": {},
     "output_type": "execute_result"
    }
   ],
   "source": [
    "type(a)"
   ]
  },
  {
   "cell_type": "raw",
   "metadata": {},
   "source": [
    "On effet, les parenthèses sont alors considérées comme celles d’une expression mathématique, comme par exemple dans 3*(4+1).\n",
    "\n",
    "Pour créer un tuple contenant un seul élément, il faut donc utiliser une syntaxe spécifique qui contient une virgule."
   ]
  },
  {
   "cell_type": "code",
   "execution_count": 25,
   "metadata": {},
   "outputs": [],
   "source": [
    "b=(5,)"
   ]
  },
  {
   "cell_type": "code",
   "execution_count": 26,
   "metadata": {},
   "outputs": [
    {
     "data": {
      "text/plain": [
       "(5,)"
      ]
     },
     "execution_count": 26,
     "metadata": {},
     "output_type": "execute_result"
    }
   ],
   "source": [
    "b"
   ]
  },
  {
   "cell_type": "code",
   "execution_count": 27,
   "metadata": {},
   "outputs": [
    {
     "data": {
      "text/plain": [
       "tuple"
      ]
     },
     "execution_count": 27,
     "metadata": {},
     "output_type": "execute_result"
    }
   ],
   "source": [
    "type(b)"
   ]
  },
  {
   "cell_type": "raw",
   "metadata": {},
   "source": [
    "Si on veut récupérer l’unique valeur présente dans le tuple, on va pouvoir utiliser les approches suivantes :\n",
    "\n",
    "Première approche"
   ]
  },
  {
   "cell_type": "code",
   "execution_count": 28,
   "metadata": {},
   "outputs": [],
   "source": [
    "c = b[0]"
   ]
  },
  {
   "cell_type": "code",
   "execution_count": 29,
   "metadata": {},
   "outputs": [
    {
     "data": {
      "text/plain": [
       "5"
      ]
     },
     "execution_count": 29,
     "metadata": {},
     "output_type": "execute_result"
    }
   ],
   "source": [
    "c"
   ]
  },
  {
   "cell_type": "raw",
   "metadata": {},
   "source": [
    "Deuxième approche"
   ]
  },
  {
   "cell_type": "code",
   "execution_count": 30,
   "metadata": {},
   "outputs": [],
   "source": [
    "d, = b"
   ]
  },
  {
   "cell_type": "code",
   "execution_count": 31,
   "metadata": {
    "scrolled": false
   },
   "outputs": [
    {
     "data": {
      "text/plain": [
       "5"
      ]
     },
     "execution_count": 31,
     "metadata": {},
     "output_type": "execute_result"
    }
   ],
   "source": [
    "d"
   ]
  },
  {
   "cell_type": "markdown",
   "metadata": {},
   "source": [
    "# Tables de hash"
   ]
  },
  {
   "cell_type": "raw",
   "metadata": {},
   "source": [
    "- une table de hachage est une structure de données qui permet une association clé-élémént (dictionnaire).\n",
    "- on accède à chaque élément de la table via sa clé.\n",
    "- l'accès à un élément se fait en transformant la clé en valeur de hachage par l'intermediaire d'une fonction de hachage.\n",
    "- le hachage est un nombre qui permet la localisation des éléments dans le tableau, typiquement le hachage est l'index de l'élément dans le tableau.\n",
    "- une case dans le tableau est appelée alvéole.\n",
    "Le but de cette structure de données est d'accéder le plus rapidement posssible à un élément à partir de sa clé\n",
    "\n",
    "\n",
    "les opérations permises par une table de hachage H sont les suivantes :\n",
    "\n",
    "    - insérer(H,elt,clé): insère dans la table de hachage H un élément elt dont la clef est clé.\n",
    "    - elt recherche(H,clé): recherche dans la table de hachage H si un élément est associé à la clef clé et renvoie cet élément.\n",
    "    - booléen apprtient(H,clé): recherche dans la table de hachage H si un élément est associé à la clef clé.\n",
    "    \n",
    "image 1\n"
   ]
  },
  {
   "cell_type": "markdown",
   "metadata": {},
   "source": [
    "![image](image_1.png)\n",
    "\n"
   ]
  },
  {
   "cell_type": "markdown",
   "metadata": {},
   "source": [
    "# collision"
   ]
  },
  {
   "cell_type": "raw",
   "metadata": {},
   "source": [
    "lorsque 2 clé distinctes ont la même valeur de hachage, on dit qu'on a une collision. ces clés ne peuvent être stockées à la même position.\n",
    "il existe 2 méthodes principales pour gérer le problème des collisios:\n",
    "    - par chainage.\n",
    "    - par adressage ouvert.\n",
    "    \n",
    "image 2\n",
    "    "
   ]
  },
  {
   "cell_type": "markdown",
   "metadata": {},
   "source": [
    "![image](image_2.png)"
   ]
  },
  {
   "cell_type": "raw",
   "metadata": {},
   "source": [
    "chainage :\n",
    "    - chaque élément du tableau T contient un pointeur vers une liste de couples (clef,valeur).\n",
    "    - chaque case de la table est en fait une liste chainée d'éléments dont les clés ont le même hachage.\n",
    "    - une fois la case trouvée, la recherche est alors linéaire en la taille de la liste chainée.\n",
    "    - les éléments dont les clefs ont valeur de hachage j sont placé dans la liste pointée par T[j]\n",
    "    \n",
    "image 4"
   ]
  },
  {
   "cell_type": "markdown",
   "metadata": {},
   "source": [
    "![image](image_4.png)"
   ]
  },
  {
   "cell_type": "raw",
   "metadata": {},
   "source": [
    "Adressage ouvert :\n",
    "    - toutes les clefs sont stockées dans la table(par liste externes)\n",
    "    - insertion d'une clef: plusieurs alvéoles sont sondées, jusqu'à trouver une alvéole libre (ou table pleine).\n",
    "    - la suite d'alvéoles à sonder est calculée à partir de la clef.\n",
    "    \n",
    "image 3"
   ]
  },
  {
   "cell_type": "markdown",
   "metadata": {},
   "source": [
    "![image](image_3.png)"
   ]
  },
  {
   "cell_type": "markdown",
   "metadata": {},
   "source": [
    "# Les Exceptions"
   ]
  },
  {
   "cell_type": "markdown",
   "metadata": {},
   "source": [
    "## Qu'est-ce qu'une exception ? "
   ]
  },
  {
   "cell_type": "markdown",
   "metadata": {},
   "source": [
    "Dès l'ors que l'on commence à codé et donné des instructions à l'interpréteur ont peut s'attendre à faire des erreur qui seront mis en evidence par l'ide ou la console. Ces erreur sont appeler des exceptions.\n",
    "Le débugage étant une majeur partie de notre travaille de déveulopper il est indispensable de le comprendre à fin de les résoudre rapidement.\n",
    "\n",
    "Quand on rencontre une erreur avec python, il lève une exception. "
   ]
  },
  {
   "cell_type": "code",
   "execution_count": 14,
   "metadata": {},
   "outputs": [
    {
     "ename": "ZeroDivisionError",
     "evalue": "division by zero",
     "output_type": "error",
     "traceback": [
      "\u001b[0;31m---------------------------------------------------------------------------\u001b[0m",
      "\u001b[0;31mZeroDivisionError\u001b[0m                         Traceback (most recent call last)",
      "\u001b[0;32m<ipython-input-14-848923c43e76>\u001b[0m in \u001b[0;36m<module>\u001b[0;34m\u001b[0m\n\u001b[1;32m      1\u001b[0m \u001b[0;31m# Exemple classique : test d'une division par zéro\u001b[0m\u001b[0;34m\u001b[0m\u001b[0;34m\u001b[0m\u001b[0;34m\u001b[0m\u001b[0m\n\u001b[0;32m----> 2\u001b[0;31m \u001b[0mvariable\u001b[0m \u001b[0;34m=\u001b[0m \u001b[0;36m1\u001b[0m\u001b[0;34m/\u001b[0m\u001b[0;36m0\u001b[0m\u001b[0;34m\u001b[0m\u001b[0;34m\u001b[0m\u001b[0m\n\u001b[0m",
      "\u001b[0;31mZeroDivisionError\u001b[0m: division by zero"
     ]
    }
   ],
   "source": [
    "# Exemple classique : test d'une division par zéro\n",
    "variable = 1/0"
   ]
  },
  {
   "cell_type": "markdown",
   "metadata": {},
   "source": [
    "Attardons-nous sur la dernière ligne. Nous y trouvons deux informations :\n",
    "\n",
    "    - ZeroDivisionError: le type de l'exception ;\n",
    "    - division by zero : le message qu'envoie Python pour vous aider à comprendre l'erreur qui vient de se produire.\n",
    "\n",
    "On trouve différents types d'exceptions que Python va utiliser en fonction de la situation. Le type d'exception **ValueError**, notamment, pourra être levé par Python face à diverses erreurs de « valeurs ». "
   ]
  },
  {
   "cell_type": "markdown",
   "metadata": {},
   "source": [
    "## Forme minimale du bloc Try"
   ]
  },
  {
   "cell_type": "markdown",
   "metadata": {},
   "source": [
    "On va parler ici de bloc **try**. Nous allons en effet mettre les instructions que nous souhaitons tester dans un premier bloc et les instructions à exécuter en cas d'erreur dans un autre bloc. Sans plus attendre, voici la syntaxe :"
   ]
  },
  {
   "cell_type": "code",
   "execution_count": null,
   "metadata": {},
   "outputs": [],
   "source": [
    "annee = input()\n",
    "try: # On essaye de convertir l'année en entier\n",
    "    annee = int(annee)\n",
    "except:\n",
    "    print(\"Erreur lors de la conversion de l'année.\")"
   ]
  },
  {
   "cell_type": "markdown",
   "metadata": {},
   "source": [
    "Le mot-clé **try** suivi des deux points « : » (try signifie « essayer » en anglais).\n",
    "\n",
    "Le bloc d'instructions à essayer. \"annee = int(annee)\n",
    "\n",
    "Le mot-clé **except**  suivi, une fois encore, des deux points « : ».(expect qui signifie dans ce contect « ce que l'ont peut attendre » ) Il se trouve au même niveau d'indentation que le **try**.\n",
    "\n",
    "Le bloc d'instructions qui sera exécuté si une erreur est trouvée dans le premier bloc. **print**(\"Erreur lors de la conversion de l'année.\")"
   ]
  },
  {
   "cell_type": "markdown",
   "metadata": {},
   "source": [
    "## Forme plus complète du bloc Try"
   ]
  },
  {
   "cell_type": "code",
   "execution_count": null,
   "metadata": {},
   "outputs": [],
   "source": [
    "try:\n",
    "    resultat = numerateur / denominateur\n",
    "except NameError:\n",
    "    print(\"La variable numerateur ou denominateur n'a pas été définie.\")\n",
    "except TypeError:\n",
    "    print(\"La variable numerateur ou denominateur possède un type incompatible avec la division.\")\n",
    "except ZeroDivisionError:\n",
    "    print(\"La variable denominateur est égale à 0.\")"
   ]
  },
  {
   "cell_type": "markdown",
   "metadata": {},
   "source": [
    "De la même manière que python nous renvoi le type de l'erreur en question. On peut attribué à chaque type d'erreur auxquelle s'attendre de nouvelles instructions.\n",
    "\n",
    "**NameError**: l'une des variables numerateur ou denominateur n'a pas été définie (elle n'existe pas). \n",
    "\n",
    "**TypeError**: l'une des variables numerateur ou denominateur ne peut diviser ou être divisée (les chaînes de caractères ne peuvent être divisées, ni diviser d'autres types, par exemple). \n",
    "\n",
    "**ZeroDivisionError**: encore elle ! Si denominateur vaut 0, cette exception sera levée."
   ]
  },
  {
   "cell_type": "markdown",
   "metadata": {},
   "source": [
    "## Les mots-clés else et finally"
   ]
  },
  {
   "cell_type": "code",
   "execution_count": 15,
   "metadata": {},
   "outputs": [
    {
     "name": "stdout",
     "output_type": "stream",
     "text": [
      "La variable numerateur ou denominateur n'a pas été définie.\n"
     ]
    }
   ],
   "source": [
    "try:\n",
    "    resultat = numerateur / denominateur\n",
    "except NameError:\n",
    "    print(\"La variable numerateur ou denominateur n'a pas été définie.\")\n",
    "except TypeError:\n",
    "    print(\"La variable numerateur ou denominateur possède un type incompatible avec la division.\")\n",
    "except ZeroDivisionError:\n",
    "    print(\"La variable denominateur est égale à 0.\")\n",
    "else:\n",
    "    print(\"Le résultat obtenu est\", resultat)"
   ]
  },
  {
   "cell_type": "markdown",
   "metadata": {},
   "source": [
    "Dans les faits, on utilise assez peu else. La plupart des codeurs préfère mettre la ligne contenant le print directement dans le bloc try. Pour ma part, je trouve que c'est important de distinguer entre le bloc **try** et ce qui s'effectue ensuite. La ligne du **print** ne produira vraisemblablement aucune erreur, inutile de la placer dans le bloc **try**."
   ]
  },
  {
   "cell_type": "code",
   "execution_count": 17,
   "metadata": {},
   "outputs": [
    {
     "name": "stdout",
     "output_type": "stream",
     "text": [
      "3\n",
      "Les gnocchis sont cuits\n"
     ]
    }
   ],
   "source": [
    "a = 1\n",
    "b = 2\n",
    "try:\n",
    "    resultat = a + b\n",
    "    # Test d'instruction(s)\n",
    "except TypeError:\n",
    "    print(\"La variable numerateur ou denominateur possède un type incompatible avec la division.\")\n",
    "    # Type de l'érreur\n",
    "    # Traitement en cas d'erreur\n",
    "else:\n",
    "    print(resultat)\n",
    "finally: \n",
    "    print(\"Les gnocchis sont cuits\")\n",
    "    # Instruction(s) exécutée(s) qu'il y ait eu des erreurs ou non"
   ]
  },
  {
   "cell_type": "markdown",
   "metadata": {},
   "source": [
    "Le bloc **finally** est exécuté dans tous les cas de figures. Quand bien même Python trouverait une instruction **return** dans votre bloc except par exemple, il exécutera le bloc **finally**."
   ]
  },
  {
   "cell_type": "markdown",
   "metadata": {},
   "source": [
    "## Le mot-clé pass"
   ]
  },
  {
   "cell_type": "markdown",
   "metadata": {},
   "source": [
    "Il peut arriver, dans certains cas, que l'on souhaite tester un bloc d'instructions… mais ne rien faire en cas d'erreur. Toutefois, un bloc try ne peut être seul. \n",
    "Il existe un mot-clé que l'on peut utiliser dans ce cas. Son nom estpasset sa syntaxe est très simple d'utilisation :"
   ]
  },
  {
   "cell_type": "code",
   "execution_count": null,
   "metadata": {},
   "outputs": [],
   "source": [
    "try:\n",
    "    # Test d'instruction(s)\n",
    "except type_de_l_exception: # Rien ne doit se passer en cas d'erreur\n",
    "    pass"
   ]
  },
  {
   "cell_type": "markdown",
   "metadata": {},
   "source": [
    "**pass** n'est pas un mot-clé propre aux exceptions : on peut également le trouver dans des conditions ou dans des fonctions que l'on souhaite laisser vides."
   ]
  },
  {
   "cell_type": "markdown",
   "metadata": {},
   "source": [
    "## Sets"
   ]
  },
  {
   "cell_type": "markdown",
   "metadata": {},
   "source": [
    "Un \"ensemble\", ou \"set\", est une collection de valeurs *uniques* (par opposition à une liste où les valeurs peuvent être dupliquées)"
   ]
  },
  {
   "cell_type": "code",
   "execution_count": null,
   "metadata": {},
   "outputs": [],
   "source": [
    "set_ex = {21, \"vingt-deux\", 23}"
   ]
  },
  {
   "cell_type": "markdown",
   "metadata": {},
   "source": [
    "Un set ne conserve pas l'ordre des valeurs entrees :"
   ]
  },
  {
   "cell_type": "code",
   "execution_count": 2,
   "metadata": {
    "scrolled": true
   },
   "outputs": [
    {
     "data": {
      "text/plain": [
       "{21, 23, 'vingt-deux'}"
      ]
     },
     "execution_count": 2,
     "metadata": {},
     "output_type": "execute_result"
    }
   ],
   "source": [
    "set_ex"
   ]
  },
  {
   "cell_type": "markdown",
   "metadata": {},
   "source": [
    "Une valeur doublon est simplement ignorée quand elle est ajoutée à un set :"
   ]
  },
  {
   "cell_type": "code",
   "execution_count": 18,
   "metadata": {},
   "outputs": [],
   "source": [
    "set2 = {21, 22, 21}"
   ]
  },
  {
   "cell_type": "code",
   "execution_count": 19,
   "metadata": {},
   "outputs": [
    {
     "data": {
      "text/plain": [
       "{21, 22}"
      ]
     },
     "execution_count": 19,
     "metadata": {},
     "output_type": "execute_result"
    }
   ],
   "source": [
    "set2"
   ]
  },
  {
   "cell_type": "markdown",
   "metadata": {},
   "source": [
    "Initialiser un set vide :"
   ]
  },
  {
   "cell_type": "code",
   "execution_count": 5,
   "metadata": {},
   "outputs": [],
   "source": [
    "set_empty = set()"
   ]
  },
  {
   "cell_type": "code",
   "execution_count": 6,
   "metadata": {},
   "outputs": [
    {
     "data": {
      "text/plain": [
       "set()"
      ]
     },
     "execution_count": 6,
     "metadata": {},
     "output_type": "execute_result"
    }
   ],
   "source": [
    "set_empty"
   ]
  },
  {
   "cell_type": "markdown",
   "metadata": {},
   "source": [
    "Rajouter des valeurs dans un set :"
   ]
  },
  {
   "cell_type": "code",
   "execution_count": 7,
   "metadata": {},
   "outputs": [],
   "source": [
    "set_empty.add(1)\n",
    "set_empty.add(\"deux\")\n",
    "set_empty.update([3,4])"
   ]
  },
  {
   "cell_type": "code",
   "execution_count": 8,
   "metadata": {},
   "outputs": [
    {
     "data": {
      "text/plain": [
       "{1, 3, 4, 'deux'}"
      ]
     },
     "execution_count": 8,
     "metadata": {},
     "output_type": "execute_result"
    }
   ],
   "source": [
    "set_empty"
   ]
  },
  {
   "cell_type": "markdown",
   "metadata": {},
   "source": [
    "Enlever une ou des valeurs d'un set :"
   ]
  },
  {
   "cell_type": "code",
   "execution_count": 9,
   "metadata": {},
   "outputs": [
    {
     "data": {
      "text/plain": [
       "{1, 3, 'deux'}"
      ]
     },
     "execution_count": 9,
     "metadata": {},
     "output_type": "execute_result"
    }
   ],
   "source": [
    "set_empty.remove(4)\n",
    "set_empty"
   ]
  },
  {
   "cell_type": "code",
   "execution_count": 10,
   "metadata": {},
   "outputs": [
    {
     "data": {
      "text/plain": [
       "set()"
      ]
     },
     "execution_count": 10,
     "metadata": {},
     "output_type": "execute_result"
    }
   ],
   "source": [
    "set_empty.clear()\n",
    "set_empty"
   ]
  },
  {
   "cell_type": "markdown",
   "metadata": {},
   "source": [
    "Tester la presence d'une valeur dans un set :"
   ]
  },
  {
   "cell_type": "code",
   "execution_count": 11,
   "metadata": {},
   "outputs": [
    {
     "data": {
      "text/plain": [
       "True"
      ]
     },
     "execution_count": 11,
     "metadata": {},
     "output_type": "execute_result"
    }
   ],
   "source": [
    "21 in set_ex"
   ]
  },
  {
   "cell_type": "code",
   "execution_count": 12,
   "metadata": {},
   "outputs": [
    {
     "data": {
      "text/plain": [
       "False"
      ]
     },
     "execution_count": 12,
     "metadata": {},
     "output_type": "execute_result"
    }
   ],
   "source": [
    "25 in set_ex"
   ]
  },
  {
   "cell_type": "markdown",
   "metadata": {},
   "source": [
    "Iterer sur les valeurs d'un set avec une boucle 'for' :"
   ]
  },
  {
   "cell_type": "code",
   "execution_count": 16,
   "metadata": {
    "scrolled": true
   },
   "outputs": [
    {
     "name": "stdout",
     "output_type": "stream",
     "text": [
      "vingt-deux\n",
      "21\n",
      "23\n"
     ]
    }
   ],
   "source": [
    "for n in set_ex:\n",
    "    print(n)"
   ]
  },
  {
   "cell_type": "markdown",
   "metadata": {},
   "source": [
    "Ressources : \n",
    "\n",
    "https://docs.python.org/3/tutorial/datastructures.html#sets\n",
    "\n",
    "https://en.wikibooks.org/wiki/Python_Programming/Sets"
   ]
  },
  {
   "cell_type": "markdown",
   "metadata": {},
   "source": [
    "## Dict"
   ]
  },
  {
   "cell_type": "markdown",
   "metadata": {},
   "source": [
    "Un dictionnaire (\"dict\" en Python) est un *set* de clés uniques, chacune d'entre elle pointant vers une valeur associée."
   ]
  },
  {
   "cell_type": "code",
   "execution_count": 1,
   "metadata": {},
   "outputs": [
    {
     "data": {
      "text/plain": [
       "{'un': 1, 'deux': 2}"
      ]
     },
     "execution_count": 1,
     "metadata": {},
     "output_type": "execute_result"
    }
   ],
   "source": [
    "dict1 = {\"un\": 1, \"deux\": 2}\n",
    "dict1"
   ]
  },
  {
   "cell_type": "markdown",
   "metadata": {},
   "source": [
    "Initialiser un dict vide :"
   ]
  },
  {
   "cell_type": "code",
   "execution_count": 2,
   "metadata": {},
   "outputs": [
    {
     "data": {
      "text/plain": [
       "{}"
      ]
     },
     "execution_count": 2,
     "metadata": {},
     "output_type": "execute_result"
    }
   ],
   "source": [
    "dict_vide = dict()\n",
    "dict_vide"
   ]
  },
  {
   "cell_type": "markdown",
   "metadata": {},
   "source": [
    "Ajouter une valeur :"
   ]
  },
  {
   "cell_type": "code",
   "execution_count": 17,
   "metadata": {},
   "outputs": [
    {
     "data": {
      "text/plain": [
       "{'un': 1, 'deux': 2, 'trois': 3}"
      ]
     },
     "execution_count": 17,
     "metadata": {},
     "output_type": "execute_result"
    }
   ],
   "source": [
    "dict_vide[\"trois\"] = 3\n",
    "dict_vide"
   ]
  },
  {
   "cell_type": "markdown",
   "metadata": {},
   "source": [
    "Inserer les valeurs d'un autre dict :"
   ]
  },
  {
   "cell_type": "code",
   "execution_count": 16,
   "metadata": {
    "scrolled": true
   },
   "outputs": [
    {
     "data": {
      "text/plain": [
       "{'un': 1, 'deux': 2}"
      ]
     },
     "execution_count": 16,
     "metadata": {},
     "output_type": "execute_result"
    }
   ],
   "source": [
    "dict_vide.update(dict1)\n",
    "dict_vide"
   ]
  },
  {
   "cell_type": "markdown",
   "metadata": {},
   "source": [
    "Effacer des valeurs :"
   ]
  },
  {
   "cell_type": "code",
   "execution_count": 5,
   "metadata": {},
   "outputs": [
    {
     "data": {
      "text/plain": [
       "{'un': 1, 'deux': 2}"
      ]
     },
     "execution_count": 5,
     "metadata": {},
     "output_type": "execute_result"
    }
   ],
   "source": [
    "del dict_vide[\"trois\"]\n",
    "dict_vide"
   ]
  },
  {
   "cell_type": "code",
   "execution_count": 6,
   "metadata": {},
   "outputs": [
    {
     "data": {
      "text/plain": [
       "{}"
      ]
     },
     "execution_count": 6,
     "metadata": {},
     "output_type": "execute_result"
    }
   ],
   "source": [
    "dict_vide.clear()\n",
    "dict_vide"
   ]
  },
  {
   "cell_type": "code",
   "execution_count": 7,
   "metadata": {},
   "outputs": [
    {
     "data": {
      "text/plain": [
       "{'un': 1, 'deux': 2}"
      ]
     },
     "execution_count": 7,
     "metadata": {},
     "output_type": "execute_result"
    }
   ],
   "source": [
    "dict1"
   ]
  },
  {
   "cell_type": "markdown",
   "metadata": {},
   "source": [
    "Accéder à la valeur associée à une clé :"
   ]
  },
  {
   "cell_type": "code",
   "execution_count": 8,
   "metadata": {},
   "outputs": [
    {
     "data": {
      "text/plain": [
       "1"
      ]
     },
     "execution_count": 8,
     "metadata": {},
     "output_type": "execute_result"
    }
   ],
   "source": [
    "dict1[\"un\"]"
   ]
  },
  {
   "cell_type": "markdown",
   "metadata": {},
   "source": [
    "Obtenir le *set* de clés d'un dict :"
   ]
  },
  {
   "cell_type": "code",
   "execution_count": 10,
   "metadata": {},
   "outputs": [
    {
     "data": {
      "text/plain": [
       "dict_keys(['un', 'deux'])"
      ]
     },
     "execution_count": 10,
     "metadata": {},
     "output_type": "execute_result"
    }
   ],
   "source": [
    "dict1.keys()"
   ]
  },
  {
   "cell_type": "markdown",
   "metadata": {},
   "source": [
    "Obtenir la *liste* de valeurs d'un dict :"
   ]
  },
  {
   "cell_type": "code",
   "execution_count": 11,
   "metadata": {},
   "outputs": [
    {
     "data": {
      "text/plain": [
       "dict_values([1, 2])"
      ]
     },
     "execution_count": 11,
     "metadata": {},
     "output_type": "execute_result"
    }
   ],
   "source": [
    "dict1.values()"
   ]
  },
  {
   "cell_type": "markdown",
   "metadata": {},
   "source": [
    "Itérer sur les clés, valeurs, ou tuples clé/valeur d'un dict :"
   ]
  },
  {
   "cell_type": "code",
   "execution_count": 18,
   "metadata": {},
   "outputs": [
    {
     "name": "stdout",
     "output_type": "stream",
     "text": [
      "un\n",
      "deux\n"
     ]
    }
   ],
   "source": [
    "for key in dict1:\n",
    "  print (key)"
   ]
  },
  {
   "cell_type": "code",
   "execution_count": 14,
   "metadata": {},
   "outputs": [
    {
     "name": "stdout",
     "output_type": "stream",
     "text": [
      "1\n",
      "2\n"
     ]
    }
   ],
   "source": [
    "for value in dict1.values():\n",
    "    print(value)"
   ]
  },
  {
   "cell_type": "code",
   "execution_count": 15,
   "metadata": {},
   "outputs": [
    {
     "name": "stdout",
     "output_type": "stream",
     "text": [
      "un 1\n",
      "deux 2\n"
     ]
    }
   ],
   "source": [
    "for key, value in dict1.items():\n",
    "  print (key, value)"
   ]
  },
  {
   "cell_type": "markdown",
   "metadata": {},
   "source": [
    "Ressource : \n",
    "\n",
    "https://docs.python.org/3/tutorial/datastructures.html#dictionaries\n",
    "\n",
    "https://en.wikibooks.org/wiki/Python_Programming/Dictionaries"
   ]
  },
  {
   "cell_type": "markdown",
   "metadata": {},
   "source": [
    "# Les classes \n",
    "\n",
    "Les classes, font partie de la programmation orientée objet avec Python.\n",
    "\n",
    "Une classe est un modèle suivant lequel on va créer des objets, définir des méthodes qui sont des fonctions de classes et des attributs qui sont des variables qui définissent l'objet créee\n",
    "\n",
    "## La poo\n",
    "\n",
    "La programmation orientée objet est un modèle de langage de programmation qui s'articule autour d'objets et de données\n",
    "\n",
    "## La synthaxe \n",
    "\n",
    "On crée une classe Personne qui va crée en l'occurence des personnes en temps qu'objet :"
   ]
  },
  {
   "cell_type": "code",
   "execution_count": 24,
   "metadata": {},
   "outputs": [],
   "source": [
    "class Personne:     #Class\n",
    "\n",
    "    def __init__(self):    #Méthode Initialisation\n",
    "        \n",
    "        self.nom = \"Martin\"    #Attributs\n",
    "        self.prenom =\"George\"\n",
    "        self.age =\"18\""
   ]
  },
  {
   "cell_type": "markdown",
   "metadata": {},
   "source": [
    "Donc en détail, on crée une class qui s'appele Personne, a l'intérieur on crée la méthode __init__(self) qui est une superméthode obligatoire qui va permettre d'Initialser l'objet quand on va crée un objet\n",
    "\n",
    "Dans l'init on met les attributs d'initialisation\n",
    "\n",
    "Si on essaye de crée un objet avec cette classe on va donc taper : "
   ]
  },
  {
   "cell_type": "code",
   "execution_count": 25,
   "metadata": {},
   "outputs": [],
   "source": [
    "# Création d'un objet\n",
    "\n",
    "pa = Personne()"
   ]
  },
  {
   "cell_type": "markdown",
   "metadata": {},
   "source": [
    "L'objet \"pa\" est crée donc si on essaye de voir un des attributs\n"
   ]
  },
  {
   "cell_type": "code",
   "execution_count": 26,
   "metadata": {},
   "outputs": [
    {
     "name": "stdout",
     "output_type": "stream",
     "text": [
      "Martin\n"
     ]
    }
   ],
   "source": [
    "# on print avec pa.nom\n",
    "\n",
    "print(pa.nom) "
   ]
  },
  {
   "cell_type": "markdown",
   "metadata": {},
   "source": [
    "\n",
    "La console nous renvoit : Martin \n",
    "Car nous avont précisé un nom à l'attribut à l'initialisation\n",
    "\n",
    "On peux ensuite modifier l'attribut si on le souhaite"
   ]
  },
  {
   "cell_type": "code",
   "execution_count": 27,
   "metadata": {},
   "outputs": [
    {
     "name": "stdout",
     "output_type": "stream",
     "text": [
      "Jack\n"
     ]
    }
   ],
   "source": [
    "pa.nom = \"Jack\"\n",
    "\n",
    "# et qu'on print ensuite avec pa.nom \n",
    "\n",
    "print(pa.nom )"
   ]
  },
  {
   "cell_type": "markdown",
   "metadata": {},
   "source": [
    "La console nous renvoit : Jack à la place de Bernard.\n",
    "\n",
    "On peux aussi mettre des paramettres a l'initialisation :"
   ]
  },
  {
   "cell_type": "code",
   "execution_count": 37,
   "metadata": {},
   "outputs": [],
   "source": [
    "class Personne: \n",
    "\n",
    "\tdef __init__(self, nom, prenom, age): #__init__(self, parametre 1, parametre 2)\n",
    "\n",
    "\t\tself.nom = nom        #les attributs sont déterminé par les parametres\n",
    "\t\tself.prenom = prenom\n",
    "\t\tself.age = age"
   ]
  },
  {
   "cell_type": "markdown",
   "metadata": {},
   "source": [
    "Donc la quand on essaye de crée un objet on doit préciser les paramettres:"
   ]
  },
  {
   "cell_type": "code",
   "execution_count": 38,
   "metadata": {},
   "outputs": [
    {
     "name": "stdout",
     "output_type": "stream",
     "text": [
      "Thierry\n",
      "40\n"
     ]
    }
   ],
   "source": [
    "pb = Personne(\"Thierry\", \"Arnaud\", 40)  # On crée l'objet avec les parametres entre parenthese\n",
    "\n",
    "print(pb.nom)  #On print les attributs\n",
    "print(pb.age)"
   ]
  },
  {
   "cell_type": "markdown",
   "metadata": {},
   "source": [
    "## Les méthodes \n",
    "\n",
    "Les méthodes sont en fait des fonctions à l'intérieur d'une classe.\n",
    "\n",
    "Admettont, ajoutons un attribut ville à la classe Personne donc dans le def __init__ le parametre ville et on rajoute en dessous en attribut ville: "
   ]
  },
  {
   "cell_type": "code",
   "execution_count": 39,
   "metadata": {},
   "outputs": [],
   "source": [
    "class Personne:\n",
    "    \n",
    "    def __init__(self, nom, prenom, age, ville):  \n",
    "        self.nom = nom\n",
    "        self.prenom = prenom\n",
    "        self.age = age\n",
    "        self.ville = ville"
   ]
  },
  {
   "cell_type": "markdown",
   "metadata": {},
   "source": [
    "Donc à la création on rajoute le parametre de la ville on peut voir ce que ça affiche :"
   ]
  },
  {
   "cell_type": "code",
   "execution_count": 41,
   "metadata": {},
   "outputs": [
    {
     "name": "stdout",
     "output_type": "stream",
     "text": [
      "arnaud\n",
      "Thierry\n",
      "Paris\n"
     ]
    }
   ],
   "source": [
    "pc = Personne(\"Thierry\", \"arnaud\", 40, \"Paris\")\n",
    "\n",
    "print(pc.prenom)\n",
    "print(pc.nom)\n",
    "print(pc.ville)"
   ]
  },
  {
   "cell_type": "markdown",
   "metadata": {},
   "source": [
    "On va donc créee une méthode déménage qui va pouvoir mettre à jour l'objet pour changer sa ville \n",
    "on va créee la méthode demenage(self)\n",
    "donc à la suite de notre __init__ :\n",
    "on va coder : "
   ]
  },
  {
   "cell_type": "code",
   "execution_count": 44,
   "metadata": {},
   "outputs": [],
   "source": [
    "class Personne:\n",
    "    \n",
    "    def __init__(self, nom, prenom, age, ville):\n",
    "        self.nom = nom\n",
    "        self.prenom = prenom\n",
    "        self.age = age\n",
    "        self.ville = ville\n",
    "\n",
    "    def demenage(self, newcity):  # Méthodes demenage avec paramettre nouvelle ville\n",
    "        self.ville = newcity      # Définit le nouvelle attribut "
   ]
  },
  {
   "cell_type": "markdown",
   "metadata": {},
   "source": [
    "donc on peux voir qu'on ajoute un parametre à notre méthodes qui va signifier la ville du demenagement, un l'interieur de la méthode on précise le changement d'attribut\n",
    "\n",
    "donc dans la console on appliquer cette méthode à notre objet \"pc\""
   ]
  },
  {
   "cell_type": "code",
   "execution_count": 47,
   "metadata": {},
   "outputs": [
    {
     "name": "stdout",
     "output_type": "stream",
     "text": [
      "Marseille\n"
     ]
    }
   ],
   "source": [
    "Personne.demenage(pc, \"Marseille\") #On applique la méthode\n",
    "\n",
    "print(pc.ville) #Pc à déménagé a Marseille"
   ]
  },
  {
   "cell_type": "markdown",
   "metadata": {},
   "source": [
    "## Autre exemples\n",
    "\n",
    "On crée une classe voiture avec different attribut et une méthodes : "
   ]
  },
  {
   "cell_type": "code",
   "execution_count": 48,
   "metadata": {},
   "outputs": [
    {
     "name": "stdout",
     "output_type": "stream",
     "text": [
      "2002\n",
      "18\n"
     ]
    }
   ],
   "source": [
    "class Voiture: \n",
    "\n",
    "    def __init__(self, marque, modele, couleur, annee):  \n",
    "\n",
    "        self.marque = marque\n",
    "        self.modele = modele\n",
    "        self.couleur = couleur\n",
    "        self.annee = annee\n",
    "        \n",
    "    def ageVoiture(self):\n",
    "        \n",
    "        x = 2020 - self.annee   #Méthode qui soustrait l'année actuel à l'année de mise en circulation\n",
    "        \n",
    "        return print(x)  # retourne x donc l'age de la voiture\n",
    "      \n",
    "\n",
    "va = Voiture(\"BMW\", \"x5\", \"noir\", 2002)\n",
    "\n",
    "print(va.annee)\n",
    "\n",
    "va.ageVoiture()   # test de la méthode"
   ]
  },
  {
   "cell_type": "markdown",
   "metadata": {},
   "source": [
    "Dans cette exemple on peux donc constater : \n",
    "On crée le modele de création de d'objet(voiture), ainsi qu'une méthodes ageVoiture qui va nous donnée l'anciennette de la voiture par en soustrayant sont année de à l'année actuelle. On stock le résultat dans la variable x\n",
    "Et on definit le return par un print(x)\n",
    "\n",
    "Ensuite on test en créant un objet, en l'occurence une BMW, X5, noir de 2002 qu'on nome \"va\"\n",
    "et on test la Méthodes ageVoiture() en utilisabt : va.ageVoiture"
   ]
  },
  {
   "cell_type": "markdown",
   "metadata": {},
   "source": [
    "Voici un dernière exmeple d'une classe ou qui va modifier une chaine de caractère donnée"
   ]
  },
  {
   "cell_type": "code",
   "execution_count": 50,
   "metadata": {},
   "outputs": [
    {
     "name": "stdout",
     "output_type": "stream",
     "text": [
      "PRESENTATIONS DE PLUSIEURS MÉTHODES DE CLASS!\n",
      "CLASS!-DE-DE-MÉTHODES-PLUSIEURS-PRESENTATIONS\n"
     ]
    }
   ],
   "source": [
    "class ChangeString:\n",
    "    def __init__(self, chaine):\n",
    "        self.ch = chaine\n",
    "    def ajoute(self, char):\n",
    "        self.ch += char\n",
    "    def insert (self, char , i):\n",
    "        self.ch = self.ch[:i] + char + self.ch[i:]\n",
    "    def capsdown(self):\n",
    "        self.ch = self.ch.lower()\n",
    "    def upper(self):\n",
    "        self.ch = self.ch.upper()\n",
    "    def tri(self):\n",
    "        self.ch = self.ch.split()\n",
    "        self.ch = \"-\".join(sorted(self.ch))\n",
    "    def __str__(self):\n",
    "        return self.ch\n",
    "        \n",
    "        \n",
    "        \n",
    "s1 = ChangeString('presentations de plusieurs de class')\n",
    "s1.ajoute(\"!\")\n",
    "s1.insert(\"méthodes \", 27)\n",
    "s1.upper()\n",
    "\n",
    "print(s1)\n",
    "\n",
    "s2 = ChangeString('presentations de plusieurs de class')\n",
    "s2.ajoute(\"!\")\n",
    "s2.insert(\"méthodes \", 27)\n",
    "s2.upper()\n",
    "s2.tri()\n",
    "\n",
    "print(s2)"
   ]
  },
  {
   "cell_type": "markdown",
   "metadata": {},
   "source": [
    "## Héritage\n",
    "\n",
    "L'héritage est une fonctionnalité objet qui permet de déclarer que telle classe sera elle-même modelée sur une autre classe, qu'on appelle la classe parente, ou la classe mère. Concrètement, si une classe b hérite de la classe a, les objets créés sur le modèle de la classe b auront accès aux méthodes et attributs de la classe a."
   ]
  },
  {
   "cell_type": "code",
   "execution_count": 49,
   "metadata": {},
   "outputs": [
    {
     "name": "stdout",
     "output_type": "stream",
     "text": [
      "George\n",
      "Pédiatre\n",
      "1990\n"
     ]
    }
   ],
   "source": [
    "class Personne: \n",
    "\n",
    "    def __init__(self, nom, prenom, age):  \n",
    "        \n",
    "        self.nom = nom\n",
    "        self.prenom = prenom\n",
    "        self.age = age\n",
    "\n",
    "    def anneeNaissance(self):   #Méthode qui va nous dire l'année de naissance de l'objet\n",
    "        \n",
    "        x = 2020 - self.age\n",
    "        return print(x)\n",
    "    \n",
    "class Medecin(Personne):  #On crée une classe avec en parametre la classe Mère (Personne)\n",
    " \n",
    "    def __init__(self, nom, prenom, age, role):\n",
    "       \n",
    "        Personne.__init__(self, nom, prenom, age) #On init les attribut de la classe Personne\n",
    "        self.role = role  #On ajoute l'attribut de la classe Medecin\n",
    "        \n",
    "pa = Personne(\"George\", \"Henry\", 30)\n",
    "\n",
    "print(pa.nom)\n",
    "\n",
    "ma = Medecin(\"Arold\", \"jean\", 30, \"Pédiatre\")  #On crée un objet Medecin\n",
    "\n",
    "print(ma.role)\n",
    "\n",
    "Personne.anneeNaissance(ma)  # On peux utiliser les méthodes de la classe Personne sur un Objet de la classe Medecin"
   ]
  },
  {
   "cell_type": "markdown",
   "metadata": {},
   "source": [
    "On peux voir que j'ai créee une classe Medecin qui hérite de Personne \n",
    "et donc quand je crée un objet Medecin j'utilise donc des attribut de Personne et je rajoute d'autres attribut.\n",
    "Et je peux utiliser les méthodes de la classe Mère ( Personne ) comme ci dessus avec la méthode anneeNaissance()"
   ]
  },
  {
   "cell_type": "markdown",
   "metadata": {},
   "source": [
    "# Références partagées"
   ]
  },
  {
   "cell_type": "markdown",
   "metadata": {},
   "source": [
    "Une référence est comme une adresse qui dit où la donnée se trouve en mémoire.\n",
    "On n'assigne pas une liste à une variable, mais une référence à une liste (une sorte d’adresse qui indique où elle se trouve en mémoire.\n"
   ]
  },
  {
   "cell_type": "code",
   "execution_count": null,
   "metadata": {},
   "outputs": [],
   "source": [
    "a = [1, 2, 3]\n",
    "print a\n",
    "\n",
    "# Python va chercher dans a la référence, et retrouver la liste en suivant “l’adresse”.\n",
    "#C’est important car ça veut dire deux choses.\n",
    "\n",
    "#Quand nous faisons\n",
    "b=a\n",
    "#Nous ne copions  pas la liste, nous copions la référence. Donc si par exemple, nous faisons: \n",
    "b.append (4)\n",
    "print a\n",
    "# nous aurrons:\n",
    "[1, 2, 3, 4]"
   ]
  },
  {
   "cell_type": "markdown",
   "metadata": {},
   "source": [
    "Le phénomène de références partagées se produit dès lors qu’on peut accéder à un objet par plusieurs chemins\n",
    "dans le graphe des références. Cela permet d’éviter les copies inutiles mais à l’inverse il faut en être bien conscient et faire explicitement des copies  lorsque le partage n’est pas souhaitable\n",
    "\n",
    "Les réfrences partagées en Python sont des valeurs assez communes. Un seul objet peut être référencié par plusieurs des variables multiples.\n",
    "\n"
   ]
  },
  {
   "cell_type": "markdown",
   "metadata": {},
   "source": [
    "Les références :\n",
    "\n",
    "En Python, on manipule très souvent des références vers des objets, Exemple :\n",
    "\n",
    "    une variable,\n",
    "    un paramètre de fonction,\n",
    "    un slot dans une liste,\n",
    "    une valeur dans un dictionnaire,\n",
    "    ...\n",
    "  \n",
    "Quand ?\n",
    "\n",
    "notamment, une référence est partagée dès qu’on fait :\n",
    "\n",
    "    une affectation\n",
    "    un appel de fonction\n",
    "  \n"
   ]
  },
  {
   "cell_type": "code",
   "execution_count": null,
   "metadata": {},
   "outputs": [],
   "source": [
    "a = [100, 200]\n",
    "b = a\n",
    "# b référence le même\n",
    "# objet que a\n",
    "a[0] = 'boom'\n",
    "b\n",
    "\n",
    "\n",
    "\n",
    "['boom', 200]\n",
    "\n",
    "[8]:\n",
    "\n",
    "def boom(x):\n",
    "    x[0] = 'boom'\n",
    "\n",
    "c = [100, 200]\n",
    "\n",
    "# lors de cet appel\n",
    "# le 'x' dans la fonction\n",
    "# référence le même objet que c\n",
    "boom(c)\n",
    "\n",
    "c\n"
   ]
  },
  {
   "cell_type": "markdown",
   "metadata": {},
   "source": [
    "Les imbrications\n",
    "\n",
    "Les différents types de containers peuvent être combinés à l’infini"
   ]
  },
  {
   "cell_type": "code",
   "execution_count": null,
   "metadata": {},
   "outputs": [],
   "source": [
    "# une liste de dictionnaires\n",
    "combo1 = [\n",
    "    {'un': 'premier'},\n",
    "    {'Alice': 25, 'Bob': 34},\n",
    "]\n",
    "combo1\n",
    "\n",
    "[2]:\n",
    "\n",
    "[{'un': 'premier'}, {'Alice': 25, 'Bob': 34}]\n",
    "\n",
    "[3]:\n",
    "\n",
    "# un dictionnaire de listes\n",
    "combo2 = {\n",
    "    1 : ['un', 'one', 'uno'],\n",
    "    2 : ['deux', 'two', 'due'],\n",
    "}\n",
    "combo2\n",
    "\n",
    "[3]:\n",
    "\n",
    "{1: ['un', 'one', 'uno'], 2: ['deux', 'two', 'due']}\n",
    "\n"
   ]
  },
  {
   "cell_type": "markdown",
   "metadata": {},
   "source": [
    "Du coup, nous sommes sur le principe même des références partagées, où on peut construire en mémoire des graphes,et atteindre le même objet par plusieurs chemins\n"
   ]
  },
  {
   "cell_type": "code",
   "execution_count": null,
   "metadata": {},
   "outputs": [],
   "source": [
    "# créons un objet - ici une liste\n",
    "shared = ['a', 'b']\n",
    "# si je mentionne cet objet deux fois\n",
    "# dans une liste, je crée un partage\n",
    "entry = [shared, shared]\n",
    "entry\n",
    "\n",
    "[4]:\n",
    "\n",
    "[['a', 'b'], ['a', 'b']]\n",
    "\n",
    "[5]:\n",
    "\n",
    "# si bien qu'en modifiant l'objet partagé\n",
    "shared[0] = 'boom'\n",
    "# j'ai en fait modifié les deux morceaux de la liste\n",
    "entry\n",
    "\n",
    "[5]:\n",
    "\n",
    "[['boom', 'b'], ['boom', 'b']]\n",
    "\n",
    "[6]:\n",
    "\n",
    "%%ipythontutor\n",
    "\n",
    "# idem visualisé sous pythontutor\n",
    "shared = ['a', 'b']\n",
    "entry = [shared, shared]\n",
    "shared[0] = 'boom'\n",
    "print(shared)\n"
   ]
  },
  {
   "cell_type": "code",
   "execution_count": null,
   "metadata": {},
   "outputs": [],
   "source": [
    "#pour visualiser le graphe de références\n",
    "%load_ext ipythontutor "
   ]
  },
  {
   "cell_type": "markdown",
   "metadata": {},
   "source": [
    "Typologie d'objets: mutable / immuable:\n",
    "\n",
    "Certains types d’objet ne sont pas modifiables; par exemple: nombres, chaines, tuples\n",
    "Dans ce cas le partage n’est pas un souci, il faut être attentif lorsque l’objet partagé est mutable - c’est-à-dire peut être modifié - comme nos 3 sortes de containers 'list', 'dict' et 'set'.\n",
    "\n",
    "Une intension particulère est à porter sur le fait que les nombres et les chaines ne sont pas mutables en Python; "
   ]
  },
  {
   "cell_type": "code",
   "execution_count": null,
   "metadata": {},
   "outputs": [],
   "source": []
  }
 ],
 "metadata": {
  "kernelspec": {
   "display_name": "Python 3",
   "language": "python",
   "name": "python3"
  },
  "language_info": {
   "codemirror_mode": {
    "name": "ipython",
    "version": 3
   },
   "file_extension": ".py",
   "mimetype": "text/x-python",
   "name": "python",
   "nbconvert_exporter": "python",
   "pygments_lexer": "ipython3",
   "version": "3.8.5"
  }
 },
 "nbformat": 4,
 "nbformat_minor": 4
}
