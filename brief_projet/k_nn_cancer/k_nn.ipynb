{
 "cells": [
  {
   "cell_type": "markdown",
   "metadata": {},
   "source": [
    "## 1.Réaliser l'analyse exploratoire des données"
   ]
  },
  {
   "cell_type": "code",
   "execution_count": 1,
   "metadata": {},
   "outputs": [],
   "source": [
    "#import library\n",
    "import pandas as pd\n",
    "import matplotlib.pyplot as plt\n",
    "import seaborn as sns\n",
    "from sklearn.preprocessing import LabelEncoder, StandardScaler\n",
    "from sklearn.model_selection import train_test_split\n",
    "from sklearn.metrics import classification_report, confusion_matrix\n",
    "from sklearn.neighbors import KNeighborsClassifier\n",
    "from sklearn.metrics import precision_score, recall_score, plot_confusion_matrix, roc_curve\n",
    "from sklearn import metrics\n",
    "from sklearn.model_selection import KFold"
   ]
  },
  {
   "cell_type": "code",
   "execution_count": 2,
   "metadata": {},
   "outputs": [
    {
     "data": {
      "text/html": [
       "<div>\n",
       "<style scoped>\n",
       "    .dataframe tbody tr th:only-of-type {\n",
       "        vertical-align: middle;\n",
       "    }\n",
       "\n",
       "    .dataframe tbody tr th {\n",
       "        vertical-align: top;\n",
       "    }\n",
       "\n",
       "    .dataframe thead th {\n",
       "        text-align: right;\n",
       "    }\n",
       "</style>\n",
       "<table border=\"1\" class=\"dataframe\">\n",
       "  <thead>\n",
       "    <tr style=\"text-align: right;\">\n",
       "      <th></th>\n",
       "      <th>id</th>\n",
       "      <th>diagnosis</th>\n",
       "      <th>radius_mean</th>\n",
       "      <th>texture_mean</th>\n",
       "      <th>perimeter_mean</th>\n",
       "      <th>area_mean</th>\n",
       "      <th>smoothness_mean</th>\n",
       "      <th>compactness_mean</th>\n",
       "      <th>concavity_mean</th>\n",
       "      <th>concave points_mean</th>\n",
       "      <th>...</th>\n",
       "      <th>texture_worst</th>\n",
       "      <th>perimeter_worst</th>\n",
       "      <th>area_worst</th>\n",
       "      <th>smoothness_worst</th>\n",
       "      <th>compactness_worst</th>\n",
       "      <th>concavity_worst</th>\n",
       "      <th>concave points_worst</th>\n",
       "      <th>symmetry_worst</th>\n",
       "      <th>fractal_dimension_worst</th>\n",
       "      <th>Unnamed: 32</th>\n",
       "    </tr>\n",
       "  </thead>\n",
       "  <tbody>\n",
       "    <tr>\n",
       "      <th>0</th>\n",
       "      <td>842302</td>\n",
       "      <td>M</td>\n",
       "      <td>17.99</td>\n",
       "      <td>10.38</td>\n",
       "      <td>122.80</td>\n",
       "      <td>1001.0</td>\n",
       "      <td>0.11840</td>\n",
       "      <td>0.27760</td>\n",
       "      <td>0.3001</td>\n",
       "      <td>0.14710</td>\n",
       "      <td>...</td>\n",
       "      <td>17.33</td>\n",
       "      <td>184.60</td>\n",
       "      <td>2019.0</td>\n",
       "      <td>0.1622</td>\n",
       "      <td>0.6656</td>\n",
       "      <td>0.7119</td>\n",
       "      <td>0.2654</td>\n",
       "      <td>0.4601</td>\n",
       "      <td>0.11890</td>\n",
       "      <td>NaN</td>\n",
       "    </tr>\n",
       "    <tr>\n",
       "      <th>1</th>\n",
       "      <td>842517</td>\n",
       "      <td>M</td>\n",
       "      <td>20.57</td>\n",
       "      <td>17.77</td>\n",
       "      <td>132.90</td>\n",
       "      <td>1326.0</td>\n",
       "      <td>0.08474</td>\n",
       "      <td>0.07864</td>\n",
       "      <td>0.0869</td>\n",
       "      <td>0.07017</td>\n",
       "      <td>...</td>\n",
       "      <td>23.41</td>\n",
       "      <td>158.80</td>\n",
       "      <td>1956.0</td>\n",
       "      <td>0.1238</td>\n",
       "      <td>0.1866</td>\n",
       "      <td>0.2416</td>\n",
       "      <td>0.1860</td>\n",
       "      <td>0.2750</td>\n",
       "      <td>0.08902</td>\n",
       "      <td>NaN</td>\n",
       "    </tr>\n",
       "    <tr>\n",
       "      <th>2</th>\n",
       "      <td>84300903</td>\n",
       "      <td>M</td>\n",
       "      <td>19.69</td>\n",
       "      <td>21.25</td>\n",
       "      <td>130.00</td>\n",
       "      <td>1203.0</td>\n",
       "      <td>0.10960</td>\n",
       "      <td>0.15990</td>\n",
       "      <td>0.1974</td>\n",
       "      <td>0.12790</td>\n",
       "      <td>...</td>\n",
       "      <td>25.53</td>\n",
       "      <td>152.50</td>\n",
       "      <td>1709.0</td>\n",
       "      <td>0.1444</td>\n",
       "      <td>0.4245</td>\n",
       "      <td>0.4504</td>\n",
       "      <td>0.2430</td>\n",
       "      <td>0.3613</td>\n",
       "      <td>0.08758</td>\n",
       "      <td>NaN</td>\n",
       "    </tr>\n",
       "    <tr>\n",
       "      <th>3</th>\n",
       "      <td>84348301</td>\n",
       "      <td>M</td>\n",
       "      <td>11.42</td>\n",
       "      <td>20.38</td>\n",
       "      <td>77.58</td>\n",
       "      <td>386.1</td>\n",
       "      <td>0.14250</td>\n",
       "      <td>0.28390</td>\n",
       "      <td>0.2414</td>\n",
       "      <td>0.10520</td>\n",
       "      <td>...</td>\n",
       "      <td>26.50</td>\n",
       "      <td>98.87</td>\n",
       "      <td>567.7</td>\n",
       "      <td>0.2098</td>\n",
       "      <td>0.8663</td>\n",
       "      <td>0.6869</td>\n",
       "      <td>0.2575</td>\n",
       "      <td>0.6638</td>\n",
       "      <td>0.17300</td>\n",
       "      <td>NaN</td>\n",
       "    </tr>\n",
       "    <tr>\n",
       "      <th>4</th>\n",
       "      <td>84358402</td>\n",
       "      <td>M</td>\n",
       "      <td>20.29</td>\n",
       "      <td>14.34</td>\n",
       "      <td>135.10</td>\n",
       "      <td>1297.0</td>\n",
       "      <td>0.10030</td>\n",
       "      <td>0.13280</td>\n",
       "      <td>0.1980</td>\n",
       "      <td>0.10430</td>\n",
       "      <td>...</td>\n",
       "      <td>16.67</td>\n",
       "      <td>152.20</td>\n",
       "      <td>1575.0</td>\n",
       "      <td>0.1374</td>\n",
       "      <td>0.2050</td>\n",
       "      <td>0.4000</td>\n",
       "      <td>0.1625</td>\n",
       "      <td>0.2364</td>\n",
       "      <td>0.07678</td>\n",
       "      <td>NaN</td>\n",
       "    </tr>\n",
       "  </tbody>\n",
       "</table>\n",
       "<p>5 rows × 33 columns</p>\n",
       "</div>"
      ],
      "text/plain": [
       "         id diagnosis  radius_mean  texture_mean  perimeter_mean  area_mean  \\\n",
       "0    842302         M        17.99         10.38          122.80     1001.0   \n",
       "1    842517         M        20.57         17.77          132.90     1326.0   \n",
       "2  84300903         M        19.69         21.25          130.00     1203.0   \n",
       "3  84348301         M        11.42         20.38           77.58      386.1   \n",
       "4  84358402         M        20.29         14.34          135.10     1297.0   \n",
       "\n",
       "   smoothness_mean  compactness_mean  concavity_mean  concave points_mean  \\\n",
       "0          0.11840           0.27760          0.3001              0.14710   \n",
       "1          0.08474           0.07864          0.0869              0.07017   \n",
       "2          0.10960           0.15990          0.1974              0.12790   \n",
       "3          0.14250           0.28390          0.2414              0.10520   \n",
       "4          0.10030           0.13280          0.1980              0.10430   \n",
       "\n",
       "   ...  texture_worst  perimeter_worst  area_worst  smoothness_worst  \\\n",
       "0  ...          17.33           184.60      2019.0            0.1622   \n",
       "1  ...          23.41           158.80      1956.0            0.1238   \n",
       "2  ...          25.53           152.50      1709.0            0.1444   \n",
       "3  ...          26.50            98.87       567.7            0.2098   \n",
       "4  ...          16.67           152.20      1575.0            0.1374   \n",
       "\n",
       "   compactness_worst  concavity_worst  concave points_worst  symmetry_worst  \\\n",
       "0             0.6656           0.7119                0.2654          0.4601   \n",
       "1             0.1866           0.2416                0.1860          0.2750   \n",
       "2             0.4245           0.4504                0.2430          0.3613   \n",
       "3             0.8663           0.6869                0.2575          0.6638   \n",
       "4             0.2050           0.4000                0.1625          0.2364   \n",
       "\n",
       "   fractal_dimension_worst  Unnamed: 32  \n",
       "0                  0.11890          NaN  \n",
       "1                  0.08902          NaN  \n",
       "2                  0.08758          NaN  \n",
       "3                  0.17300          NaN  \n",
       "4                  0.07678          NaN  \n",
       "\n",
       "[5 rows x 33 columns]"
      ]
     },
     "execution_count": 2,
     "metadata": {},
     "output_type": "execute_result"
    }
   ],
   "source": [
    "df = pd.read_csv('Breast_Cancer.csv')\n",
    "df.head()"
   ]
  },
  {
   "cell_type": "code",
   "execution_count": 3,
   "metadata": {},
   "outputs": [
    {
     "data": {
      "text/plain": [
       "(569, 33)"
      ]
     },
     "execution_count": 3,
     "metadata": {},
     "output_type": "execute_result"
    }
   ],
   "source": [
    "df.shape"
   ]
  },
  {
   "cell_type": "code",
   "execution_count": 4,
   "metadata": {},
   "outputs": [
    {
     "data": {
      "text/plain": [
       "id                           int64\n",
       "diagnosis                   object\n",
       "radius_mean                float64\n",
       "texture_mean               float64\n",
       "perimeter_mean             float64\n",
       "area_mean                  float64\n",
       "smoothness_mean            float64\n",
       "compactness_mean           float64\n",
       "concavity_mean             float64\n",
       "concave points_mean        float64\n",
       "symmetry_mean              float64\n",
       "fractal_dimension_mean     float64\n",
       "radius_se                  float64\n",
       "texture_se                 float64\n",
       "perimeter_se               float64\n",
       "area_se                    float64\n",
       "smoothness_se              float64\n",
       "compactness_se             float64\n",
       "concavity_se               float64\n",
       "concave points_se          float64\n",
       "symmetry_se                float64\n",
       "fractal_dimension_se       float64\n",
       "radius_worst               float64\n",
       "texture_worst              float64\n",
       "perimeter_worst            float64\n",
       "area_worst                 float64\n",
       "smoothness_worst           float64\n",
       "compactness_worst          float64\n",
       "concavity_worst            float64\n",
       "concave points_worst       float64\n",
       "symmetry_worst             float64\n",
       "fractal_dimension_worst    float64\n",
       "Unnamed: 32                float64\n",
       "dtype: object"
      ]
     },
     "execution_count": 4,
     "metadata": {},
     "output_type": "execute_result"
    }
   ],
   "source": [
    "df.dtypes"
   ]
  },
  {
   "cell_type": "code",
   "execution_count": 5,
   "metadata": {},
   "outputs": [
    {
     "data": {
      "text/plain": [
       "float64    31\n",
       "object      1\n",
       "int64       1\n",
       "dtype: int64"
      ]
     },
     "execution_count": 5,
     "metadata": {},
     "output_type": "execute_result"
    }
   ],
   "source": [
    "df.dtypes.value_counts()"
   ]
  },
  {
   "cell_type": "markdown",
   "metadata": {},
   "source": [
    "### 2. Visualiser les données\n"
   ]
  },
  {
   "cell_type": "code",
   "execution_count": 6,
   "metadata": {},
   "outputs": [
    {
     "name": "stdout",
     "output_type": "stream",
     "text": [
      "diagnosis----------- ['M' 'B']\n"
     ]
    }
   ],
   "source": [
    "for col in df.select_dtypes('object'):\n",
    "    print(f'{col :-<20} {df[col].unique()}')"
   ]
  },
  {
   "cell_type": "code",
   "execution_count": 7,
   "metadata": {},
   "outputs": [
    {
     "data": {
      "image/png": "[encoded data removed]",
      "text/plain": [
       "<Figure size 432x288 with 1 Axes>"
      ]
     },
     "metadata": {
      "needs_background": "light"
     },
     "output_type": "display_data"
    }
   ],
   "source": [
    "\n",
    "for col in df.select_dtypes('object'):\n",
    "    plt.figure()\n",
    "    df[col].value_counts().plot.bar()"
   ]
  },
  {
   "cell_type": "code",
   "execution_count": 8,
   "metadata": {},
   "outputs": [
    {
     "data": {
      "image/png": "[encoded data removed]",
      "text/plain": [
       "<Figure size 432x288 with 1 Axes>"
      ]
     },
     "metadata": {},
     "output_type": "display_data"
    }
   ],
   "source": [
    "for col in df.select_dtypes('object'):\n",
    "    plt.figure()\n",
    "    df[col].value_counts().plot.pie()"
   ]
  },
  {
   "cell_type": "code",
   "execution_count": 9,
   "metadata": {
    "scrolled": true
   },
   "outputs": [
    {
     "name": "stderr",
     "output_type": "stream",
     "text": [
      "<ipython-input-9-cd34277f598c>:3: RuntimeWarning: More than 20 figures have been opened. Figures created through the pyplot interface (`matplotlib.pyplot.figure`) are retained until explicitly closed and may consume too much memory. (To control this warning, see the rcParam `figure.max_open_warning`).\n",
      "  plt.figure()\n"
     ]
    },
    {
     "data": {
      "text/plain": [
       "<Figure size 432x288 with 0 Axes>"
      ]
     },
     "metadata": {},
     "output_type": "display_data"
    },
    {
     "data": {
      "image/png": "[encoded data removed]",
      "text/plain": [
       "<Figure size 360x360 with 1 Axes>"
      ]
     },
     "metadata": {
      "needs_background": "light"
     },
     "output_type": "display_data"
    },
    {
     "data": {
      "text/plain": [
       "<Figure size 432x288 with 0 Axes>"
      ]
     },
     "metadata": {},
     "output_type": "display_data"
    },
    {
     "data": {
      "image/png": "[encoded data removed]",
      "text/plain": [
       "<Figure size 360x360 with 1 Axes>"
      ]
     },
     "metadata": {
      "needs_background": "light"
     },
     "output_type": "display_data"
    },
    {
     "data": {
      "text/plain": [
       "<Figure size 432x288 with 0 Axes>"
      ]
     },
     "metadata": {},
     "output_type": "display_data"
    },
    {
     "data": {
      "image/png": "[encoded data removed]",
      "text/plain": [
       "<Figure size 360x360 with 1 Axes>"
      ]
     },
     "metadata": {
      "needs_background": "light"
     },
     "output_type": "display_data"
    },
    {
     "data": {
      "text/plain": [
       "<Figure size 432x288 with 0 Axes>"
      ]
     },
     "metadata": {},
     "output_type": "display_data"
    },
    {
     "data": {
      "image/png": "[encoded data removed]",
      "text/plain": [
       "<Figure size 360x360 with 1 Axes>"
      ]
     },
     "metadata": {
      "needs_background": "light"
     },
     "output_type": "display_data"
    },
    {
     "data": {
      "text/plain": [
       "<Figure size 432x288 with 0 Axes>"
      ]
     },
     "metadata": {},
     "output_type": "display_data"
    },
    {
     "data": {
      "image/png": "[encoded data removed]",
      "text/plain": [
       "<Figure size 360x360 with 1 Axes>"
      ]
     },
     "metadata": {
      "needs_background": "light"
     },
     "output_type": "display_data"
    },
    {
     "data": {
      "text/plain": [
       "<Figure size 432x288 with 0 Axes>"
      ]
     },
     "metadata": {},
     "output_type": "display_data"
    },
    {
     "data": {
      "image/png": "[encoded data removed]",
      "text/plain": [
       "<Figure size 360x360 with 1 Axes>"
      ]
     },
     "metadata": {
      "needs_background": "light"
     },
     "output_type": "display_data"
    },
    {
     "data": {
      "text/plain": [
       "<Figure size 432x288 with 0 Axes>"
      ]
     },
     "metadata": {},
     "output_type": "display_data"
    },
    {
     "data": {
      "image/png": "[encoded data removed]",
      "text/plain": [
       "<Figure size 360x360 with 1 Axes>"
      ]
     },
     "metadata": {
      "needs_background": "light"
     },
     "output_type": "display_data"
    },
    {
     "data": {
      "text/plain": [
       "<Figure size 432x288 with 0 Axes>"
      ]
     },
     "metadata": {},
     "output_type": "display_data"
    },
    {
     "data": {
      "image/png": "[encoded data removed]",
      "text/plain": [
       "<Figure size 360x360 with 1 Axes>"
      ]
     },
     "metadata": {
      "needs_background": "light"
     },
     "output_type": "display_data"
    },
    {
     "data": {
      "text/plain": [
       "<Figure size 432x288 with 0 Axes>"
      ]
     },
     "metadata": {},
     "output_type": "display_data"
    },
    {
     "data": {
      "image/png": "[encoded data removed]",
      "text/plain": [
       "<Figure size 360x360 with 1 Axes>"
      ]
     },
     "metadata": {
      "needs_background": "light"
     },
     "output_type": "display_data"
    },
    {
     "data": {
      "text/plain": [
       "<Figure size 432x288 with 0 Axes>"
      ]
     },
     "metadata": {},
     "output_type": "display_data"
    },
    {
     "data": {
      "image/png": "[encoded data removed]",
      "text/plain": [
       "<Figure size 360x360 with 1 Axes>"
      ]
     },
     "metadata": {
      "needs_background": "light"
     },
     "output_type": "display_data"
    },
    {
     "data": {
      "text/plain": [
       "<Figure size 432x288 with 0 Axes>"
      ]
     },
     "metadata": {},
     "output_type": "display_data"
    },
    {
     "data": {
      "image/png": "[encoded data removed]",
      "text/plain": [
       "<Figure size 360x360 with 1 Axes>"
      ]
     },
     "metadata": {
      "needs_background": "light"
     },
     "output_type": "display_data"
    },
    {
     "data": {
      "text/plain": [
       "<Figure size 432x288 with 0 Axes>"
      ]
     },
     "metadata": {},
     "output_type": "display_data"
    },
    {
     "data": {
      "image/png": "[encoded data removed]",
      "text/plain": [
       "<Figure size 360x360 with 1 Axes>"
      ]
     },
     "metadata": {
      "needs_background": "light"
     },
     "output_type": "display_data"
    },
    {
     "data": {
      "text/plain": [
       "<Figure size 432x288 with 0 Axes>"
      ]
     },
     "metadata": {},
     "output_type": "display_data"
    },
    {
     "data": {
      "image/png": "[encoded data removed]",
      "text/plain": [
       "<Figure size 360x360 with 1 Axes>"
      ]
     },
     "metadata": {
      "needs_background": "light"
     },
     "output_type": "display_data"
    },
    {
     "data": {
      "text/plain": [
       "<Figure size 432x288 with 0 Axes>"
      ]
     },
     "metadata": {},
     "output_type": "display_data"
    },
    {
     "data": {
      "image/png": "[encoded data removed]",
      "text/plain": [
       "<Figure size 360x360 with 1 Axes>"
      ]
     },
     "metadata": {
      "needs_background": "light"
     },
     "output_type": "display_data"
    },
    {
     "data": {
      "text/plain": [
       "<Figure size 432x288 with 0 Axes>"
      ]
     },
     "metadata": {},
     "output_type": "display_data"
    },
    {
     "data": {
      "image/png": "[encoded data removed]",
      "text/plain": [
       "<Figure size 360x360 with 1 Axes>"
      ]
     },
     "metadata": {
      "needs_background": "light"
     },
     "output_type": "display_data"
    },
    {
     "data": {
      "text/plain": [
       "<Figure size 432x288 with 0 Axes>"
      ]
     },
     "metadata": {},
     "output_type": "display_data"
    },
    {
     "data": {
      "image/png": "[encoded data removed]",
      "text/plain": [
       "<Figure size 360x360 with 1 Axes>"
      ]
     },
     "metadata": {
      "needs_background": "light"
     },
     "output_type": "display_data"
    },
    {
     "data": {
      "text/plain": [
       "<Figure size 432x288 with 0 Axes>"
      ]
     },
     "metadata": {},
     "output_type": "display_data"
    },
    {
     "data": {
      "image/png": "[encoded data removed]",
      "text/plain": [
       "<Figure size 360x360 with 1 Axes>"
      ]
     },
     "metadata": {
      "needs_background": "light"
     },
     "output_type": "display_data"
    },
    {
     "data": {
      "text/plain": [
       "<Figure size 432x288 with 0 Axes>"
      ]
     },
     "metadata": {},
     "output_type": "display_data"
    },
    {
     "data": {
      "image/png": "[encoded data removed]",
      "text/plain": [
       "<Figure size 360x360 with 1 Axes>"
      ]
     },
     "metadata": {
      "needs_background": "light"
     },
     "output_type": "display_data"
    },
    {
     "data": {
      "text/plain": [
       "<Figure size 432x288 with 0 Axes>"
      ]
     },
     "metadata": {},
     "output_type": "display_data"
    },
    {
     "data": {
      "image/png": "[encoded data removed]",
      "text/plain": [
       "<Figure size 360x360 with 1 Axes>"
      ]
     },
     "metadata": {
      "needs_background": "light"
     },
     "output_type": "display_data"
    },
    {
     "data": {
      "text/plain": [
       "<Figure size 432x288 with 0 Axes>"
      ]
     },
     "metadata": {},
     "output_type": "display_data"
    },
    {
     "data": {
      "image/png": "[encoded data removed]",
      "text/plain": [
       "<Figure size 360x360 with 1 Axes>"
      ]
     },
     "metadata": {
      "needs_background": "light"
     },
     "output_type": "display_data"
    },
    {
     "data": {
      "text/plain": [
       "<Figure size 432x288 with 0 Axes>"
      ]
     },
     "metadata": {},
     "output_type": "display_data"
    },
    {
     "data": {
      "image/png": "[encoded data removed]",
      "text/plain": [
       "<Figure size 360x360 with 1 Axes>"
      ]
     },
     "metadata": {
      "needs_background": "light"
     },
     "output_type": "display_data"
    },
    {
     "data": {
      "text/plain": [
       "<Figure size 432x288 with 0 Axes>"
      ]
     },
     "metadata": {},
     "output_type": "display_data"
    },
    {
     "data": {
      "image/png": "[encoded data removed]",
      "text/plain": [
       "<Figure size 360x360 with 1 Axes>"
      ]
     },
     "metadata": {
      "needs_background": "light"
     },
     "output_type": "display_data"
    },
    {
     "data": {
      "text/plain": [
       "<Figure size 432x288 with 0 Axes>"
      ]
     },
     "metadata": {},
     "output_type": "display_data"
    },
    {
     "data": {
      "image/png": "[encoded data removed]",
      "text/plain": [
       "<Figure size 360x360 with 1 Axes>"
      ]
     },
     "metadata": {
      "needs_background": "light"
     },
     "output_type": "display_data"
    },
    {
     "data": {
      "text/plain": [
       "<Figure size 432x288 with 0 Axes>"
      ]
     },
     "metadata": {},
     "output_type": "display_data"
    },
    {
     "data": {
      "image/png": "[encoded data removed]",
      "text/plain": [
       "<Figure size 360x360 with 1 Axes>"
      ]
     },
     "metadata": {
      "needs_background": "light"
     },
     "output_type": "display_data"
    },
    {
     "data": {
      "text/plain": [
       "<Figure size 432x288 with 0 Axes>"
      ]
     },
     "metadata": {},
     "output_type": "display_data"
    },
    {
     "data": {
      "image/png": "[encoded data removed]",
      "text/plain": [
       "<Figure size 360x360 with 1 Axes>"
      ]
     },
     "metadata": {
      "needs_background": "light"
     },
     "output_type": "display_data"
    },
    {
     "data": {
      "text/plain": [
       "<Figure size 432x288 with 0 Axes>"
      ]
     },
     "metadata": {},
     "output_type": "display_data"
    },
    {
     "data": {
      "image/png": "[encoded data removed]",
      "text/plain": [
       "<Figure size 360x360 with 1 Axes>"
      ]
     },
     "metadata": {
      "needs_background": "light"
     },
     "output_type": "display_data"
    },
    {
     "data": {
      "text/plain": [
       "<Figure size 432x288 with 0 Axes>"
      ]
     },
     "metadata": {},
     "output_type": "display_data"
    },
    {
     "data": {
      "image/png": "[encoded data removed]",
      "text/plain": [
       "<Figure size 360x360 with 1 Axes>"
      ]
     },
     "metadata": {
      "needs_background": "light"
     },
     "output_type": "display_data"
    },
    {
     "data": {
      "text/plain": [
       "<Figure size 432x288 with 0 Axes>"
      ]
     },
     "metadata": {},
     "output_type": "display_data"
    },
    {
     "data": {
      "image/png": "[encoded data removed]",
      "text/plain": [
       "<Figure size 360x360 with 1 Axes>"
      ]
     },
     "metadata": {
      "needs_background": "light"
     },
     "output_type": "display_data"
    },
    {
     "data": {
      "text/plain": [
       "<Figure size 432x288 with 0 Axes>"
      ]
     },
     "metadata": {},
     "output_type": "display_data"
    },
    {
     "data": {
      "image/png": "[encoded data removed]",
      "text/plain": [
       "<Figure size 360x360 with 1 Axes>"
      ]
     },
     "metadata": {
      "needs_background": "light"
     },
     "output_type": "display_data"
    },
    {
     "data": {
      "text/plain": [
       "<Figure size 432x288 with 0 Axes>"
      ]
     },
     "metadata": {},
     "output_type": "display_data"
    },
    {
     "data": {
      "image/png": "[encoded data removed]",
      "text/plain": [
       "<Figure size 360x360 with 1 Axes>"
      ]
     },
     "metadata": {
      "needs_background": "light"
     },
     "output_type": "display_data"
    },
    {
     "data": {
      "text/plain": [
       "<Figure size 432x288 with 0 Axes>"
      ]
     },
     "metadata": {},
     "output_type": "display_data"
    },
    {
     "data": {
      "image/png": "[encoded data removed]",
      "text/plain": [
       "<Figure size 360x360 with 1 Axes>"
      ]
     },
     "metadata": {
      "needs_background": "light"
     },
     "output_type": "display_data"
    }
   ],
   "source": [
    "#### Histrograme des valeurs continues\n",
    "for col in df.select_dtypes('float64'):\n",
    "    plt.figure()\n",
    "    #sns.displot(df, x=col, kind=\"kde\")\n",
    "    sns.displot(df[col])"
   ]
  },
  {
   "cell_type": "code",
   "execution_count": 10,
   "metadata": {
    "scrolled": true
   },
   "outputs": [
    {
     "data": {
      "text/html": [
       "<style  type=\"text/css\" >\n",
       "#T_1d2d4914_5980_11eb_a1e5_8086f2c3fd57row0_col0,#T_1d2d4914_5980_11eb_a1e5_8086f2c3fd57row0_col2,#T_1d2d4914_5980_11eb_a1e5_8086f2c3fd57row0_col3,#T_1d2d4914_5980_11eb_a1e5_8086f2c3fd57row1_col1,#T_1d2d4914_5980_11eb_a1e5_8086f2c3fd57row2_col0,#T_1d2d4914_5980_11eb_a1e5_8086f2c3fd57row2_col2,#T_1d2d4914_5980_11eb_a1e5_8086f2c3fd57row2_col3,#T_1d2d4914_5980_11eb_a1e5_8086f2c3fd57row3_col0,#T_1d2d4914_5980_11eb_a1e5_8086f2c3fd57row3_col2,#T_1d2d4914_5980_11eb_a1e5_8086f2c3fd57row3_col3,#T_1d2d4914_5980_11eb_a1e5_8086f2c3fd57row4_col4,#T_1d2d4914_5980_11eb_a1e5_8086f2c3fd57row5_col5,#T_1d2d4914_5980_11eb_a1e5_8086f2c3fd57row6_col6,#T_1d2d4914_5980_11eb_a1e5_8086f2c3fd57row7_col7,#T_1d2d4914_5980_11eb_a1e5_8086f2c3fd57row8_col8,#T_1d2d4914_5980_11eb_a1e5_8086f2c3fd57row9_col9,#T_1d2d4914_5980_11eb_a1e5_8086f2c3fd57row10_col10,#T_1d2d4914_5980_11eb_a1e5_8086f2c3fd57row11_col11,#T_1d2d4914_5980_11eb_a1e5_8086f2c3fd57row12_col12,#T_1d2d4914_5980_11eb_a1e5_8086f2c3fd57row13_col13,#T_1d2d4914_5980_11eb_a1e5_8086f2c3fd57row14_col14,#T_1d2d4914_5980_11eb_a1e5_8086f2c3fd57row15_col15,#T_1d2d4914_5980_11eb_a1e5_8086f2c3fd57row16_col16,#T_1d2d4914_5980_11eb_a1e5_8086f2c3fd57row17_col17,#T_1d2d4914_5980_11eb_a1e5_8086f2c3fd57row18_col18,#T_1d2d4914_5980_11eb_a1e5_8086f2c3fd57row19_col19,#T_1d2d4914_5980_11eb_a1e5_8086f2c3fd57row20_col20,#T_1d2d4914_5980_11eb_a1e5_8086f2c3fd57row20_col23,#T_1d2d4914_5980_11eb_a1e5_8086f2c3fd57row21_col21,#T_1d2d4914_5980_11eb_a1e5_8086f2c3fd57row22_col22,#T_1d2d4914_5980_11eb_a1e5_8086f2c3fd57row23_col20,#T_1d2d4914_5980_11eb_a1e5_8086f2c3fd57row23_col23,#T_1d2d4914_5980_11eb_a1e5_8086f2c3fd57row24_col24,#T_1d2d4914_5980_11eb_a1e5_8086f2c3fd57row25_col25,#T_1d2d4914_5980_11eb_a1e5_8086f2c3fd57row26_col26,#T_1d2d4914_5980_11eb_a1e5_8086f2c3fd57row27_col27,#T_1d2d4914_5980_11eb_a1e5_8086f2c3fd57row28_col28,#T_1d2d4914_5980_11eb_a1e5_8086f2c3fd57row29_col29{\n",
       "            background-color:  #b40426;\n",
       "            color:  #f1f1f1;\n",
       "        }#T_1d2d4914_5980_11eb_a1e5_8086f2c3fd57row0_col1,#T_1d2d4914_5980_11eb_a1e5_8086f2c3fd57row4_col2,#T_1d2d4914_5980_11eb_a1e5_8086f2c3fd57row6_col8,#T_1d2d4914_5980_11eb_a1e5_8086f2c3fd57row15_col4,#T_1d2d4914_5980_11eb_a1e5_8086f2c3fd57row26_col1,#T_1d2d4914_5980_11eb_a1e5_8086f2c3fd57row28_col4{\n",
       "            background-color:  #b9d0f9;\n",
       "            color:  #000000;\n",
       "        }#T_1d2d4914_5980_11eb_a1e5_8086f2c3fd57row0_col4,#T_1d2d4914_5980_11eb_a1e5_8086f2c3fd57row11_col22,#T_1d2d4914_5980_11eb_a1e5_8086f2c3fd57row21_col18{\n",
       "            background-color:  #6282ea;\n",
       "            color:  #000000;\n",
       "        }#T_1d2d4914_5980_11eb_a1e5_8086f2c3fd57row0_col5,#T_1d2d4914_5980_11eb_a1e5_8086f2c3fd57row8_col27{\n",
       "            background-color:  #d5dbe5;\n",
       "            color:  #000000;\n",
       "        }#T_1d2d4914_5980_11eb_a1e5_8086f2c3fd57row0_col6,#T_1d2d4914_5980_11eb_a1e5_8086f2c3fd57row0_col26,#T_1d2d4914_5980_11eb_a1e5_8086f2c3fd57row12_col6,#T_1d2d4914_5980_11eb_a1e5_8086f2c3fd57row15_col27,#T_1d2d4914_5980_11eb_a1e5_8086f2c3fd57row26_col29{\n",
       "            background-color:  #f5c0a7;\n",
       "            color:  #000000;\n",
       "        }#T_1d2d4914_5980_11eb_a1e5_8086f2c3fd57row0_col7,#T_1d2d4914_5980_11eb_a1e5_8086f2c3fd57row0_col13,#T_1d2d4914_5980_11eb_a1e5_8086f2c3fd57row3_col13,#T_1d2d4914_5980_11eb_a1e5_8086f2c3fd57row5_col15,#T_1d2d4914_5980_11eb_a1e5_8086f2c3fd57row17_col6,#T_1d2d4914_5980_11eb_a1e5_8086f2c3fd57row19_col9,#T_1d2d4914_5980_11eb_a1e5_8086f2c3fd57row26_col16{\n",
       "            background-color:  #f29274;\n",
       "            color:  #000000;\n",
       "        }#T_1d2d4914_5980_11eb_a1e5_8086f2c3fd57row0_col8,#T_1d2d4914_5980_11eb_a1e5_8086f2c3fd57row2_col11,#T_1d2d4914_5980_11eb_a1e5_8086f2c3fd57row21_col8{\n",
       "            background-color:  #3d50c3;\n",
       "            color:  #f1f1f1;\n",
       "        }#T_1d2d4914_5980_11eb_a1e5_8086f2c3fd57row0_col9,#T_1d2d4914_5980_11eb_a1e5_8086f2c3fd57row0_col19,#T_1d2d4914_5980_11eb_a1e5_8086f2c3fd57row3_col8,#T_1d2d4914_5980_11eb_a1e5_8086f2c3fd57row3_col11,#T_1d2d4914_5980_11eb_a1e5_8086f2c3fd57row9_col2,#T_1d2d4914_5980_11eb_a1e5_8086f2c3fd57row18_col25,#T_1d2d4914_5980_11eb_a1e5_8086f2c3fd57row20_col14,#T_1d2d4914_5980_11eb_a1e5_8086f2c3fd57row20_col18,#T_1d2d4914_5980_11eb_a1e5_8086f2c3fd57row22_col11{\n",
       "            background-color:  #3c4ec2;\n",
       "            color:  #f1f1f1;\n",
       "        }#T_1d2d4914_5980_11eb_a1e5_8086f2c3fd57row0_col10,#T_1d2d4914_5980_11eb_a1e5_8086f2c3fd57row9_col14,#T_1d2d4914_5980_11eb_a1e5_8086f2c3fd57row17_col23{\n",
       "            background-color:  #e9d5cb;\n",
       "            color:  #000000;\n",
       "        }#T_1d2d4914_5980_11eb_a1e5_8086f2c3fd57row0_col11,#T_1d2d4914_5980_11eb_a1e5_8086f2c3fd57row0_col14,#T_1d2d4914_5980_11eb_a1e5_8086f2c3fd57row1_col4,#T_1d2d4914_5980_11eb_a1e5_8086f2c3fd57row1_col8,#T_1d2d4914_5980_11eb_a1e5_8086f2c3fd57row3_col9,#T_1d2d4914_5980_11eb_a1e5_8086f2c3fd57row3_col14,#T_1d2d4914_5980_11eb_a1e5_8086f2c3fd57row3_col19,#T_1d2d4914_5980_11eb_a1e5_8086f2c3fd57row9_col0,#T_1d2d4914_5980_11eb_a1e5_8086f2c3fd57row9_col1,#T_1d2d4914_5980_11eb_a1e5_8086f2c3fd57row9_col3,#T_1d2d4914_5980_11eb_a1e5_8086f2c3fd57row9_col10,#T_1d2d4914_5980_11eb_a1e5_8086f2c3fd57row9_col12,#T_1d2d4914_5980_11eb_a1e5_8086f2c3fd57row9_col13,#T_1d2d4914_5980_11eb_a1e5_8086f2c3fd57row11_col5,#T_1d2d4914_5980_11eb_a1e5_8086f2c3fd57row11_col16,#T_1d2d4914_5980_11eb_a1e5_8086f2c3fd57row11_col25,#T_1d2d4914_5980_11eb_a1e5_8086f2c3fd57row11_col28,#T_1d2d4914_5980_11eb_a1e5_8086f2c3fd57row11_col29,#T_1d2d4914_5980_11eb_a1e5_8086f2c3fd57row14_col2,#T_1d2d4914_5980_11eb_a1e5_8086f2c3fd57row14_col20,#T_1d2d4914_5980_11eb_a1e5_8086f2c3fd57row14_col22,#T_1d2d4914_5980_11eb_a1e5_8086f2c3fd57row14_col23,#T_1d2d4914_5980_11eb_a1e5_8086f2c3fd57row18_col6,#T_1d2d4914_5980_11eb_a1e5_8086f2c3fd57row18_col7,#T_1d2d4914_5980_11eb_a1e5_8086f2c3fd57row18_col16,#T_1d2d4914_5980_11eb_a1e5_8086f2c3fd57row18_col21,#T_1d2d4914_5980_11eb_a1e5_8086f2c3fd57row18_col24,#T_1d2d4914_5980_11eb_a1e5_8086f2c3fd57row18_col26,#T_1d2d4914_5980_11eb_a1e5_8086f2c3fd57row18_col27,#T_1d2d4914_5980_11eb_a1e5_8086f2c3fd57row20_col11,#T_1d2d4914_5980_11eb_a1e5_8086f2c3fd57row21_col15,#T_1d2d4914_5980_11eb_a1e5_8086f2c3fd57row23_col11,#T_1d2d4914_5980_11eb_a1e5_8086f2c3fd57row23_col14,#T_1d2d4914_5980_11eb_a1e5_8086f2c3fd57row23_col18,#T_1d2d4914_5980_11eb_a1e5_8086f2c3fd57row28_col17{\n",
       "            background-color:  #3b4cc0;\n",
       "            color:  #f1f1f1;\n",
       "        }#T_1d2d4914_5980_11eb_a1e5_8086f2c3fd57row0_col12,#T_1d2d4914_5980_11eb_a1e5_8086f2c3fd57row3_col12,#T_1d2d4914_5980_11eb_a1e5_8086f2c3fd57row26_col24{\n",
       "            background-color:  #e7d7ce;\n",
       "            color:  #000000;\n",
       "        }#T_1d2d4914_5980_11eb_a1e5_8086f2c3fd57row0_col15,#T_1d2d4914_5980_11eb_a1e5_8086f2c3fd57row1_col15,#T_1d2d4914_5980_11eb_a1e5_8086f2c3fd57row11_col4,#T_1d2d4914_5980_11eb_a1e5_8086f2c3fd57row26_col11{\n",
       "            background-color:  #4f69d9;\n",
       "            color:  #000000;\n",
       "        }#T_1d2d4914_5980_11eb_a1e5_8086f2c3fd57row0_col16,#T_1d2d4914_5980_11eb_a1e5_8086f2c3fd57row1_col18,#T_1d2d4914_5980_11eb_a1e5_8086f2c3fd57row21_col5,#T_1d2d4914_5980_11eb_a1e5_8086f2c3fd57row22_col29{\n",
       "            background-color:  #81a4fb;\n",
       "            color:  #000000;\n",
       "        }#T_1d2d4914_5980_11eb_a1e5_8086f2c3fd57row0_col17,#T_1d2d4914_5980_11eb_a1e5_8086f2c3fd57row9_col26,#T_1d2d4914_5980_11eb_a1e5_8086f2c3fd57row14_col4,#T_1d2d4914_5980_11eb_a1e5_8086f2c3fd57row17_col24,#T_1d2d4914_5980_11eb_a1e5_8086f2c3fd57row21_col6,#T_1d2d4914_5980_11eb_a1e5_8086f2c3fd57row24_col19,#T_1d2d4914_5980_11eb_a1e5_8086f2c3fd57row27_col8{\n",
       "            background-color:  #a6c4fe;\n",
       "            color:  #000000;\n",
       "        }#T_1d2d4914_5980_11eb_a1e5_8086f2c3fd57row0_col18,#T_1d2d4914_5980_11eb_a1e5_8086f2c3fd57row9_col20,#T_1d2d4914_5980_11eb_a1e5_8086f2c3fd57row14_col3,#T_1d2d4914_5980_11eb_a1e5_8086f2c3fd57row23_col19{\n",
       "            background-color:  #4055c8;\n",
       "            color:  #f1f1f1;\n",
       "        }#T_1d2d4914_5980_11eb_a1e5_8086f2c3fd57row0_col20,#T_1d2d4914_5980_11eb_a1e5_8086f2c3fd57row0_col23,#T_1d2d4914_5980_11eb_a1e5_8086f2c3fd57row2_col22,#T_1d2d4914_5980_11eb_a1e5_8086f2c3fd57row3_col20,#T_1d2d4914_5980_11eb_a1e5_8086f2c3fd57row20_col0,#T_1d2d4914_5980_11eb_a1e5_8086f2c3fd57row22_col2,#T_1d2d4914_5980_11eb_a1e5_8086f2c3fd57row23_col0{\n",
       "            background-color:  #ba162b;\n",
       "            color:  #f1f1f1;\n",
       "        }#T_1d2d4914_5980_11eb_a1e5_8086f2c3fd57row0_col21,#T_1d2d4914_5980_11eb_a1e5_8086f2c3fd57row3_col1,#T_1d2d4914_5980_11eb_a1e5_8086f2c3fd57row3_col21,#T_1d2d4914_5980_11eb_a1e5_8086f2c3fd57row6_col1,#T_1d2d4914_5980_11eb_a1e5_8086f2c3fd57row8_col22,#T_1d2d4914_5980_11eb_a1e5_8086f2c3fd57row11_col9{\n",
       "            background-color:  #bad0f8;\n",
       "            color:  #000000;\n",
       "        }#T_1d2d4914_5980_11eb_a1e5_8086f2c3fd57row0_col22,#T_1d2d4914_5980_11eb_a1e5_8086f2c3fd57row3_col22,#T_1d2d4914_5980_11eb_a1e5_8086f2c3fd57row22_col0,#T_1d2d4914_5980_11eb_a1e5_8086f2c3fd57row22_col3{\n",
       "            background-color:  #bb1b2c;\n",
       "            color:  #f1f1f1;\n",
       "        }#T_1d2d4914_5980_11eb_a1e5_8086f2c3fd57row0_col24,#T_1d2d4914_5980_11eb_a1e5_8086f2c3fd57row2_col4,#T_1d2d4914_5980_11eb_a1e5_8086f2c3fd57row14_col12{\n",
       "            background-color:  #6e90f2;\n",
       "            color:  #000000;\n",
       "        }#T_1d2d4914_5980_11eb_a1e5_8086f2c3fd57row0_col25,#T_1d2d4914_5980_11eb_a1e5_8086f2c3fd57row4_col29,#T_1d2d4914_5980_11eb_a1e5_8086f2c3fd57row10_col17,#T_1d2d4914_5980_11eb_a1e5_8086f2c3fd57row16_col20,#T_1d2d4914_5980_11eb_a1e5_8086f2c3fd57row25_col19,#T_1d2d4914_5980_11eb_a1e5_8086f2c3fd57row26_col28,#T_1d2d4914_5980_11eb_a1e5_8086f2c3fd57row28_col26{\n",
       "            background-color:  #e5d8d1;\n",
       "            color:  #000000;\n",
       "        }#T_1d2d4914_5980_11eb_a1e5_8086f2c3fd57row0_col27,#T_1d2d4914_5980_11eb_a1e5_8086f2c3fd57row6_col20,#T_1d2d4914_5980_11eb_a1e5_8086f2c3fd57row16_col5,#T_1d2d4914_5980_11eb_a1e5_8086f2c3fd57row17_col16{\n",
       "            background-color:  #f39577;\n",
       "            color:  #000000;\n",
       "        }#T_1d2d4914_5980_11eb_a1e5_8086f2c3fd57row0_col28,#T_1d2d4914_5980_11eb_a1e5_8086f2c3fd57row2_col16,#T_1d2d4914_5980_11eb_a1e5_8086f2c3fd57row10_col9,#T_1d2d4914_5980_11eb_a1e5_8086f2c3fd57row11_col12,#T_1d2d4914_5980_11eb_a1e5_8086f2c3fd57row19_col2,#T_1d2d4914_5980_11eb_a1e5_8086f2c3fd57row21_col12{\n",
       "            background-color:  #92b4fe;\n",
       "            color:  #000000;\n",
       "        }#T_1d2d4914_5980_11eb_a1e5_8086f2c3fd57row0_col29,#T_1d2d4914_5980_11eb_a1e5_8086f2c3fd57row23_col15,#T_1d2d4914_5980_11eb_a1e5_8086f2c3fd57row29_col11{\n",
       "            background-color:  #5572df;\n",
       "            color:  #000000;\n",
       "        }#T_1d2d4914_5980_11eb_a1e5_8086f2c3fd57row1_col0,#T_1d2d4914_5980_11eb_a1e5_8086f2c3fd57row8_col18,#T_1d2d4914_5980_11eb_a1e5_8086f2c3fd57row9_col24,#T_1d2d4914_5980_11eb_a1e5_8086f2c3fd57row14_col11,#T_1d2d4914_5980_11eb_a1e5_8086f2c3fd57row28_col29{\n",
       "            background-color:  #e0dbd8;\n",
       "            color:  #000000;\n",
       "        }#T_1d2d4914_5980_11eb_a1e5_8086f2c3fd57row1_col2,#T_1d2d4914_5980_11eb_a1e5_8086f2c3fd57row4_col14,#T_1d2d4914_5980_11eb_a1e5_8086f2c3fd57row19_col6{\n",
       "            background-color:  #dddcdc;\n",
       "            color:  #000000;\n",
       "        }#T_1d2d4914_5980_11eb_a1e5_8086f2c3fd57row1_col3,#T_1d2d4914_5980_11eb_a1e5_8086f2c3fd57row11_col18,#T_1d2d4914_5980_11eb_a1e5_8086f2c3fd57row13_col5,#T_1d2d4914_5980_11eb_a1e5_8086f2c3fd57row16_col9,#T_1d2d4914_5980_11eb_a1e5_8086f2c3fd57row16_col13,#T_1d2d4914_5980_11eb_a1e5_8086f2c3fd57row27_col28{\n",
       "            background-color:  #e1dad6;\n",
       "            color:  #000000;\n",
       "        }#T_1d2d4914_5980_11eb_a1e5_8086f2c3fd57row1_col5,#T_1d2d4914_5980_11eb_a1e5_8086f2c3fd57row6_col18,#T_1d2d4914_5980_11eb_a1e5_8086f2c3fd57row21_col9,#T_1d2d4914_5980_11eb_a1e5_8086f2c3fd57row21_col29{\n",
       "            background-color:  #85a8fc;\n",
       "            color:  #000000;\n",
       "        }#T_1d2d4914_5980_11eb_a1e5_8086f2c3fd57row1_col6,#T_1d2d4914_5980_11eb_a1e5_8086f2c3fd57row1_col7,#T_1d2d4914_5980_11eb_a1e5_8086f2c3fd57row5_col21,#T_1d2d4914_5980_11eb_a1e5_8086f2c3fd57row10_col16,#T_1d2d4914_5980_11eb_a1e5_8086f2c3fd57row16_col1{\n",
       "            background-color:  #a7c5fe;\n",
       "            color:  #000000;\n",
       "        }#T_1d2d4914_5980_11eb_a1e5_8086f2c3fd57row1_col9,#T_1d2d4914_5980_11eb_a1e5_8086f2c3fd57row8_col16,#T_1d2d4914_5980_11eb_a1e5_8086f2c3fd57row13_col24,#T_1d2d4914_5980_11eb_a1e5_8086f2c3fd57row14_col10,#T_1d2d4914_5980_11eb_a1e5_8086f2c3fd57row21_col14,#T_1d2d4914_5980_11eb_a1e5_8086f2c3fd57row29_col18{\n",
       "            background-color:  #82a6fb;\n",
       "            color:  #000000;\n",
       "        }#T_1d2d4914_5980_11eb_a1e5_8086f2c3fd57row1_col10,#T_1d2d4914_5980_11eb_a1e5_8086f2c3fd57row8_col23,#T_1d2d4914_5980_11eb_a1e5_8086f2c3fd57row16_col18,#T_1d2d4914_5980_11eb_a1e5_8086f2c3fd57row18_col28{\n",
       "            background-color:  #b3cdfb;\n",
       "            color:  #000000;\n",
       "        }#T_1d2d4914_5980_11eb_a1e5_8086f2c3fd57row1_col11,#T_1d2d4914_5980_11eb_a1e5_8086f2c3fd57row1_col20,#T_1d2d4914_5980_11eb_a1e5_8086f2c3fd57row1_col22,#T_1d2d4914_5980_11eb_a1e5_8086f2c3fd57row1_col23,#T_1d2d4914_5980_11eb_a1e5_8086f2c3fd57row2_col5,#T_1d2d4914_5980_11eb_a1e5_8086f2c3fd57row6_col19,#T_1d2d4914_5980_11eb_a1e5_8086f2c3fd57row16_col12,#T_1d2d4914_5980_11eb_a1e5_8086f2c3fd57row20_col5,#T_1d2d4914_5980_11eb_a1e5_8086f2c3fd57row25_col17,#T_1d2d4914_5980_11eb_a1e5_8086f2c3fd57row28_col24{\n",
       "            background-color:  #e2dad5;\n",
       "            color:  #000000;\n",
       "        }#T_1d2d4914_5980_11eb_a1e5_8086f2c3fd57row1_col12,#T_1d2d4914_5980_11eb_a1e5_8086f2c3fd57row1_col25,#T_1d2d4914_5980_11eb_a1e5_8086f2c3fd57row8_col0,#T_1d2d4914_5980_11eb_a1e5_8086f2c3fd57row8_col3,#T_1d2d4914_5980_11eb_a1e5_8086f2c3fd57row10_col21,#T_1d2d4914_5980_11eb_a1e5_8086f2c3fd57row15_col24{\n",
       "            background-color:  #afcafc;\n",
       "            color:  #000000;\n",
       "        }#T_1d2d4914_5980_11eb_a1e5_8086f2c3fd57row1_col13,#T_1d2d4914_5980_11eb_a1e5_8086f2c3fd57row4_col28,#T_1d2d4914_5980_11eb_a1e5_8086f2c3fd57row8_col26,#T_1d2d4914_5980_11eb_a1e5_8086f2c3fd57row9_col18,#T_1d2d4914_5980_11eb_a1e5_8086f2c3fd57row15_col20,#T_1d2d4914_5980_11eb_a1e5_8086f2c3fd57row26_col12{\n",
       "            background-color:  #d2dbe8;\n",
       "            color:  #000000;\n",
       "        }#T_1d2d4914_5980_11eb_a1e5_8086f2c3fd57row1_col14,#T_1d2d4914_5980_11eb_a1e5_8086f2c3fd57row10_col15,#T_1d2d4914_5980_11eb_a1e5_8086f2c3fd57row12_col8,#T_1d2d4914_5980_11eb_a1e5_8086f2c3fd57row24_col13{\n",
       "            background-color:  #96b7ff;\n",
       "            color:  #000000;\n",
       "        }#T_1d2d4914_5980_11eb_a1e5_8086f2c3fd57row1_col16,#T_1d2d4914_5980_11eb_a1e5_8086f2c3fd57row26_col18,#T_1d2d4914_5980_11eb_a1e5_8086f2c3fd57row28_col12{\n",
       "            background-color:  #5f7fe8;\n",
       "            color:  #000000;\n",
       "        }#T_1d2d4914_5980_11eb_a1e5_8086f2c3fd57row1_col17,#T_1d2d4914_5980_11eb_a1e5_8086f2c3fd57row2_col15{\n",
       "            background-color:  #6180e9;\n",
       "            color:  #000000;\n",
       "        }#T_1d2d4914_5980_11eb_a1e5_8086f2c3fd57row1_col19,#T_1d2d4914_5980_11eb_a1e5_8086f2c3fd57row1_col29,#T_1d2d4914_5980_11eb_a1e5_8086f2c3fd57row8_col1,#T_1d2d4914_5980_11eb_a1e5_8086f2c3fd57row11_col3,#T_1d2d4914_5980_11eb_a1e5_8086f2c3fd57row23_col29{\n",
       "            background-color:  #6c8ff1;\n",
       "            color:  #000000;\n",
       "        }#T_1d2d4914_5980_11eb_a1e5_8086f2c3fd57row1_col21,#T_1d2d4914_5980_11eb_a1e5_8086f2c3fd57row6_col27,#T_1d2d4914_5980_11eb_a1e5_8086f2c3fd57row21_col1,#T_1d2d4914_5980_11eb_a1e5_8086f2c3fd57row26_col27{\n",
       "            background-color:  #d1493f;\n",
       "            color:  #f1f1f1;\n",
       "        }#T_1d2d4914_5980_11eb_a1e5_8086f2c3fd57row1_col24,#T_1d2d4914_5980_11eb_a1e5_8086f2c3fd57row7_col11,#T_1d2d4914_5980_11eb_a1e5_8086f2c3fd57row24_col15,#T_1d2d4914_5980_11eb_a1e5_8086f2c3fd57row29_col12{\n",
       "            background-color:  #6687ed;\n",
       "            color:  #000000;\n",
       "        }#T_1d2d4914_5980_11eb_a1e5_8086f2c3fd57row1_col26,#T_1d2d4914_5980_11eb_a1e5_8086f2c3fd57row4_col22,#T_1d2d4914_5980_11eb_a1e5_8086f2c3fd57row8_col19,#T_1d2d4914_5980_11eb_a1e5_8086f2c3fd57row12_col15,#T_1d2d4914_5980_11eb_a1e5_8086f2c3fd57row24_col20{\n",
       "            background-color:  #c3d5f4;\n",
       "            color:  #000000;\n",
       "        }#T_1d2d4914_5980_11eb_a1e5_8086f2c3fd57row1_col27,#T_1d2d4914_5980_11eb_a1e5_8086f2c3fd57row12_col14,#T_1d2d4914_5980_11eb_a1e5_8086f2c3fd57row23_col1,#T_1d2d4914_5980_11eb_a1e5_8086f2c3fd57row24_col23,#T_1d2d4914_5980_11eb_a1e5_8086f2c3fd57row25_col12,#T_1d2d4914_5980_11eb_a1e5_8086f2c3fd57row25_col21,#T_1d2d4914_5980_11eb_a1e5_8086f2c3fd57row26_col10{\n",
       "            background-color:  #c1d4f4;\n",
       "            color:  #000000;\n",
       "        }#T_1d2d4914_5980_11eb_a1e5_8086f2c3fd57row1_col28,#T_1d2d4914_5980_11eb_a1e5_8086f2c3fd57row3_col16{\n",
       "            background-color:  #80a3fa;\n",
       "            color:  #000000;\n",
       "        }#T_1d2d4914_5980_11eb_a1e5_8086f2c3fd57row2_col1,#T_1d2d4914_5980_11eb_a1e5_8086f2c3fd57row7_col19,#T_1d2d4914_5980_11eb_a1e5_8086f2c3fd57row17_col29,#T_1d2d4914_5980_11eb_a1e5_8086f2c3fd57row19_col12{\n",
       "            background-color:  #bbd1f8;\n",
       "            color:  #000000;\n",
       "        }#T_1d2d4914_5980_11eb_a1e5_8086f2c3fd57row2_col6,#T_1d2d4914_5980_11eb_a1e5_8086f2c3fd57row16_col19,#T_1d2d4914_5980_11eb_a1e5_8086f2c3fd57row20_col6,#T_1d2d4914_5980_11eb_a1e5_8086f2c3fd57row28_col8,#T_1d2d4914_5980_11eb_a1e5_8086f2c3fd57row29_col5{\n",
       "            background-color:  #f7b599;\n",
       "            color:  #000000;\n",
       "        }#T_1d2d4914_5980_11eb_a1e5_8086f2c3fd57row2_col7,#T_1d2d4914_5980_11eb_a1e5_8086f2c3fd57row20_col7,#T_1d2d4914_5980_11eb_a1e5_8086f2c3fd57row22_col13,#T_1d2d4914_5980_11eb_a1e5_8086f2c3fd57row27_col3{\n",
       "            background-color:  #ee8669;\n",
       "            color:  #000000;\n",
       "        }#T_1d2d4914_5980_11eb_a1e5_8086f2c3fd57row2_col8,#T_1d2d4914_5980_11eb_a1e5_8086f2c3fd57row2_col19,#T_1d2d4914_5980_11eb_a1e5_8086f2c3fd57row9_col22,#T_1d2d4914_5980_11eb_a1e5_8086f2c3fd57row14_col7,#T_1d2d4914_5980_11eb_a1e5_8086f2c3fd57row18_col20,#T_1d2d4914_5980_11eb_a1e5_8086f2c3fd57row18_col23,#T_1d2d4914_5980_11eb_a1e5_8086f2c3fd57row27_col11{\n",
       "            background-color:  #485fd1;\n",
       "            color:  #f1f1f1;\n",
       "        }#T_1d2d4914_5980_11eb_a1e5_8086f2c3fd57row2_col9,#T_1d2d4914_5980_11eb_a1e5_8086f2c3fd57row11_col26,#T_1d2d4914_5980_11eb_a1e5_8086f2c3fd57row23_col9{\n",
       "            background-color:  #465ecf;\n",
       "            color:  #f1f1f1;\n",
       "        }#T_1d2d4914_5980_11eb_a1e5_8086f2c3fd57row2_col10,#T_1d2d4914_5980_11eb_a1e5_8086f2c3fd57row4_col27,#T_1d2d4914_5980_11eb_a1e5_8086f2c3fd57row5_col12,#T_1d2d4914_5980_11eb_a1e5_8086f2c3fd57row14_col9,#T_1d2d4914_5980_11eb_a1e5_8086f2c3fd57row21_col11,#T_1d2d4914_5980_11eb_a1e5_8086f2c3fd57row25_col9{\n",
       "            background-color:  #ebd3c6;\n",
       "            color:  #000000;\n",
       "        }#T_1d2d4914_5980_11eb_a1e5_8086f2c3fd57row2_col12,#T_1d2d4914_5980_11eb_a1e5_8086f2c3fd57row24_col5{\n",
       "            background-color:  #ead4c8;\n",
       "            color:  #000000;\n",
       "        }#T_1d2d4914_5980_11eb_a1e5_8086f2c3fd57row2_col13,#T_1d2d4914_5980_11eb_a1e5_8086f2c3fd57row9_col29,#T_1d2d4914_5980_11eb_a1e5_8086f2c3fd57row25_col29,#T_1d2d4914_5980_11eb_a1e5_8086f2c3fd57row26_col22{\n",
       "            background-color:  #f29072;\n",
       "            color:  #000000;\n",
       "        }#T_1d2d4914_5980_11eb_a1e5_8086f2c3fd57row2_col14,#T_1d2d4914_5980_11eb_a1e5_8086f2c3fd57row9_col23,#T_1d2d4914_5980_11eb_a1e5_8086f2c3fd57row22_col14{\n",
       "            background-color:  #3e51c5;\n",
       "            color:  #f1f1f1;\n",
       "        }#T_1d2d4914_5980_11eb_a1e5_8086f2c3fd57row2_col17,#T_1d2d4914_5980_11eb_a1e5_8086f2c3fd57row9_col8,#T_1d2d4914_5980_11eb_a1e5_8086f2c3fd57row10_col19,#T_1d2d4914_5980_11eb_a1e5_8086f2c3fd57row17_col11,#T_1d2d4914_5980_11eb_a1e5_8086f2c3fd57row22_col28,#T_1d2d4914_5980_11eb_a1e5_8086f2c3fd57row24_col2,#T_1d2d4914_5980_11eb_a1e5_8086f2c3fd57row27_col1{\n",
       "            background-color:  #b2ccfb;\n",
       "            color:  #000000;\n",
       "        }#T_1d2d4914_5980_11eb_a1e5_8086f2c3fd57row2_col18,#T_1d2d4914_5980_11eb_a1e5_8086f2c3fd57row11_col6,#T_1d2d4914_5980_11eb_a1e5_8086f2c3fd57row21_col17{\n",
       "            background-color:  #4358cb;\n",
       "            color:  #f1f1f1;\n",
       "        }#T_1d2d4914_5980_11eb_a1e5_8086f2c3fd57row2_col20,#T_1d2d4914_5980_11eb_a1e5_8086f2c3fd57row2_col23,#T_1d2d4914_5980_11eb_a1e5_8086f2c3fd57row3_col23,#T_1d2d4914_5980_11eb_a1e5_8086f2c3fd57row20_col2,#T_1d2d4914_5980_11eb_a1e5_8086f2c3fd57row20_col3,#T_1d2d4914_5980_11eb_a1e5_8086f2c3fd57row23_col2,#T_1d2d4914_5980_11eb_a1e5_8086f2c3fd57row23_col3{\n",
       "            background-color:  #b8122a;\n",
       "            color:  #f1f1f1;\n",
       "        }#T_1d2d4914_5980_11eb_a1e5_8086f2c3fd57row2_col21,#T_1d2d4914_5980_11eb_a1e5_8086f2c3fd57row4_col23,#T_1d2d4914_5980_11eb_a1e5_8086f2c3fd57row18_col19,#T_1d2d4914_5980_11eb_a1e5_8086f2c3fd57row28_col0,#T_1d2d4914_5980_11eb_a1e5_8086f2c3fd57row28_col2,#T_1d2d4914_5980_11eb_a1e5_8086f2c3fd57row28_col3,#T_1d2d4914_5980_11eb_a1e5_8086f2c3fd57row29_col16{\n",
       "            background-color:  #bcd2f7;\n",
       "            color:  #000000;\n",
       "        }#T_1d2d4914_5980_11eb_a1e5_8086f2c3fd57row2_col24,#T_1d2d4914_5980_11eb_a1e5_8086f2c3fd57row7_col18,#T_1d2d4914_5980_11eb_a1e5_8086f2c3fd57row9_col16,#T_1d2d4914_5980_11eb_a1e5_8086f2c3fd57row18_col13,#T_1d2d4914_5980_11eb_a1e5_8086f2c3fd57row27_col14,#T_1d2d4914_5980_11eb_a1e5_8086f2c3fd57row29_col13{\n",
       "            background-color:  #779af7;\n",
       "            color:  #000000;\n",
       "        }#T_1d2d4914_5980_11eb_a1e5_8086f2c3fd57row2_col25,#T_1d2d4914_5980_11eb_a1e5_8086f2c3fd57row22_col5{\n",
       "            background-color:  #edd1c2;\n",
       "            color:  #000000;\n",
       "        }#T_1d2d4914_5980_11eb_a1e5_8086f2c3fd57row2_col26,#T_1d2d4914_5980_11eb_a1e5_8086f2c3fd57row5_col4,#T_1d2d4914_5980_11eb_a1e5_8086f2c3fd57row10_col3,#T_1d2d4914_5980_11eb_a1e5_8086f2c3fd57row23_col6,#T_1d2d4914_5980_11eb_a1e5_8086f2c3fd57row25_col16{\n",
       "            background-color:  #f7b79b;\n",
       "            color:  #000000;\n",
       "        }#T_1d2d4914_5980_11eb_a1e5_8086f2c3fd57row2_col27,#T_1d2d4914_5980_11eb_a1e5_8086f2c3fd57row6_col22,#T_1d2d4914_5980_11eb_a1e5_8086f2c3fd57row23_col7{\n",
       "            background-color:  #f08a6c;\n",
       "            color:  #000000;\n",
       "        }#T_1d2d4914_5980_11eb_a1e5_8086f2c3fd57row2_col28,#T_1d2d4914_5980_11eb_a1e5_8086f2c3fd57row13_col18,#T_1d2d4914_5980_11eb_a1e5_8086f2c3fd57row15_col21,#T_1d2d4914_5980_11eb_a1e5_8086f2c3fd57row19_col22,#T_1d2d4914_5980_11eb_a1e5_8086f2c3fd57row21_col10{\n",
       "            background-color:  #98b9ff;\n",
       "            color:  #000000;\n",
       "        }#T_1d2d4914_5980_11eb_a1e5_8086f2c3fd57row2_col29,#T_1d2d4914_5980_11eb_a1e5_8086f2c3fd57row11_col2,#T_1d2d4914_5980_11eb_a1e5_8086f2c3fd57row11_col20,#T_1d2d4914_5980_11eb_a1e5_8086f2c3fd57row18_col4{\n",
       "            background-color:  #6384eb;\n",
       "            color:  #000000;\n",
       "        }#T_1d2d4914_5980_11eb_a1e5_8086f2c3fd57row3_col4{\n",
       "            background-color:  #5e7de7;\n",
       "            color:  #000000;\n",
       "        }#T_1d2d4914_5980_11eb_a1e5_8086f2c3fd57row3_col5,#T_1d2d4914_5980_11eb_a1e5_8086f2c3fd57row13_col25,#T_1d2d4914_5980_11eb_a1e5_8086f2c3fd57row15_col14{\n",
       "            background-color:  #d3dbe7;\n",
       "            color:  #000000;\n",
       "        }#T_1d2d4914_5980_11eb_a1e5_8086f2c3fd57row3_col6,#T_1d2d4914_5980_11eb_a1e5_8086f2c3fd57row3_col26,#T_1d2d4914_5980_11eb_a1e5_8086f2c3fd57row7_col10,#T_1d2d4914_5980_11eb_a1e5_8086f2c3fd57row13_col6,#T_1d2d4914_5980_11eb_a1e5_8086f2c3fd57row17_col13{\n",
       "            background-color:  #f5c1a9;\n",
       "            color:  #000000;\n",
       "        }#T_1d2d4914_5980_11eb_a1e5_8086f2c3fd57row3_col7,#T_1d2d4914_5980_11eb_a1e5_8086f2c3fd57row17_col7,#T_1d2d4914_5980_11eb_a1e5_8086f2c3fd57row25_col7{\n",
       "            background-color:  #f39475;\n",
       "            color:  #000000;\n",
       "        }#T_1d2d4914_5980_11eb_a1e5_8086f2c3fd57row3_col10,#T_1d2d4914_5980_11eb_a1e5_8086f2c3fd57row7_col4,#T_1d2d4914_5980_11eb_a1e5_8086f2c3fd57row13_col26,#T_1d2d4914_5980_11eb_a1e5_8086f2c3fd57row17_col20,#T_1d2d4914_5980_11eb_a1e5_8086f2c3fd57row19_col17,#T_1d2d4914_5980_11eb_a1e5_8086f2c3fd57row24_col28,#T_1d2d4914_5980_11eb_a1e5_8086f2c3fd57row26_col13{\n",
       "            background-color:  #ead5c9;\n",
       "            color:  #000000;\n",
       "        }#T_1d2d4914_5980_11eb_a1e5_8086f2c3fd57row3_col15,#T_1d2d4914_5980_11eb_a1e5_8086f2c3fd57row18_col1,#T_1d2d4914_5980_11eb_a1e5_8086f2c3fd57row18_col2{\n",
       "            background-color:  #4e68d8;\n",
       "            color:  #000000;\n",
       "        }#T_1d2d4914_5980_11eb_a1e5_8086f2c3fd57row3_col17,#T_1d2d4914_5980_11eb_a1e5_8086f2c3fd57row12_col4,#T_1d2d4914_5980_11eb_a1e5_8086f2c3fd57row16_col28{\n",
       "            background-color:  #a3c2fe;\n",
       "            color:  #000000;\n",
       "        }#T_1d2d4914_5980_11eb_a1e5_8086f2c3fd57row3_col18,#T_1d2d4914_5980_11eb_a1e5_8086f2c3fd57row11_col24,#T_1d2d4914_5980_11eb_a1e5_8086f2c3fd57row14_col0,#T_1d2d4914_5980_11eb_a1e5_8086f2c3fd57row22_col18{\n",
       "            background-color:  #3f53c6;\n",
       "            color:  #f1f1f1;\n",
       "        }#T_1d2d4914_5980_11eb_a1e5_8086f2c3fd57row3_col24{\n",
       "            background-color:  #6b8df0;\n",
       "            color:  #000000;\n",
       "        }#T_1d2d4914_5980_11eb_a1e5_8086f2c3fd57row3_col25,#T_1d2d4914_5980_11eb_a1e5_8086f2c3fd57row8_col4,#T_1d2d4914_5980_11eb_a1e5_8086f2c3fd57row8_col5,#T_1d2d4914_5980_11eb_a1e5_8086f2c3fd57row16_col0,#T_1d2d4914_5980_11eb_a1e5_8086f2c3fd57row16_col3,#T_1d2d4914_5980_11eb_a1e5_8086f2c3fd57row16_col23,#T_1d2d4914_5980_11eb_a1e5_8086f2c3fd57row16_col29,#T_1d2d4914_5980_11eb_a1e5_8086f2c3fd57row29_col6{\n",
       "            background-color:  #e4d9d2;\n",
       "            color:  #000000;\n",
       "        }#T_1d2d4914_5980_11eb_a1e5_8086f2c3fd57row3_col27,#T_1d2d4914_5980_11eb_a1e5_8086f2c3fd57row6_col2,#T_1d2d4914_5980_11eb_a1e5_8086f2c3fd57row6_col23,#T_1d2d4914_5980_11eb_a1e5_8086f2c3fd57row7_col13,#T_1d2d4914_5980_11eb_a1e5_8086f2c3fd57row15_col6{\n",
       "            background-color:  #f39778;\n",
       "            color:  #000000;\n",
       "        }#T_1d2d4914_5980_11eb_a1e5_8086f2c3fd57row3_col28,#T_1d2d4914_5980_11eb_a1e5_8086f2c3fd57row7_col14,#T_1d2d4914_5980_11eb_a1e5_8086f2c3fd57row19_col28,#T_1d2d4914_5980_11eb_a1e5_8086f2c3fd57row29_col17{\n",
       "            background-color:  #90b2fe;\n",
       "            color:  #000000;\n",
       "        }#T_1d2d4914_5980_11eb_a1e5_8086f2c3fd57row3_col29,#T_1d2d4914_5980_11eb_a1e5_8086f2c3fd57row14_col5,#T_1d2d4914_5980_11eb_a1e5_8086f2c3fd57row18_col3{\n",
       "            background-color:  #5470de;\n",
       "            color:  #000000;\n",
       "        }#T_1d2d4914_5980_11eb_a1e5_8086f2c3fd57row4_col0,#T_1d2d4914_5980_11eb_a1e5_8086f2c3fd57row7_col9,#T_1d2d4914_5980_11eb_a1e5_8086f2c3fd57row8_col20,#T_1d2d4914_5980_11eb_a1e5_8086f2c3fd57row9_col28,#T_1d2d4914_5980_11eb_a1e5_8086f2c3fd57row12_col21,#T_1d2d4914_5980_11eb_a1e5_8086f2c3fd57row28_col6{\n",
       "            background-color:  #b6cefa;\n",
       "            color:  #000000;\n",
       "        }#T_1d2d4914_5980_11eb_a1e5_8086f2c3fd57row4_col1,#T_1d2d4914_5980_11eb_a1e5_8086f2c3fd57row18_col0,#T_1d2d4914_5980_11eb_a1e5_8086f2c3fd57row18_col15,#T_1d2d4914_5980_11eb_a1e5_8086f2c3fd57row22_col9{\n",
       "            background-color:  #536edd;\n",
       "            color:  #000000;\n",
       "        }#T_1d2d4914_5980_11eb_a1e5_8086f2c3fd57row4_col3,#T_1d2d4914_5980_11eb_a1e5_8086f2c3fd57row7_col21,#T_1d2d4914_5980_11eb_a1e5_8086f2c3fd57row8_col13,#T_1d2d4914_5980_11eb_a1e5_8086f2c3fd57row15_col8,#T_1d2d4914_5980_11eb_a1e5_8086f2c3fd57row22_col17,#T_1d2d4914_5980_11eb_a1e5_8086f2c3fd57row27_col9{\n",
       "            background-color:  #b5cdfa;\n",
       "            color:  #000000;\n",
       "        }#T_1d2d4914_5980_11eb_a1e5_8086f2c3fd57row4_col5,#T_1d2d4914_5980_11eb_a1e5_8086f2c3fd57row7_col12,#T_1d2d4914_5980_11eb_a1e5_8086f2c3fd57row27_col13,#T_1d2d4914_5980_11eb_a1e5_8086f2c3fd57row29_col26{\n",
       "            background-color:  #f7b99e;\n",
       "            color:  #000000;\n",
       "        }#T_1d2d4914_5980_11eb_a1e5_8086f2c3fd57row4_col6,#T_1d2d4914_5980_11eb_a1e5_8086f2c3fd57row5_col10,#T_1d2d4914_5980_11eb_a1e5_8086f2c3fd57row6_col4,#T_1d2d4914_5980_11eb_a1e5_8086f2c3fd57row7_col15,#T_1d2d4914_5980_11eb_a1e5_8086f2c3fd57row15_col12,#T_1d2d4914_5980_11eb_a1e5_8086f2c3fd57row17_col14,#T_1d2d4914_5980_11eb_a1e5_8086f2c3fd57row24_col7{\n",
       "            background-color:  #dedcdb;\n",
       "            color:  #000000;\n",
       "        }#T_1d2d4914_5980_11eb_a1e5_8086f2c3fd57row4_col7,#T_1d2d4914_5980_11eb_a1e5_8086f2c3fd57row6_col10,#T_1d2d4914_5980_11eb_a1e5_8086f2c3fd57row9_col4,#T_1d2d4914_5980_11eb_a1e5_8086f2c3fd57row17_col2,#T_1d2d4914_5980_11eb_a1e5_8086f2c3fd57row25_col28,#T_1d2d4914_5980_11eb_a1e5_8086f2c3fd57row27_col16,#T_1d2d4914_5980_11eb_a1e5_8086f2c3fd57row29_col27{\n",
       "            background-color:  #eed0c0;\n",
       "            color:  #000000;\n",
       "        }#T_1d2d4914_5980_11eb_a1e5_8086f2c3fd57row4_col8,#T_1d2d4914_5980_11eb_a1e5_8086f2c3fd57row8_col25,#T_1d2d4914_5980_11eb_a1e5_8086f2c3fd57row12_col25,#T_1d2d4914_5980_11eb_a1e5_8086f2c3fd57row27_col4{\n",
       "            background-color:  #d9dce1;\n",
       "            color:  #000000;\n",
       "        }#T_1d2d4914_5980_11eb_a1e5_8086f2c3fd57row4_col9,#T_1d2d4914_5980_11eb_a1e5_8086f2c3fd57row6_col15,#T_1d2d4914_5980_11eb_a1e5_8086f2c3fd57row10_col20,#T_1d2d4914_5980_11eb_a1e5_8086f2c3fd57row16_col27{\n",
       "            background-color:  #f7ad90;\n",
       "            color:  #000000;\n",
       "        }#T_1d2d4914_5980_11eb_a1e5_8086f2c3fd57row4_col10,#T_1d2d4914_5980_11eb_a1e5_8086f2c3fd57row13_col16,#T_1d2d4914_5980_11eb_a1e5_8086f2c3fd57row16_col24,#T_1d2d4914_5980_11eb_a1e5_8086f2c3fd57row29_col23{\n",
       "            background-color:  #aac7fd;\n",
       "            color:  #000000;\n",
       "        }#T_1d2d4914_5980_11eb_a1e5_8086f2c3fd57row4_col11,#T_1d2d4914_5980_11eb_a1e5_8086f2c3fd57row25_col14{\n",
       "            background-color:  #7ea1fa;\n",
       "            color:  #000000;\n",
       "        }#T_1d2d4914_5980_11eb_a1e5_8086f2c3fd57row4_col12,#T_1d2d4914_5980_11eb_a1e5_8086f2c3fd57row16_col8,#T_1d2d4914_5980_11eb_a1e5_8086f2c3fd57row24_col21,#T_1d2d4914_5980_11eb_a1e5_8086f2c3fd57row29_col0,#T_1d2d4914_5980_11eb_a1e5_8086f2c3fd57row29_col3{\n",
       "            background-color:  #9bbcff;\n",
       "            color:  #000000;\n",
       "        }#T_1d2d4914_5980_11eb_a1e5_8086f2c3fd57row4_col13,#T_1d2d4914_5980_11eb_a1e5_8086f2c3fd57row25_col8,#T_1d2d4914_5980_11eb_a1e5_8086f2c3fd57row28_col7,#T_1d2d4914_5980_11eb_a1e5_8086f2c3fd57row29_col22{\n",
       "            background-color:  #b7cff9;\n",
       "            color:  #000000;\n",
       "        }#T_1d2d4914_5980_11eb_a1e5_8086f2c3fd57row4_col15,#T_1d2d4914_5980_11eb_a1e5_8086f2c3fd57row12_col24,#T_1d2d4914_5980_11eb_a1e5_8086f2c3fd57row23_col16{\n",
       "            background-color:  #86a9fc;\n",
       "            color:  #000000;\n",
       "        }#T_1d2d4914_5980_11eb_a1e5_8086f2c3fd57row4_col16,#T_1d2d4914_5980_11eb_a1e5_8086f2c3fd57row22_col4{\n",
       "            background-color:  #7da0f9;\n",
       "            color:  #000000;\n",
       "        }#T_1d2d4914_5980_11eb_a1e5_8086f2c3fd57row4_col17,#T_1d2d4914_5980_11eb_a1e5_8086f2c3fd57row7_col8,#T_1d2d4914_5980_11eb_a1e5_8086f2c3fd57row8_col2,#T_1d2d4914_5980_11eb_a1e5_8086f2c3fd57row24_col0,#T_1d2d4914_5980_11eb_a1e5_8086f2c3fd57row24_col3,#T_1d2d4914_5980_11eb_a1e5_8086f2c3fd57row24_col8{\n",
       "            background-color:  #b1cbfc;\n",
       "            color:  #000000;\n",
       "        }#T_1d2d4914_5980_11eb_a1e5_8086f2c3fd57row4_col18,#T_1d2d4914_5980_11eb_a1e5_8086f2c3fd57row15_col11,#T_1d2d4914_5980_11eb_a1e5_8086f2c3fd57row19_col8,#T_1d2d4914_5980_11eb_a1e5_8086f2c3fd57row23_col28,#T_1d2d4914_5980_11eb_a1e5_8086f2c3fd57row25_col1{\n",
       "            background-color:  #a9c6fd;\n",
       "            color:  #000000;\n",
       "        }#T_1d2d4914_5980_11eb_a1e5_8086f2c3fd57row4_col19,#T_1d2d4914_5980_11eb_a1e5_8086f2c3fd57row12_col1,#T_1d2d4914_5980_11eb_a1e5_8086f2c3fd57row24_col22{\n",
       "            background-color:  #c6d6f1;\n",
       "            color:  #000000;\n",
       "        }#T_1d2d4914_5980_11eb_a1e5_8086f2c3fd57row4_col20,#T_1d2d4914_5980_11eb_a1e5_8086f2c3fd57row14_col24,#T_1d2d4914_5980_11eb_a1e5_8086f2c3fd57row19_col7,#T_1d2d4914_5980_11eb_a1e5_8086f2c3fd57row21_col25{\n",
       "            background-color:  #bfd3f6;\n",
       "            color:  #000000;\n",
       "        }#T_1d2d4914_5980_11eb_a1e5_8086f2c3fd57row4_col21,#T_1d2d4914_5980_11eb_a1e5_8086f2c3fd57row10_col29,#T_1d2d4914_5980_11eb_a1e5_8086f2c3fd57row11_col0,#T_1d2d4914_5980_11eb_a1e5_8086f2c3fd57row18_col17,#T_1d2d4914_5980_11eb_a1e5_8086f2c3fd57row24_col1,#T_1d2d4914_5980_11eb_a1e5_8086f2c3fd57row24_col12{\n",
       "            background-color:  #6a8bef;\n",
       "            color:  #000000;\n",
       "        }#T_1d2d4914_5980_11eb_a1e5_8086f2c3fd57row4_col24,#T_1d2d4914_5980_11eb_a1e5_8086f2c3fd57row23_col27{\n",
       "            background-color:  #ed8366;\n",
       "            color:  #000000;\n",
       "        }#T_1d2d4914_5980_11eb_a1e5_8086f2c3fd57row4_col25,#T_1d2d4914_5980_11eb_a1e5_8086f2c3fd57row13_col17,#T_1d2d4914_5980_11eb_a1e5_8086f2c3fd57row21_col20,#T_1d2d4914_5980_11eb_a1e5_8086f2c3fd57row21_col22,#T_1d2d4914_5980_11eb_a1e5_8086f2c3fd57row21_col23,#T_1d2d4914_5980_11eb_a1e5_8086f2c3fd57row24_col14,#T_1d2d4914_5980_11eb_a1e5_8086f2c3fd57row28_col27{\n",
       "            background-color:  #e3d9d3;\n",
       "            color:  #000000;\n",
       "        }#T_1d2d4914_5980_11eb_a1e5_8086f2c3fd57row4_col26,#T_1d2d4914_5980_11eb_a1e5_8086f2c3fd57row19_col26{\n",
       "            background-color:  #dadce0;\n",
       "            color:  #000000;\n",
       "        }#T_1d2d4914_5980_11eb_a1e5_8086f2c3fd57row5_col0,#T_1d2d4914_5980_11eb_a1e5_8086f2c3fd57row5_col19,#T_1d2d4914_5980_11eb_a1e5_8086f2c3fd57row6_col12,#T_1d2d4914_5980_11eb_a1e5_8086f2c3fd57row24_col9{\n",
       "            background-color:  #f5c4ac;\n",
       "            color:  #000000;\n",
       "        }#T_1d2d4914_5980_11eb_a1e5_8086f2c3fd57row5_col1,#T_1d2d4914_5980_11eb_a1e5_8086f2c3fd57row15_col1,#T_1d2d4914_5980_11eb_a1e5_8086f2c3fd57row16_col21,#T_1d2d4914_5980_11eb_a1e5_8086f2c3fd57row17_col8,#T_1d2d4914_5980_11eb_a1e5_8086f2c3fd57row18_col8,#T_1d2d4914_5980_11eb_a1e5_8086f2c3fd57row29_col2{\n",
       "            background-color:  #a1c0ff;\n",
       "            color:  #000000;\n",
       "        }#T_1d2d4914_5980_11eb_a1e5_8086f2c3fd57row5_col2,#T_1d2d4914_5980_11eb_a1e5_8086f2c3fd57row17_col12{\n",
       "            background-color:  #f6bda2;\n",
       "            color:  #000000;\n",
       "        }#T_1d2d4914_5980_11eb_a1e5_8086f2c3fd57row5_col3,#T_1d2d4914_5980_11eb_a1e5_8086f2c3fd57row12_col27,#T_1d2d4914_5980_11eb_a1e5_8086f2c3fd57row15_col29,#T_1d2d4914_5980_11eb_a1e5_8086f2c3fd57row25_col0,#T_1d2d4914_5980_11eb_a1e5_8086f2c3fd57row25_col3,#T_1d2d4914_5980_11eb_a1e5_8086f2c3fd57row26_col15{\n",
       "            background-color:  #f4c5ad;\n",
       "            color:  #000000;\n",
       "        }#T_1d2d4914_5980_11eb_a1e5_8086f2c3fd57row5_col6,#T_1d2d4914_5980_11eb_a1e5_8086f2c3fd57row6_col5{\n",
       "            background-color:  #d85646;\n",
       "            color:  #000000;\n",
       "        }#T_1d2d4914_5980_11eb_a1e5_8086f2c3fd57row5_col7,#T_1d2d4914_5980_11eb_a1e5_8086f2c3fd57row5_col26,#T_1d2d4914_5980_11eb_a1e5_8086f2c3fd57row15_col16,#T_1d2d4914_5980_11eb_a1e5_8086f2c3fd57row16_col6{\n",
       "            background-color:  #e36b54;\n",
       "            color:  #000000;\n",
       "        }#T_1d2d4914_5980_11eb_a1e5_8086f2c3fd57row5_col8,#T_1d2d4914_5980_11eb_a1e5_8086f2c3fd57row15_col22,#T_1d2d4914_5980_11eb_a1e5_8086f2c3fd57row21_col3,#T_1d2d4914_5980_11eb_a1e5_8086f2c3fd57row29_col4,#T_1d2d4914_5980_11eb_a1e5_8086f2c3fd57row29_col15{\n",
       "            background-color:  #dcdddd;\n",
       "            color:  #000000;\n",
       "        }#T_1d2d4914_5980_11eb_a1e5_8086f2c3fd57row5_col9,#T_1d2d4914_5980_11eb_a1e5_8086f2c3fd57row24_col29,#T_1d2d4914_5980_11eb_a1e5_8086f2c3fd57row29_col24{\n",
       "            background-color:  #f5c2aa;\n",
       "            color:  #000000;\n",
       "        }#T_1d2d4914_5980_11eb_a1e5_8086f2c3fd57row5_col11,#T_1d2d4914_5980_11eb_a1e5_8086f2c3fd57row14_col29,#T_1d2d4914_5980_11eb_a1e5_8086f2c3fd57row19_col21,#T_1d2d4914_5980_11eb_a1e5_8086f2c3fd57row22_col15,#T_1d2d4914_5980_11eb_a1e5_8086f2c3fd57row23_col4,#T_1d2d4914_5980_11eb_a1e5_8086f2c3fd57row28_col1{\n",
       "            background-color:  #7093f3;\n",
       "            color:  #000000;\n",
       "        }#T_1d2d4914_5980_11eb_a1e5_8086f2c3fd57row5_col13,#T_1d2d4914_5980_11eb_a1e5_8086f2c3fd57row23_col25{\n",
       "            background-color:  #f0cdbb;\n",
       "            color:  #000000;\n",
       "        }#T_1d2d4914_5980_11eb_a1e5_8086f2c3fd57row5_col14,#T_1d2d4914_5980_11eb_a1e5_8086f2c3fd57row9_col15,#T_1d2d4914_5980_11eb_a1e5_8086f2c3fd57row19_col24{\n",
       "            background-color:  #adc9fd;\n",
       "            color:  #000000;\n",
       "        }#T_1d2d4914_5980_11eb_a1e5_8086f2c3fd57row5_col16,#T_1d2d4914_5980_11eb_a1e5_8086f2c3fd57row7_col17,#T_1d2d4914_5980_11eb_a1e5_8086f2c3fd57row17_col5,#T_1d2d4914_5980_11eb_a1e5_8086f2c3fd57row26_col2{\n",
       "            background-color:  #f6a586;\n",
       "            color:  #000000;\n",
       "        }#T_1d2d4914_5980_11eb_a1e5_8086f2c3fd57row5_col17,#T_1d2d4914_5980_11eb_a1e5_8086f2c3fd57row10_col23,#T_1d2d4914_5980_11eb_a1e5_8086f2c3fd57row20_col26{\n",
       "            background-color:  #f7af91;\n",
       "            color:  #000000;\n",
       "        }#T_1d2d4914_5980_11eb_a1e5_8086f2c3fd57row5_col18,#T_1d2d4914_5980_11eb_a1e5_8086f2c3fd57row8_col15,#T_1d2d4914_5980_11eb_a1e5_8086f2c3fd57row8_col17,#T_1d2d4914_5980_11eb_a1e5_8086f2c3fd57row11_col13{\n",
       "            background-color:  #9abbff;\n",
       "            color:  #000000;\n",
       "        }#T_1d2d4914_5980_11eb_a1e5_8086f2c3fd57row5_col20{\n",
       "            background-color:  #f7bca1;\n",
       "            color:  #000000;\n",
       "        }#T_1d2d4914_5980_11eb_a1e5_8086f2c3fd57row5_col22,#T_1d2d4914_5980_11eb_a1e5_8086f2c3fd57row9_col19,#T_1d2d4914_5980_11eb_a1e5_8086f2c3fd57row10_col22,#T_1d2d4914_5980_11eb_a1e5_8086f2c3fd57row12_col7,#T_1d2d4914_5980_11eb_a1e5_8086f2c3fd57row23_col26{\n",
       "            background-color:  #f7b093;\n",
       "            color:  #000000;\n",
       "        }#T_1d2d4914_5980_11eb_a1e5_8086f2c3fd57row5_col23,#T_1d2d4914_5980_11eb_a1e5_8086f2c3fd57row10_col7,#T_1d2d4914_5980_11eb_a1e5_8086f2c3fd57row22_col25,#T_1d2d4914_5980_11eb_a1e5_8086f2c3fd57row25_col2,#T_1d2d4914_5980_11eb_a1e5_8086f2c3fd57row27_col17{\n",
       "            background-color:  #f6bea4;\n",
       "            color:  #000000;\n",
       "        }#T_1d2d4914_5980_11eb_a1e5_8086f2c3fd57row5_col24,#T_1d2d4914_5980_11eb_a1e5_8086f2c3fd57row17_col10,#T_1d2d4914_5980_11eb_a1e5_8086f2c3fd57row20_col10,#T_1d2d4914_5980_11eb_a1e5_8086f2c3fd57row20_col25,#T_1d2d4914_5980_11eb_a1e5_8086f2c3fd57row23_col10,#T_1d2d4914_5980_11eb_a1e5_8086f2c3fd57row24_col25{\n",
       "            background-color:  #f1ccb8;\n",
       "            color:  #000000;\n",
       "        }#T_1d2d4914_5980_11eb_a1e5_8086f2c3fd57row5_col25{\n",
       "            background-color:  #d44e41;\n",
       "            color:  #000000;\n",
       "        }#T_1d2d4914_5980_11eb_a1e5_8086f2c3fd57row5_col27,#T_1d2d4914_5980_11eb_a1e5_8086f2c3fd57row7_col26,#T_1d2d4914_5980_11eb_a1e5_8086f2c3fd57row25_col6{\n",
       "            background-color:  #e46e56;\n",
       "            color:  #000000;\n",
       "        }#T_1d2d4914_5980_11eb_a1e5_8086f2c3fd57row5_col28,#T_1d2d4914_5980_11eb_a1e5_8086f2c3fd57row6_col24,#T_1d2d4914_5980_11eb_a1e5_8086f2c3fd57row7_col24,#T_1d2d4914_5980_11eb_a1e5_8086f2c3fd57row19_col18,#T_1d2d4914_5980_11eb_a1e5_8086f2c3fd57row23_col5,#T_1d2d4914_5980_11eb_a1e5_8086f2c3fd57row27_col10{\n",
       "            background-color:  #dfdbd9;\n",
       "            color:  #000000;\n",
       "        }#T_1d2d4914_5980_11eb_a1e5_8086f2c3fd57row5_col29,#T_1d2d4914_5980_11eb_a1e5_8086f2c3fd57row25_col22{\n",
       "            background-color:  #f7aa8c;\n",
       "            color:  #000000;\n",
       "        }#T_1d2d4914_5980_11eb_a1e5_8086f2c3fd57row6_col0,#T_1d2d4914_5980_11eb_a1e5_8086f2c3fd57row6_col3,#T_1d2d4914_5980_11eb_a1e5_8086f2c3fd57row13_col7,#T_1d2d4914_5980_11eb_a1e5_8086f2c3fd57row26_col23{\n",
       "            background-color:  #f59f80;\n",
       "            color:  #000000;\n",
       "        }#T_1d2d4914_5980_11eb_a1e5_8086f2c3fd57row6_col7{\n",
       "            background-color:  #cd423b;\n",
       "            color:  #f1f1f1;\n",
       "        }#T_1d2d4914_5980_11eb_a1e5_8086f2c3fd57row6_col9,#T_1d2d4914_5980_11eb_a1e5_8086f2c3fd57row15_col0,#T_1d2d4914_5980_11eb_a1e5_8086f2c3fd57row15_col3,#T_1d2d4914_5980_11eb_a1e5_8086f2c3fd57row15_col23{\n",
       "            background-color:  #d1dae9;\n",
       "            color:  #000000;\n",
       "        }#T_1d2d4914_5980_11eb_a1e5_8086f2c3fd57row6_col11,#T_1d2d4914_5980_11eb_a1e5_8086f2c3fd57row13_col9{\n",
       "            background-color:  #7295f4;\n",
       "            color:  #000000;\n",
       "        }#T_1d2d4914_5980_11eb_a1e5_8086f2c3fd57row6_col13,#T_1d2d4914_5980_11eb_a1e5_8086f2c3fd57row12_col2,#T_1d2d4914_5980_11eb_a1e5_8086f2c3fd57row12_col3{\n",
       "            background-color:  #f7b396;\n",
       "            color:  #000000;\n",
       "        }#T_1d2d4914_5980_11eb_a1e5_8086f2c3fd57row6_col14,#T_1d2d4914_5980_11eb_a1e5_8086f2c3fd57row13_col14,#T_1d2d4914_5980_11eb_a1e5_8086f2c3fd57row22_col16,#T_1d2d4914_5980_11eb_a1e5_8086f2c3fd57row28_col21{\n",
       "            background-color:  #9ebeff;\n",
       "            color:  #000000;\n",
       "        }#T_1d2d4914_5980_11eb_a1e5_8086f2c3fd57row6_col16{\n",
       "            background-color:  #e9785d;\n",
       "            color:  #000000;\n",
       "        }#T_1d2d4914_5980_11eb_a1e5_8086f2c3fd57row6_col17,#T_1d2d4914_5980_11eb_a1e5_8086f2c3fd57row8_col28,#T_1d2d4914_5980_11eb_a1e5_8086f2c3fd57row26_col20{\n",
       "            background-color:  #f59d7e;\n",
       "            color:  #000000;\n",
       "        }#T_1d2d4914_5980_11eb_a1e5_8086f2c3fd57row6_col21,#T_1d2d4914_5980_11eb_a1e5_8086f2c3fd57row8_col14,#T_1d2d4914_5980_11eb_a1e5_8086f2c3fd57row10_col1,#T_1d2d4914_5980_11eb_a1e5_8086f2c3fd57row10_col11,#T_1d2d4914_5980_11eb_a1e5_8086f2c3fd57row10_col18,#T_1d2d4914_5980_11eb_a1e5_8086f2c3fd57row12_col18,#T_1d2d4914_5980_11eb_a1e5_8086f2c3fd57row19_col4,#T_1d2d4914_5980_11eb_a1e5_8086f2c3fd57row19_col11,#T_1d2d4914_5980_11eb_a1e5_8086f2c3fd57row20_col1,#T_1d2d4914_5980_11eb_a1e5_8086f2c3fd57row21_col13{\n",
       "            background-color:  #c0d4f5;\n",
       "            color:  #000000;\n",
       "        }#T_1d2d4914_5980_11eb_a1e5_8086f2c3fd57row6_col25{\n",
       "            background-color:  #e16751;\n",
       "            color:  #000000;\n",
       "        }#T_1d2d4914_5980_11eb_a1e5_8086f2c3fd57row6_col26,#T_1d2d4914_5980_11eb_a1e5_8086f2c3fd57row7_col27{\n",
       "            background-color:  #c83836;\n",
       "            color:  #f1f1f1;\n",
       "        }#T_1d2d4914_5980_11eb_a1e5_8086f2c3fd57row6_col28,#T_1d2d4914_5980_11eb_a1e5_8086f2c3fd57row9_col25,#T_1d2d4914_5980_11eb_a1e5_8086f2c3fd57row16_col10,#T_1d2d4914_5980_11eb_a1e5_8086f2c3fd57row21_col26,#T_1d2d4914_5980_11eb_a1e5_8086f2c3fd57row28_col22{\n",
       "            background-color:  #cfdaea;\n",
       "            color:  #000000;\n",
       "        }#T_1d2d4914_5980_11eb_a1e5_8086f2c3fd57row6_col29,#T_1d2d4914_5980_11eb_a1e5_8086f2c3fd57row10_col6,#T_1d2d4914_5980_11eb_a1e5_8086f2c3fd57row12_col5,#T_1d2d4914_5980_11eb_a1e5_8086f2c3fd57row17_col0,#T_1d2d4914_5980_11eb_a1e5_8086f2c3fd57row17_col3,#T_1d2d4914_5980_11eb_a1e5_8086f2c3fd57row19_col25,#T_1d2d4914_5980_11eb_a1e5_8086f2c3fd57row27_col24,#T_1d2d4914_5980_11eb_a1e5_8086f2c3fd57row28_col25{\n",
       "            background-color:  #ecd3c5;\n",
       "            color:  #000000;\n",
       "        }#T_1d2d4914_5980_11eb_a1e5_8086f2c3fd57row7_col0,#T_1d2d4914_5980_11eb_a1e5_8086f2c3fd57row13_col22,#T_1d2d4914_5980_11eb_a1e5_8086f2c3fd57row29_col9{\n",
       "            background-color:  #e97a5f;\n",
       "            color:  #000000;\n",
       "        }#T_1d2d4914_5980_11eb_a1e5_8086f2c3fd57row7_col1,#T_1d2d4914_5980_11eb_a1e5_8086f2c3fd57row15_col28,#T_1d2d4914_5980_11eb_a1e5_8086f2c3fd57row19_col10,#T_1d2d4914_5980_11eb_a1e5_8086f2c3fd57row29_col14{\n",
       "            background-color:  #aec9fc;\n",
       "            color:  #000000;\n",
       "        }#T_1d2d4914_5980_11eb_a1e5_8086f2c3fd57row7_col2,#T_1d2d4914_5980_11eb_a1e5_8086f2c3fd57row7_col20,#T_1d2d4914_5980_11eb_a1e5_8086f2c3fd57row22_col27{\n",
       "            background-color:  #e67259;\n",
       "            color:  #000000;\n",
       "        }#T_1d2d4914_5980_11eb_a1e5_8086f2c3fd57row7_col3,#T_1d2d4914_5980_11eb_a1e5_8086f2c3fd57row22_col7,#T_1d2d4914_5980_11eb_a1e5_8086f2c3fd57row27_col5{\n",
       "            background-color:  #ea7b60;\n",
       "            color:  #000000;\n",
       "        }#T_1d2d4914_5980_11eb_a1e5_8086f2c3fd57row7_col5{\n",
       "            background-color:  #e57058;\n",
       "            color:  #000000;\n",
       "        }#T_1d2d4914_5980_11eb_a1e5_8086f2c3fd57row7_col6,#T_1d2d4914_5980_11eb_a1e5_8086f2c3fd57row13_col12,#T_1d2d4914_5980_11eb_a1e5_8086f2c3fd57row25_col26,#T_1d2d4914_5980_11eb_a1e5_8086f2c3fd57row26_col25{\n",
       "            background-color:  #cf453c;\n",
       "            color:  #f1f1f1;\n",
       "        }#T_1d2d4914_5980_11eb_a1e5_8086f2c3fd57row7_col16,#T_1d2d4914_5980_11eb_a1e5_8086f2c3fd57row24_col27{\n",
       "            background-color:  #f2cbb7;\n",
       "            color:  #000000;\n",
       "        }#T_1d2d4914_5980_11eb_a1e5_8086f2c3fd57row7_col22,#T_1d2d4914_5980_11eb_a1e5_8086f2c3fd57row27_col22,#T_1d2d4914_5980_11eb_a1e5_8086f2c3fd57row27_col25{\n",
       "            background-color:  #e26952;\n",
       "            color:  #000000;\n",
       "        }#T_1d2d4914_5980_11eb_a1e5_8086f2c3fd57row7_col23,#T_1d2d4914_5980_11eb_a1e5_8086f2c3fd57row26_col7,#T_1d2d4914_5980_11eb_a1e5_8086f2c3fd57row27_col20{\n",
       "            background-color:  #e7745b;\n",
       "            color:  #000000;\n",
       "        }#T_1d2d4914_5980_11eb_a1e5_8086f2c3fd57row7_col25{\n",
       "            background-color:  #f18d6f;\n",
       "            color:  #000000;\n",
       "        }#T_1d2d4914_5980_11eb_a1e5_8086f2c3fd57row7_col28,#T_1d2d4914_5980_11eb_a1e5_8086f2c3fd57row16_col14,#T_1d2d4914_5980_11eb_a1e5_8086f2c3fd57row17_col4,#T_1d2d4914_5980_11eb_a1e5_8086f2c3fd57row27_col21,#T_1d2d4914_5980_11eb_a1e5_8086f2c3fd57row28_col5{\n",
       "            background-color:  #c7d7f0;\n",
       "            color:  #000000;\n",
       "        }#T_1d2d4914_5980_11eb_a1e5_8086f2c3fd57row7_col29,#T_1d2d4914_5980_11eb_a1e5_8086f2c3fd57row8_col24{\n",
       "            background-color:  #cedaeb;\n",
       "            color:  #000000;\n",
       "        }#T_1d2d4914_5980_11eb_a1e5_8086f2c3fd57row8_col6,#T_1d2d4914_5980_11eb_a1e5_8086f2c3fd57row8_col29,#T_1d2d4914_5980_11eb_a1e5_8086f2c3fd57row28_col18,#T_1d2d4914_5980_11eb_a1e5_8086f2c3fd57row29_col7{\n",
       "            background-color:  #cbd8ee;\n",
       "            color:  #000000;\n",
       "        }#T_1d2d4914_5980_11eb_a1e5_8086f2c3fd57row8_col7,#T_1d2d4914_5980_11eb_a1e5_8086f2c3fd57row22_col21,#T_1d2d4914_5980_11eb_a1e5_8086f2c3fd57row26_col19,#T_1d2d4914_5980_11eb_a1e5_8086f2c3fd57row28_col20{\n",
       "            background-color:  #ccd9ed;\n",
       "            color:  #000000;\n",
       "        }#T_1d2d4914_5980_11eb_a1e5_8086f2c3fd57row8_col9,#T_1d2d4914_5980_11eb_a1e5_8086f2c3fd57row11_col14,#T_1d2d4914_5980_11eb_a1e5_8086f2c3fd57row17_col22,#T_1d2d4914_5980_11eb_a1e5_8086f2c3fd57row25_col24{\n",
       "            background-color:  #efcfbf;\n",
       "            color:  #000000;\n",
       "        }#T_1d2d4914_5980_11eb_a1e5_8086f2c3fd57row8_col10,#T_1d2d4914_5980_11eb_a1e5_8086f2c3fd57row16_col4,#T_1d2d4914_5980_11eb_a1e5_8086f2c3fd57row19_col13,#T_1d2d4914_5980_11eb_a1e5_8086f2c3fd57row20_col28,#T_1d2d4914_5980_11eb_a1e5_8086f2c3fd57row25_col10,#T_1d2d4914_5980_11eb_a1e5_8086f2c3fd57row27_col19,#T_1d2d4914_5980_11eb_a1e5_8086f2c3fd57row29_col8,#T_1d2d4914_5980_11eb_a1e5_8086f2c3fd57row29_col20{\n",
       "            background-color:  #abc8fd;\n",
       "            color:  #000000;\n",
       "        }#T_1d2d4914_5980_11eb_a1e5_8086f2c3fd57row8_col11,#T_1d2d4914_5980_11eb_a1e5_8086f2c3fd57row13_col15,#T_1d2d4914_5980_11eb_a1e5_8086f2c3fd57row19_col0,#T_1d2d4914_5980_11eb_a1e5_8086f2c3fd57row19_col20,#T_1d2d4914_5980_11eb_a1e5_8086f2c3fd57row19_col23,#T_1d2d4914_5980_11eb_a1e5_8086f2c3fd57row20_col24{\n",
       "            background-color:  #8db0fe;\n",
       "            color:  #000000;\n",
       "        }#T_1d2d4914_5980_11eb_a1e5_8086f2c3fd57row8_col12,#T_1d2d4914_5980_11eb_a1e5_8086f2c3fd57row10_col4,#T_1d2d4914_5980_11eb_a1e5_8086f2c3fd57row11_col19,#T_1d2d4914_5980_11eb_a1e5_8086f2c3fd57row20_col17,#T_1d2d4914_5980_11eb_a1e5_8086f2c3fd57row21_col7,#T_1d2d4914_5980_11eb_a1e5_8086f2c3fd57row26_col8{\n",
       "            background-color:  #a5c3fe;\n",
       "            color:  #000000;\n",
       "        }#T_1d2d4914_5980_11eb_a1e5_8086f2c3fd57row8_col21,#T_1d2d4914_5980_11eb_a1e5_8086f2c3fd57row13_col8,#T_1d2d4914_5980_11eb_a1e5_8086f2c3fd57row24_col10{\n",
       "            background-color:  #7b9ff9;\n",
       "            color:  #000000;\n",
       "        }#T_1d2d4914_5980_11eb_a1e5_8086f2c3fd57row9_col5,#T_1d2d4914_5980_11eb_a1e5_8086f2c3fd57row15_col2,#T_1d2d4914_5980_11eb_a1e5_8086f2c3fd57row15_col13,#T_1d2d4914_5980_11eb_a1e5_8086f2c3fd57row17_col9{\n",
       "            background-color:  #d6dce4;\n",
       "            color:  #000000;\n",
       "        }#T_1d2d4914_5980_11eb_a1e5_8086f2c3fd57row9_col6,#T_1d2d4914_5980_11eb_a1e5_8086f2c3fd57row10_col28,#T_1d2d4914_5980_11eb_a1e5_8086f2c3fd57row18_col10{\n",
       "            background-color:  #89acfd;\n",
       "            color:  #000000;\n",
       "        }#T_1d2d4914_5980_11eb_a1e5_8086f2c3fd57row9_col7,#T_1d2d4914_5980_11eb_a1e5_8086f2c3fd57row14_col13,#T_1d2d4914_5980_11eb_a1e5_8086f2c3fd57row20_col29,#T_1d2d4914_5980_11eb_a1e5_8086f2c3fd57row29_col1{\n",
       "            background-color:  #6f92f3;\n",
       "            color:  #000000;\n",
       "        }#T_1d2d4914_5980_11eb_a1e5_8086f2c3fd57row9_col11,#T_1d2d4914_5980_11eb_a1e5_8086f2c3fd57row13_col19{\n",
       "            background-color:  #93b5fe;\n",
       "            color:  #000000;\n",
       "        }#T_1d2d4914_5980_11eb_a1e5_8086f2c3fd57row9_col17,#T_1d2d4914_5980_11eb_a1e5_8086f2c3fd57row24_col18{\n",
       "            background-color:  #7396f5;\n",
       "            color:  #000000;\n",
       "        }#T_1d2d4914_5980_11eb_a1e5_8086f2c3fd57row9_col21,#T_1d2d4914_5980_11eb_a1e5_8086f2c3fd57row18_col5,#T_1d2d4914_5980_11eb_a1e5_8086f2c3fd57row25_col11,#T_1d2d4914_5980_11eb_a1e5_8086f2c3fd57row28_col16{\n",
       "            background-color:  #4a63d3;\n",
       "            color:  #f1f1f1;\n",
       "        }#T_1d2d4914_5980_11eb_a1e5_8086f2c3fd57row9_col27,#T_1d2d4914_5980_11eb_a1e5_8086f2c3fd57row13_col28,#T_1d2d4914_5980_11eb_a1e5_8086f2c3fd57row14_col17,#T_1d2d4914_5980_11eb_a1e5_8086f2c3fd57row23_col24,#T_1d2d4914_5980_11eb_a1e5_8086f2c3fd57row28_col13{\n",
       "            background-color:  #8badfd;\n",
       "            color:  #000000;\n",
       "        }#T_1d2d4914_5980_11eb_a1e5_8086f2c3fd57row10_col0,#T_1d2d4914_5980_11eb_a1e5_8086f2c3fd57row10_col2,#T_1d2d4914_5980_11eb_a1e5_8086f2c3fd57row13_col27,#T_1d2d4914_5980_11eb_a1e5_8086f2c3fd57row17_col26,#T_1d2d4914_5980_11eb_a1e5_8086f2c3fd57row25_col20{\n",
       "            background-color:  #f7b89c;\n",
       "            color:  #000000;\n",
       "        }#T_1d2d4914_5980_11eb_a1e5_8086f2c3fd57row10_col5,#T_1d2d4914_5980_11eb_a1e5_8086f2c3fd57row11_col1,#T_1d2d4914_5980_11eb_a1e5_8086f2c3fd57row21_col2,#T_1d2d4914_5980_11eb_a1e5_8086f2c3fd57row28_col9{\n",
       "            background-color:  #d8dce2;\n",
       "            color:  #000000;\n",
       "        }#T_1d2d4914_5980_11eb_a1e5_8086f2c3fd57row10_col8,#T_1d2d4914_5980_11eb_a1e5_8086f2c3fd57row12_col28,#T_1d2d4914_5980_11eb_a1e5_8086f2c3fd57row19_col3{\n",
       "            background-color:  #8fb1fe;\n",
       "            color:  #000000;\n",
       "        }#T_1d2d4914_5980_11eb_a1e5_8086f2c3fd57row10_col12{\n",
       "            background-color:  #c43032;\n",
       "            color:  #f1f1f1;\n",
       "        }#T_1d2d4914_5980_11eb_a1e5_8086f2c3fd57row10_col13,#T_1d2d4914_5980_11eb_a1e5_8086f2c3fd57row12_col10{\n",
       "            background-color:  #c32e31;\n",
       "            color:  #f1f1f1;\n",
       "        }#T_1d2d4914_5980_11eb_a1e5_8086f2c3fd57row10_col14,#T_1d2d4914_5980_11eb_a1e5_8086f2c3fd57row17_col18,#T_1d2d4914_5980_11eb_a1e5_8086f2c3fd57row26_col4{\n",
       "            background-color:  #c5d6f2;\n",
       "            color:  #000000;\n",
       "        }#T_1d2d4914_5980_11eb_a1e5_8086f2c3fd57row10_col24,#T_1d2d4914_5980_11eb_a1e5_8086f2c3fd57row17_col21,#T_1d2d4914_5980_11eb_a1e5_8086f2c3fd57row20_col16{\n",
       "            background-color:  #88abfd;\n",
       "            color:  #000000;\n",
       "        }#T_1d2d4914_5980_11eb_a1e5_8086f2c3fd57row10_col25,#T_1d2d4914_5980_11eb_a1e5_8086f2c3fd57row12_col11,#T_1d2d4914_5980_11eb_a1e5_8086f2c3fd57row13_col21{\n",
       "            background-color:  #bed2f6;\n",
       "            color:  #000000;\n",
       "        }#T_1d2d4914_5980_11eb_a1e5_8086f2c3fd57row10_col26,#T_1d2d4914_5980_11eb_a1e5_8086f2c3fd57row14_col19,#T_1d2d4914_5980_11eb_a1e5_8086f2c3fd57row18_col11,#T_1d2d4914_5980_11eb_a1e5_8086f2c3fd57row25_col4{\n",
       "            background-color:  #d4dbe6;\n",
       "            color:  #000000;\n",
       "        }#T_1d2d4914_5980_11eb_a1e5_8086f2c3fd57row10_col27,#T_1d2d4914_5980_11eb_a1e5_8086f2c3fd57row16_col22,#T_1d2d4914_5980_11eb_a1e5_8086f2c3fd57row24_col26,#T_1d2d4914_5980_11eb_a1e5_8086f2c3fd57row26_col17{\n",
       "            background-color:  #edd2c3;\n",
       "            color:  #000000;\n",
       "        }#T_1d2d4914_5980_11eb_a1e5_8086f2c3fd57row11_col7,#T_1d2d4914_5980_11eb_a1e5_8086f2c3fd57row11_col27,#T_1d2d4914_5980_11eb_a1e5_8086f2c3fd57row14_col25,#T_1d2d4914_5980_11eb_a1e5_8086f2c3fd57row21_col4{\n",
       "            background-color:  #455cce;\n",
       "            color:  #f1f1f1;\n",
       "        }#T_1d2d4914_5980_11eb_a1e5_8086f2c3fd57row11_col8{\n",
       "            background-color:  #445acc;\n",
       "            color:  #f1f1f1;\n",
       "        }#T_1d2d4914_5980_11eb_a1e5_8086f2c3fd57row11_col10,#T_1d2d4914_5980_11eb_a1e5_8086f2c3fd57row21_col28,#T_1d2d4914_5980_11eb_a1e5_8086f2c3fd57row23_col17{\n",
       "            background-color:  #a2c1ff;\n",
       "            color:  #000000;\n",
       "        }#T_1d2d4914_5980_11eb_a1e5_8086f2c3fd57row11_col15,#T_1d2d4914_5980_11eb_a1e5_8086f2c3fd57row20_col19,#T_1d2d4914_5980_11eb_a1e5_8086f2c3fd57row28_col11{\n",
       "            background-color:  #4257c9;\n",
       "            color:  #f1f1f1;\n",
       "        }#T_1d2d4914_5980_11eb_a1e5_8086f2c3fd57row11_col17,#T_1d2d4914_5980_11eb_a1e5_8086f2c3fd57row25_col18,#T_1d2d4914_5980_11eb_a1e5_8086f2c3fd57row28_col10{\n",
       "            background-color:  #688aef;\n",
       "            color:  #000000;\n",
       "        }#T_1d2d4914_5980_11eb_a1e5_8086f2c3fd57row11_col21,#T_1d2d4914_5980_11eb_a1e5_8086f2c3fd57row12_col26,#T_1d2d4914_5980_11eb_a1e5_8086f2c3fd57row16_col2,#T_1d2d4914_5980_11eb_a1e5_8086f2c3fd57row27_col12,#T_1d2d4914_5980_11eb_a1e5_8086f2c3fd57row29_col28{\n",
       "            background-color:  #e8d6cc;\n",
       "            color:  #000000;\n",
       "        }#T_1d2d4914_5980_11eb_a1e5_8086f2c3fd57row11_col23,#T_1d2d4914_5980_11eb_a1e5_8086f2c3fd57row13_col29{\n",
       "            background-color:  #6485ec;\n",
       "            color:  #000000;\n",
       "        }#T_1d2d4914_5980_11eb_a1e5_8086f2c3fd57row12_col0{\n",
       "            background-color:  #f7b497;\n",
       "            color:  #000000;\n",
       "        }#T_1d2d4914_5980_11eb_a1e5_8086f2c3fd57row12_col9,#T_1d2d4914_5980_11eb_a1e5_8086f2c3fd57row13_col11{\n",
       "            background-color:  #9fbfff;\n",
       "            color:  #000000;\n",
       "        }#T_1d2d4914_5980_11eb_a1e5_8086f2c3fd57row12_col13,#T_1d2d4914_5980_11eb_a1e5_8086f2c3fd57row26_col6{\n",
       "            background-color:  #cb3e38;\n",
       "            color:  #f1f1f1;\n",
       "        }#T_1d2d4914_5980_11eb_a1e5_8086f2c3fd57row12_col16,#T_1d2d4914_5980_11eb_a1e5_8086f2c3fd57row21_col27,#T_1d2d4914_5980_11eb_a1e5_8086f2c3fd57row26_col9,#T_1d2d4914_5980_11eb_a1e5_8086f2c3fd57row26_col21{\n",
       "            background-color:  #cdd9ec;\n",
       "            color:  #000000;\n",
       "        }#T_1d2d4914_5980_11eb_a1e5_8086f2c3fd57row12_col17,#T_1d2d4914_5980_11eb_a1e5_8086f2c3fd57row15_col7,#T_1d2d4914_5980_11eb_a1e5_8086f2c3fd57row15_col9,#T_1d2d4914_5980_11eb_a1e5_8086f2c3fd57row17_col25{\n",
       "            background-color:  #f4c6af;\n",
       "            color:  #000000;\n",
       "        }#T_1d2d4914_5980_11eb_a1e5_8086f2c3fd57row12_col19,#T_1d2d4914_5980_11eb_a1e5_8086f2c3fd57row13_col1,#T_1d2d4914_5980_11eb_a1e5_8086f2c3fd57row15_col10,#T_1d2d4914_5980_11eb_a1e5_8086f2c3fd57row15_col18{\n",
       "            background-color:  #c9d7f0;\n",
       "            color:  #000000;\n",
       "        }#T_1d2d4914_5980_11eb_a1e5_8086f2c3fd57row12_col20,#T_1d2d4914_5980_11eb_a1e5_8086f2c3fd57row12_col23,#T_1d2d4914_5980_11eb_a1e5_8086f2c3fd57row17_col15,#T_1d2d4914_5980_11eb_a1e5_8086f2c3fd57row26_col0,#T_1d2d4914_5980_11eb_a1e5_8086f2c3fd57row26_col3{\n",
       "            background-color:  #f7ac8e;\n",
       "            color:  #000000;\n",
       "        }#T_1d2d4914_5980_11eb_a1e5_8086f2c3fd57row12_col22,#T_1d2d4914_5980_11eb_a1e5_8086f2c3fd57row22_col6,#T_1d2d4914_5980_11eb_a1e5_8086f2c3fd57row29_col19{\n",
       "            background-color:  #f7a688;\n",
       "            color:  #000000;\n",
       "        }#T_1d2d4914_5980_11eb_a1e5_8086f2c3fd57row12_col29,#T_1d2d4914_5980_11eb_a1e5_8086f2c3fd57row17_col28{\n",
       "            background-color:  #84a7fc;\n",
       "            color:  #000000;\n",
       "        }#T_1d2d4914_5980_11eb_a1e5_8086f2c3fd57row13_col0,#T_1d2d4914_5980_11eb_a1e5_8086f2c3fd57row13_col2,#T_1d2d4914_5980_11eb_a1e5_8086f2c3fd57row15_col25,#T_1d2d4914_5980_11eb_a1e5_8086f2c3fd57row20_col27{\n",
       "            background-color:  #ec8165;\n",
       "            color:  #000000;\n",
       "        }#T_1d2d4914_5980_11eb_a1e5_8086f2c3fd57row13_col3,#T_1d2d4914_5980_11eb_a1e5_8086f2c3fd57row15_col5{\n",
       "            background-color:  #ec7f63;\n",
       "            color:  #000000;\n",
       "        }#T_1d2d4914_5980_11eb_a1e5_8086f2c3fd57row13_col4,#T_1d2d4914_5980_11eb_a1e5_8086f2c3fd57row17_col1{\n",
       "            background-color:  #97b8ff;\n",
       "            color:  #000000;\n",
       "        }#T_1d2d4914_5980_11eb_a1e5_8086f2c3fd57row13_col10{\n",
       "            background-color:  #c53334;\n",
       "            color:  #f1f1f1;\n",
       "        }#T_1d2d4914_5980_11eb_a1e5_8086f2c3fd57row13_col20,#T_1d2d4914_5980_11eb_a1e5_8086f2c3fd57row13_col23,#T_1d2d4914_5980_11eb_a1e5_8086f2c3fd57row16_col26,#T_1d2d4914_5980_11eb_a1e5_8086f2c3fd57row26_col5,#T_1d2d4914_5980_11eb_a1e5_8086f2c3fd57row27_col23{\n",
       "            background-color:  #e8765c;\n",
       "            color:  #000000;\n",
       "        }#T_1d2d4914_5980_11eb_a1e5_8086f2c3fd57row14_col1,#T_1d2d4914_5980_11eb_a1e5_8086f2c3fd57row22_col8{\n",
       "            background-color:  #5673e0;\n",
       "            color:  #000000;\n",
       "        }#T_1d2d4914_5980_11eb_a1e5_8086f2c3fd57row14_col6,#T_1d2d4914_5980_11eb_a1e5_8086f2c3fd57row14_col26,#T_1d2d4914_5980_11eb_a1e5_8086f2c3fd57row14_col28,#T_1d2d4914_5980_11eb_a1e5_8086f2c3fd57row18_col22,#T_1d2d4914_5980_11eb_a1e5_8086f2c3fd57row20_col9,#T_1d2d4914_5980_11eb_a1e5_8086f2c3fd57row23_col8{\n",
       "            background-color:  #4961d2;\n",
       "            color:  #f1f1f1;\n",
       "        }#T_1d2d4914_5980_11eb_a1e5_8086f2c3fd57row14_col8,#T_1d2d4914_5980_11eb_a1e5_8086f2c3fd57row24_col11{\n",
       "            background-color:  #5b7ae5;\n",
       "            color:  #000000;\n",
       "        }#T_1d2d4914_5980_11eb_a1e5_8086f2c3fd57row14_col15,#T_1d2d4914_5980_11eb_a1e5_8086f2c3fd57row20_col15,#T_1d2d4914_5980_11eb_a1e5_8086f2c3fd57row21_col19{\n",
       "            background-color:  #5875e1;\n",
       "            color:  #000000;\n",
       "        }#T_1d2d4914_5980_11eb_a1e5_8086f2c3fd57row14_col16,#T_1d2d4914_5980_11eb_a1e5_8086f2c3fd57row14_col21,#T_1d2d4914_5980_11eb_a1e5_8086f2c3fd57row20_col8{\n",
       "            background-color:  #4c66d6;\n",
       "            color:  #000000;\n",
       "        }#T_1d2d4914_5980_11eb_a1e5_8086f2c3fd57row14_col18,#T_1d2d4914_5980_11eb_a1e5_8086f2c3fd57row20_col12,#T_1d2d4914_5980_11eb_a1e5_8086f2c3fd57row23_col12{\n",
       "            background-color:  #efcebd;\n",
       "            color:  #000000;\n",
       "        }#T_1d2d4914_5980_11eb_a1e5_8086f2c3fd57row14_col27,#T_1d2d4914_5980_11eb_a1e5_8086f2c3fd57row18_col29,#T_1d2d4914_5980_11eb_a1e5_8086f2c3fd57row21_col16{\n",
       "            background-color:  #4b64d5;\n",
       "            color:  #f1f1f1;\n",
       "        }#T_1d2d4914_5980_11eb_a1e5_8086f2c3fd57row15_col17,#T_1d2d4914_5980_11eb_a1e5_8086f2c3fd57row17_col27{\n",
       "            background-color:  #f6a283;\n",
       "            color:  #000000;\n",
       "        }#T_1d2d4914_5980_11eb_a1e5_8086f2c3fd57row15_col19,#T_1d2d4914_5980_11eb_a1e5_8086f2c3fd57row29_col25{\n",
       "            background-color:  #f08b6e;\n",
       "            color:  #000000;\n",
       "        }#T_1d2d4914_5980_11eb_a1e5_8086f2c3fd57row15_col26,#T_1d2d4914_5980_11eb_a1e5_8086f2c3fd57row22_col26,#T_1d2d4914_5980_11eb_a1e5_8086f2c3fd57row25_col15{\n",
       "            background-color:  #f5a081;\n",
       "            color:  #000000;\n",
       "        }#T_1d2d4914_5980_11eb_a1e5_8086f2c3fd57row16_col7{\n",
       "            background-color:  #f7b194;\n",
       "            color:  #000000;\n",
       "        }#T_1d2d4914_5980_11eb_a1e5_8086f2c3fd57row16_col11{\n",
       "            background-color:  #9dbdff;\n",
       "            color:  #000000;\n",
       "        }#T_1d2d4914_5980_11eb_a1e5_8086f2c3fd57row16_col15{\n",
       "            background-color:  #e36c55;\n",
       "            color:  #000000;\n",
       "        }#T_1d2d4914_5980_11eb_a1e5_8086f2c3fd57row16_col17{\n",
       "            background-color:  #f18f71;\n",
       "            color:  #000000;\n",
       "        }#T_1d2d4914_5980_11eb_a1e5_8086f2c3fd57row16_col25{\n",
       "            background-color:  #f4987a;\n",
       "            color:  #000000;\n",
       "        }#T_1d2d4914_5980_11eb_a1e5_8086f2c3fd57row17_col19{\n",
       "            background-color:  #f3c7b1;\n",
       "            color:  #000000;\n",
       "        }#T_1d2d4914_5980_11eb_a1e5_8086f2c3fd57row18_col9,#T_1d2d4914_5980_11eb_a1e5_8086f2c3fd57row21_col0{\n",
       "            background-color:  #dbdcde;\n",
       "            color:  #000000;\n",
       "        }#T_1d2d4914_5980_11eb_a1e5_8086f2c3fd57row18_col12{\n",
       "            background-color:  #799cf8;\n",
       "            color:  #000000;\n",
       "        }#T_1d2d4914_5980_11eb_a1e5_8086f2c3fd57row18_col14,#T_1d2d4914_5980_11eb_a1e5_8086f2c3fd57row19_col5,#T_1d2d4914_5980_11eb_a1e5_8086f2c3fd57row22_col12{\n",
       "            background-color:  #f2cab5;\n",
       "            color:  #000000;\n",
       "        }#T_1d2d4914_5980_11eb_a1e5_8086f2c3fd57row19_col1,#T_1d2d4914_5980_11eb_a1e5_8086f2c3fd57row26_col14,#T_1d2d4914_5980_11eb_a1e5_8086f2c3fd57row28_col14{\n",
       "            background-color:  #7a9df8;\n",
       "            color:  #000000;\n",
       "        }#T_1d2d4914_5980_11eb_a1e5_8086f2c3fd57row19_col14,#T_1d2d4914_5980_11eb_a1e5_8086f2c3fd57row19_col16,#T_1d2d4914_5980_11eb_a1e5_8086f2c3fd57row22_col10{\n",
       "            background-color:  #f1cdba;\n",
       "            color:  #000000;\n",
       "        }#T_1d2d4914_5980_11eb_a1e5_8086f2c3fd57row19_col15,#T_1d2d4914_5980_11eb_a1e5_8086f2c3fd57row19_col29{\n",
       "            background-color:  #f6a385;\n",
       "            color:  #000000;\n",
       "        }#T_1d2d4914_5980_11eb_a1e5_8086f2c3fd57row19_col27,#T_1d2d4914_5980_11eb_a1e5_8086f2c3fd57row22_col1{\n",
       "            background-color:  #c4d5f3;\n",
       "            color:  #000000;\n",
       "        }#T_1d2d4914_5980_11eb_a1e5_8086f2c3fd57row20_col4,#T_1d2d4914_5980_11eb_a1e5_8086f2c3fd57row28_col19{\n",
       "            background-color:  #7597f6;\n",
       "            color:  #000000;\n",
       "        }#T_1d2d4914_5980_11eb_a1e5_8086f2c3fd57row20_col13,#T_1d2d4914_5980_11eb_a1e5_8086f2c3fd57row23_col13,#T_1d2d4914_5980_11eb_a1e5_8086f2c3fd57row27_col0{\n",
       "            background-color:  #ee8468;\n",
       "            color:  #000000;\n",
       "        }#T_1d2d4914_5980_11eb_a1e5_8086f2c3fd57row20_col21,#T_1d2d4914_5980_11eb_a1e5_8086f2c3fd57row23_col21,#T_1d2d4914_5980_11eb_a1e5_8086f2c3fd57row28_col23{\n",
       "            background-color:  #cad8ef;\n",
       "            color:  #000000;\n",
       "        }#T_1d2d4914_5980_11eb_a1e5_8086f2c3fd57row20_col22,#T_1d2d4914_5980_11eb_a1e5_8086f2c3fd57row22_col20,#T_1d2d4914_5980_11eb_a1e5_8086f2c3fd57row22_col23,#T_1d2d4914_5980_11eb_a1e5_8086f2c3fd57row23_col22{\n",
       "            background-color:  #b50927;\n",
       "            color:  #f1f1f1;\n",
       "        }#T_1d2d4914_5980_11eb_a1e5_8086f2c3fd57row21_col24{\n",
       "            background-color:  #8caffe;\n",
       "            color:  #000000;\n",
       "        }#T_1d2d4914_5980_11eb_a1e5_8086f2c3fd57row22_col19{\n",
       "            background-color:  #516ddb;\n",
       "            color:  #000000;\n",
       "        }#T_1d2d4914_5980_11eb_a1e5_8086f2c3fd57row22_col24,#T_1d2d4914_5980_11eb_a1e5_8086f2c3fd57row29_col21{\n",
       "            background-color:  #94b6ff;\n",
       "            color:  #000000;\n",
       "        }#T_1d2d4914_5980_11eb_a1e5_8086f2c3fd57row24_col4{\n",
       "            background-color:  #ef886b;\n",
       "            color:  #000000;\n",
       "        }#T_1d2d4914_5980_11eb_a1e5_8086f2c3fd57row24_col6,#T_1d2d4914_5980_11eb_a1e5_8086f2c3fd57row25_col13,#T_1d2d4914_5980_11eb_a1e5_8086f2c3fd57row27_col15{\n",
       "            background-color:  #d7dce3;\n",
       "            color:  #000000;\n",
       "        }#T_1d2d4914_5980_11eb_a1e5_8086f2c3fd57row24_col16{\n",
       "            background-color:  #6788ee;\n",
       "            color:  #000000;\n",
       "        }#T_1d2d4914_5980_11eb_a1e5_8086f2c3fd57row24_col17{\n",
       "            background-color:  #7699f6;\n",
       "            color:  #000000;\n",
       "        }#T_1d2d4914_5980_11eb_a1e5_8086f2c3fd57row25_col5{\n",
       "            background-color:  #d75445;\n",
       "            color:  #000000;\n",
       "        }#T_1d2d4914_5980_11eb_a1e5_8086f2c3fd57row25_col23{\n",
       "            background-color:  #f7ba9f;\n",
       "            color:  #000000;\n",
       "        }#T_1d2d4914_5980_11eb_a1e5_8086f2c3fd57row25_col27{\n",
       "            background-color:  #e0654f;\n",
       "            color:  #000000;\n",
       "        }#T_1d2d4914_5980_11eb_a1e5_8086f2c3fd57row27_col2{\n",
       "            background-color:  #eb7d62;\n",
       "            color:  #000000;\n",
       "        }#T_1d2d4914_5980_11eb_a1e5_8086f2c3fd57row27_col6{\n",
       "            background-color:  #d55042;\n",
       "            color:  #000000;\n",
       "        }#T_1d2d4914_5980_11eb_a1e5_8086f2c3fd57row27_col7{\n",
       "            background-color:  #ca3b37;\n",
       "            color:  #f1f1f1;\n",
       "        }#T_1d2d4914_5980_11eb_a1e5_8086f2c3fd57row27_col18{\n",
       "            background-color:  #5977e3;\n",
       "            color:  #000000;\n",
       "        }#T_1d2d4914_5980_11eb_a1e5_8086f2c3fd57row27_col26{\n",
       "            background-color:  #d24b40;\n",
       "            color:  #f1f1f1;\n",
       "        }#T_1d2d4914_5980_11eb_a1e5_8086f2c3fd57row27_col29{\n",
       "            background-color:  #e6d7cf;\n",
       "            color:  #000000;\n",
       "        }#T_1d2d4914_5980_11eb_a1e5_8086f2c3fd57row28_col15{\n",
       "            background-color:  #506bda;\n",
       "            color:  #000000;\n",
       "        }#T_1d2d4914_5980_11eb_a1e5_8086f2c3fd57row29_col10{\n",
       "            background-color:  #5d7ce6;\n",
       "            color:  #000000;\n",
       "        }</style><table id=\"T_1d2d4914_5980_11eb_a1e5_8086f2c3fd57\" ><thead>    <tr>        <th class=\"blank level0\" ></th>        <th class=\"col_heading level0 col0\" >radius_mean</th>        <th class=\"col_heading level0 col1\" >texture_mean</th>        <th class=\"col_heading level0 col2\" >perimeter_mean</th>        <th class=\"col_heading level0 col3\" >area_mean</th>        <th class=\"col_heading level0 col4\" >smoothness_mean</th>        <th class=\"col_heading level0 col5\" >compactness_mean</th>        <th class=\"col_heading level0 col6\" >concavity_mean</th>        <th class=\"col_heading level0 col7\" >concave points_mean</th>        <th class=\"col_heading level0 col8\" >symmetry_mean</th>        <th class=\"col_heading level0 col9\" >fractal_dimension_mean</th>        <th class=\"col_heading level0 col10\" >radius_se</th>        <th class=\"col_heading level0 col11\" >texture_se</th>        <th class=\"col_heading level0 col12\" >perimeter_se</th>        <th class=\"col_heading level0 col13\" >area_se</th>        <th class=\"col_heading level0 col14\" >smoothness_se</th>        <th class=\"col_heading level0 col15\" >compactness_se</th>        <th class=\"col_heading level0 col16\" >concavity_se</th>        <th class=\"col_heading level0 col17\" >concave points_se</th>        <th class=\"col_heading level0 col18\" >symmetry_se</th>        <th class=\"col_heading level0 col19\" >fractal_dimension_se</th>        <th class=\"col_heading level0 col20\" >radius_worst</th>        <th class=\"col_heading level0 col21\" >texture_worst</th>        <th class=\"col_heading level0 col22\" >perimeter_worst</th>        <th class=\"col_heading level0 col23\" >area_worst</th>        <th class=\"col_heading level0 col24\" >smoothness_worst</th>        <th class=\"col_heading level0 col25\" >compactness_worst</th>        <th class=\"col_heading level0 col26\" >concavity_worst</th>        <th class=\"col_heading level0 col27\" >concave points_worst</th>        <th class=\"col_heading level0 col28\" >symmetry_worst</th>        <th class=\"col_heading level0 col29\" >fractal_dimension_worst</th>    </tr></thead><tbody>\n",
       "                <tr>\n",
       "                        <th id=\"T_1d2d4914_5980_11eb_a1e5_8086f2c3fd57level0_row0\" class=\"row_heading level0 row0\" >radius_mean</th>\n",
       "                        <td id=\"T_1d2d4914_5980_11eb_a1e5_8086f2c3fd57row0_col0\" class=\"data row0 col0\" >1.0</td>\n",
       "                        <td id=\"T_1d2d4914_5980_11eb_a1e5_8086f2c3fd57row0_col1\" class=\"data row0 col1\" >0.341</td>\n",
       "                        <td id=\"T_1d2d4914_5980_11eb_a1e5_8086f2c3fd57row0_col2\" class=\"data row0 col2\" >0.998</td>\n",
       "                        <td id=\"T_1d2d4914_5980_11eb_a1e5_8086f2c3fd57row0_col3\" class=\"data row0 col3\" >1.0</td>\n",
       "                        <td id=\"T_1d2d4914_5980_11eb_a1e5_8086f2c3fd57row0_col4\" class=\"data row0 col4\" >0.149</td>\n",
       "                        <td id=\"T_1d2d4914_5980_11eb_a1e5_8086f2c3fd57row0_col5\" class=\"data row0 col5\" >0.498</td>\n",
       "                        <td id=\"T_1d2d4914_5980_11eb_a1e5_8086f2c3fd57row0_col6\" class=\"data row0 col6\" >0.646</td>\n",
       "                        <td id=\"T_1d2d4914_5980_11eb_a1e5_8086f2c3fd57row0_col7\" class=\"data row0 col7\" >0.76</td>\n",
       "                        <td id=\"T_1d2d4914_5980_11eb_a1e5_8086f2c3fd57row0_col8\" class=\"data row0 col8\" >0.12</td>\n",
       "                        <td id=\"T_1d2d4914_5980_11eb_a1e5_8086f2c3fd57row0_col9\" class=\"data row0 col9\" >-0.35</td>\n",
       "                        <td id=\"T_1d2d4914_5980_11eb_a1e5_8086f2c3fd57row0_col10\" class=\"data row0 col10\" >0.55</td>\n",
       "                        <td id=\"T_1d2d4914_5980_11eb_a1e5_8086f2c3fd57row0_col11\" class=\"data row0 col11\" >-0.144</td>\n",
       "                        <td id=\"T_1d2d4914_5980_11eb_a1e5_8086f2c3fd57row0_col12\" class=\"data row0 col12\" >0.566</td>\n",
       "                        <td id=\"T_1d2d4914_5980_11eb_a1e5_8086f2c3fd57row0_col13\" class=\"data row0 col13\" >0.738</td>\n",
       "                        <td id=\"T_1d2d4914_5980_11eb_a1e5_8086f2c3fd57row0_col14\" class=\"data row0 col14\" >-0.326</td>\n",
       "                        <td id=\"T_1d2d4914_5980_11eb_a1e5_8086f2c3fd57row0_col15\" class=\"data row0 col15\" >0.265</td>\n",
       "                        <td id=\"T_1d2d4914_5980_11eb_a1e5_8086f2c3fd57row0_col16\" class=\"data row0 col16\" >0.365</td>\n",
       "                        <td id=\"T_1d2d4914_5980_11eb_a1e5_8086f2c3fd57row0_col17\" class=\"data row0 col17\" >0.411</td>\n",
       "                        <td id=\"T_1d2d4914_5980_11eb_a1e5_8086f2c3fd57row0_col18\" class=\"data row0 col18\" >-0.241</td>\n",
       "                        <td id=\"T_1d2d4914_5980_11eb_a1e5_8086f2c3fd57row0_col19\" class=\"data row0 col19\" >-0.00841</td>\n",
       "                        <td id=\"T_1d2d4914_5980_11eb_a1e5_8086f2c3fd57row0_col20\" class=\"data row0 col20\" >0.979</td>\n",
       "                        <td id=\"T_1d2d4914_5980_11eb_a1e5_8086f2c3fd57row0_col21\" class=\"data row0 col21\" >0.315</td>\n",
       "                        <td id=\"T_1d2d4914_5980_11eb_a1e5_8086f2c3fd57row0_col22\" class=\"data row0 col22\" >0.972</td>\n",
       "                        <td id=\"T_1d2d4914_5980_11eb_a1e5_8086f2c3fd57row0_col23\" class=\"data row0 col23\" >0.979</td>\n",
       "                        <td id=\"T_1d2d4914_5980_11eb_a1e5_8086f2c3fd57row0_col24\" class=\"data row0 col24\" >0.126</td>\n",
       "                        <td id=\"T_1d2d4914_5980_11eb_a1e5_8086f2c3fd57row0_col25\" class=\"data row0 col25\" >0.491</td>\n",
       "                        <td id=\"T_1d2d4914_5980_11eb_a1e5_8086f2c3fd57row0_col26\" class=\"data row0 col26\" >0.596</td>\n",
       "                        <td id=\"T_1d2d4914_5980_11eb_a1e5_8086f2c3fd57row0_col27\" class=\"data row0 col27\" >0.727</td>\n",
       "                        <td id=\"T_1d2d4914_5980_11eb_a1e5_8086f2c3fd57row0_col28\" class=\"data row0 col28\" >0.175</td>\n",
       "                        <td id=\"T_1d2d4914_5980_11eb_a1e5_8086f2c3fd57row0_col29\" class=\"data row0 col29\" >0.0446</td>\n",
       "            </tr>\n",
       "            <tr>\n",
       "                        <th id=\"T_1d2d4914_5980_11eb_a1e5_8086f2c3fd57level0_row1\" class=\"row_heading level0 row1\" >texture_mean</th>\n",
       "                        <td id=\"T_1d2d4914_5980_11eb_a1e5_8086f2c3fd57row1_col0\" class=\"data row1 col0\" >0.341</td>\n",
       "                        <td id=\"T_1d2d4914_5980_11eb_a1e5_8086f2c3fd57row1_col1\" class=\"data row1 col1\" >1.0</td>\n",
       "                        <td id=\"T_1d2d4914_5980_11eb_a1e5_8086f2c3fd57row1_col2\" class=\"data row1 col2\" >0.348</td>\n",
       "                        <td id=\"T_1d2d4914_5980_11eb_a1e5_8086f2c3fd57row1_col3\" class=\"data row1 col3\" >0.344</td>\n",
       "                        <td id=\"T_1d2d4914_5980_11eb_a1e5_8086f2c3fd57row1_col4\" class=\"data row1 col4\" >0.0246</td>\n",
       "                        <td id=\"T_1d2d4914_5980_11eb_a1e5_8086f2c3fd57row1_col5\" class=\"data row1 col5\" >0.266</td>\n",
       "                        <td id=\"T_1d2d4914_5980_11eb_a1e5_8086f2c3fd57row1_col6\" class=\"data row1 col6\" >0.343</td>\n",
       "                        <td id=\"T_1d2d4914_5980_11eb_a1e5_8086f2c3fd57row1_col7\" class=\"data row1 col7\" >0.307</td>\n",
       "                        <td id=\"T_1d2d4914_5980_11eb_a1e5_8086f2c3fd57row1_col8\" class=\"data row1 col8\" >0.11</td>\n",
       "                        <td id=\"T_1d2d4914_5980_11eb_a1e5_8086f2c3fd57row1_col9\" class=\"data row1 col9\" >-0.0593</td>\n",
       "                        <td id=\"T_1d2d4914_5980_11eb_a1e5_8086f2c3fd57row1_col10\" class=\"data row1 col10\" >0.364</td>\n",
       "                        <td id=\"T_1d2d4914_5980_11eb_a1e5_8086f2c3fd57row1_col11\" class=\"data row1 col11\" >0.451</td>\n",
       "                        <td id=\"T_1d2d4914_5980_11eb_a1e5_8086f2c3fd57row1_col12\" class=\"data row1 col12\" >0.387</td>\n",
       "                        <td id=\"T_1d2d4914_5980_11eb_a1e5_8086f2c3fd57row1_col13\" class=\"data row1 col13\" >0.395</td>\n",
       "                        <td id=\"T_1d2d4914_5980_11eb_a1e5_8086f2c3fd57row1_col14\" class=\"data row1 col14\" >0.037</td>\n",
       "                        <td id=\"T_1d2d4914_5980_11eb_a1e5_8086f2c3fd57row1_col15\" class=\"data row1 col15\" >0.264</td>\n",
       "                        <td id=\"T_1d2d4914_5980_11eb_a1e5_8086f2c3fd57row1_col16\" class=\"data row1 col16\" >0.287</td>\n",
       "                        <td id=\"T_1d2d4914_5980_11eb_a1e5_8086f2c3fd57row1_col17\" class=\"data row1 col17\" >0.239</td>\n",
       "                        <td id=\"T_1d2d4914_5980_11eb_a1e5_8086f2c3fd57row1_col18\" class=\"data row1 col18\" >0.00895</td>\n",
       "                        <td id=\"T_1d2d4914_5980_11eb_a1e5_8086f2c3fd57row1_col19\" class=\"data row1 col19\" >0.148</td>\n",
       "                        <td id=\"T_1d2d4914_5980_11eb_a1e5_8086f2c3fd57row1_col20\" class=\"data row1 col20\" >0.367</td>\n",
       "                        <td id=\"T_1d2d4914_5980_11eb_a1e5_8086f2c3fd57row1_col21\" class=\"data row1 col21\" >0.909</td>\n",
       "                        <td id=\"T_1d2d4914_5980_11eb_a1e5_8086f2c3fd57row1_col22\" class=\"data row1 col22\" >0.375</td>\n",
       "                        <td id=\"T_1d2d4914_5980_11eb_a1e5_8086f2c3fd57row1_col23\" class=\"data row1 col23\" >0.368</td>\n",
       "                        <td id=\"T_1d2d4914_5980_11eb_a1e5_8086f2c3fd57row1_col24\" class=\"data row1 col24\" >0.101</td>\n",
       "                        <td id=\"T_1d2d4914_5980_11eb_a1e5_8086f2c3fd57row1_col25\" class=\"data row1 col25\" >0.291</td>\n",
       "                        <td id=\"T_1d2d4914_5980_11eb_a1e5_8086f2c3fd57row1_col26\" class=\"data row1 col26\" >0.34</td>\n",
       "                        <td id=\"T_1d2d4914_5980_11eb_a1e5_8086f2c3fd57row1_col27\" class=\"data row1 col27\" >0.319</td>\n",
       "                        <td id=\"T_1d2d4914_5980_11eb_a1e5_8086f2c3fd57row1_col28\" class=\"data row1 col28\" >0.121</td>\n",
       "                        <td id=\"T_1d2d4914_5980_11eb_a1e5_8086f2c3fd57row1_col29\" class=\"data row1 col29\" >0.116</td>\n",
       "            </tr>\n",
       "            <tr>\n",
       "                        <th id=\"T_1d2d4914_5980_11eb_a1e5_8086f2c3fd57level0_row2\" class=\"row_heading level0 row2\" >perimeter_mean</th>\n",
       "                        <td id=\"T_1d2d4914_5980_11eb_a1e5_8086f2c3fd57row2_col0\" class=\"data row2 col0\" >0.998</td>\n",
       "                        <td id=\"T_1d2d4914_5980_11eb_a1e5_8086f2c3fd57row2_col1\" class=\"data row2 col1\" >0.348</td>\n",
       "                        <td id=\"T_1d2d4914_5980_11eb_a1e5_8086f2c3fd57row2_col2\" class=\"data row2 col2\" >1.0</td>\n",
       "                        <td id=\"T_1d2d4914_5980_11eb_a1e5_8086f2c3fd57row2_col3\" class=\"data row2 col3\" >0.997</td>\n",
       "                        <td id=\"T_1d2d4914_5980_11eb_a1e5_8086f2c3fd57row2_col4\" class=\"data row2 col4\" >0.183</td>\n",
       "                        <td id=\"T_1d2d4914_5980_11eb_a1e5_8086f2c3fd57row2_col5\" class=\"data row2 col5\" >0.544</td>\n",
       "                        <td id=\"T_1d2d4914_5980_11eb_a1e5_8086f2c3fd57row2_col6\" class=\"data row2 col6\" >0.682</td>\n",
       "                        <td id=\"T_1d2d4914_5980_11eb_a1e5_8086f2c3fd57row2_col7\" class=\"data row2 col7\" >0.789</td>\n",
       "                        <td id=\"T_1d2d4914_5980_11eb_a1e5_8086f2c3fd57row2_col8\" class=\"data row2 col8\" >0.15</td>\n",
       "                        <td id=\"T_1d2d4914_5980_11eb_a1e5_8086f2c3fd57row2_col9\" class=\"data row2 col9\" >-0.305</td>\n",
       "                        <td id=\"T_1d2d4914_5980_11eb_a1e5_8086f2c3fd57row2_col10\" class=\"data row2 col10\" >0.56</td>\n",
       "                        <td id=\"T_1d2d4914_5980_11eb_a1e5_8086f2c3fd57row2_col11\" class=\"data row2 col11\" >-0.138</td>\n",
       "                        <td id=\"T_1d2d4914_5980_11eb_a1e5_8086f2c3fd57row2_col12\" class=\"data row2 col12\" >0.583</td>\n",
       "                        <td id=\"T_1d2d4914_5980_11eb_a1e5_8086f2c3fd57row2_col13\" class=\"data row2 col13\" >0.746</td>\n",
       "                        <td id=\"T_1d2d4914_5980_11eb_a1e5_8086f2c3fd57row2_col14\" class=\"data row2 col14\" >-0.311</td>\n",
       "                        <td id=\"T_1d2d4914_5980_11eb_a1e5_8086f2c3fd57row2_col15\" class=\"data row2 col15\" >0.309</td>\n",
       "                        <td id=\"T_1d2d4914_5980_11eb_a1e5_8086f2c3fd57row2_col16\" class=\"data row2 col16\" >0.402</td>\n",
       "                        <td id=\"T_1d2d4914_5980_11eb_a1e5_8086f2c3fd57row2_col17\" class=\"data row2 col17\" >0.442</td>\n",
       "                        <td id=\"T_1d2d4914_5980_11eb_a1e5_8086f2c3fd57row2_col18\" class=\"data row2 col18\" >-0.228</td>\n",
       "                        <td id=\"T_1d2d4914_5980_11eb_a1e5_8086f2c3fd57row2_col19\" class=\"data row2 col19\" >0.0324</td>\n",
       "                        <td id=\"T_1d2d4914_5980_11eb_a1e5_8086f2c3fd57row2_col20\" class=\"data row2 col20\" >0.981</td>\n",
       "                        <td id=\"T_1d2d4914_5980_11eb_a1e5_8086f2c3fd57row2_col21\" class=\"data row2 col21\" >0.323</td>\n",
       "                        <td id=\"T_1d2d4914_5980_11eb_a1e5_8086f2c3fd57row2_col22\" class=\"data row2 col22\" >0.979</td>\n",
       "                        <td id=\"T_1d2d4914_5980_11eb_a1e5_8086f2c3fd57row2_col23\" class=\"data row2 col23\" >0.981</td>\n",
       "                        <td id=\"T_1d2d4914_5980_11eb_a1e5_8086f2c3fd57row2_col24\" class=\"data row2 col24\" >0.157</td>\n",
       "                        <td id=\"T_1d2d4914_5980_11eb_a1e5_8086f2c3fd57row2_col25\" class=\"data row2 col25\" >0.535</td>\n",
       "                        <td id=\"T_1d2d4914_5980_11eb_a1e5_8086f2c3fd57row2_col26\" class=\"data row2 col26\" >0.632</td>\n",
       "                        <td id=\"T_1d2d4914_5980_11eb_a1e5_8086f2c3fd57row2_col27\" class=\"data row2 col27\" >0.758</td>\n",
       "                        <td id=\"T_1d2d4914_5980_11eb_a1e5_8086f2c3fd57row2_col28\" class=\"data row2 col28\" >0.199</td>\n",
       "                        <td id=\"T_1d2d4914_5980_11eb_a1e5_8086f2c3fd57row2_col29\" class=\"data row2 col29\" >0.089</td>\n",
       "            </tr>\n",
       "            <tr>\n",
       "                        <th id=\"T_1d2d4914_5980_11eb_a1e5_8086f2c3fd57level0_row3\" class=\"row_heading level0 row3\" >area_mean</th>\n",
       "                        <td id=\"T_1d2d4914_5980_11eb_a1e5_8086f2c3fd57row3_col0\" class=\"data row3 col0\" >1.0</td>\n",
       "                        <td id=\"T_1d2d4914_5980_11eb_a1e5_8086f2c3fd57row3_col1\" class=\"data row3 col1\" >0.344</td>\n",
       "                        <td id=\"T_1d2d4914_5980_11eb_a1e5_8086f2c3fd57row3_col2\" class=\"data row3 col2\" >0.997</td>\n",
       "                        <td id=\"T_1d2d4914_5980_11eb_a1e5_8086f2c3fd57row3_col3\" class=\"data row3 col3\" >1.0</td>\n",
       "                        <td id=\"T_1d2d4914_5980_11eb_a1e5_8086f2c3fd57row3_col4\" class=\"data row3 col4\" >0.138</td>\n",
       "                        <td id=\"T_1d2d4914_5980_11eb_a1e5_8086f2c3fd57row3_col5\" class=\"data row3 col5\" >0.489</td>\n",
       "                        <td id=\"T_1d2d4914_5980_11eb_a1e5_8086f2c3fd57row3_col6\" class=\"data row3 col6\" >0.643</td>\n",
       "                        <td id=\"T_1d2d4914_5980_11eb_a1e5_8086f2c3fd57row3_col7\" class=\"data row3 col7\" >0.755</td>\n",
       "                        <td id=\"T_1d2d4914_5980_11eb_a1e5_8086f2c3fd57row3_col8\" class=\"data row3 col8\" >0.114</td>\n",
       "                        <td id=\"T_1d2d4914_5980_11eb_a1e5_8086f2c3fd57row3_col9\" class=\"data row3 col9\" >-0.358</td>\n",
       "                        <td id=\"T_1d2d4914_5980_11eb_a1e5_8086f2c3fd57row3_col10\" class=\"data row3 col10\" >0.553</td>\n",
       "                        <td id=\"T_1d2d4914_5980_11eb_a1e5_8086f2c3fd57row3_col11\" class=\"data row3 col11\" >-0.142</td>\n",
       "                        <td id=\"T_1d2d4914_5980_11eb_a1e5_8086f2c3fd57row3_col12\" class=\"data row3 col12\" >0.568</td>\n",
       "                        <td id=\"T_1d2d4914_5980_11eb_a1e5_8086f2c3fd57row3_col13\" class=\"data row3 col13\" >0.742</td>\n",
       "                        <td id=\"T_1d2d4914_5980_11eb_a1e5_8086f2c3fd57row3_col14\" class=\"data row3 col14\" >-0.327</td>\n",
       "                        <td id=\"T_1d2d4914_5980_11eb_a1e5_8086f2c3fd57row3_col15\" class=\"data row3 col15\" >0.26</td>\n",
       "                        <td id=\"T_1d2d4914_5980_11eb_a1e5_8086f2c3fd57row3_col16\" class=\"data row3 col16\" >0.362</td>\n",
       "                        <td id=\"T_1d2d4914_5980_11eb_a1e5_8086f2c3fd57row3_col17\" class=\"data row3 col17\" >0.406</td>\n",
       "                        <td id=\"T_1d2d4914_5980_11eb_a1e5_8086f2c3fd57row3_col18\" class=\"data row3 col18\" >-0.244</td>\n",
       "                        <td id=\"T_1d2d4914_5980_11eb_a1e5_8086f2c3fd57row3_col19\" class=\"data row3 col19\" >-0.0127</td>\n",
       "                        <td id=\"T_1d2d4914_5980_11eb_a1e5_8086f2c3fd57row3_col20\" class=\"data row3 col20\" >0.979</td>\n",
       "                        <td id=\"T_1d2d4914_5980_11eb_a1e5_8086f2c3fd57row3_col21\" class=\"data row3 col21\" >0.318</td>\n",
       "                        <td id=\"T_1d2d4914_5980_11eb_a1e5_8086f2c3fd57row3_col22\" class=\"data row3 col22\" >0.972</td>\n",
       "                        <td id=\"T_1d2d4914_5980_11eb_a1e5_8086f2c3fd57row3_col23\" class=\"data row3 col23\" >0.98</td>\n",
       "                        <td id=\"T_1d2d4914_5980_11eb_a1e5_8086f2c3fd57row3_col24\" class=\"data row3 col24\" >0.12</td>\n",
       "                        <td id=\"T_1d2d4914_5980_11eb_a1e5_8086f2c3fd57row3_col25\" class=\"data row3 col25\" >0.486</td>\n",
       "                        <td id=\"T_1d2d4914_5980_11eb_a1e5_8086f2c3fd57row3_col26\" class=\"data row3 col26\" >0.594</td>\n",
       "                        <td id=\"T_1d2d4914_5980_11eb_a1e5_8086f2c3fd57row3_col27\" class=\"data row3 col27\" >0.723</td>\n",
       "                        <td id=\"T_1d2d4914_5980_11eb_a1e5_8086f2c3fd57row3_col28\" class=\"data row3 col28\" >0.171</td>\n",
       "                        <td id=\"T_1d2d4914_5980_11eb_a1e5_8086f2c3fd57row3_col29\" class=\"data row3 col29\" >0.0388</td>\n",
       "            </tr>\n",
       "            <tr>\n",
       "                        <th id=\"T_1d2d4914_5980_11eb_a1e5_8086f2c3fd57level0_row4\" class=\"row_heading level0 row4\" >smoothness_mean</th>\n",
       "                        <td id=\"T_1d2d4914_5980_11eb_a1e5_8086f2c3fd57row4_col0\" class=\"data row4 col0\" >0.149</td>\n",
       "                        <td id=\"T_1d2d4914_5980_11eb_a1e5_8086f2c3fd57row4_col1\" class=\"data row4 col1\" >0.0246</td>\n",
       "                        <td id=\"T_1d2d4914_5980_11eb_a1e5_8086f2c3fd57row4_col2\" class=\"data row4 col2\" >0.183</td>\n",
       "                        <td id=\"T_1d2d4914_5980_11eb_a1e5_8086f2c3fd57row4_col3\" class=\"data row4 col3\" >0.138</td>\n",
       "                        <td id=\"T_1d2d4914_5980_11eb_a1e5_8086f2c3fd57row4_col4\" class=\"data row4 col4\" >1.0</td>\n",
       "                        <td id=\"T_1d2d4914_5980_11eb_a1e5_8086f2c3fd57row4_col5\" class=\"data row4 col5\" >0.679</td>\n",
       "                        <td id=\"T_1d2d4914_5980_11eb_a1e5_8086f2c3fd57row4_col6\" class=\"data row4 col6\" >0.519</td>\n",
       "                        <td id=\"T_1d2d4914_5980_11eb_a1e5_8086f2c3fd57row4_col7\" class=\"data row4 col7\" >0.565</td>\n",
       "                        <td id=\"T_1d2d4914_5980_11eb_a1e5_8086f2c3fd57row4_col8\" class=\"data row4 col8\" >0.542</td>\n",
       "                        <td id=\"T_1d2d4914_5980_11eb_a1e5_8086f2c3fd57row4_col9\" class=\"data row4 col9\" >0.588</td>\n",
       "                        <td id=\"T_1d2d4914_5980_11eb_a1e5_8086f2c3fd57row4_col10\" class=\"data row4 col10\" >0.334</td>\n",
       "                        <td id=\"T_1d2d4914_5980_11eb_a1e5_8086f2c3fd57row4_col11\" class=\"data row4 col11\" >0.0913</td>\n",
       "                        <td id=\"T_1d2d4914_5980_11eb_a1e5_8086f2c3fd57row4_col12\" class=\"data row4 col12\" >0.331</td>\n",
       "                        <td id=\"T_1d2d4914_5980_11eb_a1e5_8086f2c3fd57row4_col13\" class=\"data row4 col13\" >0.296</td>\n",
       "                        <td id=\"T_1d2d4914_5980_11eb_a1e5_8086f2c3fd57row4_col14\" class=\"data row4 col14\" >0.339</td>\n",
       "                        <td id=\"T_1d2d4914_5980_11eb_a1e5_8086f2c3fd57row4_col15\" class=\"data row4 col15\" >0.392</td>\n",
       "                        <td id=\"T_1d2d4914_5980_11eb_a1e5_8086f2c3fd57row4_col16\" class=\"data row4 col16\" >0.355</td>\n",
       "                        <td id=\"T_1d2d4914_5980_11eb_a1e5_8086f2c3fd57row4_col17\" class=\"data row4 col17\" >0.439</td>\n",
       "                        <td id=\"T_1d2d4914_5980_11eb_a1e5_8086f2c3fd57row4_col18\" class=\"data row4 col18\" >0.151</td>\n",
       "                        <td id=\"T_1d2d4914_5980_11eb_a1e5_8086f2c3fd57row4_col19\" class=\"data row4 col19\" >0.413</td>\n",
       "                        <td id=\"T_1d2d4914_5980_11eb_a1e5_8086f2c3fd57row4_col20\" class=\"data row4 col20\" >0.203</td>\n",
       "                        <td id=\"T_1d2d4914_5980_11eb_a1e5_8086f2c3fd57row4_col21\" class=\"data row4 col21\" >0.0606</td>\n",
       "                        <td id=\"T_1d2d4914_5980_11eb_a1e5_8086f2c3fd57row4_col22\" class=\"data row4 col22\" >0.226</td>\n",
       "                        <td id=\"T_1d2d4914_5980_11eb_a1e5_8086f2c3fd57row4_col23\" class=\"data row4 col23\" >0.192</td>\n",
       "                        <td id=\"T_1d2d4914_5980_11eb_a1e5_8086f2c3fd57row4_col24\" class=\"data row4 col24\" >0.796</td>\n",
       "                        <td id=\"T_1d2d4914_5980_11eb_a1e5_8086f2c3fd57row4_col25\" class=\"data row4 col25\" >0.481</td>\n",
       "                        <td id=\"T_1d2d4914_5980_11eb_a1e5_8086f2c3fd57row4_col26\" class=\"data row4 col26\" >0.429</td>\n",
       "                        <td id=\"T_1d2d4914_5980_11eb_a1e5_8086f2c3fd57row4_col27\" class=\"data row4 col27\" >0.499</td>\n",
       "                        <td id=\"T_1d2d4914_5980_11eb_a1e5_8086f2c3fd57row4_col28\" class=\"data row4 col28\" >0.394</td>\n",
       "                        <td id=\"T_1d2d4914_5980_11eb_a1e5_8086f2c3fd57row4_col29\" class=\"data row4 col29\" >0.511</td>\n",
       "            </tr>\n",
       "            <tr>\n",
       "                        <th id=\"T_1d2d4914_5980_11eb_a1e5_8086f2c3fd57level0_row5\" class=\"row_heading level0 row5\" >compactness_mean</th>\n",
       "                        <td id=\"T_1d2d4914_5980_11eb_a1e5_8086f2c3fd57row5_col0\" class=\"data row5 col0\" >0.498</td>\n",
       "                        <td id=\"T_1d2d4914_5980_11eb_a1e5_8086f2c3fd57row5_col1\" class=\"data row5 col1\" >0.266</td>\n",
       "                        <td id=\"T_1d2d4914_5980_11eb_a1e5_8086f2c3fd57row5_col2\" class=\"data row5 col2\" >0.544</td>\n",
       "                        <td id=\"T_1d2d4914_5980_11eb_a1e5_8086f2c3fd57row5_col3\" class=\"data row5 col3\" >0.489</td>\n",
       "                        <td id=\"T_1d2d4914_5980_11eb_a1e5_8086f2c3fd57row5_col4\" class=\"data row5 col4\" >0.679</td>\n",
       "                        <td id=\"T_1d2d4914_5980_11eb_a1e5_8086f2c3fd57row5_col5\" class=\"data row5 col5\" >1.0</td>\n",
       "                        <td id=\"T_1d2d4914_5980_11eb_a1e5_8086f2c3fd57row5_col6\" class=\"data row5 col6\" >0.897</td>\n",
       "                        <td id=\"T_1d2d4914_5980_11eb_a1e5_8086f2c3fd57row5_col7\" class=\"data row5 col7\" >0.848</td>\n",
       "                        <td id=\"T_1d2d4914_5980_11eb_a1e5_8086f2c3fd57row5_col8\" class=\"data row5 col8\" >0.552</td>\n",
       "                        <td id=\"T_1d2d4914_5980_11eb_a1e5_8086f2c3fd57row5_col9\" class=\"data row5 col9\" >0.499</td>\n",
       "                        <td id=\"T_1d2d4914_5980_11eb_a1e5_8086f2c3fd57row5_col10\" class=\"data row5 col10\" >0.507</td>\n",
       "                        <td id=\"T_1d2d4914_5980_11eb_a1e5_8086f2c3fd57row5_col11\" class=\"data row5 col11\" >0.0478</td>\n",
       "                        <td id=\"T_1d2d4914_5980_11eb_a1e5_8086f2c3fd57row5_col12\" class=\"data row5 col12\" >0.584</td>\n",
       "                        <td id=\"T_1d2d4914_5980_11eb_a1e5_8086f2c3fd57row5_col13\" class=\"data row5 col13\" >0.54</td>\n",
       "                        <td id=\"T_1d2d4914_5980_11eb_a1e5_8086f2c3fd57row5_col14\" class=\"data row5 col14\" >0.127</td>\n",
       "                        <td id=\"T_1d2d4914_5980_11eb_a1e5_8086f2c3fd57row5_col15\" class=\"data row5 col15\" >0.818</td>\n",
       "                        <td id=\"T_1d2d4914_5980_11eb_a1e5_8086f2c3fd57row5_col16\" class=\"data row5 col16\" >0.772</td>\n",
       "                        <td id=\"T_1d2d4914_5980_11eb_a1e5_8086f2c3fd57row5_col17\" class=\"data row5 col17\" >0.732</td>\n",
       "                        <td id=\"T_1d2d4914_5980_11eb_a1e5_8086f2c3fd57row5_col18\" class=\"data row5 col18\" >0.0984</td>\n",
       "                        <td id=\"T_1d2d4914_5980_11eb_a1e5_8086f2c3fd57row5_col19\" class=\"data row5 col19\" >0.621</td>\n",
       "                        <td id=\"T_1d2d4914_5980_11eb_a1e5_8086f2c3fd57row5_col20\" class=\"data row5 col20\" >0.543</td>\n",
       "                        <td id=\"T_1d2d4914_5980_11eb_a1e5_8086f2c3fd57row5_col21\" class=\"data row5 col21\" >0.255</td>\n",
       "                        <td id=\"T_1d2d4914_5980_11eb_a1e5_8086f2c3fd57row5_col22\" class=\"data row5 col22\" >0.592</td>\n",
       "                        <td id=\"T_1d2d4914_5980_11eb_a1e5_8086f2c3fd57row5_col23\" class=\"data row5 col23\" >0.532</td>\n",
       "                        <td id=\"T_1d2d4914_5980_11eb_a1e5_8086f2c3fd57row5_col24\" class=\"data row5 col24\" >0.579</td>\n",
       "                        <td id=\"T_1d2d4914_5980_11eb_a1e5_8086f2c3fd57row5_col25\" class=\"data row5 col25\" >0.901</td>\n",
       "                        <td id=\"T_1d2d4914_5980_11eb_a1e5_8086f2c3fd57row5_col26\" class=\"data row5 col26\" >0.838</td>\n",
       "                        <td id=\"T_1d2d4914_5980_11eb_a1e5_8086f2c3fd57row5_col27\" class=\"data row5 col27\" >0.825</td>\n",
       "                        <td id=\"T_1d2d4914_5980_11eb_a1e5_8086f2c3fd57row5_col28\" class=\"data row5 col28\" >0.45</td>\n",
       "                        <td id=\"T_1d2d4914_5980_11eb_a1e5_8086f2c3fd57row5_col29\" class=\"data row5 col29\" >0.689</td>\n",
       "            </tr>\n",
       "            <tr>\n",
       "                        <th id=\"T_1d2d4914_5980_11eb_a1e5_8086f2c3fd57level0_row6\" class=\"row_heading level0 row6\" >concavity_mean</th>\n",
       "                        <td id=\"T_1d2d4914_5980_11eb_a1e5_8086f2c3fd57row6_col0\" class=\"data row6 col0\" >0.646</td>\n",
       "                        <td id=\"T_1d2d4914_5980_11eb_a1e5_8086f2c3fd57row6_col1\" class=\"data row6 col1\" >0.343</td>\n",
       "                        <td id=\"T_1d2d4914_5980_11eb_a1e5_8086f2c3fd57row6_col2\" class=\"data row6 col2\" >0.682</td>\n",
       "                        <td id=\"T_1d2d4914_5980_11eb_a1e5_8086f2c3fd57row6_col3\" class=\"data row6 col3\" >0.643</td>\n",
       "                        <td id=\"T_1d2d4914_5980_11eb_a1e5_8086f2c3fd57row6_col4\" class=\"data row6 col4\" >0.519</td>\n",
       "                        <td id=\"T_1d2d4914_5980_11eb_a1e5_8086f2c3fd57row6_col5\" class=\"data row6 col5\" >0.897</td>\n",
       "                        <td id=\"T_1d2d4914_5980_11eb_a1e5_8086f2c3fd57row6_col6\" class=\"data row6 col6\" >1.0</td>\n",
       "                        <td id=\"T_1d2d4914_5980_11eb_a1e5_8086f2c3fd57row6_col7\" class=\"data row6 col7\" >0.927</td>\n",
       "                        <td id=\"T_1d2d4914_5980_11eb_a1e5_8086f2c3fd57row6_col8\" class=\"data row6 col8\" >0.447</td>\n",
       "                        <td id=\"T_1d2d4914_5980_11eb_a1e5_8086f2c3fd57row6_col9\" class=\"data row6 col9\" >0.258</td>\n",
       "                        <td id=\"T_1d2d4914_5980_11eb_a1e5_8086f2c3fd57row6_col10\" class=\"data row6 col10\" >0.575</td>\n",
       "                        <td id=\"T_1d2d4914_5980_11eb_a1e5_8086f2c3fd57row6_col11\" class=\"data row6 col11\" >0.0513</td>\n",
       "                        <td id=\"T_1d2d4914_5980_11eb_a1e5_8086f2c3fd57row6_col12\" class=\"data row6 col12\" >0.646</td>\n",
       "                        <td id=\"T_1d2d4914_5980_11eb_a1e5_8086f2c3fd57row6_col13\" class=\"data row6 col13\" >0.644</td>\n",
       "                        <td id=\"T_1d2d4914_5980_11eb_a1e5_8086f2c3fd57row6_col14\" class=\"data row6 col14\" >0.0703</td>\n",
       "                        <td id=\"T_1d2d4914_5980_11eb_a1e5_8086f2c3fd57row6_col15\" class=\"data row6 col15\" >0.761</td>\n",
       "                        <td id=\"T_1d2d4914_5980_11eb_a1e5_8086f2c3fd57row6_col16\" class=\"data row6 col16\" >0.858</td>\n",
       "                        <td id=\"T_1d2d4914_5980_11eb_a1e5_8086f2c3fd57row6_col17\" class=\"data row6 col17\" >0.775</td>\n",
       "                        <td id=\"T_1d2d4914_5980_11eb_a1e5_8086f2c3fd57row6_col18\" class=\"data row6 col18\" >0.0228</td>\n",
       "                        <td id=\"T_1d2d4914_5980_11eb_a1e5_8086f2c3fd57row6_col19\" class=\"data row6 col19\" >0.514</td>\n",
       "                        <td id=\"T_1d2d4914_5980_11eb_a1e5_8086f2c3fd57row6_col20\" class=\"data row6 col20\" >0.682</td>\n",
       "                        <td id=\"T_1d2d4914_5980_11eb_a1e5_8086f2c3fd57row6_col21\" class=\"data row6 col21\" >0.336</td>\n",
       "                        <td id=\"T_1d2d4914_5980_11eb_a1e5_8086f2c3fd57row6_col22\" class=\"data row6 col22\" >0.722</td>\n",
       "                        <td id=\"T_1d2d4914_5980_11eb_a1e5_8086f2c3fd57row6_col23\" class=\"data row6 col23\" >0.677</td>\n",
       "                        <td id=\"T_1d2d4914_5980_11eb_a1e5_8086f2c3fd57row6_col24\" class=\"data row6 col24\" >0.489</td>\n",
       "                        <td id=\"T_1d2d4914_5980_11eb_a1e5_8086f2c3fd57row6_col25\" class=\"data row6 col25\" >0.85</td>\n",
       "                        <td id=\"T_1d2d4914_5980_11eb_a1e5_8086f2c3fd57row6_col26\" class=\"data row6 col26\" >0.939</td>\n",
       "                        <td id=\"T_1d2d4914_5980_11eb_a1e5_8086f2c3fd57row6_col27\" class=\"data row6 col27\" >0.905</td>\n",
       "                        <td id=\"T_1d2d4914_5980_11eb_a1e5_8086f2c3fd57row6_col28\" class=\"data row6 col28\" >0.384</td>\n",
       "                        <td id=\"T_1d2d4914_5980_11eb_a1e5_8086f2c3fd57row6_col29\" class=\"data row6 col29\" >0.542</td>\n",
       "            </tr>\n",
       "            <tr>\n",
       "                        <th id=\"T_1d2d4914_5980_11eb_a1e5_8086f2c3fd57level0_row7\" class=\"row_heading level0 row7\" >concave points_mean</th>\n",
       "                        <td id=\"T_1d2d4914_5980_11eb_a1e5_8086f2c3fd57row7_col0\" class=\"data row7 col0\" >0.76</td>\n",
       "                        <td id=\"T_1d2d4914_5980_11eb_a1e5_8086f2c3fd57row7_col1\" class=\"data row7 col1\" >0.307</td>\n",
       "                        <td id=\"T_1d2d4914_5980_11eb_a1e5_8086f2c3fd57row7_col2\" class=\"data row7 col2\" >0.789</td>\n",
       "                        <td id=\"T_1d2d4914_5980_11eb_a1e5_8086f2c3fd57row7_col3\" class=\"data row7 col3\" >0.755</td>\n",
       "                        <td id=\"T_1d2d4914_5980_11eb_a1e5_8086f2c3fd57row7_col4\" class=\"data row7 col4\" >0.565</td>\n",
       "                        <td id=\"T_1d2d4914_5980_11eb_a1e5_8086f2c3fd57row7_col5\" class=\"data row7 col5\" >0.848</td>\n",
       "                        <td id=\"T_1d2d4914_5980_11eb_a1e5_8086f2c3fd57row7_col6\" class=\"data row7 col6\" >0.927</td>\n",
       "                        <td id=\"T_1d2d4914_5980_11eb_a1e5_8086f2c3fd57row7_col7\" class=\"data row7 col7\" >1.0</td>\n",
       "                        <td id=\"T_1d2d4914_5980_11eb_a1e5_8086f2c3fd57row7_col8\" class=\"data row7 col8\" >0.424</td>\n",
       "                        <td id=\"T_1d2d4914_5980_11eb_a1e5_8086f2c3fd57row7_col9\" class=\"data row7 col9\" >0.143</td>\n",
       "                        <td id=\"T_1d2d4914_5980_11eb_a1e5_8086f2c3fd57row7_col10\" class=\"data row7 col10\" >0.635</td>\n",
       "                        <td id=\"T_1d2d4914_5980_11eb_a1e5_8086f2c3fd57row7_col11\" class=\"data row7 col11\" >0.00871</td>\n",
       "                        <td id=\"T_1d2d4914_5980_11eb_a1e5_8086f2c3fd57row7_col12\" class=\"data row7 col12\" >0.68</td>\n",
       "                        <td id=\"T_1d2d4914_5980_11eb_a1e5_8086f2c3fd57row7_col13\" class=\"data row7 col13\" >0.727</td>\n",
       "                        <td id=\"T_1d2d4914_5980_11eb_a1e5_8086f2c3fd57row7_col14\" class=\"data row7 col14\" >0.0168</td>\n",
       "                        <td id=\"T_1d2d4914_5980_11eb_a1e5_8086f2c3fd57row7_col15\" class=\"data row7 col15\" >0.608</td>\n",
       "                        <td id=\"T_1d2d4914_5980_11eb_a1e5_8086f2c3fd57row7_col16\" class=\"data row7 col16\" >0.675</td>\n",
       "                        <td id=\"T_1d2d4914_5980_11eb_a1e5_8086f2c3fd57row7_col17\" class=\"data row7 col17\" >0.758</td>\n",
       "                        <td id=\"T_1d2d4914_5980_11eb_a1e5_8086f2c3fd57row7_col18\" class=\"data row7 col18\" >-0.0284</td>\n",
       "                        <td id=\"T_1d2d4914_5980_11eb_a1e5_8086f2c3fd57row7_col19\" class=\"data row7 col19\" >0.378</td>\n",
       "                        <td id=\"T_1d2d4914_5980_11eb_a1e5_8086f2c3fd57row7_col20\" class=\"data row7 col20\" >0.787</td>\n",
       "                        <td id=\"T_1d2d4914_5980_11eb_a1e5_8086f2c3fd57row7_col21\" class=\"data row7 col21\" >0.301</td>\n",
       "                        <td id=\"T_1d2d4914_5980_11eb_a1e5_8086f2c3fd57row7_col22\" class=\"data row7 col22\" >0.814</td>\n",
       "                        <td id=\"T_1d2d4914_5980_11eb_a1e5_8086f2c3fd57row7_col23\" class=\"data row7 col23\" >0.78</td>\n",
       "                        <td id=\"T_1d2d4914_5980_11eb_a1e5_8086f2c3fd57row7_col24\" class=\"data row7 col24\" >0.49</td>\n",
       "                        <td id=\"T_1d2d4914_5980_11eb_a1e5_8086f2c3fd57row7_col25\" class=\"data row7 col25\" >0.758</td>\n",
       "                        <td id=\"T_1d2d4914_5980_11eb_a1e5_8086f2c3fd57row7_col26\" class=\"data row7 col26\" >0.827</td>\n",
       "                        <td id=\"T_1d2d4914_5980_11eb_a1e5_8086f2c3fd57row7_col27\" class=\"data row7 col27\" >0.937</td>\n",
       "                        <td id=\"T_1d2d4914_5980_11eb_a1e5_8086f2c3fd57row7_col28\" class=\"data row7 col28\" >0.355</td>\n",
       "                        <td id=\"T_1d2d4914_5980_11eb_a1e5_8086f2c3fd57row7_col29\" class=\"data row7 col29\" >0.421</td>\n",
       "            </tr>\n",
       "            <tr>\n",
       "                        <th id=\"T_1d2d4914_5980_11eb_a1e5_8086f2c3fd57level0_row8\" class=\"row_heading level0 row8\" >symmetry_mean</th>\n",
       "                        <td id=\"T_1d2d4914_5980_11eb_a1e5_8086f2c3fd57row8_col0\" class=\"data row8 col0\" >0.12</td>\n",
       "                        <td id=\"T_1d2d4914_5980_11eb_a1e5_8086f2c3fd57row8_col1\" class=\"data row8 col1\" >0.11</td>\n",
       "                        <td id=\"T_1d2d4914_5980_11eb_a1e5_8086f2c3fd57row8_col2\" class=\"data row8 col2\" >0.15</td>\n",
       "                        <td id=\"T_1d2d4914_5980_11eb_a1e5_8086f2c3fd57row8_col3\" class=\"data row8 col3\" >0.114</td>\n",
       "                        <td id=\"T_1d2d4914_5980_11eb_a1e5_8086f2c3fd57row8_col4\" class=\"data row8 col4\" >0.542</td>\n",
       "                        <td id=\"T_1d2d4914_5980_11eb_a1e5_8086f2c3fd57row8_col5\" class=\"data row8 col5\" >0.552</td>\n",
       "                        <td id=\"T_1d2d4914_5980_11eb_a1e5_8086f2c3fd57row8_col6\" class=\"data row8 col6\" >0.447</td>\n",
       "                        <td id=\"T_1d2d4914_5980_11eb_a1e5_8086f2c3fd57row8_col7\" class=\"data row8 col7\" >0.424</td>\n",
       "                        <td id=\"T_1d2d4914_5980_11eb_a1e5_8086f2c3fd57row8_col8\" class=\"data row8 col8\" >1.0</td>\n",
       "                        <td id=\"T_1d2d4914_5980_11eb_a1e5_8086f2c3fd57row8_col9\" class=\"data row8 col9\" >0.428</td>\n",
       "                        <td id=\"T_1d2d4914_5980_11eb_a1e5_8086f2c3fd57row8_col10\" class=\"data row8 col10\" >0.338</td>\n",
       "                        <td id=\"T_1d2d4914_5980_11eb_a1e5_8086f2c3fd57row8_col11\" class=\"data row8 col11\" >0.139</td>\n",
       "                        <td id=\"T_1d2d4914_5980_11eb_a1e5_8086f2c3fd57row8_col12\" class=\"data row8 col12\" >0.355</td>\n",
       "                        <td id=\"T_1d2d4914_5980_11eb_a1e5_8086f2c3fd57row8_col13\" class=\"data row8 col13\" >0.288</td>\n",
       "                        <td id=\"T_1d2d4914_5980_11eb_a1e5_8086f2c3fd57row8_col14\" class=\"data row8 col14\" >0.206</td>\n",
       "                        <td id=\"T_1d2d4914_5980_11eb_a1e5_8086f2c3fd57row8_col15\" class=\"data row8 col15\" >0.436</td>\n",
       "                        <td id=\"T_1d2d4914_5980_11eb_a1e5_8086f2c3fd57row8_col16\" class=\"data row8 col16\" >0.368</td>\n",
       "                        <td id=\"T_1d2d4914_5980_11eb_a1e5_8086f2c3fd57row8_col17\" class=\"data row8 col17\" >0.383</td>\n",
       "                        <td id=\"T_1d2d4914_5980_11eb_a1e5_8086f2c3fd57row8_col18\" class=\"data row8 col18\" >0.384</td>\n",
       "                        <td id=\"T_1d2d4914_5980_11eb_a1e5_8086f2c3fd57row8_col19\" class=\"data row8 col19\" >0.403</td>\n",
       "                        <td id=\"T_1d2d4914_5980_11eb_a1e5_8086f2c3fd57row8_col20\" class=\"data row8 col20\" >0.165</td>\n",
       "                        <td id=\"T_1d2d4914_5980_11eb_a1e5_8086f2c3fd57row8_col21\" class=\"data row8 col21\" >0.119</td>\n",
       "                        <td id=\"T_1d2d4914_5980_11eb_a1e5_8086f2c3fd57row8_col22\" class=\"data row8 col22\" >0.191</td>\n",
       "                        <td id=\"T_1d2d4914_5980_11eb_a1e5_8086f2c3fd57row8_col23\" class=\"data row8 col23\" >0.154</td>\n",
       "                        <td id=\"T_1d2d4914_5980_11eb_a1e5_8086f2c3fd57row8_col24\" class=\"data row8 col24\" >0.424</td>\n",
       "                        <td id=\"T_1d2d4914_5980_11eb_a1e5_8086f2c3fd57row8_col25\" class=\"data row8 col25\" >0.441</td>\n",
       "                        <td id=\"T_1d2d4914_5980_11eb_a1e5_8086f2c3fd57row8_col26\" class=\"data row8 col26\" >0.394</td>\n",
       "                        <td id=\"T_1d2d4914_5980_11eb_a1e5_8086f2c3fd57row8_col27\" class=\"data row8 col27\" >0.397</td>\n",
       "                        <td id=\"T_1d2d4914_5980_11eb_a1e5_8086f2c3fd57row8_col28\" class=\"data row8 col28\" >0.71</td>\n",
       "                        <td id=\"T_1d2d4914_5980_11eb_a1e5_8086f2c3fd57row8_col29\" class=\"data row8 col29\" >0.41</td>\n",
       "            </tr>\n",
       "            <tr>\n",
       "                        <th id=\"T_1d2d4914_5980_11eb_a1e5_8086f2c3fd57level0_row9\" class=\"row_heading level0 row9\" >fractal_dimension_mean</th>\n",
       "                        <td id=\"T_1d2d4914_5980_11eb_a1e5_8086f2c3fd57row9_col0\" class=\"data row9 col0\" >-0.35</td>\n",
       "                        <td id=\"T_1d2d4914_5980_11eb_a1e5_8086f2c3fd57row9_col1\" class=\"data row9 col1\" >-0.0593</td>\n",
       "                        <td id=\"T_1d2d4914_5980_11eb_a1e5_8086f2c3fd57row9_col2\" class=\"data row9 col2\" >-0.305</td>\n",
       "                        <td id=\"T_1d2d4914_5980_11eb_a1e5_8086f2c3fd57row9_col3\" class=\"data row9 col3\" >-0.358</td>\n",
       "                        <td id=\"T_1d2d4914_5980_11eb_a1e5_8086f2c3fd57row9_col4\" class=\"data row9 col4\" >0.588</td>\n",
       "                        <td id=\"T_1d2d4914_5980_11eb_a1e5_8086f2c3fd57row9_col5\" class=\"data row9 col5\" >0.499</td>\n",
       "                        <td id=\"T_1d2d4914_5980_11eb_a1e5_8086f2c3fd57row9_col6\" class=\"data row9 col6\" >0.258</td>\n",
       "                        <td id=\"T_1d2d4914_5980_11eb_a1e5_8086f2c3fd57row9_col7\" class=\"data row9 col7\" >0.143</td>\n",
       "                        <td id=\"T_1d2d4914_5980_11eb_a1e5_8086f2c3fd57row9_col8\" class=\"data row9 col8\" >0.428</td>\n",
       "                        <td id=\"T_1d2d4914_5980_11eb_a1e5_8086f2c3fd57row9_col9\" class=\"data row9 col9\" >1.0</td>\n",
       "                        <td id=\"T_1d2d4914_5980_11eb_a1e5_8086f2c3fd57row9_col10\" class=\"data row9 col10\" >0.00148</td>\n",
       "                        <td id=\"T_1d2d4914_5980_11eb_a1e5_8086f2c3fd57row9_col11\" class=\"data row9 col11\" >0.157</td>\n",
       "                        <td id=\"T_1d2d4914_5980_11eb_a1e5_8086f2c3fd57row9_col12\" class=\"data row9 col12\" >0.0553</td>\n",
       "                        <td id=\"T_1d2d4914_5980_11eb_a1e5_8086f2c3fd57row9_col13\" class=\"data row9 col13\" >-0.12</td>\n",
       "                        <td id=\"T_1d2d4914_5980_11eb_a1e5_8086f2c3fd57row9_col14\" class=\"data row9 col14\" >0.402</td>\n",
       "                        <td id=\"T_1d2d4914_5980_11eb_a1e5_8086f2c3fd57row9_col15\" class=\"data row9 col15\" >0.481</td>\n",
       "                        <td id=\"T_1d2d4914_5980_11eb_a1e5_8086f2c3fd57row9_col16\" class=\"data row9 col16\" >0.344</td>\n",
       "                        <td id=\"T_1d2d4914_5980_11eb_a1e5_8086f2c3fd57row9_col17\" class=\"data row9 col17\" >0.286</td>\n",
       "                        <td id=\"T_1d2d4914_5980_11eb_a1e5_8086f2c3fd57row9_col18\" class=\"data row9 col18\" >0.314</td>\n",
       "                        <td id=\"T_1d2d4914_5980_11eb_a1e5_8086f2c3fd57row9_col19\" class=\"data row9 col19\" >0.684</td>\n",
       "                        <td id=\"T_1d2d4914_5980_11eb_a1e5_8086f2c3fd57row9_col20\" class=\"data row9 col20\" >-0.295</td>\n",
       "                        <td id=\"T_1d2d4914_5980_11eb_a1e5_8086f2c3fd57row9_col21\" class=\"data row9 col21\" >-0.0478</td>\n",
       "                        <td id=\"T_1d2d4914_5980_11eb_a1e5_8086f2c3fd57row9_col22\" class=\"data row9 col22\" >-0.247</td>\n",
       "                        <td id=\"T_1d2d4914_5980_11eb_a1e5_8086f2c3fd57row9_col23\" class=\"data row9 col23\" >-0.305</td>\n",
       "                        <td id=\"T_1d2d4914_5980_11eb_a1e5_8086f2c3fd57row9_col24\" class=\"data row9 col24\" >0.493</td>\n",
       "                        <td id=\"T_1d2d4914_5980_11eb_a1e5_8086f2c3fd57row9_col25\" class=\"data row9 col25\" >0.404</td>\n",
       "                        <td id=\"T_1d2d4914_5980_11eb_a1e5_8086f2c3fd57row9_col26\" class=\"data row9 col26\" >0.243</td>\n",
       "                        <td id=\"T_1d2d4914_5980_11eb_a1e5_8086f2c3fd57row9_col27\" class=\"data row9 col27\" >0.139</td>\n",
       "                        <td id=\"T_1d2d4914_5980_11eb_a1e5_8086f2c3fd57row9_col28\" class=\"data row9 col28\" >0.295</td>\n",
       "                        <td id=\"T_1d2d4914_5980_11eb_a1e5_8086f2c3fd57row9_col29\" class=\"data row9 col29\" >0.761</td>\n",
       "            </tr>\n",
       "            <tr>\n",
       "                        <th id=\"T_1d2d4914_5980_11eb_a1e5_8086f2c3fd57level0_row10\" class=\"row_heading level0 row10\" >radius_se</th>\n",
       "                        <td id=\"T_1d2d4914_5980_11eb_a1e5_8086f2c3fd57row10_col0\" class=\"data row10 col0\" >0.55</td>\n",
       "                        <td id=\"T_1d2d4914_5980_11eb_a1e5_8086f2c3fd57row10_col1\" class=\"data row10 col1\" >0.364</td>\n",
       "                        <td id=\"T_1d2d4914_5980_11eb_a1e5_8086f2c3fd57row10_col2\" class=\"data row10 col2\" >0.56</td>\n",
       "                        <td id=\"T_1d2d4914_5980_11eb_a1e5_8086f2c3fd57row10_col3\" class=\"data row10 col3\" >0.553</td>\n",
       "                        <td id=\"T_1d2d4914_5980_11eb_a1e5_8086f2c3fd57row10_col4\" class=\"data row10 col4\" >0.334</td>\n",
       "                        <td id=\"T_1d2d4914_5980_11eb_a1e5_8086f2c3fd57row10_col5\" class=\"data row10 col5\" >0.507</td>\n",
       "                        <td id=\"T_1d2d4914_5980_11eb_a1e5_8086f2c3fd57row10_col6\" class=\"data row10 col6\" >0.575</td>\n",
       "                        <td id=\"T_1d2d4914_5980_11eb_a1e5_8086f2c3fd57row10_col7\" class=\"data row10 col7\" >0.635</td>\n",
       "                        <td id=\"T_1d2d4914_5980_11eb_a1e5_8086f2c3fd57row10_col8\" class=\"data row10 col8\" >0.338</td>\n",
       "                        <td id=\"T_1d2d4914_5980_11eb_a1e5_8086f2c3fd57row10_col9\" class=\"data row10 col9\" >0.00148</td>\n",
       "                        <td id=\"T_1d2d4914_5980_11eb_a1e5_8086f2c3fd57row10_col10\" class=\"data row10 col10\" >1.0</td>\n",
       "                        <td id=\"T_1d2d4914_5980_11eb_a1e5_8086f2c3fd57row10_col11\" class=\"data row10 col11\" >0.31</td>\n",
       "                        <td id=\"T_1d2d4914_5980_11eb_a1e5_8086f2c3fd57row10_col12\" class=\"data row10 col12\" >0.958</td>\n",
       "                        <td id=\"T_1d2d4914_5980_11eb_a1e5_8086f2c3fd57row10_col13\" class=\"data row10 col13\" >0.953</td>\n",
       "                        <td id=\"T_1d2d4914_5980_11eb_a1e5_8086f2c3fd57row10_col14\" class=\"data row10 col14\" >0.223</td>\n",
       "                        <td id=\"T_1d2d4914_5980_11eb_a1e5_8086f2c3fd57row10_col15\" class=\"data row10 col15\" >0.428</td>\n",
       "                        <td id=\"T_1d2d4914_5980_11eb_a1e5_8086f2c3fd57row10_col16\" class=\"data row10 col16\" >0.453</td>\n",
       "                        <td id=\"T_1d2d4914_5980_11eb_a1e5_8086f2c3fd57row10_col17\" class=\"data row10 col17\" >0.596</td>\n",
       "                        <td id=\"T_1d2d4914_5980_11eb_a1e5_8086f2c3fd57row10_col18\" class=\"data row10 col18\" >0.24</td>\n",
       "                        <td id=\"T_1d2d4914_5980_11eb_a1e5_8086f2c3fd57row10_col19\" class=\"data row10 col19\" >0.348</td>\n",
       "                        <td id=\"T_1d2d4914_5980_11eb_a1e5_8086f2c3fd57row10_col20\" class=\"data row10 col20\" >0.598</td>\n",
       "                        <td id=\"T_1d2d4914_5980_11eb_a1e5_8086f2c3fd57row10_col21\" class=\"data row10 col21\" >0.284</td>\n",
       "                        <td id=\"T_1d2d4914_5980_11eb_a1e5_8086f2c3fd57row10_col22\" class=\"data row10 col22\" >0.593</td>\n",
       "                        <td id=\"T_1d2d4914_5980_11eb_a1e5_8086f2c3fd57row10_col23\" class=\"data row10 col23\" >0.596</td>\n",
       "                        <td id=\"T_1d2d4914_5980_11eb_a1e5_8086f2c3fd57row10_col24\" class=\"data row10 col24\" >0.204</td>\n",
       "                        <td id=\"T_1d2d4914_5980_11eb_a1e5_8086f2c3fd57row10_col25\" class=\"data row10 col25\" >0.34</td>\n",
       "                        <td id=\"T_1d2d4914_5980_11eb_a1e5_8086f2c3fd57row10_col26\" class=\"data row10 col26\" >0.404</td>\n",
       "                        <td id=\"T_1d2d4914_5980_11eb_a1e5_8086f2c3fd57row10_col27\" class=\"data row10 col27\" >0.509</td>\n",
       "                        <td id=\"T_1d2d4914_5980_11eb_a1e5_8086f2c3fd57row10_col28\" class=\"data row10 col28\" >0.147</td>\n",
       "                        <td id=\"T_1d2d4914_5980_11eb_a1e5_8086f2c3fd57row10_col29\" class=\"data row10 col29\" >0.111</td>\n",
       "            </tr>\n",
       "            <tr>\n",
       "                        <th id=\"T_1d2d4914_5980_11eb_a1e5_8086f2c3fd57level0_row11\" class=\"row_heading level0 row11\" >texture_se</th>\n",
       "                        <td id=\"T_1d2d4914_5980_11eb_a1e5_8086f2c3fd57row11_col0\" class=\"data row11 col0\" >-0.144</td>\n",
       "                        <td id=\"T_1d2d4914_5980_11eb_a1e5_8086f2c3fd57row11_col1\" class=\"data row11 col1\" >0.451</td>\n",
       "                        <td id=\"T_1d2d4914_5980_11eb_a1e5_8086f2c3fd57row11_col2\" class=\"data row11 col2\" >-0.138</td>\n",
       "                        <td id=\"T_1d2d4914_5980_11eb_a1e5_8086f2c3fd57row11_col3\" class=\"data row11 col3\" >-0.142</td>\n",
       "                        <td id=\"T_1d2d4914_5980_11eb_a1e5_8086f2c3fd57row11_col4\" class=\"data row11 col4\" >0.0913</td>\n",
       "                        <td id=\"T_1d2d4914_5980_11eb_a1e5_8086f2c3fd57row11_col5\" class=\"data row11 col5\" >0.0478</td>\n",
       "                        <td id=\"T_1d2d4914_5980_11eb_a1e5_8086f2c3fd57row11_col6\" class=\"data row11 col6\" >0.0513</td>\n",
       "                        <td id=\"T_1d2d4914_5980_11eb_a1e5_8086f2c3fd57row11_col7\" class=\"data row11 col7\" >0.00871</td>\n",
       "                        <td id=\"T_1d2d4914_5980_11eb_a1e5_8086f2c3fd57row11_col8\" class=\"data row11 col8\" >0.139</td>\n",
       "                        <td id=\"T_1d2d4914_5980_11eb_a1e5_8086f2c3fd57row11_col9\" class=\"data row11 col9\" >0.157</td>\n",
       "                        <td id=\"T_1d2d4914_5980_11eb_a1e5_8086f2c3fd57row11_col10\" class=\"data row11 col10\" >0.31</td>\n",
       "                        <td id=\"T_1d2d4914_5980_11eb_a1e5_8086f2c3fd57row11_col11\" class=\"data row11 col11\" >1.0</td>\n",
       "                        <td id=\"T_1d2d4914_5980_11eb_a1e5_8086f2c3fd57row11_col12\" class=\"data row11 col12\" >0.303</td>\n",
       "                        <td id=\"T_1d2d4914_5980_11eb_a1e5_8086f2c3fd57row11_col13\" class=\"data row11 col13\" >0.201</td>\n",
       "                        <td id=\"T_1d2d4914_5980_11eb_a1e5_8086f2c3fd57row11_col14\" class=\"data row11 col14\" >0.444</td>\n",
       "                        <td id=\"T_1d2d4914_5980_11eb_a1e5_8086f2c3fd57row11_col15\" class=\"data row11 col15\" >0.23</td>\n",
       "                        <td id=\"T_1d2d4914_5980_11eb_a1e5_8086f2c3fd57row11_col16\" class=\"data row11 col16\" >0.189</td>\n",
       "                        <td id=\"T_1d2d4914_5980_11eb_a1e5_8086f2c3fd57row11_col17\" class=\"data row11 col17\" >0.261</td>\n",
       "                        <td id=\"T_1d2d4914_5980_11eb_a1e5_8086f2c3fd57row11_col18\" class=\"data row11 col18\" >0.389</td>\n",
       "                        <td id=\"T_1d2d4914_5980_11eb_a1e5_8086f2c3fd57row11_col19\" class=\"data row11 col19\" >0.309</td>\n",
       "                        <td id=\"T_1d2d4914_5980_11eb_a1e5_8086f2c3fd57row11_col20\" class=\"data row11 col20\" >-0.149</td>\n",
       "                        <td id=\"T_1d2d4914_5980_11eb_a1e5_8086f2c3fd57row11_col21\" class=\"data row11 col21\" >0.497</td>\n",
       "                        <td id=\"T_1d2d4914_5980_11eb_a1e5_8086f2c3fd57row11_col22\" class=\"data row11 col22\" >-0.143</td>\n",
       "                        <td id=\"T_1d2d4914_5980_11eb_a1e5_8086f2c3fd57row11_col23\" class=\"data row11 col23\" >-0.148</td>\n",
       "                        <td id=\"T_1d2d4914_5980_11eb_a1e5_8086f2c3fd57row11_col24\" class=\"data row11 col24\" >-0.0231</td>\n",
       "                        <td id=\"T_1d2d4914_5980_11eb_a1e5_8086f2c3fd57row11_col25\" class=\"data row11 col25\" >-0.0901</td>\n",
       "                        <td id=\"T_1d2d4914_5980_11eb_a1e5_8086f2c3fd57row11_col26\" class=\"data row11 col26\" >-0.0706</td>\n",
       "                        <td id=\"T_1d2d4914_5980_11eb_a1e5_8086f2c3fd57row11_col27\" class=\"data row11 col27\" >-0.097</td>\n",
       "                        <td id=\"T_1d2d4914_5980_11eb_a1e5_8086f2c3fd57row11_col28\" class=\"data row11 col28\" >-0.12</td>\n",
       "                        <td id=\"T_1d2d4914_5980_11eb_a1e5_8086f2c3fd57row11_col29\" class=\"data row11 col29\" >-0.0481</td>\n",
       "            </tr>\n",
       "            <tr>\n",
       "                        <th id=\"T_1d2d4914_5980_11eb_a1e5_8086f2c3fd57level0_row12\" class=\"row_heading level0 row12\" >perimeter_se</th>\n",
       "                        <td id=\"T_1d2d4914_5980_11eb_a1e5_8086f2c3fd57row12_col0\" class=\"data row12 col0\" >0.566</td>\n",
       "                        <td id=\"T_1d2d4914_5980_11eb_a1e5_8086f2c3fd57row12_col1\" class=\"data row12 col1\" >0.387</td>\n",
       "                        <td id=\"T_1d2d4914_5980_11eb_a1e5_8086f2c3fd57row12_col2\" class=\"data row12 col2\" >0.583</td>\n",
       "                        <td id=\"T_1d2d4914_5980_11eb_a1e5_8086f2c3fd57row12_col3\" class=\"data row12 col3\" >0.568</td>\n",
       "                        <td id=\"T_1d2d4914_5980_11eb_a1e5_8086f2c3fd57row12_col4\" class=\"data row12 col4\" >0.331</td>\n",
       "                        <td id=\"T_1d2d4914_5980_11eb_a1e5_8086f2c3fd57row12_col5\" class=\"data row12 col5\" >0.584</td>\n",
       "                        <td id=\"T_1d2d4914_5980_11eb_a1e5_8086f2c3fd57row12_col6\" class=\"data row12 col6\" >0.646</td>\n",
       "                        <td id=\"T_1d2d4914_5980_11eb_a1e5_8086f2c3fd57row12_col7\" class=\"data row12 col7\" >0.68</td>\n",
       "                        <td id=\"T_1d2d4914_5980_11eb_a1e5_8086f2c3fd57row12_col8\" class=\"data row12 col8\" >0.355</td>\n",
       "                        <td id=\"T_1d2d4914_5980_11eb_a1e5_8086f2c3fd57row12_col9\" class=\"data row12 col9\" >0.0553</td>\n",
       "                        <td id=\"T_1d2d4914_5980_11eb_a1e5_8086f2c3fd57row12_col10\" class=\"data row12 col10\" >0.958</td>\n",
       "                        <td id=\"T_1d2d4914_5980_11eb_a1e5_8086f2c3fd57row12_col11\" class=\"data row12 col11\" >0.303</td>\n",
       "                        <td id=\"T_1d2d4914_5980_11eb_a1e5_8086f2c3fd57row12_col12\" class=\"data row12 col12\" >1.0</td>\n",
       "                        <td id=\"T_1d2d4914_5980_11eb_a1e5_8086f2c3fd57row12_col13\" class=\"data row12 col13\" >0.927</td>\n",
       "                        <td id=\"T_1d2d4914_5980_11eb_a1e5_8086f2c3fd57row12_col14\" class=\"data row12 col14\" >0.209</td>\n",
       "                        <td id=\"T_1d2d4914_5980_11eb_a1e5_8086f2c3fd57row12_col15\" class=\"data row12 col15\" >0.532</td>\n",
       "                        <td id=\"T_1d2d4914_5980_11eb_a1e5_8086f2c3fd57row12_col16\" class=\"data row12 col16\" >0.548</td>\n",
       "                        <td id=\"T_1d2d4914_5980_11eb_a1e5_8086f2c3fd57row12_col17\" class=\"data row12 col17\" >0.67</td>\n",
       "                        <td id=\"T_1d2d4914_5980_11eb_a1e5_8086f2c3fd57row12_col18\" class=\"data row12 col18\" >0.239</td>\n",
       "                        <td id=\"T_1d2d4914_5980_11eb_a1e5_8086f2c3fd57row12_col19\" class=\"data row12 col19\" >0.42</td>\n",
       "                        <td id=\"T_1d2d4914_5980_11eb_a1e5_8086f2c3fd57row12_col20\" class=\"data row12 col20\" >0.607</td>\n",
       "                        <td id=\"T_1d2d4914_5980_11eb_a1e5_8086f2c3fd57row12_col21\" class=\"data row12 col21\" >0.303</td>\n",
       "                        <td id=\"T_1d2d4914_5980_11eb_a1e5_8086f2c3fd57row12_col22\" class=\"data row12 col22\" >0.627</td>\n",
       "                        <td id=\"T_1d2d4914_5980_11eb_a1e5_8086f2c3fd57row12_col23\" class=\"data row12 col23\" >0.605</td>\n",
       "                        <td id=\"T_1d2d4914_5980_11eb_a1e5_8086f2c3fd57row12_col24\" class=\"data row12 col24\" >0.198</td>\n",
       "                        <td id=\"T_1d2d4914_5980_11eb_a1e5_8086f2c3fd57row12_col25\" class=\"data row12 col25\" >0.438</td>\n",
       "                        <td id=\"T_1d2d4914_5980_11eb_a1e5_8086f2c3fd57row12_col26\" class=\"data row12 col26\" >0.49</td>\n",
       "                        <td id=\"T_1d2d4914_5980_11eb_a1e5_8086f2c3fd57row12_col27\" class=\"data row12 col27\" >0.569</td>\n",
       "                        <td id=\"T_1d2d4914_5980_11eb_a1e5_8086f2c3fd57row12_col28\" class=\"data row12 col28\" >0.167</td>\n",
       "                        <td id=\"T_1d2d4914_5980_11eb_a1e5_8086f2c3fd57row12_col29\" class=\"data row12 col29\" >0.186</td>\n",
       "            </tr>\n",
       "            <tr>\n",
       "                        <th id=\"T_1d2d4914_5980_11eb_a1e5_8086f2c3fd57level0_row13\" class=\"row_heading level0 row13\" >area_se</th>\n",
       "                        <td id=\"T_1d2d4914_5980_11eb_a1e5_8086f2c3fd57row13_col0\" class=\"data row13 col0\" >0.738</td>\n",
       "                        <td id=\"T_1d2d4914_5980_11eb_a1e5_8086f2c3fd57row13_col1\" class=\"data row13 col1\" >0.395</td>\n",
       "                        <td id=\"T_1d2d4914_5980_11eb_a1e5_8086f2c3fd57row13_col2\" class=\"data row13 col2\" >0.746</td>\n",
       "                        <td id=\"T_1d2d4914_5980_11eb_a1e5_8086f2c3fd57row13_col3\" class=\"data row13 col3\" >0.742</td>\n",
       "                        <td id=\"T_1d2d4914_5980_11eb_a1e5_8086f2c3fd57row13_col4\" class=\"data row13 col4\" >0.296</td>\n",
       "                        <td id=\"T_1d2d4914_5980_11eb_a1e5_8086f2c3fd57row13_col5\" class=\"data row13 col5\" >0.54</td>\n",
       "                        <td id=\"T_1d2d4914_5980_11eb_a1e5_8086f2c3fd57row13_col6\" class=\"data row13 col6\" >0.644</td>\n",
       "                        <td id=\"T_1d2d4914_5980_11eb_a1e5_8086f2c3fd57row13_col7\" class=\"data row13 col7\" >0.727</td>\n",
       "                        <td id=\"T_1d2d4914_5980_11eb_a1e5_8086f2c3fd57row13_col8\" class=\"data row13 col8\" >0.288</td>\n",
       "                        <td id=\"T_1d2d4914_5980_11eb_a1e5_8086f2c3fd57row13_col9\" class=\"data row13 col9\" >-0.12</td>\n",
       "                        <td id=\"T_1d2d4914_5980_11eb_a1e5_8086f2c3fd57row13_col10\" class=\"data row13 col10\" >0.953</td>\n",
       "                        <td id=\"T_1d2d4914_5980_11eb_a1e5_8086f2c3fd57row13_col11\" class=\"data row13 col11\" >0.201</td>\n",
       "                        <td id=\"T_1d2d4914_5980_11eb_a1e5_8086f2c3fd57row13_col12\" class=\"data row13 col12\" >0.927</td>\n",
       "                        <td id=\"T_1d2d4914_5980_11eb_a1e5_8086f2c3fd57row13_col13\" class=\"data row13 col13\" >1.0</td>\n",
       "                        <td id=\"T_1d2d4914_5980_11eb_a1e5_8086f2c3fd57row13_col14\" class=\"data row13 col14\" >0.067</td>\n",
       "                        <td id=\"T_1d2d4914_5980_11eb_a1e5_8086f2c3fd57row13_col15\" class=\"data row13 col15\" >0.41</td>\n",
       "                        <td id=\"T_1d2d4914_5980_11eb_a1e5_8086f2c3fd57row13_col16\" class=\"data row13 col16\" >0.461</td>\n",
       "                        <td id=\"T_1d2d4914_5980_11eb_a1e5_8086f2c3fd57row13_col17\" class=\"data row13 col17\" >0.589</td>\n",
       "                        <td id=\"T_1d2d4914_5980_11eb_a1e5_8086f2c3fd57row13_col18\" class=\"data row13 col18\" >0.0935</td>\n",
       "                        <td id=\"T_1d2d4914_5980_11eb_a1e5_8086f2c3fd57row13_col19\" class=\"data row13 col19\" >0.259</td>\n",
       "                        <td id=\"T_1d2d4914_5980_11eb_a1e5_8086f2c3fd57row13_col20\" class=\"data row13 col20\" >0.774</td>\n",
       "                        <td id=\"T_1d2d4914_5980_11eb_a1e5_8086f2c3fd57row13_col21\" class=\"data row13 col21\" >0.328</td>\n",
       "                        <td id=\"T_1d2d4914_5980_11eb_a1e5_8086f2c3fd57row13_col22\" class=\"data row13 col22\" >0.768</td>\n",
       "                        <td id=\"T_1d2d4914_5980_11eb_a1e5_8086f2c3fd57row13_col23\" class=\"data row13 col23\" >0.776</td>\n",
       "                        <td id=\"T_1d2d4914_5980_11eb_a1e5_8086f2c3fd57row13_col24\" class=\"data row13 col24\" >0.189</td>\n",
       "                        <td id=\"T_1d2d4914_5980_11eb_a1e5_8086f2c3fd57row13_col25\" class=\"data row13 col25\" >0.414</td>\n",
       "                        <td id=\"T_1d2d4914_5980_11eb_a1e5_8086f2c3fd57row13_col26\" class=\"data row13 col26\" >0.5</td>\n",
       "                        <td id=\"T_1d2d4914_5980_11eb_a1e5_8086f2c3fd57row13_col27\" class=\"data row13 col27\" >0.62</td>\n",
       "                        <td id=\"T_1d2d4914_5980_11eb_a1e5_8086f2c3fd57row13_col28\" class=\"data row13 col28\" >0.154</td>\n",
       "                        <td id=\"T_1d2d4914_5980_11eb_a1e5_8086f2c3fd57row13_col29\" class=\"data row13 col29\" >0.0917</td>\n",
       "            </tr>\n",
       "            <tr>\n",
       "                        <th id=\"T_1d2d4914_5980_11eb_a1e5_8086f2c3fd57level0_row14\" class=\"row_heading level0 row14\" >smoothness_se</th>\n",
       "                        <td id=\"T_1d2d4914_5980_11eb_a1e5_8086f2c3fd57row14_col0\" class=\"data row14 col0\" >-0.326</td>\n",
       "                        <td id=\"T_1d2d4914_5980_11eb_a1e5_8086f2c3fd57row14_col1\" class=\"data row14 col1\" >0.037</td>\n",
       "                        <td id=\"T_1d2d4914_5980_11eb_a1e5_8086f2c3fd57row14_col2\" class=\"data row14 col2\" >-0.311</td>\n",
       "                        <td id=\"T_1d2d4914_5980_11eb_a1e5_8086f2c3fd57row14_col3\" class=\"data row14 col3\" >-0.327</td>\n",
       "                        <td id=\"T_1d2d4914_5980_11eb_a1e5_8086f2c3fd57row14_col4\" class=\"data row14 col4\" >0.339</td>\n",
       "                        <td id=\"T_1d2d4914_5980_11eb_a1e5_8086f2c3fd57row14_col5\" class=\"data row14 col5\" >0.127</td>\n",
       "                        <td id=\"T_1d2d4914_5980_11eb_a1e5_8086f2c3fd57row14_col6\" class=\"data row14 col6\" >0.0703</td>\n",
       "                        <td id=\"T_1d2d4914_5980_11eb_a1e5_8086f2c3fd57row14_col7\" class=\"data row14 col7\" >0.0168</td>\n",
       "                        <td id=\"T_1d2d4914_5980_11eb_a1e5_8086f2c3fd57row14_col8\" class=\"data row14 col8\" >0.206</td>\n",
       "                        <td id=\"T_1d2d4914_5980_11eb_a1e5_8086f2c3fd57row14_col9\" class=\"data row14 col9\" >0.402</td>\n",
       "                        <td id=\"T_1d2d4914_5980_11eb_a1e5_8086f2c3fd57row14_col10\" class=\"data row14 col10\" >0.223</td>\n",
       "                        <td id=\"T_1d2d4914_5980_11eb_a1e5_8086f2c3fd57row14_col11\" class=\"data row14 col11\" >0.444</td>\n",
       "                        <td id=\"T_1d2d4914_5980_11eb_a1e5_8086f2c3fd57row14_col12\" class=\"data row14 col12\" >0.209</td>\n",
       "                        <td id=\"T_1d2d4914_5980_11eb_a1e5_8086f2c3fd57row14_col13\" class=\"data row14 col13\" >0.067</td>\n",
       "                        <td id=\"T_1d2d4914_5980_11eb_a1e5_8086f2c3fd57row14_col14\" class=\"data row14 col14\" >1.0</td>\n",
       "                        <td id=\"T_1d2d4914_5980_11eb_a1e5_8086f2c3fd57row14_col15\" class=\"data row14 col15\" >0.285</td>\n",
       "                        <td id=\"T_1d2d4914_5980_11eb_a1e5_8086f2c3fd57row14_col16\" class=\"data row14 col16\" >0.237</td>\n",
       "                        <td id=\"T_1d2d4914_5980_11eb_a1e5_8086f2c3fd57row14_col17\" class=\"data row14 col17\" >0.345</td>\n",
       "                        <td id=\"T_1d2d4914_5980_11eb_a1e5_8086f2c3fd57row14_col18\" class=\"data row14 col18\" >0.474</td>\n",
       "                        <td id=\"T_1d2d4914_5980_11eb_a1e5_8086f2c3fd57row14_col19\" class=\"data row14 col19\" >0.46</td>\n",
       "                        <td id=\"T_1d2d4914_5980_11eb_a1e5_8086f2c3fd57row14_col20\" class=\"data row14 col20\" >-0.321</td>\n",
       "                        <td id=\"T_1d2d4914_5980_11eb_a1e5_8086f2c3fd57row14_col21\" class=\"data row14 col21\" >-0.0363</td>\n",
       "                        <td id=\"T_1d2d4914_5980_11eb_a1e5_8086f2c3fd57row14_col22\" class=\"data row14 col22\" >-0.309</td>\n",
       "                        <td id=\"T_1d2d4914_5980_11eb_a1e5_8086f2c3fd57row14_col23\" class=\"data row14 col23\" >-0.324</td>\n",
       "                        <td id=\"T_1d2d4914_5980_11eb_a1e5_8086f2c3fd57row14_col24\" class=\"data row14 col24\" >0.372</td>\n",
       "                        <td id=\"T_1d2d4914_5980_11eb_a1e5_8086f2c3fd57row14_col25\" class=\"data row14 col25\" >-0.0492</td>\n",
       "                        <td id=\"T_1d2d4914_5980_11eb_a1e5_8086f2c3fd57row14_col26\" class=\"data row14 col26\" >-0.0638</td>\n",
       "                        <td id=\"T_1d2d4914_5980_11eb_a1e5_8086f2c3fd57row14_col27\" class=\"data row14 col27\" >-0.0765</td>\n",
       "                        <td id=\"T_1d2d4914_5980_11eb_a1e5_8086f2c3fd57row14_col28\" class=\"data row14 col28\" >-0.0671</td>\n",
       "                        <td id=\"T_1d2d4914_5980_11eb_a1e5_8086f2c3fd57row14_col29\" class=\"data row14 col29\" >0.13</td>\n",
       "            </tr>\n",
       "            <tr>\n",
       "                        <th id=\"T_1d2d4914_5980_11eb_a1e5_8086f2c3fd57level0_row15\" class=\"row_heading level0 row15\" >compactness_se</th>\n",
       "                        <td id=\"T_1d2d4914_5980_11eb_a1e5_8086f2c3fd57row15_col0\" class=\"data row15 col0\" >0.265</td>\n",
       "                        <td id=\"T_1d2d4914_5980_11eb_a1e5_8086f2c3fd57row15_col1\" class=\"data row15 col1\" >0.264</td>\n",
       "                        <td id=\"T_1d2d4914_5980_11eb_a1e5_8086f2c3fd57row15_col2\" class=\"data row15 col2\" >0.309</td>\n",
       "                        <td id=\"T_1d2d4914_5980_11eb_a1e5_8086f2c3fd57row15_col3\" class=\"data row15 col3\" >0.26</td>\n",
       "                        <td id=\"T_1d2d4914_5980_11eb_a1e5_8086f2c3fd57row15_col4\" class=\"data row15 col4\" >0.392</td>\n",
       "                        <td id=\"T_1d2d4914_5980_11eb_a1e5_8086f2c3fd57row15_col5\" class=\"data row15 col5\" >0.818</td>\n",
       "                        <td id=\"T_1d2d4914_5980_11eb_a1e5_8086f2c3fd57row15_col6\" class=\"data row15 col6\" >0.761</td>\n",
       "                        <td id=\"T_1d2d4914_5980_11eb_a1e5_8086f2c3fd57row15_col7\" class=\"data row15 col7\" >0.608</td>\n",
       "                        <td id=\"T_1d2d4914_5980_11eb_a1e5_8086f2c3fd57row15_col8\" class=\"data row15 col8\" >0.436</td>\n",
       "                        <td id=\"T_1d2d4914_5980_11eb_a1e5_8086f2c3fd57row15_col9\" class=\"data row15 col9\" >0.481</td>\n",
       "                        <td id=\"T_1d2d4914_5980_11eb_a1e5_8086f2c3fd57row15_col10\" class=\"data row15 col10\" >0.428</td>\n",
       "                        <td id=\"T_1d2d4914_5980_11eb_a1e5_8086f2c3fd57row15_col11\" class=\"data row15 col11\" >0.23</td>\n",
       "                        <td id=\"T_1d2d4914_5980_11eb_a1e5_8086f2c3fd57row15_col12\" class=\"data row15 col12\" >0.532</td>\n",
       "                        <td id=\"T_1d2d4914_5980_11eb_a1e5_8086f2c3fd57row15_col13\" class=\"data row15 col13\" >0.41</td>\n",
       "                        <td id=\"T_1d2d4914_5980_11eb_a1e5_8086f2c3fd57row15_col14\" class=\"data row15 col14\" >0.285</td>\n",
       "                        <td id=\"T_1d2d4914_5980_11eb_a1e5_8086f2c3fd57row15_col15\" class=\"data row15 col15\" >1.0</td>\n",
       "                        <td id=\"T_1d2d4914_5980_11eb_a1e5_8086f2c3fd57row15_col16\" class=\"data row15 col16\" >0.881</td>\n",
       "                        <td id=\"T_1d2d4914_5980_11eb_a1e5_8086f2c3fd57row15_col17\" class=\"data row15 col17\" >0.764</td>\n",
       "                        <td id=\"T_1d2d4914_5980_11eb_a1e5_8086f2c3fd57row15_col18\" class=\"data row15 col18\" >0.273</td>\n",
       "                        <td id=\"T_1d2d4914_5980_11eb_a1e5_8086f2c3fd57row15_col19\" class=\"data row15 col19\" >0.781</td>\n",
       "                        <td id=\"T_1d2d4914_5980_11eb_a1e5_8086f2c3fd57row15_col20\" class=\"data row15 col20\" >0.285</td>\n",
       "                        <td id=\"T_1d2d4914_5980_11eb_a1e5_8086f2c3fd57row15_col21\" class=\"data row15 col21\" >0.21</td>\n",
       "                        <td id=\"T_1d2d4914_5980_11eb_a1e5_8086f2c3fd57row15_col22\" class=\"data row15 col22\" >0.345</td>\n",
       "                        <td id=\"T_1d2d4914_5980_11eb_a1e5_8086f2c3fd57row15_col23\" class=\"data row15 col23\" >0.279</td>\n",
       "                        <td id=\"T_1d2d4914_5980_11eb_a1e5_8086f2c3fd57row15_col24\" class=\"data row15 col24\" >0.321</td>\n",
       "                        <td id=\"T_1d2d4914_5980_11eb_a1e5_8086f2c3fd57row15_col25\" class=\"data row15 col25\" >0.789</td>\n",
       "                        <td id=\"T_1d2d4914_5980_11eb_a1e5_8086f2c3fd57row15_col26\" class=\"data row15 col26\" >0.701</td>\n",
       "                        <td id=\"T_1d2d4914_5980_11eb_a1e5_8086f2c3fd57row15_col27\" class=\"data row15 col27\" >0.587</td>\n",
       "                        <td id=\"T_1d2d4914_5980_11eb_a1e5_8086f2c3fd57row15_col28\" class=\"data row15 col28\" >0.266</td>\n",
       "                        <td id=\"T_1d2d4914_5980_11eb_a1e5_8086f2c3fd57row15_col29\" class=\"data row15 col29\" >0.605</td>\n",
       "            </tr>\n",
       "            <tr>\n",
       "                        <th id=\"T_1d2d4914_5980_11eb_a1e5_8086f2c3fd57level0_row16\" class=\"row_heading level0 row16\" >concavity_se</th>\n",
       "                        <td id=\"T_1d2d4914_5980_11eb_a1e5_8086f2c3fd57row16_col0\" class=\"data row16 col0\" >0.365</td>\n",
       "                        <td id=\"T_1d2d4914_5980_11eb_a1e5_8086f2c3fd57row16_col1\" class=\"data row16 col1\" >0.287</td>\n",
       "                        <td id=\"T_1d2d4914_5980_11eb_a1e5_8086f2c3fd57row16_col2\" class=\"data row16 col2\" >0.402</td>\n",
       "                        <td id=\"T_1d2d4914_5980_11eb_a1e5_8086f2c3fd57row16_col3\" class=\"data row16 col3\" >0.362</td>\n",
       "                        <td id=\"T_1d2d4914_5980_11eb_a1e5_8086f2c3fd57row16_col4\" class=\"data row16 col4\" >0.355</td>\n",
       "                        <td id=\"T_1d2d4914_5980_11eb_a1e5_8086f2c3fd57row16_col5\" class=\"data row16 col5\" >0.772</td>\n",
       "                        <td id=\"T_1d2d4914_5980_11eb_a1e5_8086f2c3fd57row16_col6\" class=\"data row16 col6\" >0.858</td>\n",
       "                        <td id=\"T_1d2d4914_5980_11eb_a1e5_8086f2c3fd57row16_col7\" class=\"data row16 col7\" >0.675</td>\n",
       "                        <td id=\"T_1d2d4914_5980_11eb_a1e5_8086f2c3fd57row16_col8\" class=\"data row16 col8\" >0.368</td>\n",
       "                        <td id=\"T_1d2d4914_5980_11eb_a1e5_8086f2c3fd57row16_col9\" class=\"data row16 col9\" >0.344</td>\n",
       "                        <td id=\"T_1d2d4914_5980_11eb_a1e5_8086f2c3fd57row16_col10\" class=\"data row16 col10\" >0.453</td>\n",
       "                        <td id=\"T_1d2d4914_5980_11eb_a1e5_8086f2c3fd57row16_col11\" class=\"data row16 col11\" >0.189</td>\n",
       "                        <td id=\"T_1d2d4914_5980_11eb_a1e5_8086f2c3fd57row16_col12\" class=\"data row16 col12\" >0.548</td>\n",
       "                        <td id=\"T_1d2d4914_5980_11eb_a1e5_8086f2c3fd57row16_col13\" class=\"data row16 col13\" >0.461</td>\n",
       "                        <td id=\"T_1d2d4914_5980_11eb_a1e5_8086f2c3fd57row16_col14\" class=\"data row16 col14\" >0.237</td>\n",
       "                        <td id=\"T_1d2d4914_5980_11eb_a1e5_8086f2c3fd57row16_col15\" class=\"data row16 col15\" >0.881</td>\n",
       "                        <td id=\"T_1d2d4914_5980_11eb_a1e5_8086f2c3fd57row16_col16\" class=\"data row16 col16\" >1.0</td>\n",
       "                        <td id=\"T_1d2d4914_5980_11eb_a1e5_8086f2c3fd57row16_col17\" class=\"data row16 col17\" >0.805</td>\n",
       "                        <td id=\"T_1d2d4914_5980_11eb_a1e5_8086f2c3fd57row16_col18\" class=\"data row16 col18\" >0.192</td>\n",
       "                        <td id=\"T_1d2d4914_5980_11eb_a1e5_8086f2c3fd57row16_col19\" class=\"data row16 col19\" >0.668</td>\n",
       "                        <td id=\"T_1d2d4914_5980_11eb_a1e5_8086f2c3fd57row16_col20\" class=\"data row16 col20\" >0.382</td>\n",
       "                        <td id=\"T_1d2d4914_5980_11eb_a1e5_8086f2c3fd57row16_col21\" class=\"data row16 col21\" >0.236</td>\n",
       "                        <td id=\"T_1d2d4914_5980_11eb_a1e5_8086f2c3fd57row16_col22\" class=\"data row16 col22\" >0.433</td>\n",
       "                        <td id=\"T_1d2d4914_5980_11eb_a1e5_8086f2c3fd57row16_col23\" class=\"data row16 col23\" >0.378</td>\n",
       "                        <td id=\"T_1d2d4914_5980_11eb_a1e5_8086f2c3fd57row16_col24\" class=\"data row16 col24\" >0.305</td>\n",
       "                        <td id=\"T_1d2d4914_5980_11eb_a1e5_8086f2c3fd57row16_col25\" class=\"data row16 col25\" >0.732</td>\n",
       "                        <td id=\"T_1d2d4914_5980_11eb_a1e5_8086f2c3fd57row16_col26\" class=\"data row16 col26\" >0.811</td>\n",
       "                        <td id=\"T_1d2d4914_5980_11eb_a1e5_8086f2c3fd57row16_col27\" class=\"data row16 col27\" >0.657</td>\n",
       "                        <td id=\"T_1d2d4914_5980_11eb_a1e5_8086f2c3fd57row16_col28\" class=\"data row16 col28\" >0.231</td>\n",
       "                        <td id=\"T_1d2d4914_5980_11eb_a1e5_8086f2c3fd57row16_col29\" class=\"data row16 col29\" >0.506</td>\n",
       "            </tr>\n",
       "            <tr>\n",
       "                        <th id=\"T_1d2d4914_5980_11eb_a1e5_8086f2c3fd57level0_row17\" class=\"row_heading level0 row17\" >concave points_se</th>\n",
       "                        <td id=\"T_1d2d4914_5980_11eb_a1e5_8086f2c3fd57row17_col0\" class=\"data row17 col0\" >0.411</td>\n",
       "                        <td id=\"T_1d2d4914_5980_11eb_a1e5_8086f2c3fd57row17_col1\" class=\"data row17 col1\" >0.239</td>\n",
       "                        <td id=\"T_1d2d4914_5980_11eb_a1e5_8086f2c3fd57row17_col2\" class=\"data row17 col2\" >0.442</td>\n",
       "                        <td id=\"T_1d2d4914_5980_11eb_a1e5_8086f2c3fd57row17_col3\" class=\"data row17 col3\" >0.406</td>\n",
       "                        <td id=\"T_1d2d4914_5980_11eb_a1e5_8086f2c3fd57row17_col4\" class=\"data row17 col4\" >0.439</td>\n",
       "                        <td id=\"T_1d2d4914_5980_11eb_a1e5_8086f2c3fd57row17_col5\" class=\"data row17 col5\" >0.732</td>\n",
       "                        <td id=\"T_1d2d4914_5980_11eb_a1e5_8086f2c3fd57row17_col6\" class=\"data row17 col6\" >0.775</td>\n",
       "                        <td id=\"T_1d2d4914_5980_11eb_a1e5_8086f2c3fd57row17_col7\" class=\"data row17 col7\" >0.758</td>\n",
       "                        <td id=\"T_1d2d4914_5980_11eb_a1e5_8086f2c3fd57row17_col8\" class=\"data row17 col8\" >0.383</td>\n",
       "                        <td id=\"T_1d2d4914_5980_11eb_a1e5_8086f2c3fd57row17_col9\" class=\"data row17 col9\" >0.286</td>\n",
       "                        <td id=\"T_1d2d4914_5980_11eb_a1e5_8086f2c3fd57row17_col10\" class=\"data row17 col10\" >0.596</td>\n",
       "                        <td id=\"T_1d2d4914_5980_11eb_a1e5_8086f2c3fd57row17_col11\" class=\"data row17 col11\" >0.261</td>\n",
       "                        <td id=\"T_1d2d4914_5980_11eb_a1e5_8086f2c3fd57row17_col12\" class=\"data row17 col12\" >0.67</td>\n",
       "                        <td id=\"T_1d2d4914_5980_11eb_a1e5_8086f2c3fd57row17_col13\" class=\"data row17 col13\" >0.589</td>\n",
       "                        <td id=\"T_1d2d4914_5980_11eb_a1e5_8086f2c3fd57row17_col14\" class=\"data row17 col14\" >0.345</td>\n",
       "                        <td id=\"T_1d2d4914_5980_11eb_a1e5_8086f2c3fd57row17_col15\" class=\"data row17 col15\" >0.764</td>\n",
       "                        <td id=\"T_1d2d4914_5980_11eb_a1e5_8086f2c3fd57row17_col16\" class=\"data row17 col16\" >0.805</td>\n",
       "                        <td id=\"T_1d2d4914_5980_11eb_a1e5_8086f2c3fd57row17_col17\" class=\"data row17 col17\" >1.0</td>\n",
       "                        <td id=\"T_1d2d4914_5980_11eb_a1e5_8086f2c3fd57row17_col18\" class=\"data row17 col18\" >0.262</td>\n",
       "                        <td id=\"T_1d2d4914_5980_11eb_a1e5_8086f2c3fd57row17_col19\" class=\"data row17 col19\" >0.611</td>\n",
       "                        <td id=\"T_1d2d4914_5980_11eb_a1e5_8086f2c3fd57row17_col20\" class=\"data row17 col20\" >0.41</td>\n",
       "                        <td id=\"T_1d2d4914_5980_11eb_a1e5_8086f2c3fd57row17_col21\" class=\"data row17 col21\" >0.157</td>\n",
       "                        <td id=\"T_1d2d4914_5980_11eb_a1e5_8086f2c3fd57row17_col22\" class=\"data row17 col22\" >0.448</td>\n",
       "                        <td id=\"T_1d2d4914_5980_11eb_a1e5_8086f2c3fd57row17_col23\" class=\"data row17 col23\" >0.404</td>\n",
       "                        <td id=\"T_1d2d4914_5980_11eb_a1e5_8086f2c3fd57row17_col24\" class=\"data row17 col24\" >0.295</td>\n",
       "                        <td id=\"T_1d2d4914_5980_11eb_a1e5_8086f2c3fd57row17_col25\" class=\"data row17 col25\" >0.586</td>\n",
       "                        <td id=\"T_1d2d4914_5980_11eb_a1e5_8086f2c3fd57row17_col26\" class=\"data row17 col26\" >0.625</td>\n",
       "                        <td id=\"T_1d2d4914_5980_11eb_a1e5_8086f2c3fd57row17_col27\" class=\"data row17 col27\" >0.692</td>\n",
       "                        <td id=\"T_1d2d4914_5980_11eb_a1e5_8086f2c3fd57row17_col28\" class=\"data row17 col28\" >0.133</td>\n",
       "                        <td id=\"T_1d2d4914_5980_11eb_a1e5_8086f2c3fd57row17_col29\" class=\"data row17 col29\" >0.357</td>\n",
       "            </tr>\n",
       "            <tr>\n",
       "                        <th id=\"T_1d2d4914_5980_11eb_a1e5_8086f2c3fd57level0_row18\" class=\"row_heading level0 row18\" >symmetry_se</th>\n",
       "                        <td id=\"T_1d2d4914_5980_11eb_a1e5_8086f2c3fd57row18_col0\" class=\"data row18 col0\" >-0.241</td>\n",
       "                        <td id=\"T_1d2d4914_5980_11eb_a1e5_8086f2c3fd57row18_col1\" class=\"data row18 col1\" >0.00895</td>\n",
       "                        <td id=\"T_1d2d4914_5980_11eb_a1e5_8086f2c3fd57row18_col2\" class=\"data row18 col2\" >-0.228</td>\n",
       "                        <td id=\"T_1d2d4914_5980_11eb_a1e5_8086f2c3fd57row18_col3\" class=\"data row18 col3\" >-0.244</td>\n",
       "                        <td id=\"T_1d2d4914_5980_11eb_a1e5_8086f2c3fd57row18_col4\" class=\"data row18 col4\" >0.151</td>\n",
       "                        <td id=\"T_1d2d4914_5980_11eb_a1e5_8086f2c3fd57row18_col5\" class=\"data row18 col5\" >0.0984</td>\n",
       "                        <td id=\"T_1d2d4914_5980_11eb_a1e5_8086f2c3fd57row18_col6\" class=\"data row18 col6\" >0.0228</td>\n",
       "                        <td id=\"T_1d2d4914_5980_11eb_a1e5_8086f2c3fd57row18_col7\" class=\"data row18 col7\" >-0.0284</td>\n",
       "                        <td id=\"T_1d2d4914_5980_11eb_a1e5_8086f2c3fd57row18_col8\" class=\"data row18 col8\" >0.384</td>\n",
       "                        <td id=\"T_1d2d4914_5980_11eb_a1e5_8086f2c3fd57row18_col9\" class=\"data row18 col9\" >0.314</td>\n",
       "                        <td id=\"T_1d2d4914_5980_11eb_a1e5_8086f2c3fd57row18_col10\" class=\"data row18 col10\" >0.24</td>\n",
       "                        <td id=\"T_1d2d4914_5980_11eb_a1e5_8086f2c3fd57row18_col11\" class=\"data row18 col11\" >0.389</td>\n",
       "                        <td id=\"T_1d2d4914_5980_11eb_a1e5_8086f2c3fd57row18_col12\" class=\"data row18 col12\" >0.239</td>\n",
       "                        <td id=\"T_1d2d4914_5980_11eb_a1e5_8086f2c3fd57row18_col13\" class=\"data row18 col13\" >0.0935</td>\n",
       "                        <td id=\"T_1d2d4914_5980_11eb_a1e5_8086f2c3fd57row18_col14\" class=\"data row18 col14\" >0.474</td>\n",
       "                        <td id=\"T_1d2d4914_5980_11eb_a1e5_8086f2c3fd57row18_col15\" class=\"data row18 col15\" >0.273</td>\n",
       "                        <td id=\"T_1d2d4914_5980_11eb_a1e5_8086f2c3fd57row18_col16\" class=\"data row18 col16\" >0.192</td>\n",
       "                        <td id=\"T_1d2d4914_5980_11eb_a1e5_8086f2c3fd57row18_col17\" class=\"data row18 col17\" >0.262</td>\n",
       "                        <td id=\"T_1d2d4914_5980_11eb_a1e5_8086f2c3fd57row18_col18\" class=\"data row18 col18\" >1.0</td>\n",
       "                        <td id=\"T_1d2d4914_5980_11eb_a1e5_8086f2c3fd57row18_col19\" class=\"data row18 col19\" >0.381</td>\n",
       "                        <td id=\"T_1d2d4914_5980_11eb_a1e5_8086f2c3fd57row18_col20\" class=\"data row18 col20\" >-0.261</td>\n",
       "                        <td id=\"T_1d2d4914_5980_11eb_a1e5_8086f2c3fd57row18_col21\" class=\"data row18 col21\" >-0.105</td>\n",
       "                        <td id=\"T_1d2d4914_5980_11eb_a1e5_8086f2c3fd57row18_col22\" class=\"data row18 col22\" >-0.247</td>\n",
       "                        <td id=\"T_1d2d4914_5980_11eb_a1e5_8086f2c3fd57row18_col23\" class=\"data row18 col23\" >-0.267</td>\n",
       "                        <td id=\"T_1d2d4914_5980_11eb_a1e5_8086f2c3fd57row18_col24\" class=\"data row18 col24\" >-0.0429</td>\n",
       "                        <td id=\"T_1d2d4914_5980_11eb_a1e5_8086f2c3fd57row18_col25\" class=\"data row18 col25\" >-0.0821</td>\n",
       "                        <td id=\"T_1d2d4914_5980_11eb_a1e5_8086f2c3fd57row18_col26\" class=\"data row18 col26\" >-0.118</td>\n",
       "                        <td id=\"T_1d2d4914_5980_11eb_a1e5_8086f2c3fd57row18_col27\" class=\"data row18 col27\" >-0.141</td>\n",
       "                        <td id=\"T_1d2d4914_5980_11eb_a1e5_8086f2c3fd57row18_col28\" class=\"data row18 col28\" >0.283</td>\n",
       "                        <td id=\"T_1d2d4914_5980_11eb_a1e5_8086f2c3fd57row18_col29\" class=\"data row18 col29\" >0.0111</td>\n",
       "            </tr>\n",
       "            <tr>\n",
       "                        <th id=\"T_1d2d4914_5980_11eb_a1e5_8086f2c3fd57level0_row19\" class=\"row_heading level0 row19\" >fractal_dimension_se</th>\n",
       "                        <td id=\"T_1d2d4914_5980_11eb_a1e5_8086f2c3fd57row19_col0\" class=\"data row19 col0\" >-0.00841</td>\n",
       "                        <td id=\"T_1d2d4914_5980_11eb_a1e5_8086f2c3fd57row19_col1\" class=\"data row19 col1\" >0.148</td>\n",
       "                        <td id=\"T_1d2d4914_5980_11eb_a1e5_8086f2c3fd57row19_col2\" class=\"data row19 col2\" >0.0324</td>\n",
       "                        <td id=\"T_1d2d4914_5980_11eb_a1e5_8086f2c3fd57row19_col3\" class=\"data row19 col3\" >-0.0127</td>\n",
       "                        <td id=\"T_1d2d4914_5980_11eb_a1e5_8086f2c3fd57row19_col4\" class=\"data row19 col4\" >0.413</td>\n",
       "                        <td id=\"T_1d2d4914_5980_11eb_a1e5_8086f2c3fd57row19_col5\" class=\"data row19 col5\" >0.621</td>\n",
       "                        <td id=\"T_1d2d4914_5980_11eb_a1e5_8086f2c3fd57row19_col6\" class=\"data row19 col6\" >0.514</td>\n",
       "                        <td id=\"T_1d2d4914_5980_11eb_a1e5_8086f2c3fd57row19_col7\" class=\"data row19 col7\" >0.378</td>\n",
       "                        <td id=\"T_1d2d4914_5980_11eb_a1e5_8086f2c3fd57row19_col8\" class=\"data row19 col8\" >0.403</td>\n",
       "                        <td id=\"T_1d2d4914_5980_11eb_a1e5_8086f2c3fd57row19_col9\" class=\"data row19 col9\" >0.684</td>\n",
       "                        <td id=\"T_1d2d4914_5980_11eb_a1e5_8086f2c3fd57row19_col10\" class=\"data row19 col10\" >0.348</td>\n",
       "                        <td id=\"T_1d2d4914_5980_11eb_a1e5_8086f2c3fd57row19_col11\" class=\"data row19 col11\" >0.309</td>\n",
       "                        <td id=\"T_1d2d4914_5980_11eb_a1e5_8086f2c3fd57row19_col12\" class=\"data row19 col12\" >0.42</td>\n",
       "                        <td id=\"T_1d2d4914_5980_11eb_a1e5_8086f2c3fd57row19_col13\" class=\"data row19 col13\" >0.259</td>\n",
       "                        <td id=\"T_1d2d4914_5980_11eb_a1e5_8086f2c3fd57row19_col14\" class=\"data row19 col14\" >0.46</td>\n",
       "                        <td id=\"T_1d2d4914_5980_11eb_a1e5_8086f2c3fd57row19_col15\" class=\"data row19 col15\" >0.781</td>\n",
       "                        <td id=\"T_1d2d4914_5980_11eb_a1e5_8086f2c3fd57row19_col16\" class=\"data row19 col16\" >0.668</td>\n",
       "                        <td id=\"T_1d2d4914_5980_11eb_a1e5_8086f2c3fd57row19_col17\" class=\"data row19 col17\" >0.611</td>\n",
       "                        <td id=\"T_1d2d4914_5980_11eb_a1e5_8086f2c3fd57row19_col18\" class=\"data row19 col18\" >0.381</td>\n",
       "                        <td id=\"T_1d2d4914_5980_11eb_a1e5_8086f2c3fd57row19_col19\" class=\"data row19 col19\" >1.0</td>\n",
       "                        <td id=\"T_1d2d4914_5980_11eb_a1e5_8086f2c3fd57row19_col20\" class=\"data row19 col20\" >0.0133</td>\n",
       "                        <td id=\"T_1d2d4914_5980_11eb_a1e5_8086f2c3fd57row19_col21\" class=\"data row19 col21\" >0.0832</td>\n",
       "                        <td id=\"T_1d2d4914_5980_11eb_a1e5_8086f2c3fd57row19_col22\" class=\"data row19 col22\" >0.063</td>\n",
       "                        <td id=\"T_1d2d4914_5980_11eb_a1e5_8086f2c3fd57row19_col23\" class=\"data row19 col23\" >0.00731</td>\n",
       "                        <td id=\"T_1d2d4914_5980_11eb_a1e5_8086f2c3fd57row19_col24\" class=\"data row19 col24\" >0.312</td>\n",
       "                        <td id=\"T_1d2d4914_5980_11eb_a1e5_8086f2c3fd57row19_col25\" class=\"data row19 col25\" >0.527</td>\n",
       "                        <td id=\"T_1d2d4914_5980_11eb_a1e5_8086f2c3fd57row19_col26\" class=\"data row19 col26\" >0.432</td>\n",
       "                        <td id=\"T_1d2d4914_5980_11eb_a1e5_8086f2c3fd57row19_col27\" class=\"data row19 col27\" >0.331</td>\n",
       "                        <td id=\"T_1d2d4914_5980_11eb_a1e5_8086f2c3fd57row19_col28\" class=\"data row19 col28\" >0.173</td>\n",
       "                        <td id=\"T_1d2d4914_5980_11eb_a1e5_8086f2c3fd57row19_col29\" class=\"data row19 col29\" >0.713</td>\n",
       "            </tr>\n",
       "            <tr>\n",
       "                        <th id=\"T_1d2d4914_5980_11eb_a1e5_8086f2c3fd57level0_row20\" class=\"row_heading level0 row20\" >radius_worst</th>\n",
       "                        <td id=\"T_1d2d4914_5980_11eb_a1e5_8086f2c3fd57row20_col0\" class=\"data row20 col0\" >0.979</td>\n",
       "                        <td id=\"T_1d2d4914_5980_11eb_a1e5_8086f2c3fd57row20_col1\" class=\"data row20 col1\" >0.367</td>\n",
       "                        <td id=\"T_1d2d4914_5980_11eb_a1e5_8086f2c3fd57row20_col2\" class=\"data row20 col2\" >0.981</td>\n",
       "                        <td id=\"T_1d2d4914_5980_11eb_a1e5_8086f2c3fd57row20_col3\" class=\"data row20 col3\" >0.979</td>\n",
       "                        <td id=\"T_1d2d4914_5980_11eb_a1e5_8086f2c3fd57row20_col4\" class=\"data row20 col4\" >0.203</td>\n",
       "                        <td id=\"T_1d2d4914_5980_11eb_a1e5_8086f2c3fd57row20_col5\" class=\"data row20 col5\" >0.543</td>\n",
       "                        <td id=\"T_1d2d4914_5980_11eb_a1e5_8086f2c3fd57row20_col6\" class=\"data row20 col6\" >0.682</td>\n",
       "                        <td id=\"T_1d2d4914_5980_11eb_a1e5_8086f2c3fd57row20_col7\" class=\"data row20 col7\" >0.787</td>\n",
       "                        <td id=\"T_1d2d4914_5980_11eb_a1e5_8086f2c3fd57row20_col8\" class=\"data row20 col8\" >0.165</td>\n",
       "                        <td id=\"T_1d2d4914_5980_11eb_a1e5_8086f2c3fd57row20_col9\" class=\"data row20 col9\" >-0.295</td>\n",
       "                        <td id=\"T_1d2d4914_5980_11eb_a1e5_8086f2c3fd57row20_col10\" class=\"data row20 col10\" >0.598</td>\n",
       "                        <td id=\"T_1d2d4914_5980_11eb_a1e5_8086f2c3fd57row20_col11\" class=\"data row20 col11\" >-0.149</td>\n",
       "                        <td id=\"T_1d2d4914_5980_11eb_a1e5_8086f2c3fd57row20_col12\" class=\"data row20 col12\" >0.607</td>\n",
       "                        <td id=\"T_1d2d4914_5980_11eb_a1e5_8086f2c3fd57row20_col13\" class=\"data row20 col13\" >0.774</td>\n",
       "                        <td id=\"T_1d2d4914_5980_11eb_a1e5_8086f2c3fd57row20_col14\" class=\"data row20 col14\" >-0.321</td>\n",
       "                        <td id=\"T_1d2d4914_5980_11eb_a1e5_8086f2c3fd57row20_col15\" class=\"data row20 col15\" >0.285</td>\n",
       "                        <td id=\"T_1d2d4914_5980_11eb_a1e5_8086f2c3fd57row20_col16\" class=\"data row20 col16\" >0.382</td>\n",
       "                        <td id=\"T_1d2d4914_5980_11eb_a1e5_8086f2c3fd57row20_col17\" class=\"data row20 col17\" >0.41</td>\n",
       "                        <td id=\"T_1d2d4914_5980_11eb_a1e5_8086f2c3fd57row20_col18\" class=\"data row20 col18\" >-0.261</td>\n",
       "                        <td id=\"T_1d2d4914_5980_11eb_a1e5_8086f2c3fd57row20_col19\" class=\"data row20 col19\" >0.0133</td>\n",
       "                        <td id=\"T_1d2d4914_5980_11eb_a1e5_8086f2c3fd57row20_col20\" class=\"data row20 col20\" >1.0</td>\n",
       "                        <td id=\"T_1d2d4914_5980_11eb_a1e5_8086f2c3fd57row20_col21\" class=\"data row20 col21\" >0.371</td>\n",
       "                        <td id=\"T_1d2d4914_5980_11eb_a1e5_8086f2c3fd57row20_col22\" class=\"data row20 col22\" >0.994</td>\n",
       "                        <td id=\"T_1d2d4914_5980_11eb_a1e5_8086f2c3fd57row20_col23\" class=\"data row20 col23\" >0.999</td>\n",
       "                        <td id=\"T_1d2d4914_5980_11eb_a1e5_8086f2c3fd57row20_col24\" class=\"data row20 col24\" >0.219</td>\n",
       "                        <td id=\"T_1d2d4914_5980_11eb_a1e5_8086f2c3fd57row20_col25\" class=\"data row20 col25\" >0.558</td>\n",
       "                        <td id=\"T_1d2d4914_5980_11eb_a1e5_8086f2c3fd57row20_col26\" class=\"data row20 col26\" >0.656</td>\n",
       "                        <td id=\"T_1d2d4914_5980_11eb_a1e5_8086f2c3fd57row20_col27\" class=\"data row20 col27\" >0.781</td>\n",
       "                        <td id=\"T_1d2d4914_5980_11eb_a1e5_8086f2c3fd57row20_col28\" class=\"data row20 col28\" >0.257</td>\n",
       "                        <td id=\"T_1d2d4914_5980_11eb_a1e5_8086f2c3fd57row20_col29\" class=\"data row20 col29\" >0.127</td>\n",
       "            </tr>\n",
       "            <tr>\n",
       "                        <th id=\"T_1d2d4914_5980_11eb_a1e5_8086f2c3fd57level0_row21\" class=\"row_heading level0 row21\" >texture_worst</th>\n",
       "                        <td id=\"T_1d2d4914_5980_11eb_a1e5_8086f2c3fd57row21_col0\" class=\"data row21 col0\" >0.315</td>\n",
       "                        <td id=\"T_1d2d4914_5980_11eb_a1e5_8086f2c3fd57row21_col1\" class=\"data row21 col1\" >0.909</td>\n",
       "                        <td id=\"T_1d2d4914_5980_11eb_a1e5_8086f2c3fd57row21_col2\" class=\"data row21 col2\" >0.323</td>\n",
       "                        <td id=\"T_1d2d4914_5980_11eb_a1e5_8086f2c3fd57row21_col3\" class=\"data row21 col3\" >0.318</td>\n",
       "                        <td id=\"T_1d2d4914_5980_11eb_a1e5_8086f2c3fd57row21_col4\" class=\"data row21 col4\" >0.0606</td>\n",
       "                        <td id=\"T_1d2d4914_5980_11eb_a1e5_8086f2c3fd57row21_col5\" class=\"data row21 col5\" >0.255</td>\n",
       "                        <td id=\"T_1d2d4914_5980_11eb_a1e5_8086f2c3fd57row21_col6\" class=\"data row21 col6\" >0.336</td>\n",
       "                        <td id=\"T_1d2d4914_5980_11eb_a1e5_8086f2c3fd57row21_col7\" class=\"data row21 col7\" >0.301</td>\n",
       "                        <td id=\"T_1d2d4914_5980_11eb_a1e5_8086f2c3fd57row21_col8\" class=\"data row21 col8\" >0.119</td>\n",
       "                        <td id=\"T_1d2d4914_5980_11eb_a1e5_8086f2c3fd57row21_col9\" class=\"data row21 col9\" >-0.0478</td>\n",
       "                        <td id=\"T_1d2d4914_5980_11eb_a1e5_8086f2c3fd57row21_col10\" class=\"data row21 col10\" >0.284</td>\n",
       "                        <td id=\"T_1d2d4914_5980_11eb_a1e5_8086f2c3fd57row21_col11\" class=\"data row21 col11\" >0.497</td>\n",
       "                        <td id=\"T_1d2d4914_5980_11eb_a1e5_8086f2c3fd57row21_col12\" class=\"data row21 col12\" >0.303</td>\n",
       "                        <td id=\"T_1d2d4914_5980_11eb_a1e5_8086f2c3fd57row21_col13\" class=\"data row21 col13\" >0.328</td>\n",
       "                        <td id=\"T_1d2d4914_5980_11eb_a1e5_8086f2c3fd57row21_col14\" class=\"data row21 col14\" >-0.0363</td>\n",
       "                        <td id=\"T_1d2d4914_5980_11eb_a1e5_8086f2c3fd57row21_col15\" class=\"data row21 col15\" >0.21</td>\n",
       "                        <td id=\"T_1d2d4914_5980_11eb_a1e5_8086f2c3fd57row21_col16\" class=\"data row21 col16\" >0.236</td>\n",
       "                        <td id=\"T_1d2d4914_5980_11eb_a1e5_8086f2c3fd57row21_col17\" class=\"data row21 col17\" >0.157</td>\n",
       "                        <td id=\"T_1d2d4914_5980_11eb_a1e5_8086f2c3fd57row21_col18\" class=\"data row21 col18\" >-0.105</td>\n",
       "                        <td id=\"T_1d2d4914_5980_11eb_a1e5_8086f2c3fd57row21_col19\" class=\"data row21 col19\" >0.0832</td>\n",
       "                        <td id=\"T_1d2d4914_5980_11eb_a1e5_8086f2c3fd57row21_col20\" class=\"data row21 col20\" >0.371</td>\n",
       "                        <td id=\"T_1d2d4914_5980_11eb_a1e5_8086f2c3fd57row21_col21\" class=\"data row21 col21\" >1.0</td>\n",
       "                        <td id=\"T_1d2d4914_5980_11eb_a1e5_8086f2c3fd57row21_col22\" class=\"data row21 col22\" >0.381</td>\n",
       "                        <td id=\"T_1d2d4914_5980_11eb_a1e5_8086f2c3fd57row21_col23\" class=\"data row21 col23\" >0.372</td>\n",
       "                        <td id=\"T_1d2d4914_5980_11eb_a1e5_8086f2c3fd57row21_col24\" class=\"data row21 col24\" >0.218</td>\n",
       "                        <td id=\"T_1d2d4914_5980_11eb_a1e5_8086f2c3fd57row21_col25\" class=\"data row21 col25\" >0.342</td>\n",
       "                        <td id=\"T_1d2d4914_5980_11eb_a1e5_8086f2c3fd57row21_col26\" class=\"data row21 col26\" >0.387</td>\n",
       "                        <td id=\"T_1d2d4914_5980_11eb_a1e5_8086f2c3fd57row21_col27\" class=\"data row21 col27\" >0.365</td>\n",
       "                        <td id=\"T_1d2d4914_5980_11eb_a1e5_8086f2c3fd57row21_col28\" class=\"data row21 col28\" >0.227</td>\n",
       "                        <td id=\"T_1d2d4914_5980_11eb_a1e5_8086f2c3fd57row21_col29\" class=\"data row21 col29\" >0.193</td>\n",
       "            </tr>\n",
       "            <tr>\n",
       "                        <th id=\"T_1d2d4914_5980_11eb_a1e5_8086f2c3fd57level0_row22\" class=\"row_heading level0 row22\" >perimeter_worst</th>\n",
       "                        <td id=\"T_1d2d4914_5980_11eb_a1e5_8086f2c3fd57row22_col0\" class=\"data row22 col0\" >0.972</td>\n",
       "                        <td id=\"T_1d2d4914_5980_11eb_a1e5_8086f2c3fd57row22_col1\" class=\"data row22 col1\" >0.375</td>\n",
       "                        <td id=\"T_1d2d4914_5980_11eb_a1e5_8086f2c3fd57row22_col2\" class=\"data row22 col2\" >0.979</td>\n",
       "                        <td id=\"T_1d2d4914_5980_11eb_a1e5_8086f2c3fd57row22_col3\" class=\"data row22 col3\" >0.972</td>\n",
       "                        <td id=\"T_1d2d4914_5980_11eb_a1e5_8086f2c3fd57row22_col4\" class=\"data row22 col4\" >0.226</td>\n",
       "                        <td id=\"T_1d2d4914_5980_11eb_a1e5_8086f2c3fd57row22_col5\" class=\"data row22 col5\" >0.592</td>\n",
       "                        <td id=\"T_1d2d4914_5980_11eb_a1e5_8086f2c3fd57row22_col6\" class=\"data row22 col6\" >0.722</td>\n",
       "                        <td id=\"T_1d2d4914_5980_11eb_a1e5_8086f2c3fd57row22_col7\" class=\"data row22 col7\" >0.814</td>\n",
       "                        <td id=\"T_1d2d4914_5980_11eb_a1e5_8086f2c3fd57row22_col8\" class=\"data row22 col8\" >0.191</td>\n",
       "                        <td id=\"T_1d2d4914_5980_11eb_a1e5_8086f2c3fd57row22_col9\" class=\"data row22 col9\" >-0.247</td>\n",
       "                        <td id=\"T_1d2d4914_5980_11eb_a1e5_8086f2c3fd57row22_col10\" class=\"data row22 col10\" >0.593</td>\n",
       "                        <td id=\"T_1d2d4914_5980_11eb_a1e5_8086f2c3fd57row22_col11\" class=\"data row22 col11\" >-0.143</td>\n",
       "                        <td id=\"T_1d2d4914_5980_11eb_a1e5_8086f2c3fd57row22_col12\" class=\"data row22 col12\" >0.627</td>\n",
       "                        <td id=\"T_1d2d4914_5980_11eb_a1e5_8086f2c3fd57row22_col13\" class=\"data row22 col13\" >0.768</td>\n",
       "                        <td id=\"T_1d2d4914_5980_11eb_a1e5_8086f2c3fd57row22_col14\" class=\"data row22 col14\" >-0.309</td>\n",
       "                        <td id=\"T_1d2d4914_5980_11eb_a1e5_8086f2c3fd57row22_col15\" class=\"data row22 col15\" >0.345</td>\n",
       "                        <td id=\"T_1d2d4914_5980_11eb_a1e5_8086f2c3fd57row22_col16\" class=\"data row22 col16\" >0.433</td>\n",
       "                        <td id=\"T_1d2d4914_5980_11eb_a1e5_8086f2c3fd57row22_col17\" class=\"data row22 col17\" >0.448</td>\n",
       "                        <td id=\"T_1d2d4914_5980_11eb_a1e5_8086f2c3fd57row22_col18\" class=\"data row22 col18\" >-0.247</td>\n",
       "                        <td id=\"T_1d2d4914_5980_11eb_a1e5_8086f2c3fd57row22_col19\" class=\"data row22 col19\" >0.063</td>\n",
       "                        <td id=\"T_1d2d4914_5980_11eb_a1e5_8086f2c3fd57row22_col20\" class=\"data row22 col20\" >0.994</td>\n",
       "                        <td id=\"T_1d2d4914_5980_11eb_a1e5_8086f2c3fd57row22_col21\" class=\"data row22 col21\" >0.381</td>\n",
       "                        <td id=\"T_1d2d4914_5980_11eb_a1e5_8086f2c3fd57row22_col22\" class=\"data row22 col22\" >1.0</td>\n",
       "                        <td id=\"T_1d2d4914_5980_11eb_a1e5_8086f2c3fd57row22_col23\" class=\"data row22 col23\" >0.992</td>\n",
       "                        <td id=\"T_1d2d4914_5980_11eb_a1e5_8086f2c3fd57row22_col24\" class=\"data row22 col24\" >0.241</td>\n",
       "                        <td id=\"T_1d2d4914_5980_11eb_a1e5_8086f2c3fd57row22_col25\" class=\"data row22 col25\" >0.613</td>\n",
       "                        <td id=\"T_1d2d4914_5980_11eb_a1e5_8086f2c3fd57row22_col26\" class=\"data row22 col26\" >0.701</td>\n",
       "                        <td id=\"T_1d2d4914_5980_11eb_a1e5_8086f2c3fd57row22_col27\" class=\"data row22 col27\" >0.813</td>\n",
       "                        <td id=\"T_1d2d4914_5980_11eb_a1e5_8086f2c3fd57row22_col28\" class=\"data row22 col28\" >0.281</td>\n",
       "                        <td id=\"T_1d2d4914_5980_11eb_a1e5_8086f2c3fd57row22_col29\" class=\"data row22 col29\" >0.179</td>\n",
       "            </tr>\n",
       "            <tr>\n",
       "                        <th id=\"T_1d2d4914_5980_11eb_a1e5_8086f2c3fd57level0_row23\" class=\"row_heading level0 row23\" >area_worst</th>\n",
       "                        <td id=\"T_1d2d4914_5980_11eb_a1e5_8086f2c3fd57row23_col0\" class=\"data row23 col0\" >0.979</td>\n",
       "                        <td id=\"T_1d2d4914_5980_11eb_a1e5_8086f2c3fd57row23_col1\" class=\"data row23 col1\" >0.368</td>\n",
       "                        <td id=\"T_1d2d4914_5980_11eb_a1e5_8086f2c3fd57row23_col2\" class=\"data row23 col2\" >0.981</td>\n",
       "                        <td id=\"T_1d2d4914_5980_11eb_a1e5_8086f2c3fd57row23_col3\" class=\"data row23 col3\" >0.98</td>\n",
       "                        <td id=\"T_1d2d4914_5980_11eb_a1e5_8086f2c3fd57row23_col4\" class=\"data row23 col4\" >0.192</td>\n",
       "                        <td id=\"T_1d2d4914_5980_11eb_a1e5_8086f2c3fd57row23_col5\" class=\"data row23 col5\" >0.532</td>\n",
       "                        <td id=\"T_1d2d4914_5980_11eb_a1e5_8086f2c3fd57row23_col6\" class=\"data row23 col6\" >0.677</td>\n",
       "                        <td id=\"T_1d2d4914_5980_11eb_a1e5_8086f2c3fd57row23_col7\" class=\"data row23 col7\" >0.78</td>\n",
       "                        <td id=\"T_1d2d4914_5980_11eb_a1e5_8086f2c3fd57row23_col8\" class=\"data row23 col8\" >0.154</td>\n",
       "                        <td id=\"T_1d2d4914_5980_11eb_a1e5_8086f2c3fd57row23_col9\" class=\"data row23 col9\" >-0.305</td>\n",
       "                        <td id=\"T_1d2d4914_5980_11eb_a1e5_8086f2c3fd57row23_col10\" class=\"data row23 col10\" >0.596</td>\n",
       "                        <td id=\"T_1d2d4914_5980_11eb_a1e5_8086f2c3fd57row23_col11\" class=\"data row23 col11\" >-0.148</td>\n",
       "                        <td id=\"T_1d2d4914_5980_11eb_a1e5_8086f2c3fd57row23_col12\" class=\"data row23 col12\" >0.605</td>\n",
       "                        <td id=\"T_1d2d4914_5980_11eb_a1e5_8086f2c3fd57row23_col13\" class=\"data row23 col13\" >0.776</td>\n",
       "                        <td id=\"T_1d2d4914_5980_11eb_a1e5_8086f2c3fd57row23_col14\" class=\"data row23 col14\" >-0.324</td>\n",
       "                        <td id=\"T_1d2d4914_5980_11eb_a1e5_8086f2c3fd57row23_col15\" class=\"data row23 col15\" >0.279</td>\n",
       "                        <td id=\"T_1d2d4914_5980_11eb_a1e5_8086f2c3fd57row23_col16\" class=\"data row23 col16\" >0.378</td>\n",
       "                        <td id=\"T_1d2d4914_5980_11eb_a1e5_8086f2c3fd57row23_col17\" class=\"data row23 col17\" >0.404</td>\n",
       "                        <td id=\"T_1d2d4914_5980_11eb_a1e5_8086f2c3fd57row23_col18\" class=\"data row23 col18\" >-0.267</td>\n",
       "                        <td id=\"T_1d2d4914_5980_11eb_a1e5_8086f2c3fd57row23_col19\" class=\"data row23 col19\" >0.00731</td>\n",
       "                        <td id=\"T_1d2d4914_5980_11eb_a1e5_8086f2c3fd57row23_col20\" class=\"data row23 col20\" >0.999</td>\n",
       "                        <td id=\"T_1d2d4914_5980_11eb_a1e5_8086f2c3fd57row23_col21\" class=\"data row23 col21\" >0.372</td>\n",
       "                        <td id=\"T_1d2d4914_5980_11eb_a1e5_8086f2c3fd57row23_col22\" class=\"data row23 col22\" >0.992</td>\n",
       "                        <td id=\"T_1d2d4914_5980_11eb_a1e5_8086f2c3fd57row23_col23\" class=\"data row23 col23\" >1.0</td>\n",
       "                        <td id=\"T_1d2d4914_5980_11eb_a1e5_8086f2c3fd57row23_col24\" class=\"data row23 col24\" >0.21</td>\n",
       "                        <td id=\"T_1d2d4914_5980_11eb_a1e5_8086f2c3fd57row23_col25\" class=\"data row23 col25\" >0.55</td>\n",
       "                        <td id=\"T_1d2d4914_5980_11eb_a1e5_8086f2c3fd57row23_col26\" class=\"data row23 col26\" >0.651</td>\n",
       "                        <td id=\"T_1d2d4914_5980_11eb_a1e5_8086f2c3fd57row23_col27\" class=\"data row23 col27\" >0.774</td>\n",
       "                        <td id=\"T_1d2d4914_5980_11eb_a1e5_8086f2c3fd57row23_col28\" class=\"data row23 col28\" >0.248</td>\n",
       "                        <td id=\"T_1d2d4914_5980_11eb_a1e5_8086f2c3fd57row23_col29\" class=\"data row23 col29\" >0.119</td>\n",
       "            </tr>\n",
       "            <tr>\n",
       "                        <th id=\"T_1d2d4914_5980_11eb_a1e5_8086f2c3fd57level0_row24\" class=\"row_heading level0 row24\" >smoothness_worst</th>\n",
       "                        <td id=\"T_1d2d4914_5980_11eb_a1e5_8086f2c3fd57row24_col0\" class=\"data row24 col0\" >0.126</td>\n",
       "                        <td id=\"T_1d2d4914_5980_11eb_a1e5_8086f2c3fd57row24_col1\" class=\"data row24 col1\" >0.101</td>\n",
       "                        <td id=\"T_1d2d4914_5980_11eb_a1e5_8086f2c3fd57row24_col2\" class=\"data row24 col2\" >0.157</td>\n",
       "                        <td id=\"T_1d2d4914_5980_11eb_a1e5_8086f2c3fd57row24_col3\" class=\"data row24 col3\" >0.12</td>\n",
       "                        <td id=\"T_1d2d4914_5980_11eb_a1e5_8086f2c3fd57row24_col4\" class=\"data row24 col4\" >0.796</td>\n",
       "                        <td id=\"T_1d2d4914_5980_11eb_a1e5_8086f2c3fd57row24_col5\" class=\"data row24 col5\" >0.579</td>\n",
       "                        <td id=\"T_1d2d4914_5980_11eb_a1e5_8086f2c3fd57row24_col6\" class=\"data row24 col6\" >0.489</td>\n",
       "                        <td id=\"T_1d2d4914_5980_11eb_a1e5_8086f2c3fd57row24_col7\" class=\"data row24 col7\" >0.49</td>\n",
       "                        <td id=\"T_1d2d4914_5980_11eb_a1e5_8086f2c3fd57row24_col8\" class=\"data row24 col8\" >0.424</td>\n",
       "                        <td id=\"T_1d2d4914_5980_11eb_a1e5_8086f2c3fd57row24_col9\" class=\"data row24 col9\" >0.493</td>\n",
       "                        <td id=\"T_1d2d4914_5980_11eb_a1e5_8086f2c3fd57row24_col10\" class=\"data row24 col10\" >0.204</td>\n",
       "                        <td id=\"T_1d2d4914_5980_11eb_a1e5_8086f2c3fd57row24_col11\" class=\"data row24 col11\" >-0.0231</td>\n",
       "                        <td id=\"T_1d2d4914_5980_11eb_a1e5_8086f2c3fd57row24_col12\" class=\"data row24 col12\" >0.198</td>\n",
       "                        <td id=\"T_1d2d4914_5980_11eb_a1e5_8086f2c3fd57row24_col13\" class=\"data row24 col13\" >0.189</td>\n",
       "                        <td id=\"T_1d2d4914_5980_11eb_a1e5_8086f2c3fd57row24_col14\" class=\"data row24 col14\" >0.372</td>\n",
       "                        <td id=\"T_1d2d4914_5980_11eb_a1e5_8086f2c3fd57row24_col15\" class=\"data row24 col15\" >0.321</td>\n",
       "                        <td id=\"T_1d2d4914_5980_11eb_a1e5_8086f2c3fd57row24_col16\" class=\"data row24 col16\" >0.305</td>\n",
       "                        <td id=\"T_1d2d4914_5980_11eb_a1e5_8086f2c3fd57row24_col17\" class=\"data row24 col17\" >0.295</td>\n",
       "                        <td id=\"T_1d2d4914_5980_11eb_a1e5_8086f2c3fd57row24_col18\" class=\"data row24 col18\" >-0.0429</td>\n",
       "                        <td id=\"T_1d2d4914_5980_11eb_a1e5_8086f2c3fd57row24_col19\" class=\"data row24 col19\" >0.312</td>\n",
       "                        <td id=\"T_1d2d4914_5980_11eb_a1e5_8086f2c3fd57row24_col20\" class=\"data row24 col20\" >0.219</td>\n",
       "                        <td id=\"T_1d2d4914_5980_11eb_a1e5_8086f2c3fd57row24_col21\" class=\"data row24 col21\" >0.218</td>\n",
       "                        <td id=\"T_1d2d4914_5980_11eb_a1e5_8086f2c3fd57row24_col22\" class=\"data row24 col22\" >0.241</td>\n",
       "                        <td id=\"T_1d2d4914_5980_11eb_a1e5_8086f2c3fd57row24_col23\" class=\"data row24 col23\" >0.21</td>\n",
       "                        <td id=\"T_1d2d4914_5980_11eb_a1e5_8086f2c3fd57row24_col24\" class=\"data row24 col24\" >1.0</td>\n",
       "                        <td id=\"T_1d2d4914_5980_11eb_a1e5_8086f2c3fd57row24_col25\" class=\"data row24 col25\" >0.56</td>\n",
       "                        <td id=\"T_1d2d4914_5980_11eb_a1e5_8086f2c3fd57row24_col26\" class=\"data row24 col26\" >0.519</td>\n",
       "                        <td id=\"T_1d2d4914_5980_11eb_a1e5_8086f2c3fd57row24_col27\" class=\"data row24 col27\" >0.544</td>\n",
       "                        <td id=\"T_1d2d4914_5980_11eb_a1e5_8086f2c3fd57row24_col28\" class=\"data row24 col28\" >0.501</td>\n",
       "                        <td id=\"T_1d2d4914_5980_11eb_a1e5_8086f2c3fd57row24_col29\" class=\"data row24 col29\" >0.615</td>\n",
       "            </tr>\n",
       "            <tr>\n",
       "                        <th id=\"T_1d2d4914_5980_11eb_a1e5_8086f2c3fd57level0_row25\" class=\"row_heading level0 row25\" >compactness_worst</th>\n",
       "                        <td id=\"T_1d2d4914_5980_11eb_a1e5_8086f2c3fd57row25_col0\" class=\"data row25 col0\" >0.491</td>\n",
       "                        <td id=\"T_1d2d4914_5980_11eb_a1e5_8086f2c3fd57row25_col1\" class=\"data row25 col1\" >0.291</td>\n",
       "                        <td id=\"T_1d2d4914_5980_11eb_a1e5_8086f2c3fd57row25_col2\" class=\"data row25 col2\" >0.535</td>\n",
       "                        <td id=\"T_1d2d4914_5980_11eb_a1e5_8086f2c3fd57row25_col3\" class=\"data row25 col3\" >0.486</td>\n",
       "                        <td id=\"T_1d2d4914_5980_11eb_a1e5_8086f2c3fd57row25_col4\" class=\"data row25 col4\" >0.481</td>\n",
       "                        <td id=\"T_1d2d4914_5980_11eb_a1e5_8086f2c3fd57row25_col5\" class=\"data row25 col5\" >0.901</td>\n",
       "                        <td id=\"T_1d2d4914_5980_11eb_a1e5_8086f2c3fd57row25_col6\" class=\"data row25 col6\" >0.85</td>\n",
       "                        <td id=\"T_1d2d4914_5980_11eb_a1e5_8086f2c3fd57row25_col7\" class=\"data row25 col7\" >0.758</td>\n",
       "                        <td id=\"T_1d2d4914_5980_11eb_a1e5_8086f2c3fd57row25_col8\" class=\"data row25 col8\" >0.441</td>\n",
       "                        <td id=\"T_1d2d4914_5980_11eb_a1e5_8086f2c3fd57row25_col9\" class=\"data row25 col9\" >0.404</td>\n",
       "                        <td id=\"T_1d2d4914_5980_11eb_a1e5_8086f2c3fd57row25_col10\" class=\"data row25 col10\" >0.34</td>\n",
       "                        <td id=\"T_1d2d4914_5980_11eb_a1e5_8086f2c3fd57row25_col11\" class=\"data row25 col11\" >-0.0901</td>\n",
       "                        <td id=\"T_1d2d4914_5980_11eb_a1e5_8086f2c3fd57row25_col12\" class=\"data row25 col12\" >0.438</td>\n",
       "                        <td id=\"T_1d2d4914_5980_11eb_a1e5_8086f2c3fd57row25_col13\" class=\"data row25 col13\" >0.414</td>\n",
       "                        <td id=\"T_1d2d4914_5980_11eb_a1e5_8086f2c3fd57row25_col14\" class=\"data row25 col14\" >-0.0492</td>\n",
       "                        <td id=\"T_1d2d4914_5980_11eb_a1e5_8086f2c3fd57row25_col15\" class=\"data row25 col15\" >0.789</td>\n",
       "                        <td id=\"T_1d2d4914_5980_11eb_a1e5_8086f2c3fd57row25_col16\" class=\"data row25 col16\" >0.732</td>\n",
       "                        <td id=\"T_1d2d4914_5980_11eb_a1e5_8086f2c3fd57row25_col17\" class=\"data row25 col17\" >0.586</td>\n",
       "                        <td id=\"T_1d2d4914_5980_11eb_a1e5_8086f2c3fd57row25_col18\" class=\"data row25 col18\" >-0.0821</td>\n",
       "                        <td id=\"T_1d2d4914_5980_11eb_a1e5_8086f2c3fd57row25_col19\" class=\"data row25 col19\" >0.527</td>\n",
       "                        <td id=\"T_1d2d4914_5980_11eb_a1e5_8086f2c3fd57row25_col20\" class=\"data row25 col20\" >0.558</td>\n",
       "                        <td id=\"T_1d2d4914_5980_11eb_a1e5_8086f2c3fd57row25_col21\" class=\"data row25 col21\" >0.342</td>\n",
       "                        <td id=\"T_1d2d4914_5980_11eb_a1e5_8086f2c3fd57row25_col22\" class=\"data row25 col22\" >0.613</td>\n",
       "                        <td id=\"T_1d2d4914_5980_11eb_a1e5_8086f2c3fd57row25_col23\" class=\"data row25 col23\" >0.55</td>\n",
       "                        <td id=\"T_1d2d4914_5980_11eb_a1e5_8086f2c3fd57row25_col24\" class=\"data row25 col24\" >0.56</td>\n",
       "                        <td id=\"T_1d2d4914_5980_11eb_a1e5_8086f2c3fd57row25_col25\" class=\"data row25 col25\" >1.0</td>\n",
       "                        <td id=\"T_1d2d4914_5980_11eb_a1e5_8086f2c3fd57row25_col26\" class=\"data row25 col26\" >0.915</td>\n",
       "                        <td id=\"T_1d2d4914_5980_11eb_a1e5_8086f2c3fd57row25_col27\" class=\"data row25 col27\" >0.844</td>\n",
       "                        <td id=\"T_1d2d4914_5980_11eb_a1e5_8086f2c3fd57row25_col28\" class=\"data row25 col28\" >0.527</td>\n",
       "                        <td id=\"T_1d2d4914_5980_11eb_a1e5_8086f2c3fd57row25_col29\" class=\"data row25 col29\" >0.762</td>\n",
       "            </tr>\n",
       "            <tr>\n",
       "                        <th id=\"T_1d2d4914_5980_11eb_a1e5_8086f2c3fd57level0_row26\" class=\"row_heading level0 row26\" >concavity_worst</th>\n",
       "                        <td id=\"T_1d2d4914_5980_11eb_a1e5_8086f2c3fd57row26_col0\" class=\"data row26 col0\" >0.596</td>\n",
       "                        <td id=\"T_1d2d4914_5980_11eb_a1e5_8086f2c3fd57row26_col1\" class=\"data row26 col1\" >0.34</td>\n",
       "                        <td id=\"T_1d2d4914_5980_11eb_a1e5_8086f2c3fd57row26_col2\" class=\"data row26 col2\" >0.632</td>\n",
       "                        <td id=\"T_1d2d4914_5980_11eb_a1e5_8086f2c3fd57row26_col3\" class=\"data row26 col3\" >0.594</td>\n",
       "                        <td id=\"T_1d2d4914_5980_11eb_a1e5_8086f2c3fd57row26_col4\" class=\"data row26 col4\" >0.429</td>\n",
       "                        <td id=\"T_1d2d4914_5980_11eb_a1e5_8086f2c3fd57row26_col5\" class=\"data row26 col5\" >0.838</td>\n",
       "                        <td id=\"T_1d2d4914_5980_11eb_a1e5_8086f2c3fd57row26_col6\" class=\"data row26 col6\" >0.939</td>\n",
       "                        <td id=\"T_1d2d4914_5980_11eb_a1e5_8086f2c3fd57row26_col7\" class=\"data row26 col7\" >0.827</td>\n",
       "                        <td id=\"T_1d2d4914_5980_11eb_a1e5_8086f2c3fd57row26_col8\" class=\"data row26 col8\" >0.394</td>\n",
       "                        <td id=\"T_1d2d4914_5980_11eb_a1e5_8086f2c3fd57row26_col9\" class=\"data row26 col9\" >0.243</td>\n",
       "                        <td id=\"T_1d2d4914_5980_11eb_a1e5_8086f2c3fd57row26_col10\" class=\"data row26 col10\" >0.404</td>\n",
       "                        <td id=\"T_1d2d4914_5980_11eb_a1e5_8086f2c3fd57row26_col11\" class=\"data row26 col11\" >-0.0706</td>\n",
       "                        <td id=\"T_1d2d4914_5980_11eb_a1e5_8086f2c3fd57row26_col12\" class=\"data row26 col12\" >0.49</td>\n",
       "                        <td id=\"T_1d2d4914_5980_11eb_a1e5_8086f2c3fd57row26_col13\" class=\"data row26 col13\" >0.5</td>\n",
       "                        <td id=\"T_1d2d4914_5980_11eb_a1e5_8086f2c3fd57row26_col14\" class=\"data row26 col14\" >-0.0638</td>\n",
       "                        <td id=\"T_1d2d4914_5980_11eb_a1e5_8086f2c3fd57row26_col15\" class=\"data row26 col15\" >0.701</td>\n",
       "                        <td id=\"T_1d2d4914_5980_11eb_a1e5_8086f2c3fd57row26_col16\" class=\"data row26 col16\" >0.811</td>\n",
       "                        <td id=\"T_1d2d4914_5980_11eb_a1e5_8086f2c3fd57row26_col17\" class=\"data row26 col17\" >0.625</td>\n",
       "                        <td id=\"T_1d2d4914_5980_11eb_a1e5_8086f2c3fd57row26_col18\" class=\"data row26 col18\" >-0.118</td>\n",
       "                        <td id=\"T_1d2d4914_5980_11eb_a1e5_8086f2c3fd57row26_col19\" class=\"data row26 col19\" >0.432</td>\n",
       "                        <td id=\"T_1d2d4914_5980_11eb_a1e5_8086f2c3fd57row26_col20\" class=\"data row26 col20\" >0.656</td>\n",
       "                        <td id=\"T_1d2d4914_5980_11eb_a1e5_8086f2c3fd57row26_col21\" class=\"data row26 col21\" >0.387</td>\n",
       "                        <td id=\"T_1d2d4914_5980_11eb_a1e5_8086f2c3fd57row26_col22\" class=\"data row26 col22\" >0.701</td>\n",
       "                        <td id=\"T_1d2d4914_5980_11eb_a1e5_8086f2c3fd57row26_col23\" class=\"data row26 col23\" >0.651</td>\n",
       "                        <td id=\"T_1d2d4914_5980_11eb_a1e5_8086f2c3fd57row26_col24\" class=\"data row26 col24\" >0.519</td>\n",
       "                        <td id=\"T_1d2d4914_5980_11eb_a1e5_8086f2c3fd57row26_col25\" class=\"data row26 col25\" >0.915</td>\n",
       "                        <td id=\"T_1d2d4914_5980_11eb_a1e5_8086f2c3fd57row26_col26\" class=\"data row26 col26\" >1.0</td>\n",
       "                        <td id=\"T_1d2d4914_5980_11eb_a1e5_8086f2c3fd57row26_col27\" class=\"data row26 col27\" >0.902</td>\n",
       "                        <td id=\"T_1d2d4914_5980_11eb_a1e5_8086f2c3fd57row26_col28\" class=\"data row26 col28\" >0.476</td>\n",
       "                        <td id=\"T_1d2d4914_5980_11eb_a1e5_8086f2c3fd57row26_col29\" class=\"data row26 col29\" >0.623</td>\n",
       "            </tr>\n",
       "            <tr>\n",
       "                        <th id=\"T_1d2d4914_5980_11eb_a1e5_8086f2c3fd57level0_row27\" class=\"row_heading level0 row27\" >concave points_worst</th>\n",
       "                        <td id=\"T_1d2d4914_5980_11eb_a1e5_8086f2c3fd57row27_col0\" class=\"data row27 col0\" >0.727</td>\n",
       "                        <td id=\"T_1d2d4914_5980_11eb_a1e5_8086f2c3fd57row27_col1\" class=\"data row27 col1\" >0.319</td>\n",
       "                        <td id=\"T_1d2d4914_5980_11eb_a1e5_8086f2c3fd57row27_col2\" class=\"data row27 col2\" >0.758</td>\n",
       "                        <td id=\"T_1d2d4914_5980_11eb_a1e5_8086f2c3fd57row27_col3\" class=\"data row27 col3\" >0.723</td>\n",
       "                        <td id=\"T_1d2d4914_5980_11eb_a1e5_8086f2c3fd57row27_col4\" class=\"data row27 col4\" >0.499</td>\n",
       "                        <td id=\"T_1d2d4914_5980_11eb_a1e5_8086f2c3fd57row27_col5\" class=\"data row27 col5\" >0.825</td>\n",
       "                        <td id=\"T_1d2d4914_5980_11eb_a1e5_8086f2c3fd57row27_col6\" class=\"data row27 col6\" >0.905</td>\n",
       "                        <td id=\"T_1d2d4914_5980_11eb_a1e5_8086f2c3fd57row27_col7\" class=\"data row27 col7\" >0.937</td>\n",
       "                        <td id=\"T_1d2d4914_5980_11eb_a1e5_8086f2c3fd57row27_col8\" class=\"data row27 col8\" >0.397</td>\n",
       "                        <td id=\"T_1d2d4914_5980_11eb_a1e5_8086f2c3fd57row27_col9\" class=\"data row27 col9\" >0.139</td>\n",
       "                        <td id=\"T_1d2d4914_5980_11eb_a1e5_8086f2c3fd57row27_col10\" class=\"data row27 col10\" >0.509</td>\n",
       "                        <td id=\"T_1d2d4914_5980_11eb_a1e5_8086f2c3fd57row27_col11\" class=\"data row27 col11\" >-0.097</td>\n",
       "                        <td id=\"T_1d2d4914_5980_11eb_a1e5_8086f2c3fd57row27_col12\" class=\"data row27 col12\" >0.569</td>\n",
       "                        <td id=\"T_1d2d4914_5980_11eb_a1e5_8086f2c3fd57row27_col13\" class=\"data row27 col13\" >0.62</td>\n",
       "                        <td id=\"T_1d2d4914_5980_11eb_a1e5_8086f2c3fd57row27_col14\" class=\"data row27 col14\" >-0.0765</td>\n",
       "                        <td id=\"T_1d2d4914_5980_11eb_a1e5_8086f2c3fd57row27_col15\" class=\"data row27 col15\" >0.587</td>\n",
       "                        <td id=\"T_1d2d4914_5980_11eb_a1e5_8086f2c3fd57row27_col16\" class=\"data row27 col16\" >0.657</td>\n",
       "                        <td id=\"T_1d2d4914_5980_11eb_a1e5_8086f2c3fd57row27_col17\" class=\"data row27 col17\" >0.692</td>\n",
       "                        <td id=\"T_1d2d4914_5980_11eb_a1e5_8086f2c3fd57row27_col18\" class=\"data row27 col18\" >-0.141</td>\n",
       "                        <td id=\"T_1d2d4914_5980_11eb_a1e5_8086f2c3fd57row27_col19\" class=\"data row27 col19\" >0.331</td>\n",
       "                        <td id=\"T_1d2d4914_5980_11eb_a1e5_8086f2c3fd57row27_col20\" class=\"data row27 col20\" >0.781</td>\n",
       "                        <td id=\"T_1d2d4914_5980_11eb_a1e5_8086f2c3fd57row27_col21\" class=\"data row27 col21\" >0.365</td>\n",
       "                        <td id=\"T_1d2d4914_5980_11eb_a1e5_8086f2c3fd57row27_col22\" class=\"data row27 col22\" >0.813</td>\n",
       "                        <td id=\"T_1d2d4914_5980_11eb_a1e5_8086f2c3fd57row27_col23\" class=\"data row27 col23\" >0.774</td>\n",
       "                        <td id=\"T_1d2d4914_5980_11eb_a1e5_8086f2c3fd57row27_col24\" class=\"data row27 col24\" >0.544</td>\n",
       "                        <td id=\"T_1d2d4914_5980_11eb_a1e5_8086f2c3fd57row27_col25\" class=\"data row27 col25\" >0.844</td>\n",
       "                        <td id=\"T_1d2d4914_5980_11eb_a1e5_8086f2c3fd57row27_col26\" class=\"data row27 col26\" >0.902</td>\n",
       "                        <td id=\"T_1d2d4914_5980_11eb_a1e5_8086f2c3fd57row27_col27\" class=\"data row27 col27\" >1.0</td>\n",
       "                        <td id=\"T_1d2d4914_5980_11eb_a1e5_8086f2c3fd57row27_col28\" class=\"data row27 col28\" >0.461</td>\n",
       "                        <td id=\"T_1d2d4914_5980_11eb_a1e5_8086f2c3fd57row27_col29\" class=\"data row27 col29\" >0.517</td>\n",
       "            </tr>\n",
       "            <tr>\n",
       "                        <th id=\"T_1d2d4914_5980_11eb_a1e5_8086f2c3fd57level0_row28\" class=\"row_heading level0 row28\" >symmetry_worst</th>\n",
       "                        <td id=\"T_1d2d4914_5980_11eb_a1e5_8086f2c3fd57row28_col0\" class=\"data row28 col0\" >0.175</td>\n",
       "                        <td id=\"T_1d2d4914_5980_11eb_a1e5_8086f2c3fd57row28_col1\" class=\"data row28 col1\" >0.121</td>\n",
       "                        <td id=\"T_1d2d4914_5980_11eb_a1e5_8086f2c3fd57row28_col2\" class=\"data row28 col2\" >0.199</td>\n",
       "                        <td id=\"T_1d2d4914_5980_11eb_a1e5_8086f2c3fd57row28_col3\" class=\"data row28 col3\" >0.171</td>\n",
       "                        <td id=\"T_1d2d4914_5980_11eb_a1e5_8086f2c3fd57row28_col4\" class=\"data row28 col4\" >0.394</td>\n",
       "                        <td id=\"T_1d2d4914_5980_11eb_a1e5_8086f2c3fd57row28_col5\" class=\"data row28 col5\" >0.45</td>\n",
       "                        <td id=\"T_1d2d4914_5980_11eb_a1e5_8086f2c3fd57row28_col6\" class=\"data row28 col6\" >0.384</td>\n",
       "                        <td id=\"T_1d2d4914_5980_11eb_a1e5_8086f2c3fd57row28_col7\" class=\"data row28 col7\" >0.355</td>\n",
       "                        <td id=\"T_1d2d4914_5980_11eb_a1e5_8086f2c3fd57row28_col8\" class=\"data row28 col8\" >0.71</td>\n",
       "                        <td id=\"T_1d2d4914_5980_11eb_a1e5_8086f2c3fd57row28_col9\" class=\"data row28 col9\" >0.295</td>\n",
       "                        <td id=\"T_1d2d4914_5980_11eb_a1e5_8086f2c3fd57row28_col10\" class=\"data row28 col10\" >0.147</td>\n",
       "                        <td id=\"T_1d2d4914_5980_11eb_a1e5_8086f2c3fd57row28_col11\" class=\"data row28 col11\" >-0.12</td>\n",
       "                        <td id=\"T_1d2d4914_5980_11eb_a1e5_8086f2c3fd57row28_col12\" class=\"data row28 col12\" >0.167</td>\n",
       "                        <td id=\"T_1d2d4914_5980_11eb_a1e5_8086f2c3fd57row28_col13\" class=\"data row28 col13\" >0.154</td>\n",
       "                        <td id=\"T_1d2d4914_5980_11eb_a1e5_8086f2c3fd57row28_col14\" class=\"data row28 col14\" >-0.0671</td>\n",
       "                        <td id=\"T_1d2d4914_5980_11eb_a1e5_8086f2c3fd57row28_col15\" class=\"data row28 col15\" >0.266</td>\n",
       "                        <td id=\"T_1d2d4914_5980_11eb_a1e5_8086f2c3fd57row28_col16\" class=\"data row28 col16\" >0.231</td>\n",
       "                        <td id=\"T_1d2d4914_5980_11eb_a1e5_8086f2c3fd57row28_col17\" class=\"data row28 col17\" >0.133</td>\n",
       "                        <td id=\"T_1d2d4914_5980_11eb_a1e5_8086f2c3fd57row28_col18\" class=\"data row28 col18\" >0.283</td>\n",
       "                        <td id=\"T_1d2d4914_5980_11eb_a1e5_8086f2c3fd57row28_col19\" class=\"data row28 col19\" >0.173</td>\n",
       "                        <td id=\"T_1d2d4914_5980_11eb_a1e5_8086f2c3fd57row28_col20\" class=\"data row28 col20\" >0.257</td>\n",
       "                        <td id=\"T_1d2d4914_5980_11eb_a1e5_8086f2c3fd57row28_col21\" class=\"data row28 col21\" >0.227</td>\n",
       "                        <td id=\"T_1d2d4914_5980_11eb_a1e5_8086f2c3fd57row28_col22\" class=\"data row28 col22\" >0.281</td>\n",
       "                        <td id=\"T_1d2d4914_5980_11eb_a1e5_8086f2c3fd57row28_col23\" class=\"data row28 col23\" >0.248</td>\n",
       "                        <td id=\"T_1d2d4914_5980_11eb_a1e5_8086f2c3fd57row28_col24\" class=\"data row28 col24\" >0.501</td>\n",
       "                        <td id=\"T_1d2d4914_5980_11eb_a1e5_8086f2c3fd57row28_col25\" class=\"data row28 col25\" >0.527</td>\n",
       "                        <td id=\"T_1d2d4914_5980_11eb_a1e5_8086f2c3fd57row28_col26\" class=\"data row28 col26\" >0.476</td>\n",
       "                        <td id=\"T_1d2d4914_5980_11eb_a1e5_8086f2c3fd57row28_col27\" class=\"data row28 col27\" >0.461</td>\n",
       "                        <td id=\"T_1d2d4914_5980_11eb_a1e5_8086f2c3fd57row28_col28\" class=\"data row28 col28\" >1.0</td>\n",
       "                        <td id=\"T_1d2d4914_5980_11eb_a1e5_8086f2c3fd57row28_col29\" class=\"data row28 col29\" >0.488</td>\n",
       "            </tr>\n",
       "            <tr>\n",
       "                        <th id=\"T_1d2d4914_5980_11eb_a1e5_8086f2c3fd57level0_row29\" class=\"row_heading level0 row29\" >fractal_dimension_worst</th>\n",
       "                        <td id=\"T_1d2d4914_5980_11eb_a1e5_8086f2c3fd57row29_col0\" class=\"data row29 col0\" >0.0446</td>\n",
       "                        <td id=\"T_1d2d4914_5980_11eb_a1e5_8086f2c3fd57row29_col1\" class=\"data row29 col1\" >0.116</td>\n",
       "                        <td id=\"T_1d2d4914_5980_11eb_a1e5_8086f2c3fd57row29_col2\" class=\"data row29 col2\" >0.089</td>\n",
       "                        <td id=\"T_1d2d4914_5980_11eb_a1e5_8086f2c3fd57row29_col3\" class=\"data row29 col3\" >0.0388</td>\n",
       "                        <td id=\"T_1d2d4914_5980_11eb_a1e5_8086f2c3fd57row29_col4\" class=\"data row29 col4\" >0.511</td>\n",
       "                        <td id=\"T_1d2d4914_5980_11eb_a1e5_8086f2c3fd57row29_col5\" class=\"data row29 col5\" >0.689</td>\n",
       "                        <td id=\"T_1d2d4914_5980_11eb_a1e5_8086f2c3fd57row29_col6\" class=\"data row29 col6\" >0.542</td>\n",
       "                        <td id=\"T_1d2d4914_5980_11eb_a1e5_8086f2c3fd57row29_col7\" class=\"data row29 col7\" >0.421</td>\n",
       "                        <td id=\"T_1d2d4914_5980_11eb_a1e5_8086f2c3fd57row29_col8\" class=\"data row29 col8\" >0.41</td>\n",
       "                        <td id=\"T_1d2d4914_5980_11eb_a1e5_8086f2c3fd57row29_col9\" class=\"data row29 col9\" >0.761</td>\n",
       "                        <td id=\"T_1d2d4914_5980_11eb_a1e5_8086f2c3fd57row29_col10\" class=\"data row29 col10\" >0.111</td>\n",
       "                        <td id=\"T_1d2d4914_5980_11eb_a1e5_8086f2c3fd57row29_col11\" class=\"data row29 col11\" >-0.0481</td>\n",
       "                        <td id=\"T_1d2d4914_5980_11eb_a1e5_8086f2c3fd57row29_col12\" class=\"data row29 col12\" >0.186</td>\n",
       "                        <td id=\"T_1d2d4914_5980_11eb_a1e5_8086f2c3fd57row29_col13\" class=\"data row29 col13\" >0.0917</td>\n",
       "                        <td id=\"T_1d2d4914_5980_11eb_a1e5_8086f2c3fd57row29_col14\" class=\"data row29 col14\" >0.13</td>\n",
       "                        <td id=\"T_1d2d4914_5980_11eb_a1e5_8086f2c3fd57row29_col15\" class=\"data row29 col15\" >0.605</td>\n",
       "                        <td id=\"T_1d2d4914_5980_11eb_a1e5_8086f2c3fd57row29_col16\" class=\"data row29 col16\" >0.506</td>\n",
       "                        <td id=\"T_1d2d4914_5980_11eb_a1e5_8086f2c3fd57row29_col17\" class=\"data row29 col17\" >0.357</td>\n",
       "                        <td id=\"T_1d2d4914_5980_11eb_a1e5_8086f2c3fd57row29_col18\" class=\"data row29 col18\" >0.0111</td>\n",
       "                        <td id=\"T_1d2d4914_5980_11eb_a1e5_8086f2c3fd57row29_col19\" class=\"data row29 col19\" >0.713</td>\n",
       "                        <td id=\"T_1d2d4914_5980_11eb_a1e5_8086f2c3fd57row29_col20\" class=\"data row29 col20\" >0.127</td>\n",
       "                        <td id=\"T_1d2d4914_5980_11eb_a1e5_8086f2c3fd57row29_col21\" class=\"data row29 col21\" >0.193</td>\n",
       "                        <td id=\"T_1d2d4914_5980_11eb_a1e5_8086f2c3fd57row29_col22\" class=\"data row29 col22\" >0.179</td>\n",
       "                        <td id=\"T_1d2d4914_5980_11eb_a1e5_8086f2c3fd57row29_col23\" class=\"data row29 col23\" >0.119</td>\n",
       "                        <td id=\"T_1d2d4914_5980_11eb_a1e5_8086f2c3fd57row29_col24\" class=\"data row29 col24\" >0.615</td>\n",
       "                        <td id=\"T_1d2d4914_5980_11eb_a1e5_8086f2c3fd57row29_col25\" class=\"data row29 col25\" >0.762</td>\n",
       "                        <td id=\"T_1d2d4914_5980_11eb_a1e5_8086f2c3fd57row29_col26\" class=\"data row29 col26\" >0.623</td>\n",
       "                        <td id=\"T_1d2d4914_5980_11eb_a1e5_8086f2c3fd57row29_col27\" class=\"data row29 col27\" >0.517</td>\n",
       "                        <td id=\"T_1d2d4914_5980_11eb_a1e5_8086f2c3fd57row29_col28\" class=\"data row29 col28\" >0.488</td>\n",
       "                        <td id=\"T_1d2d4914_5980_11eb_a1e5_8086f2c3fd57row29_col29\" class=\"data row29 col29\" >1.0</td>\n",
       "            </tr>\n",
       "    </tbody></table>"
      ],
      "text/plain": [
       "<pandas.io.formats.style.Styler at 0x7f13fff3d310>"
      ]
     },
     "execution_count": 10,
     "metadata": {},
     "output_type": "execute_result"
    }
   ],
   "source": [
    "df_corr = df.iloc[:, 1:32]\n",
    "df_corr\n",
    "matrice_corr = df_corr.corr(method='spearman').style.format(\"{:.3}\").background_gradient(cmap=plt.get_cmap('coolwarm'))\n",
    "matrice_corr"
   ]
  },
  {
   "cell_type": "markdown",
   "metadata": {},
   "source": [
    "### 3. Déclarer le vecteur de caractéristiques et la variable cible\n"
   ]
  },
  {
   "cell_type": "code",
   "execution_count": 11,
   "metadata": {},
   "outputs": [],
   "source": [
    "X = df.iloc[:, 2:32]\n",
    "y = df.iloc[:,1]\n",
    "\n",
    "# #creating labelEncoder\n",
    "# le = LabelEncoder()\n",
    "# # Converting string labels into numbers.\n",
    "# diagnosis_encoded = le.fit_transform(y)\n",
    "# diagnosis_encoded[18:20]\n",
    "y = y.replace(['M','B'], [0, 1])"
   ]
  },
  {
   "cell_type": "markdown",
   "metadata": {},
   "source": [
    "Dans ce cas le labelEoncoder met B=1, M=0"
   ]
  },
  {
   "cell_type": "markdown",
   "metadata": {},
   "source": [
    "### 4. Divisez les données en un ensemble d'entraînement et de test séparé"
   ]
  },
  {
   "cell_type": "code",
   "execution_count": 12,
   "metadata": {},
   "outputs": [],
   "source": [
    "X_train, X_test, y_train, y_test = train_test_split(X, y, test_size=0.20,random_state=0)"
   ]
  },
  {
   "cell_type": "markdown",
   "metadata": {},
   "source": [
    "### 5. Feature engineering (Ingénierie des fonctionnalités)"
   ]
  },
  {
   "cell_type": "markdown",
   "metadata": {},
   "source": [
    "### 6.Feature scaling"
   ]
  },
  {
   "cell_type": "code",
   "execution_count": 13,
   "metadata": {},
   "outputs": [],
   "source": [
    "scaler = StandardScaler()\n",
    "scaler.fit(X_train)\n",
    "\n",
    "X_train = scaler.transform(X_train)\n",
    "X_test = scaler.transform(X_test)"
   ]
  },
  {
   "cell_type": "markdown",
   "metadata": {},
   "source": [
    "### 7. Ajuster le classificateur à l'ensemble d'entraînement"
   ]
  },
  {
   "cell_type": "code",
   "execution_count": 14,
   "metadata": {},
   "outputs": [
    {
     "data": {
      "text/plain": [
       "KNeighborsClassifier()"
      ]
     },
     "execution_count": 14,
     "metadata": {},
     "output_type": "execute_result"
    }
   ],
   "source": [
    "classifier = KNeighborsClassifier(n_neighbors=5)\n",
    "classifier.fit(X_train, y_train)"
   ]
  },
  {
   "cell_type": "markdown",
   "metadata": {},
   "source": [
    "### 8.Prédire les résultats du test "
   ]
  },
  {
   "cell_type": "code",
   "execution_count": 15,
   "metadata": {},
   "outputs": [],
   "source": [
    "y_pred = classifier.predict(X_test)\n",
    "y_pred_prob_1 = classifier.predict_proba(X_test)[0:100, 1]"
   ]
  },
  {
   "cell_type": "markdown",
   "metadata": {},
   "source": [
    "### 9. Vérifiez le score de précision"
   ]
  },
  {
   "cell_type": "code",
   "execution_count": 16,
   "metadata": {},
   "outputs": [
    {
     "name": "stdout",
     "output_type": "stream",
     "text": [
      "score : 0.956\n",
      "precision_score : 0.965\n"
     ]
    }
   ],
   "source": [
    "score = classifier.score(X_test, y_test)\n",
    "print('score :', score.round(3))\n",
    "print('precision_score :', precision_score(y_test, y_pred,average='macro').round(3))"
   ]
  },
  {
   "cell_type": "code",
   "execution_count": 19,
   "metadata": {},
   "outputs": [
    {
     "name": "stdout",
     "output_type": "stream",
     "text": [
      "Examine the y_true:\n",
      " 1    357\n",
      "0    212\n",
      "Name: diagnosis, dtype: int64\n",
      "Examine the class distribution: \n",
      " 1    67\n",
      "0    47\n",
      "Name: diagnosis, dtype: int64\n",
      "calculate the percentage of ones: 0.5877192982456141 \n",
      "\n",
      "calculate the percentage of zeros: 0.4122807017543859 \n",
      "\n",
      "calculate null accuracy: 0.5877192982456141 \n",
      "\n",
      "calculate null accuracy : 1    0.587719\n",
      "Name: diagnosis, dtype: float64 \n",
      "\n",
      "Print the first 10 true and predicted responses:\n"
     ]
    },
    {
     "data": {
      "text/html": [
       "<div>\n",
       "<style scoped>\n",
       "    .dataframe tbody tr th:only-of-type {\n",
       "        vertical-align: middle;\n",
       "    }\n",
       "\n",
       "    .dataframe tbody tr th {\n",
       "        vertical-align: top;\n",
       "    }\n",
       "\n",
       "    .dataframe thead th {\n",
       "        text-align: right;\n",
       "    }\n",
       "</style>\n",
       "<table border=\"1\" class=\"dataframe\">\n",
       "  <thead>\n",
       "    <tr style=\"text-align: right;\">\n",
       "      <th></th>\n",
       "      <th>y_True</th>\n",
       "      <th>y_pred_proba</th>\n",
       "    </tr>\n",
       "  </thead>\n",
       "  <tbody>\n",
       "    <tr>\n",
       "      <th>0</th>\n",
       "      <td>0</td>\n",
       "      <td>0.0</td>\n",
       "    </tr>\n",
       "    <tr>\n",
       "      <th>1</th>\n",
       "      <td>1</td>\n",
       "      <td>0.8</td>\n",
       "    </tr>\n",
       "    <tr>\n",
       "      <th>2</th>\n",
       "      <td>1</td>\n",
       "      <td>1.0</td>\n",
       "    </tr>\n",
       "    <tr>\n",
       "      <th>3</th>\n",
       "      <td>1</td>\n",
       "      <td>1.0</td>\n",
       "    </tr>\n",
       "    <tr>\n",
       "      <th>4</th>\n",
       "      <td>1</td>\n",
       "      <td>1.0</td>\n",
       "    </tr>\n",
       "    <tr>\n",
       "      <th>...</th>\n",
       "      <td>...</td>\n",
       "      <td>...</td>\n",
       "    </tr>\n",
       "    <tr>\n",
       "      <th>95</th>\n",
       "      <td>1</td>\n",
       "      <td>1.0</td>\n",
       "    </tr>\n",
       "    <tr>\n",
       "      <th>96</th>\n",
       "      <td>0</td>\n",
       "      <td>0.0</td>\n",
       "    </tr>\n",
       "    <tr>\n",
       "      <th>97</th>\n",
       "      <td>1</td>\n",
       "      <td>1.0</td>\n",
       "    </tr>\n",
       "    <tr>\n",
       "      <th>98</th>\n",
       "      <td>1</td>\n",
       "      <td>1.0</td>\n",
       "    </tr>\n",
       "    <tr>\n",
       "      <th>99</th>\n",
       "      <td>1</td>\n",
       "      <td>1.0</td>\n",
       "    </tr>\n",
       "  </tbody>\n",
       "</table>\n",
       "<p>100 rows × 2 columns</p>\n",
       "</div>"
      ],
      "text/plain": [
       "    y_True  y_pred_proba\n",
       "0        0           0.0\n",
       "1        1           0.8\n",
       "2        1           1.0\n",
       "3        1           1.0\n",
       "4        1           1.0\n",
       "..     ...           ...\n",
       "95       1           1.0\n",
       "96       0           0.0\n",
       "97       1           1.0\n",
       "98       1           1.0\n",
       "99       1           1.0\n",
       "\n",
       "[100 rows x 2 columns]"
      ]
     },
     "execution_count": 19,
     "metadata": {},
     "output_type": "execute_result"
    }
   ],
   "source": [
    "# examine the class distribution of y_true \n",
    "print('Examine the y_true:'\"\\n\", y.value_counts())\n",
    "# examine the class distribution of the testing set (using a Pandas Series method)\n",
    "print(\"Examine the class distribution:\",\"\\n\",y_test.value_counts())\n",
    "\n",
    "# calculate the percentage of ones\n",
    "# because y_test only contains ones and zeros, we can simply calculate the mean = percentage of ones\n",
    "print(\"calculate the percentage of ones:\",y_test.mean(),\"\\n\")\n",
    "\n",
    "# calculate the percentage of zeros\n",
    "print(\"calculate the percentage of zeros:\",1 - y_test.mean(),\"\\n\")\n",
    "\n",
    "# calculate null accuracy in a single line of code\n",
    "# only for binary classification problems coded as 0/1\n",
    "print(\"calculate null accuracy:\",max(y_test.mean(), 1 - y_test.mean()),\"\\n\")\n",
    "\n",
    "# calculate null accuracy (for multi-class classification problems)\n",
    "print(\"calculate null accuracy :\",y_test.value_counts().head(1) / len(y_test),\"\\n\")\n",
    "\n",
    "# print the first 70 true and predicted responses\n",
    "print(\"Print the first 10 true and predicted responses:\")\n",
    "\n",
    "df1 =pd.DataFrame({'y_True': y_test.values[0:100], 'y_pred_proba': y_pred_prob_1[0:100]})\n",
    "df1"
   ]
  },
  {
   "cell_type": "markdown",
   "metadata": {},
   "source": [
    "### 10 .Reconstruire le modèle de classification kNN en utilisant différentes valeurs de "
   ]
  },
  {
   "cell_type": "code",
   "execution_count": 20,
   "metadata": {},
   "outputs": [],
   "source": [
    "def k_number(k):\n",
    "    classifier = KNeighborsClassifier(n_neighbors= k)\n",
    "    classifier.fit(X_train, y_train)\n",
    "    y_pred = classifier.predict(X_test)\n",
    "    return y_pred"
   ]
  },
  {
   "cell_type": "markdown",
   "metadata": {},
   "source": [
    "### 11. Métriques de classification. "
   ]
  },
  {
   "cell_type": "code",
   "execution_count": 21,
   "metadata": {},
   "outputs": [
    {
     "name": "stdout",
     "output_type": "stream",
     "text": [
      "              precision    recall  f1-score   support\n",
      "\n",
      "           0       0.90      0.94      0.92        47\n",
      "           1       0.95      0.93      0.94        67\n",
      "\n",
      "    accuracy                           0.93       114\n",
      "   macro avg       0.93      0.93      0.93       114\n",
      "weighted avg       0.93      0.93      0.93       114\n",
      "\n"
     ]
    }
   ],
   "source": [
    "print(classification_report(y_test, k_number(2)))"
   ]
  },
  {
   "cell_type": "code",
   "execution_count": 22,
   "metadata": {},
   "outputs": [
    {
     "name": "stdout",
     "output_type": "stream",
     "text": [
      "              precision    recall  f1-score   support\n",
      "\n",
      "           0       1.00      0.89      0.94        47\n",
      "           1       0.93      1.00      0.96        67\n",
      "\n",
      "    accuracy                           0.96       114\n",
      "   macro avg       0.97      0.95      0.95       114\n",
      "weighted avg       0.96      0.96      0.96       114\n",
      "\n"
     ]
    }
   ],
   "source": [
    "print(classification_report(y_test, k_number(5)))"
   ]
  },
  {
   "cell_type": "code",
   "execution_count": 23,
   "metadata": {},
   "outputs": [
    {
     "name": "stdout",
     "output_type": "stream",
     "text": [
      "              precision    recall  f1-score   support\n",
      "\n",
      "           0       0.98      0.89      0.93        47\n",
      "           1       0.93      0.99      0.96        67\n",
      "\n",
      "    accuracy                           0.95       114\n",
      "   macro avg       0.95      0.94      0.94       114\n",
      "weighted avg       0.95      0.95      0.95       114\n",
      "\n"
     ]
    }
   ],
   "source": [
    "print(classification_report(y_test, k_number(6)))"
   ]
  },
  {
   "cell_type": "code",
   "execution_count": 24,
   "metadata": {
    "scrolled": false
   },
   "outputs": [
    {
     "name": "stdout",
     "output_type": "stream",
     "text": [
      "              precision    recall  f1-score   support\n",
      "\n",
      "           0       0.98      0.91      0.95        47\n",
      "           1       0.94      0.99      0.96        67\n",
      "\n",
      "    accuracy                           0.96       114\n",
      "   macro avg       0.96      0.95      0.95       114\n",
      "weighted avg       0.96      0.96      0.96       114\n",
      "\n"
     ]
    }
   ],
   "source": [
    "print(classification_report(y_test, k_number(10)))"
   ]
  },
  {
   "cell_type": "markdown",
   "metadata": {},
   "source": [
    "### 12.Matrice de confusion. "
   ]
  },
  {
   "cell_type": "code",
   "execution_count": 25,
   "metadata": {},
   "outputs": [
    {
     "data": {
      "image/png": "[encoded data removed]",
      "text/plain": [
       "<Figure size 432x288 with 2 Axes>"
      ]
     },
     "metadata": {
      "needs_background": "light"
     },
     "output_type": "display_data"
    }
   ],
   "source": [
    "# confusion matrix\n",
    "plot_confusion_matrix(classifier,X_test, y_test)  \n",
    "plt.show()"
   ]
  },
  {
   "cell_type": "markdown",
   "metadata": {},
   "source": [
    "### 13.ROC - AUC."
   ]
  },
  {
   "cell_type": "code",
   "execution_count": 26,
   "metadata": {},
   "outputs": [
    {
     "data": {
      "text/plain": [
       "[<matplotlib.lines.Line2D at 0x7f13fdf47a30>]"
      ]
     },
     "execution_count": 26,
     "metadata": {},
     "output_type": "execute_result"
    },
    {
     "data": {
      "image/png": "[encoded data removed]",
      "text/plain": [
       "<Figure size 432x288 with 1 Axes>"
      ]
     },
     "metadata": {
      "needs_background": "light"
     },
     "output_type": "display_data"
    }
   ],
   "source": [
    "# plot Roc with k = 5\n",
    "y_pred_1 = classifier.predict_proba(X_test)[:, 1]\n",
    "\n",
    "y_pred_prob = classifier.predict_proba(X_test)[:, 1]\n",
    " \n",
    "y_pred_prob_1 = classifier.predict_proba(X_test)[0:10, 1]\n",
    "\n",
    "fpr, tpr, thresholds = roc_curve(y_test, y_pred_1)\n",
    "plt.plot(fpr, tpr, linewidth=2)\n",
    "plt.plot([0,1], [0,1], 'k--' )                               "
   ]
  },
  {
   "cell_type": "code",
   "execution_count": 27,
   "metadata": {},
   "outputs": [
    {
     "data": {
      "text/plain": [
       "[<matplotlib.lines.Line2D at 0x7f13fdf91dc0>]"
      ]
     },
     "execution_count": 27,
     "metadata": {},
     "output_type": "execute_result"
    },
    {
     "data": {
      "image/png": "[encoded data removed]",
      "text/plain": [
       "<Figure size 432x288 with 1 Axes>"
      ]
     },
     "metadata": {
      "needs_background": "light"
     },
     "output_type": "display_data"
    }
   ],
   "source": [
    "def k_number2(k):\n",
    "    classifier = KNeighborsClassifier(n_neighbors= k)\n",
    "    classifier.fit(X_train, y_train)\n",
    "    y_pred = classifier.predict_proba(X_test)[:, 1]\n",
    "    return y_pred\n",
    "\n",
    "fpr, tpr, thresholds = roc_curve(y_test, k_number2(2))\n",
    "plt.plot(fpr, tpr, linewidth=2)\n",
    "plt.plot([0,1], [0,1], 'k--' )  "
   ]
  },
  {
   "cell_type": "code",
   "execution_count": 28,
   "metadata": {},
   "outputs": [
    {
     "data": {
      "text/plain": [
       "[<matplotlib.lines.Line2D at 0x7f13ffac1250>]"
      ]
     },
     "execution_count": 28,
     "metadata": {},
     "output_type": "execute_result"
    },
    {
     "data": {
      "image/png": "[encoded data removed]",
      "text/plain": [
       "<Figure size 432x288 with 1 Axes>"
      ]
     },
     "metadata": {
      "needs_background": "light"
     },
     "output_type": "display_data"
    }
   ],
   "source": [
    "fpr, tpr, thresholds = roc_curve(y_test, k_number2(10))\n",
    "plt.plot(fpr, tpr, linewidth=2)\n",
    "plt.plot([0,1], [0,1], 'k--' )  "
   ]
  },
  {
   "cell_type": "code",
   "execution_count": 29,
   "metadata": {},
   "outputs": [
    {
     "data": {
      "text/plain": [
       "[<matplotlib.lines.Line2D at 0x7f13ffe63ac0>]"
      ]
     },
     "execution_count": 29,
     "metadata": {},
     "output_type": "execute_result"
    },
    {
     "data": {
      "image/png": "[encoded data removed]",
      "text/plain": [
       "<Figure size 432x288 with 1 Axes>"
      ]
     },
     "metadata": {
      "needs_background": "light"
     },
     "output_type": "display_data"
    }
   ],
   "source": [
    "fpr, tpr, thresholds = roc_curve(y_test, k_number2(50))\n",
    "plt.plot(fpr, tpr, linewidth=2)\n",
    "plt.plot([0,1], [0,1], 'k--' )  "
   ]
  },
  {
   "cell_type": "code",
   "execution_count": 30,
   "metadata": {},
   "outputs": [
    {
     "data": {
      "text/plain": [
       "[<matplotlib.lines.Line2D at 0x7f13ffb0ee80>]"
      ]
     },
     "execution_count": 30,
     "metadata": {},
     "output_type": "execute_result"
    },
    {
     "data": {
      "image/png": "[encoded data removed]",
      "text/plain": [
       "<Figure size 432x288 with 1 Axes>"
      ]
     },
     "metadata": {
      "needs_background": "light"
     },
     "output_type": "display_data"
    }
   ],
   "source": [
    "fpr, tpr, thresholds = roc_curve(y_test, k_number2(100))\n",
    "plt.plot(fpr, tpr, linewidth=2)\n",
    "plt.plot([0,1], [0,1], 'k--' )  "
   ]
  },
  {
   "cell_type": "code",
   "execution_count": 31,
   "metadata": {},
   "outputs": [
    {
     "data": {
      "text/plain": [
       "[<matplotlib.lines.Line2D at 0x7f1400e68be0>]"
      ]
     },
     "execution_count": 31,
     "metadata": {},
     "output_type": "execute_result"
    },
    {
     "data": {
      "image/png": "[encoded data removed]",
      "text/plain": [
       "<Figure size 432x288 with 1 Axes>"
      ]
     },
     "metadata": {
      "needs_background": "light"
     },
     "output_type": "display_data"
    }
   ],
   "source": [
    "fpr, tpr, thresholds = roc_curve(y_test, k_number2(200))\n",
    "plt.plot(fpr, tpr, linewidth=2)\n",
    "plt.plot([0,1], [0,1], 'k--' )  "
   ]
  },
  {
   "cell_type": "markdown",
   "metadata": {},
   "source": [
    "### 14.Utiliser la validation croisée K-Fold "
   ]
  },
  {
   "cell_type": "code",
   "execution_count": 162,
   "metadata": {
    "scrolled": true
   },
   "outputs": [
    {
     "name": "stdout",
     "output_type": "stream",
     "text": [
      "KFold(n_splits=2, random_state=None, shuffle=False)\n",
      "TRAIN: [285 286] TEST: [0 1]\n",
      "TRAIN: [0 1] TEST: [285 286]\n"
     ]
    }
   ],
   "source": [
    "kf = KFold(n_splits=2)\n",
    "kf.get_n_splits(X)\n",
    "\n",
    "print(kf)\n",
    "KFold(n_splits=2, random_state=None\n",
    "      , shuffle=False)\n",
    "for train_index, test_index in kf.split(X):\n",
    "    print(\"TRAIN:\", train_index[0:2], \"TEST:\", test_index[0:2])\n",
    "    X_train, X_test = X[train_index], X[test_index]\n",
    "    y_train, y_test = y[train_index], y[test_index]"
   ]
  },
  {
   "cell_type": "code",
   "execution_count": 64,
   "metadata": {},
   "outputs": [
    {
     "data": {
      "text/plain": [
       "('val_score_mean = 0.9577533577533577', 'val_score_std = 0.004998654332224334')"
      ]
     },
     "execution_count": 64,
     "metadata": {},
     "output_type": "execute_result"
    },
    {
     "data": {
      "image/png": "[encoded data removed]",
      "text/plain": [
       "<Figure size 432x288 with 1 Axes>"
      ]
     },
     "metadata": {
      "needs_background": "light"
     },
     "output_type": "display_data"
    }
   ],
   "source": [
    "from sklearn.model_selection import cross_val_score\n",
    "import numpy as np\n",
    "def cross_val(K):\n",
    "    val_score = []\n",
    "    for k in K:\n",
    "        score_val = cross_val_score(KNeighborsClassifier(k), X_train, y_train, cv=5).mean()\n",
    "        val_score.append(score_val)\n",
    "    val_mean = (np.array(val_score)).mean()\n",
    "    val_std = (np.array(val_score)).std()\n",
    "    #print(val_mean)\n",
    "    plt.plot(val_score)\n",
    "    plt.title('Cross validation with KNN (k = {})'.format(K))\n",
    "    return 'val_score_mean = {}'.format(val_mean),  'val_score_std = {}'.format(val_std)\n",
    "K = range(2, 20)\n",
    "cross_val(K)"
   ]
  },
  {
   "cell_type": "markdown",
   "metadata": {},
   "source": [
    "### Utiliser les donnée sans StandardScaler"
   ]
  },
  {
   "cell_type": "code",
   "execution_count": 42,
   "metadata": {},
   "outputs": [],
   "source": [
    "X_ = df.iloc[:, 2:32]\n",
    "y_ = df.iloc[:,1]\n",
    "\n",
    "y_ = y_.replace(['M','B'], [0, 1])"
   ]
  },
  {
   "cell_type": "code",
   "execution_count": 43,
   "metadata": {},
   "outputs": [],
   "source": [
    "X_train1, X_test1, y_train1, y_test1 = train_test_split(X_, y_, test_size=0.20,random_state=0)"
   ]
  },
  {
   "cell_type": "code",
   "execution_count": 44,
   "metadata": {},
   "outputs": [
    {
     "data": {
      "text/plain": [
       "KNeighborsClassifier()"
      ]
     },
     "execution_count": 44,
     "metadata": {},
     "output_type": "execute_result"
    }
   ],
   "source": [
    "classifier_ = KNeighborsClassifier(n_neighbors=5)\n",
    "classifier_.fit(X_train1, y_train1)"
   ]
  },
  {
   "cell_type": "code",
   "execution_count": 45,
   "metadata": {},
   "outputs": [],
   "source": [
    "y_pred_ = classifier.predict(X_test1)\n",
    "y_pred_prob_2 = classifier_.predict_proba(X_test1)[0:100, 1]"
   ]
  },
  {
   "cell_type": "code",
   "execution_count": 46,
   "metadata": {},
   "outputs": [
    {
     "name": "stdout",
     "output_type": "stream",
     "text": [
      "Examine the y_true:\n",
      " 1    357\n",
      "0    212\n",
      "Name: diagnosis, dtype: int64\n",
      "Examine the class distribution: \n",
      " 1    67\n",
      "0    47\n",
      "Name: diagnosis, dtype: int64\n",
      "calculate the percentage of ones: 0.5877192982456141 \n",
      "\n",
      "calculate the percentage of zeros: 0.4122807017543859 \n",
      "\n",
      "calculate null accuracy: 0.5877192982456141 \n",
      "\n",
      "calculate null accuracy : 1    0.587719\n",
      "Name: diagnosis, dtype: float64 \n",
      "\n",
      "Print the first 10 true and predicted responses:\n"
     ]
    },
    {
     "data": {
      "text/html": [
       "<div>\n",
       "<style scoped>\n",
       "    .dataframe tbody tr th:only-of-type {\n",
       "        vertical-align: middle;\n",
       "    }\n",
       "\n",
       "    .dataframe tbody tr th {\n",
       "        vertical-align: top;\n",
       "    }\n",
       "\n",
       "    .dataframe thead th {\n",
       "        text-align: right;\n",
       "    }\n",
       "</style>\n",
       "<table border=\"1\" class=\"dataframe\">\n",
       "  <thead>\n",
       "    <tr style=\"text-align: right;\">\n",
       "      <th></th>\n",
       "      <th>y_True</th>\n",
       "      <th>y_pred_proba</th>\n",
       "    </tr>\n",
       "  </thead>\n",
       "  <tbody>\n",
       "    <tr>\n",
       "      <th>0</th>\n",
       "      <td>0</td>\n",
       "      <td>0.4</td>\n",
       "    </tr>\n",
       "    <tr>\n",
       "      <th>1</th>\n",
       "      <td>1</td>\n",
       "      <td>1.0</td>\n",
       "    </tr>\n",
       "    <tr>\n",
       "      <th>2</th>\n",
       "      <td>1</td>\n",
       "      <td>1.0</td>\n",
       "    </tr>\n",
       "    <tr>\n",
       "      <th>3</th>\n",
       "      <td>1</td>\n",
       "      <td>0.4</td>\n",
       "    </tr>\n",
       "    <tr>\n",
       "      <th>4</th>\n",
       "      <td>1</td>\n",
       "      <td>1.0</td>\n",
       "    </tr>\n",
       "    <tr>\n",
       "      <th>...</th>\n",
       "      <td>...</td>\n",
       "      <td>...</td>\n",
       "    </tr>\n",
       "    <tr>\n",
       "      <th>95</th>\n",
       "      <td>1</td>\n",
       "      <td>1.0</td>\n",
       "    </tr>\n",
       "    <tr>\n",
       "      <th>96</th>\n",
       "      <td>0</td>\n",
       "      <td>0.0</td>\n",
       "    </tr>\n",
       "    <tr>\n",
       "      <th>97</th>\n",
       "      <td>1</td>\n",
       "      <td>1.0</td>\n",
       "    </tr>\n",
       "    <tr>\n",
       "      <th>98</th>\n",
       "      <td>1</td>\n",
       "      <td>1.0</td>\n",
       "    </tr>\n",
       "    <tr>\n",
       "      <th>99</th>\n",
       "      <td>1</td>\n",
       "      <td>1.0</td>\n",
       "    </tr>\n",
       "  </tbody>\n",
       "</table>\n",
       "<p>100 rows × 2 columns</p>\n",
       "</div>"
      ],
      "text/plain": [
       "    y_True  y_pred_proba\n",
       "0        0           0.4\n",
       "1        1           1.0\n",
       "2        1           1.0\n",
       "3        1           0.4\n",
       "4        1           1.0\n",
       "..     ...           ...\n",
       "95       1           1.0\n",
       "96       0           0.0\n",
       "97       1           1.0\n",
       "98       1           1.0\n",
       "99       1           1.0\n",
       "\n",
       "[100 rows x 2 columns]"
      ]
     },
     "execution_count": 46,
     "metadata": {},
     "output_type": "execute_result"
    }
   ],
   "source": [
    "# examine the class distribution of y_true \n",
    "print('Examine the y_true:'\"\\n\", y_.value_counts())\n",
    "# examine the class distribution of the testing set (using a Pandas Series method)\n",
    "print(\"Examine the class distribution:\",\"\\n\",y_test1.value_counts())\n",
    "\n",
    "# calculate the percentage of ones\n",
    "# because y_test only contains ones and zeros, we can simply calculate the mean = percentage of ones\n",
    "print(\"calculate the percentage of ones:\",y_test1.mean(),\"\\n\")\n",
    "\n",
    "# calculate the percentage of zeros\n",
    "print(\"calculate the percentage of zeros:\",1 - y_test1.mean(),\"\\n\")\n",
    "\n",
    "# calculate null accuracy in a single line of code\n",
    "# only for binary classification problems coded as 0/1\n",
    "print(\"calculate null accuracy:\",max(y_test1.mean(), 1 - y_test1.mean()),\"\\n\")\n",
    "\n",
    "# calculate null accuracy (for multi-class classification problems)\n",
    "print(\"calculate null accuracy :\",y_test1.value_counts().head(1) / len(y_test1),\"\\n\")\n",
    "\n",
    "# print the first 70 true and predicted responses\n",
    "print(\"Print the first 10 true and predicted responses:\")\n",
    "\n",
    "df2=pd.DataFrame({'y_True': y_test1.values[0:100], 'y_pred_proba': y_pred_prob_2[0:100]})\n",
    "df2"
   ]
  },
  {
   "cell_type": "code",
   "execution_count": 47,
   "metadata": {},
   "outputs": [],
   "source": [
    "def k_number(k):\n",
    "    classifier_ = KNeighborsClassifier(n_neighbors= k)\n",
    "    classifier_.fit(X_train1, y_train1)\n",
    "    y_pred_ = classifier_.predict(X_test1)\n",
    "    return y_pred_"
   ]
  },
  {
   "cell_type": "code",
   "execution_count": 48,
   "metadata": {},
   "outputs": [
    {
     "name": "stdout",
     "output_type": "stream",
     "text": [
      "              precision    recall  f1-score   support\n",
      "\n",
      "           0       0.83      0.94      0.88        47\n",
      "           1       0.95      0.87      0.91        67\n",
      "\n",
      "    accuracy                           0.89       114\n",
      "   macro avg       0.89      0.90      0.89       114\n",
      "weighted avg       0.90      0.89      0.90       114\n",
      "\n"
     ]
    }
   ],
   "source": [
    "print(classification_report(y_test1, k_number(2)))"
   ]
  },
  {
   "cell_type": "code",
   "execution_count": 49,
   "metadata": {},
   "outputs": [
    {
     "name": "stdout",
     "output_type": "stream",
     "text": [
      "              precision    recall  f1-score   support\n",
      "\n",
      "           0       0.92      0.94      0.93        47\n",
      "           1       0.95      0.94      0.95        67\n",
      "\n",
      "    accuracy                           0.94       114\n",
      "   macro avg       0.94      0.94      0.94       114\n",
      "weighted avg       0.94      0.94      0.94       114\n",
      "\n"
     ]
    }
   ],
   "source": [
    "print(classification_report(y_test1, k_number(5)))"
   ]
  },
  {
   "cell_type": "code",
   "execution_count": 50,
   "metadata": {},
   "outputs": [
    {
     "name": "stdout",
     "output_type": "stream",
     "text": [
      "              precision    recall  f1-score   support\n",
      "\n",
      "           0       0.94      0.94      0.94        47\n",
      "           1       0.96      0.96      0.96        67\n",
      "\n",
      "    accuracy                           0.95       114\n",
      "   macro avg       0.95      0.95      0.95       114\n",
      "weighted avg       0.95      0.95      0.95       114\n",
      "\n"
     ]
    }
   ],
   "source": [
    "print(classification_report(y_test1, k_number(10)))"
   ]
  },
  {
   "cell_type": "code",
   "execution_count": 51,
   "metadata": {},
   "outputs": [
    {
     "data": {
      "image/png": "[encoded data removed]",
      "text/plain": [
       "<Figure size 432x288 with 2 Axes>"
      ]
     },
     "metadata": {
      "needs_background": "light"
     },
     "output_type": "display_data"
    }
   ],
   "source": [
    "# confusion matrix\n",
    "plot_confusion_matrix(classifier_,X_test1, y_test1)  \n",
    "plt.show()"
   ]
  },
  {
   "cell_type": "code",
   "execution_count": 52,
   "metadata": {},
   "outputs": [
    {
     "data": {
      "text/plain": [
       "[<matplotlib.lines.Line2D at 0x7f1400367f70>]"
      ]
     },
     "execution_count": 52,
     "metadata": {},
     "output_type": "execute_result"
    },
    {
     "data": {
      "image/png": "[encoded data removed]",
      "text/plain": [
       "<Figure size 432x288 with 1 Axes>"
      ]
     },
     "metadata": {
      "needs_background": "light"
     },
     "output_type": "display_data"
    }
   ],
   "source": [
    "# plot Roc with k = 5\n",
    "y_pred_2= classifier_.predict_proba(X_test1)[:, 1]\n",
    "\n",
    "y_pred_prob_ = classifier_.predict_proba(X_test1)[:, 1]\n",
    " \n",
    "y_pred_prob_2 = classifier_.predict_proba(X_test1)[0:10, 1]\n",
    "\n",
    "fpr1, tpr1, thresholds1= roc_curve(y_test1,y_pred_2)\n",
    "plt.plot(fpr1, tpr1, linewidth=2)\n",
    "plt.plot([0,1], [0,1], 'k--' )"
   ]
  },
  {
   "cell_type": "code",
   "execution_count": 53,
   "metadata": {},
   "outputs": [],
   "source": [
    "def k_number3(k):\n",
    "    classifier_ = KNeighborsClassifier(n_neighbors= k)\n",
    "    classifier_.fit(X_train1, y_train1)\n",
    "    y_pred_ = classifier_.predict_proba(X_test1)[:, 1]\n",
    "    return y_pred_"
   ]
  },
  {
   "cell_type": "code",
   "execution_count": 54,
   "metadata": {},
   "outputs": [
    {
     "data": {
      "text/plain": [
       "[<matplotlib.lines.Line2D at 0x7f14003bf070>]"
      ]
     },
     "execution_count": 54,
     "metadata": {},
     "output_type": "execute_result"
    },
    {
     "data": {
      "image/png": "[encoded data removed]",
      "text/plain": [
       "<Figure size 432x288 with 1 Axes>"
      ]
     },
     "metadata": {
      "needs_background": "light"
     },
     "output_type": "display_data"
    }
   ],
   "source": [
    "fpr, tpr, thresholds = roc_curve(y_test, k_number3(2))\n",
    "plt.plot(fpr, tpr, linewidth=2)\n",
    "plt.plot([0,1], [0,1], 'k--' )  "
   ]
  },
  {
   "cell_type": "code",
   "execution_count": 55,
   "metadata": {},
   "outputs": [
    {
     "data": {
      "text/plain": [
       "[<matplotlib.lines.Line2D at 0x7f14004e9460>]"
      ]
     },
     "execution_count": 55,
     "metadata": {},
     "output_type": "execute_result"
    },
    {
     "data": {
      "image/png": "[encoded data removed]",
      "text/plain": [
       "<Figure size 432x288 with 1 Axes>"
      ]
     },
     "metadata": {
      "needs_background": "light"
     },
     "output_type": "display_data"
    }
   ],
   "source": [
    "fpr, tpr, thresholds = roc_curve(y_test, k_number3(10))\n",
    "plt.plot(fpr, tpr, linewidth=2)\n",
    "plt.plot([0,1], [0,1], 'k--' )  "
   ]
  },
  {
   "cell_type": "code",
   "execution_count": 56,
   "metadata": {},
   "outputs": [
    {
     "data": {
      "text/plain": [
       "[<matplotlib.lines.Line2D at 0x7f1400537640>]"
      ]
     },
     "execution_count": 56,
     "metadata": {},
     "output_type": "execute_result"
    },
    {
     "data": {
      "image/png": "[encoded data removed]",
      "text/plain": [
       "<Figure size 432x288 with 1 Axes>"
      ]
     },
     "metadata": {
      "needs_background": "light"
     },
     "output_type": "display_data"
    }
   ],
   "source": [
    "fpr, tpr, thresholds = roc_curve(y_test, k_number3(50))\n",
    "plt.plot(fpr, tpr, linewidth=2)\n",
    "plt.plot([0,1], [0,1], 'k--' )  "
   ]
  },
  {
   "cell_type": "code",
   "execution_count": 57,
   "metadata": {},
   "outputs": [
    {
     "data": {
      "text/plain": [
       "[<matplotlib.lines.Line2D at 0x7f14005fa040>]"
      ]
     },
     "execution_count": 57,
     "metadata": {},
     "output_type": "execute_result"
    },
    {
     "data": {
      "image/png": "[encoded data removed]",
      "text/plain": [
       "<Figure size 432x288 with 1 Axes>"
      ]
     },
     "metadata": {
      "needs_background": "light"
     },
     "output_type": "display_data"
    }
   ],
   "source": [
    "fpr, tpr, thresholds = roc_curve(y_test, k_number3(100))\n",
    "plt.plot(fpr, tpr, linewidth=2)\n",
    "plt.plot([0,1], [0,1], 'k--' )  "
   ]
  },
  {
   "cell_type": "code",
   "execution_count": 58,
   "metadata": {
    "scrolled": true
   },
   "outputs": [
    {
     "data": {
      "text/plain": [
       "[<matplotlib.lines.Line2D at 0x7f140069c700>]"
      ]
     },
     "execution_count": 58,
     "metadata": {},
     "output_type": "execute_result"
    },
    {
     "data": {
      "image/png": "[encoded data removed]",
      "text/plain": [
       "<Figure size 432x288 with 1 Axes>"
      ]
     },
     "metadata": {
      "needs_background": "light"
     },
     "output_type": "display_data"
    }
   ],
   "source": [
    "fpr, tpr, thresholds = roc_curve(y_test, k_number3(200))\n",
    "plt.plot(fpr, tpr, linewidth=2)\n",
    "plt.plot([0,1], [0,1], 'k--' )  "
   ]
  },
  {
   "cell_type": "code",
   "execution_count": 59,
   "metadata": {
    "scrolled": true
   },
   "outputs": [
    {
     "data": {
      "text/plain": [
       "('val_score_mean = 0.9278388278388279', 'val_score_std = 0.00578012228500346')"
      ]
     },
     "execution_count": 59,
     "metadata": {},
     "output_type": "execute_result"
    },
    {
     "data": {
      "image/png": "[encoded data removed]",
      "text/plain": [
       "<Figure size 432x288 with 1 Axes>"
      ]
     },
     "metadata": {
      "needs_background": "light"
     },
     "output_type": "display_data"
    }
   ],
   "source": [
    "import numpy as np\n",
    "def cross_val1(K):\n",
    "    val_score = []\n",
    "    for k in K:\n",
    "        score_val = cross_val_score(KNeighborsClassifier(k), X_train1, y_train1, cv=5).mean()\n",
    "        val_score.append(score_val)\n",
    "    val_mean = (np.array(val_score)).mean()\n",
    "    val_std = (np.array(val_score)).std()\n",
    "    #print(val_mean)\n",
    "    plt.plot(val_score)\n",
    "    plt.title('Cross validation with KNN (k = {})'.format(K))\n",
    "    return 'val_score_mean = {}'.format(val_mean),  'val_score_std = {}'.format(val_std)\n",
    "K = range(2, 20)\n",
    "cross_val1(K)"
   ]
  },
  {
   "cell_type": "markdown",
   "metadata": {},
   "source": [
    "### 17.Bonus 2 : Comparer les résultats avec un autre algorithme de classification avec et sans standardScaler"
   ]
  },
  {
   "cell_type": "code",
   "execution_count": 158,
   "metadata": {},
   "outputs": [],
   "source": [
    "X1 = np.array(df.iloc[:, 2:32])\n",
    "y1 = np.array(df.iloc[:,1])"
   ]
  },
  {
   "cell_type": "code",
   "execution_count": 186,
   "metadata": {},
   "outputs": [],
   "source": [
    "from sklearn.linear_model import LogisticRegression\n",
    "from sklearn import svm\n",
    "from sklearn.pipeline import Pipeline\n",
    "from collections import defaultdict\n",
    "from sklearn.model_selection import ShuffleSplit\n",
    "from time import time\n",
    "from sklearn.metrics import f1_score\n",
    "\n",
    "pipe0 = Pipeline([\n",
    "    ('StandardScaler', StandardScaler()),\n",
    "    ('SVM', svm.SVC()),\n",
    "])\n",
    "pipe1 = Pipeline([\n",
    "    ('StandardScaler', StandardScaler()),\n",
    "    ('KNN',KNeighborsClassifier(n_neighbors= 10)),\n",
    "])\n",
    "pipe2 = Pipeline([\n",
    "    ('StandardScaler', StandardScaler()),\n",
    "    ('logisticRegression', LogisticRegression()),\n",
    "])\n",
    "pipe3 = Pipeline([\n",
    "    ('SVM', svm.SVC()),\n",
    "])\n",
    "pipe4 = Pipeline([\n",
    "    ('KNN',KNeighborsClassifier(n_neighbors= 10)),\n",
    "])\n",
    "pipe5 = Pipeline([\n",
    "    ('logisticRegression', LogisticRegression()),\n",
    "])\n",
    "\n",
    "\n",
    "\n",
    "def run_pipes(pipes, splits=10, test_size=0.2, seed=0):  \n",
    "    res = defaultdict(list)\n",
    "    spliter = ShuffleSplit(n_splits=splits, test_size=test_size, random_state=seed)\n",
    "    for idx_train, idx_test in spliter.split(corpus):\n",
    "        for pipe in pipes:\n",
    "            # name of the model\n",
    "            name = \"-\".join([x[0] for x in pipe.steps])\n",
    "            \n",
    "            # extract datasets\n",
    "            X_train = X1[idx_train]\n",
    "            X_test = X1[idx_test]\n",
    "            y_train = y1[idx_train]\n",
    "            y_test = y1[idx_test]\n",
    "            \n",
    "            # Learn\n",
    "            start = time()\n",
    "            pipe.fit(X_train, y_train)\n",
    "            fit_time = time() - start\n",
    "            \n",
    "            # predict and save results\n",
    "            y = pipe.predict(X_test)\n",
    "            res[name].append([\n",
    "                fit_time,\n",
    "                f1_score(y_test, y, average = 'macro'),\n",
    "                precision_score(y_test, y,average='macro'),\n",
    "                recall_score(y_test, y, average='macro')\n",
    "                \n",
    "            ])\n",
    "    return res\n",
    "\n",
    "def print_table(res):\n",
    "    # Compute mean and std\n",
    "    final = {}\n",
    "    for model in res:\n",
    "        arr = np.array(res[model])\n",
    "        final[model] = {\n",
    "            \"time\" : arr[:, 0].mean().round(2),\n",
    "            \"f1_score\": [arr[:,1].mean().round(3), arr[:,1].std().round(3)],\n",
    "            \"Precision\" : [arr[:,2].mean().round(3), arr[:,2].std().round(3)],\n",
    "            \"Recall\" : [arr[:,3].mean().round(3), arr[:,3].std().round(3)]\n",
    "        }\n",
    "\n",
    "    df = pd.DataFrame.from_dict(final, orient=\"index\")\n",
    "    return df"
   ]
  },
  {
   "cell_type": "code",
   "execution_count": 187,
   "metadata": {
    "collapsed": true
   },
   "outputs": [
    {
     "name": "stderr",
     "output_type": "stream",
     "text": [
      "/home/hachem/anaconda3/envs/machinelearning/lib/python3.8/site-packages/sklearn/linear_model/_logistic.py:762: ConvergenceWarning:\n",
      "\n",
      "lbfgs failed to converge (status=1):\n",
      "STOP: TOTAL NO. of ITERATIONS REACHED LIMIT.\n",
      "\n",
      "Increase the number of iterations (max_iter) or scale the data as shown in:\n",
      "    https://scikit-learn.org/stable/modules/preprocessing.html\n",
      "Please also refer to the documentation for alternative solver options:\n",
      "    https://scikit-learn.org/stable/modules/linear_model.html#logistic-regression\n",
      "\n",
      "/home/hachem/anaconda3/envs/machinelearning/lib/python3.8/site-packages/sklearn/linear_model/_logistic.py:762: ConvergenceWarning:\n",
      "\n",
      "lbfgs failed to converge (status=1):\n",
      "STOP: TOTAL NO. of ITERATIONS REACHED LIMIT.\n",
      "\n",
      "Increase the number of iterations (max_iter) or scale the data as shown in:\n",
      "    https://scikit-learn.org/stable/modules/preprocessing.html\n",
      "Please also refer to the documentation for alternative solver options:\n",
      "    https://scikit-learn.org/stable/modules/linear_model.html#logistic-regression\n",
      "\n",
      "/home/hachem/anaconda3/envs/machinelearning/lib/python3.8/site-packages/sklearn/linear_model/_logistic.py:762: ConvergenceWarning:\n",
      "\n",
      "lbfgs failed to converge (status=1):\n",
      "STOP: TOTAL NO. of ITERATIONS REACHED LIMIT.\n",
      "\n",
      "Increase the number of iterations (max_iter) or scale the data as shown in:\n",
      "    https://scikit-learn.org/stable/modules/preprocessing.html\n",
      "Please also refer to the documentation for alternative solver options:\n",
      "    https://scikit-learn.org/stable/modules/linear_model.html#logistic-regression\n",
      "\n",
      "/home/hachem/anaconda3/envs/machinelearning/lib/python3.8/site-packages/sklearn/linear_model/_logistic.py:762: ConvergenceWarning:\n",
      "\n",
      "lbfgs failed to converge (status=1):\n",
      "STOP: TOTAL NO. of ITERATIONS REACHED LIMIT.\n",
      "\n",
      "Increase the number of iterations (max_iter) or scale the data as shown in:\n",
      "    https://scikit-learn.org/stable/modules/preprocessing.html\n",
      "Please also refer to the documentation for alternative solver options:\n",
      "    https://scikit-learn.org/stable/modules/linear_model.html#logistic-regression\n",
      "\n",
      "/home/hachem/anaconda3/envs/machinelearning/lib/python3.8/site-packages/sklearn/linear_model/_logistic.py:762: ConvergenceWarning:\n",
      "\n",
      "lbfgs failed to converge (status=1):\n",
      "STOP: TOTAL NO. of ITERATIONS REACHED LIMIT.\n",
      "\n",
      "Increase the number of iterations (max_iter) or scale the data as shown in:\n",
      "    https://scikit-learn.org/stable/modules/preprocessing.html\n",
      "Please also refer to the documentation for alternative solver options:\n",
      "    https://scikit-learn.org/stable/modules/linear_model.html#logistic-regression\n",
      "\n",
      "/home/hachem/anaconda3/envs/machinelearning/lib/python3.8/site-packages/sklearn/linear_model/_logistic.py:762: ConvergenceWarning:\n",
      "\n",
      "lbfgs failed to converge (status=1):\n",
      "STOP: TOTAL NO. of ITERATIONS REACHED LIMIT.\n",
      "\n",
      "Increase the number of iterations (max_iter) or scale the data as shown in:\n",
      "    https://scikit-learn.org/stable/modules/preprocessing.html\n",
      "Please also refer to the documentation for alternative solver options:\n",
      "    https://scikit-learn.org/stable/modules/linear_model.html#logistic-regression\n",
      "\n",
      "/home/hachem/anaconda3/envs/machinelearning/lib/python3.8/site-packages/sklearn/linear_model/_logistic.py:762: ConvergenceWarning:\n",
      "\n",
      "lbfgs failed to converge (status=1):\n",
      "STOP: TOTAL NO. of ITERATIONS REACHED LIMIT.\n",
      "\n",
      "Increase the number of iterations (max_iter) or scale the data as shown in:\n",
      "    https://scikit-learn.org/stable/modules/preprocessing.html\n",
      "Please also refer to the documentation for alternative solver options:\n",
      "    https://scikit-learn.org/stable/modules/linear_model.html#logistic-regression\n",
      "\n",
      "/home/hachem/anaconda3/envs/machinelearning/lib/python3.8/site-packages/sklearn/linear_model/_logistic.py:762: ConvergenceWarning:\n",
      "\n",
      "lbfgs failed to converge (status=1):\n",
      "STOP: TOTAL NO. of ITERATIONS REACHED LIMIT.\n",
      "\n",
      "Increase the number of iterations (max_iter) or scale the data as shown in:\n",
      "    https://scikit-learn.org/stable/modules/preprocessing.html\n",
      "Please also refer to the documentation for alternative solver options:\n",
      "    https://scikit-learn.org/stable/modules/linear_model.html#logistic-regression\n",
      "\n",
      "/home/hachem/anaconda3/envs/machinelearning/lib/python3.8/site-packages/sklearn/linear_model/_logistic.py:762: ConvergenceWarning:\n",
      "\n",
      "lbfgs failed to converge (status=1):\n",
      "STOP: TOTAL NO. of ITERATIONS REACHED LIMIT.\n",
      "\n",
      "Increase the number of iterations (max_iter) or scale the data as shown in:\n",
      "    https://scikit-learn.org/stable/modules/preprocessing.html\n",
      "Please also refer to the documentation for alternative solver options:\n",
      "    https://scikit-learn.org/stable/modules/linear_model.html#logistic-regression\n",
      "\n",
      "/home/hachem/anaconda3/envs/machinelearning/lib/python3.8/site-packages/sklearn/linear_model/_logistic.py:762: ConvergenceWarning:\n",
      "\n",
      "lbfgs failed to converge (status=1):\n",
      "STOP: TOTAL NO. of ITERATIONS REACHED LIMIT.\n",
      "\n",
      "Increase the number of iterations (max_iter) or scale the data as shown in:\n",
      "    https://scikit-learn.org/stable/modules/preprocessing.html\n",
      "Please also refer to the documentation for alternative solver options:\n",
      "    https://scikit-learn.org/stable/modules/linear_model.html#logistic-regression\n",
      "\n"
     ]
    }
   ],
   "source": [
    "# run base pipes withtout tfid\n",
    "res = run_pipes([pipe0, pipe1, pipe2, pipe3, pipe4, pipe5])"
   ]
  },
  {
   "cell_type": "code",
   "execution_count": 188,
   "metadata": {},
   "outputs": [
    {
     "data": {
      "text/html": [
       "<div>\n",
       "<style scoped>\n",
       "    .dataframe tbody tr th:only-of-type {\n",
       "        vertical-align: middle;\n",
       "    }\n",
       "\n",
       "    .dataframe tbody tr th {\n",
       "        vertical-align: top;\n",
       "    }\n",
       "\n",
       "    .dataframe thead th {\n",
       "        text-align: right;\n",
       "    }\n",
       "</style>\n",
       "<table border=\"1\" class=\"dataframe\">\n",
       "  <thead>\n",
       "    <tr style=\"text-align: right;\">\n",
       "      <th></th>\n",
       "      <th>time</th>\n",
       "      <th>f1_score</th>\n",
       "      <th>Precision</th>\n",
       "      <th>Recall</th>\n",
       "    </tr>\n",
       "  </thead>\n",
       "  <tbody>\n",
       "    <tr>\n",
       "      <th>StandardScaler-SVM</th>\n",
       "      <td>0.03</td>\n",
       "      <td>[0.972, 0.017]</td>\n",
       "      <td>[0.975, 0.015]</td>\n",
       "      <td>[0.97, 0.019]</td>\n",
       "    </tr>\n",
       "    <tr>\n",
       "      <th>StandardScaler-KNN</th>\n",
       "      <td>0.01</td>\n",
       "      <td>[0.962, 0.012]</td>\n",
       "      <td>[0.972, 0.01]</td>\n",
       "      <td>[0.954, 0.014]</td>\n",
       "    </tr>\n",
       "    <tr>\n",
       "      <th>StandardScaler-logisticRegression</th>\n",
       "      <td>0.09</td>\n",
       "      <td>[0.979, 0.014]</td>\n",
       "      <td>[0.981, 0.013]</td>\n",
       "      <td>[0.978, 0.014]</td>\n",
       "    </tr>\n",
       "    <tr>\n",
       "      <th>SVM</th>\n",
       "      <td>0.03</td>\n",
       "      <td>[0.917, 0.029]</td>\n",
       "      <td>[0.938, 0.026]</td>\n",
       "      <td>[0.906, 0.031]</td>\n",
       "    </tr>\n",
       "    <tr>\n",
       "      <th>KNN</th>\n",
       "      <td>0.01</td>\n",
       "      <td>[0.925, 0.026]</td>\n",
       "      <td>[0.933, 0.022]</td>\n",
       "      <td>[0.92, 0.03]</td>\n",
       "    </tr>\n",
       "    <tr>\n",
       "      <th>logisticRegression</th>\n",
       "      <td>0.27</td>\n",
       "      <td>[0.938, 0.018]</td>\n",
       "      <td>[0.94, 0.019]</td>\n",
       "      <td>[0.938, 0.019]</td>\n",
       "    </tr>\n",
       "  </tbody>\n",
       "</table>\n",
       "</div>"
      ],
      "text/plain": [
       "                                   time        f1_score       Precision  \\\n",
       "StandardScaler-SVM                 0.03  [0.972, 0.017]  [0.975, 0.015]   \n",
       "StandardScaler-KNN                 0.01  [0.962, 0.012]   [0.972, 0.01]   \n",
       "StandardScaler-logisticRegression  0.09  [0.979, 0.014]  [0.981, 0.013]   \n",
       "SVM                                0.03  [0.917, 0.029]  [0.938, 0.026]   \n",
       "KNN                                0.01  [0.925, 0.026]  [0.933, 0.022]   \n",
       "logisticRegression                 0.27  [0.938, 0.018]   [0.94, 0.019]   \n",
       "\n",
       "                                           Recall  \n",
       "StandardScaler-SVM                  [0.97, 0.019]  \n",
       "StandardScaler-KNN                 [0.954, 0.014]  \n",
       "StandardScaler-logisticRegression  [0.978, 0.014]  \n",
       "SVM                                [0.906, 0.031]  \n",
       "KNN                                  [0.92, 0.03]  \n",
       "logisticRegression                 [0.938, 0.019]  "
      ]
     },
     "execution_count": 188,
     "metadata": {},
     "output_type": "execute_result"
    }
   ],
   "source": [
    "print_table(res)"
   ]
  },
  {
   "cell_type": "markdown",
   "metadata": {},
   "source": [
    "### 16.Bonus : Implémenter votre propre algorithme KNN"
   ]
  },
  {
   "cell_type": "code",
   "execution_count": null,
   "metadata": {},
   "outputs": [],
   "source": []
  }
 ],
 "metadata": {
  "kernelspec": {
   "display_name": "Python 3",
   "language": "python",
   "name": "python3"
  },
  "language_info": {
   "codemirror_mode": {
    "name": "ipython",
    "version": 3
   },
   "file_extension": ".py",
   "mimetype": "text/x-python",
   "name": "python",
   "nbconvert_exporter": "python",
   "pygments_lexer": "ipython3",
   "version": "3.8.5"
  }
 },
 "nbformat": 4,
 "nbformat_minor": 4
}
